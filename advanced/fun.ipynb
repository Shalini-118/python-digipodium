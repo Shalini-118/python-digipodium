{
 "cells": [
  {
   "cell_type": "code",
   "execution_count": 4,
   "metadata": {},
   "outputs": [
    {
     "name": "stdout",
     "output_type": "stream",
     "text": [
      "Hi, i am outside any function\n"
     ]
    }
   ],
   "source": [
    "def hello():\n",
    "    print('This is a function')\n",
    "    print('This is not a good funtion')\n",
    "    print('Forget that this is function exists')\n",
    "    print('Bye')\n",
    "\n",
    "\n",
    "print('Hi, i am outside any function')    "
   ]
  },
  {
   "cell_type": "code",
   "execution_count": 5,
   "metadata": {},
   "outputs": [
    {
     "data": {
      "text/plain": [
       "<function __main__.hello()>"
      ]
     },
     "execution_count": 5,
     "metadata": {},
     "output_type": "execute_result"
    }
   ],
   "source": [
    "hello"
   ]
  },
  {
   "cell_type": "code",
   "execution_count": 6,
   "metadata": {},
   "outputs": [
    {
     "name": "stdout",
     "output_type": "stream",
     "text": [
      "This is a function\n",
      "This is not a good funtion\n",
      "Forget that this is function exists\n",
      "Bye\n"
     ]
    }
   ],
   "source": [
    "hello()"
   ]
  },
  {
   "cell_type": "markdown",
   "metadata": {},
   "source": [
    "- NOT A DYNAMIC FUNCTION AND HENCE NOT USEFUL"
   ]
  },
  {
   "cell_type": "code",
   "execution_count": 7,
   "metadata": {},
   "outputs": [
    {
     "name": "stdout",
     "output_type": "stream",
     "text": [
      "This is a function\n",
      "This is not a good funtion\n",
      "Forget that this is function exists\n",
      "Bye\n",
      "This is a function\n",
      "This is not a good funtion\n",
      "Forget that this is function exists\n",
      "Bye\n",
      "This is a function\n",
      "This is not a good funtion\n",
      "Forget that this is function exists\n",
      "Bye\n"
     ]
    }
   ],
   "source": [
    "for i in range(3):\n",
    "    hello()"
   ]
  },
  {
   "cell_type": "code",
   "execution_count": 9,
   "metadata": {},
   "outputs": [],
   "source": [
    "def area(length,breath):\n",
    "    ans=length*breath\n",
    "    return ans"
   ]
  },
  {
   "cell_type": "code",
   "execution_count": 10,
   "metadata": {},
   "outputs": [
    {
     "data": {
      "text/plain": [
       "25"
      ]
     },
     "execution_count": 10,
     "metadata": {},
     "output_type": "execute_result"
    }
   ],
   "source": [
    "area(5,5)"
   ]
  },
  {
   "cell_type": "code",
   "execution_count": 11,
   "metadata": {},
   "outputs": [
    {
     "name": "stdout",
     "output_type": "stream",
     "text": [
      "The area is 12\n"
     ]
    }
   ],
   "source": [
    "print('The area is',area(4,3))"
   ]
  },
  {
   "cell_type": "code",
   "execution_count": 13,
   "metadata": {},
   "outputs": [
    {
     "name": "stdout",
     "output_type": "stream",
     "text": [
      "16 20\n"
     ]
    }
   ],
   "source": [
    "a=area(4,4)\n",
    "b=area(4,5)\n",
    "print(a,b)"
   ]
  },
  {
   "cell_type": "code",
   "execution_count": 14,
   "metadata": {},
   "outputs": [
    {
     "name": "stdout",
     "output_type": "stream",
     "text": [
      "160\n"
     ]
    }
   ],
   "source": [
    "big_area=area(5,5)+area(10,12)+15 #function in expression\n",
    "print(big_area)"
   ]
  },
  {
   "cell_type": "code",
   "execution_count": 22,
   "metadata": {},
   "outputs": [],
   "source": [
    "def fib(start:int,size:int):\n",
    "    '''\n",
    "    ### this is fibonacci function\n",
    "    - start:pass a no. to start of fibonacci series\n",
    "    - size: size of fibonacci series\n",
    "    - returns: list of fibonacci series\n",
    "    ```\n",
    "    out=fib(0)\n",
    "    print(out)\n",
    "    ```\n",
    "    ''' \n",
    "    out=[start,start+1]\n",
    "    for i in range(size-2):#it is eliminating the first two elements obtained by out variable  to get exact no. of elements in start+1--\n",
    "         out.append(out[-1]+out[-2])\n",
    "    return out"
   ]
  },
  {
   "cell_type": "code",
   "execution_count": 23,
   "metadata": {},
   "outputs": [
    {
     "name": "stdout",
     "output_type": "stream",
     "text": [
      "[0, 1, 1, 2, 3, 5, 8, 13, 21, 34, 55, 89, 144, 233, 377, 610, 987, 1597, 2584, 4181, 6765, 10946, 17711, 28657, 46368]\n"
     ]
    }
   ],
   "source": [
    "print(fib(0,25))"
   ]
  },
  {
   "cell_type": "code",
   "execution_count": 31,
   "metadata": {},
   "outputs": [],
   "source": [
    "# create a function to calculate to S.i. and amount and return them\n",
    "def fun(p,r,t):\n",
    "    si=p*r*t/100\n",
    "    a=p+si\n",
    "    return si,a    "
   ]
  },
  {
   "cell_type": "code",
   "execution_count": 35,
   "metadata": {},
   "outputs": [
    {
     "name": "stdout",
     "output_type": "stream",
     "text": [
      "(120.0, 1320.0)\n",
      "120.0 1320.0\n"
     ]
    }
   ],
   "source": [
    "print(fun(1200,2,5))#ans will return in tuple\n",
    "si,a=fun(1200,2,5)\n",
    "print(si,a)"
   ]
  },
  {
   "cell_type": "code",
   "execution_count": 8,
   "metadata": {},
   "outputs": [],
   "source": [
    "import utils"
   ]
  },
  {
   "cell_type": "code",
   "execution_count": 9,
   "metadata": {},
   "outputs": [],
   "source": [
    "s='this is a paragraph which is written just for the purpose of providing content to let the average word length be calculated'\n"
   ]
  },
  {
   "cell_type": "code",
   "execution_count": 10,
   "metadata": {},
   "outputs": [
    {
     "data": {
      "text/plain": [
       "{'written': 1,\n",
       " 'be': 1,\n",
       " 'just': 1,\n",
       " 'calculated': 1,\n",
       " 'the': 1,\n",
       " 'of': 1,\n",
       " 'content': 1,\n",
       " 'purpose': 1,\n",
       " 'this': 1,\n",
       " 'to': 1,\n",
       " 'average': 1,\n",
       " 'for': 1,\n",
       " 'word': 1,\n",
       " 'is': 1,\n",
       " 'length': 1,\n",
       " 'paragraph': 1,\n",
       " 'let': 1,\n",
       " 'a': 1,\n",
       " 'which': 1,\n",
       " 'providing': 1}"
      ]
     },
     "execution_count": 10,
     "metadata": {},
     "output_type": "execute_result"
    }
   ],
   "source": [
    "utils.word_counter(s)"
   ]
  },
  {
   "cell_type": "code",
   "execution_count": 7,
   "metadata": {},
   "outputs": [
    {
     "name": "stdout",
     "output_type": "stream",
     "text": [
      "  21\n",
      "g 4\n",
      "n 5\n",
      "i 7\n",
      "t 12\n",
      "d 3\n",
      "c 4\n",
      "b 1\n",
      "o 7\n",
      "l 4\n",
      "j 1\n",
      "p 5\n",
      "r 8\n",
      "f 2\n",
      "e 11\n",
      "w 3\n",
      "a 8\n",
      "v 2\n",
      "h 7\n",
      "u 3\n",
      "s 5\n"
     ]
    },
    {
     "data": {
      "text/plain": [
       "{' ': 21,\n",
       " 'g': 4,\n",
       " 'n': 5,\n",
       " 'i': 7,\n",
       " 't': 12,\n",
       " 'd': 3,\n",
       " 'c': 4,\n",
       " 'b': 1,\n",
       " 'o': 7,\n",
       " 'l': 4,\n",
       " 'j': 1,\n",
       " 'p': 5,\n",
       " 'r': 8,\n",
       " 'f': 2,\n",
       " 'e': 11,\n",
       " 'w': 3,\n",
       " 'a': 8,\n",
       " 'v': 2,\n",
       " 'h': 7,\n",
       " 'u': 3,\n",
       " 's': 5}"
      ]
     },
     "execution_count": 7,
     "metadata": {},
     "output_type": "execute_result"
    }
   ],
   "source": [
    "utils.char_character(s)"
   ]
  }
 ],
 "metadata": {
  "kernelspec": {
   "display_name": "Python 3.9.12 ('base')",
   "language": "python",
   "name": "python3"
  },
  "language_info": {
   "codemirror_mode": {
    "name": "ipython",
    "version": 3
   },
   "file_extension": ".py",
   "mimetype": "text/x-python",
   "name": "python",
   "nbconvert_exporter": "python",
   "pygments_lexer": "ipython3",
   "version": "3.9.12"
  },
  "orig_nbformat": 4,
  "vscode": {
   "interpreter": {
    "hash": "400a42e877dffd63a2b2062fec838b4d7a945e3d35a74ea6618f4848047bb039"
   }
  }
 },
 "nbformat": 4,
 "nbformat_minor": 2
}
