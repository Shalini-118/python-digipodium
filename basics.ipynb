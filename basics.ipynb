{
 "cells": [
  {
   "cell_type": "code",
   "execution_count": 11,
   "metadata": {},
   "outputs": [
    {
     "name": "stdout",
     "output_type": "stream",
     "text": [
      "133\n",
      "67\n",
      "3300\n",
      "3.0303030303030303\n"
     ]
    }
   ],
   "source": [
    "#arithmetic operator\n",
    "a=100\n",
    "b=33\n",
    "\n",
    "print(a+b)# add\n",
    "print(a-b)# sub\n",
    "print(a*b)# mul\n",
    "print(a/b)# float div\n"
   ]
  },
  {
   "cell_type": "code",
   "execution_count": 12,
   "metadata": {},
   "outputs": [
    {
     "name": "stdout",
     "output_type": "stream",
     "text": [
      "3\n",
      "1\n",
      "1000000000000000000000000000000000000000000000000000000000000000000\n"
     ]
    }
   ],
   "source": [
    "print(a//b)# int div\n",
    "print(a%b)# remainder\n",
    "print(a**b)# exponentiation"
   ]
  },
  {
   "cell_type": "code",
   "execution_count": 13,
   "metadata": {},
   "outputs": [],
   "source": [
    "# assignment operator\n",
    "a=10\n",
    "b=5\n",
    "c=3\n",
    "# alternate way to assign a value to a variable\n",
    "x,y,z=10,20,30\n",
    "\n",
    " "
   ]
  },
  {
   "cell_type": "code",
   "execution_count": 10,
   "metadata": {},
   "outputs": [],
   "source": [
    "a +=2 # update a with a+2\n",
    "a-=2 # update a with a-2\n",
    "a*=2 # update a with a*2\n",
    "a/=2 # update a with a/2\n",
    "a%=2 # update a with a%2\n",
    "a**=2 # update a with a**2\n",
    "a//=2 # update a with a//2"
   ]
  },
  {
   "cell_type": "code",
   "execution_count": 15,
   "metadata": {},
   "outputs": [
    {
     "name": "stdout",
     "output_type": "stream",
     "text": [
      "True\n",
      "True\n",
      "False\n",
      "False\n",
      "False\n",
      "True\n"
     ]
    }
   ],
   "source": [
    "# COMPARISON OPERATORS\n",
    "print(a>b)# greater then\n",
    "print(a>=b)# greater then or equal to\n",
    "print(a<b)# less than\n",
    "print(a<=b)# less than or equal to\n",
    "print(a==b)# equal to\n",
    "print(a!=b)# not equal to\n"
   ]
  },
  {
   "cell_type": "code",
   "execution_count": 18,
   "metadata": {},
   "outputs": [
    {
     "name": "stdout",
     "output_type": "stream",
     "text": [
      "True\n",
      "False\n",
      "True\n",
      "True\n",
      "True\n",
      "True\n",
      "False\n",
      "False\n"
     ]
    }
   ],
   "source": [
    "# logical operators (and,or,not)\n",
    "print(a>b and a>5)\n",
    "print(a<b and a>5)\n",
    "print(a>b or a>5)\n",
    "print(a<b or a>5)\n",
    "print(a>b or a<5)\n",
    "print(not a<b)\n",
    "print(not a>b)\n",
    "print(not a and not b and not c)"
   ]
  },
  {
   "cell_type": "code",
   "execution_count": 19,
   "metadata": {},
   "outputs": [
    {
     "name": "stdout",
     "output_type": "stream",
     "text": [
      "True\n",
      "True\n",
      "True\n",
      "True\n",
      "True\n",
      "False\n"
     ]
    }
   ],
   "source": [
    "# membership operators\n",
    "colors=['red','blue','green','yellow','orange']\n",
    "print('red' in colors)\n",
    "print('blue' in colors)\n",
    "print('green' in colors)\n",
    "print('yellow' in colors)\n",
    "print('orange' in colors)\n",
    "print('purple' in colors)"
   ]
  },
  {
   "cell_type": "code",
   "execution_count": 23,
   "metadata": {},
   "outputs": [
    {
     "name": "stdout",
     "output_type": "stream",
     "text": [
      "True\n",
      "False\n",
      "True\n"
     ]
    }
   ],
   "source": [
    "# string searching\n",
    "msg=\"Its the journey thats matters\"\n",
    "print('journey 'in msg)\n",
    "print('destination'in msg)\n",
    "print('you'not in msg)# absence or present"
   ]
  },
  {
   "cell_type": "code",
   "execution_count": null,
   "metadata": {},
   "outputs": [],
   "source": []
  },
  {
   "cell_type": "code",
   "execution_count": 21,
   "metadata": {},
   "outputs": [],
   "source": [
    "#is operator checks whether two objects belongs to same memory location or not."
   ]
  },
  {
   "cell_type": "code",
   "execution_count": null,
   "metadata": {},
   "outputs": [],
   "source": []
  },
  {
   "cell_type": "code",
   "execution_count": 25,
   "metadata": {},
   "outputs": [
    {
     "data": {
      "text/plain": [
       "314.0"
      ]
     },
     "execution_count": 25,
     "metadata": {},
     "output_type": "execute_result"
    }
   ],
   "source": [
    "a=10\n",
    "3.14*a**2\n",
    "print(area,'for a circle')\n"
   ]
  },
  {
   "cell_type": "code",
   "execution_count": 26,
   "metadata": {},
   "outputs": [
    {
     "data": {
      "text/plain": [
       "64"
      ]
     },
     "execution_count": 26,
     "metadata": {},
     "output_type": "execute_result"
    }
   ],
   "source": [
    "a=4\n",
    "b=8\n",
    "2*a*b"
   ]
  },
  {
   "cell_type": "code",
   "execution_count": 27,
   "metadata": {},
   "outputs": [
    {
     "data": {
      "text/plain": [
       "78.0"
      ]
     },
     "execution_count": 27,
     "metadata": {},
     "output_type": "execute_result"
    }
   ],
   "source": [
    "a=12\n",
    "h=13\n",
    "1/2*a*h"
   ]
  },
  {
   "cell_type": "code",
   "execution_count": 28,
   "metadata": {},
   "outputs": [
    {
     "data": {
      "text/plain": [
       "120"
      ]
     },
     "execution_count": 28,
     "metadata": {},
     "output_type": "execute_result"
    }
   ],
   "source": [
    "5*4*3*2*1"
   ]
  },
  {
   "cell_type": "code",
   "execution_count": 30,
   "metadata": {},
   "outputs": [],
   "source": [
    "import math\n"
   ]
  },
  {
   "cell_type": "code",
   "execution_count": 32,
   "metadata": {},
   "outputs": [
    {
     "name": "stdout",
     "output_type": "stream",
     "text": [
      "Hypotenuse is = 14.0\n"
     ]
    }
   ],
   "source": [
    "p= float(input('Enter Perpendicular'))\n",
    "b= float(input('Enter a base'))\n",
    "h= float(input('Enter a number'))\n",
    "print('Hypotenuse is =',h)"
   ]
  },
  {
   "cell_type": "code",
   "execution_count": 38,
   "metadata": {},
   "outputs": [
    {
     "name": "stdout",
     "output_type": "stream",
     "text": [
      "factorial of 5 is 120\n"
     ]
    }
   ],
   "source": [
    "num=int(input('Enetr a number:'))\n",
    "fact=math.factorial(num)\n",
    "print('factorial of',num, 'is',fact)\n"
   ]
  },
  {
   "cell_type": "code",
   "execution_count": null,
   "metadata": {},
   "outputs": [],
   "source": [
    "# compound interest\n",
    "p=float(input('Enter a principal ='))\n",
    "r=float(input('Enter rate ='))\n",
    "t=float(input('Enter time ='))\n",
    "n=float(input('Enter no. of times interest is compound='))\n",
    "ci=p*(1+r/n)**(n*t)\n",
    "print('compound interest is',ci)"
   ]
  }
 ],
 "metadata": {
  "kernelspec": {
   "display_name": "Python 3.9.12 ('base')",
   "language": "python",
   "name": "python3"
  },
  "language_info": {
   "codemirror_mode": {
    "name": "ipython",
    "version": 3
   },
   "file_extension": ".py",
   "mimetype": "text/x-python",
   "name": "python",
   "nbconvert_exporter": "python",
   "pygments_lexer": "ipython3",
   "version": "3.9.12"
  },
  "orig_nbformat": 4,
  "vscode": {
   "interpreter": {
    "hash": "400a42e877dffd63a2b2062fec838b4d7a945e3d35a74ea6618f4848047bb039"
   }
  }
 },
 "nbformat": 4,
 "nbformat_minor": 2
}
