{
 "cells": [
  {
   "cell_type": "code",
   "execution_count": 62,
   "metadata": {},
   "outputs": [
    {
     "name": "stdout",
     "output_type": "stream",
     "text": [
      "\n"
     ]
    }
   ],
   "source": [
    "print()\n"
   ]
  },
  {
   "cell_type": "code",
   "execution_count": 63,
   "metadata": {},
   "outputs": [
    {
     "name": "stdout",
     "output_type": "stream",
     "text": [
      "SHALINI SHUKLA\n"
     ]
    }
   ],
   "source": [
    "print(\"SHALINI SHUKLA\")\n"
   ]
  },
  {
   "cell_type": "markdown",
   "metadata": {},
   "source": [
    "Raw output are only for developer understanding"
   ]
  },
  {
   "cell_type": "code",
   "execution_count": 64,
   "metadata": {},
   "outputs": [
    {
     "data": {
      "text/plain": [
       "'SHALINI SHUKLA'"
      ]
     },
     "execution_count": 64,
     "metadata": {},
     "output_type": "execute_result"
    }
   ],
   "source": [
    "\n",
    "\"SHALINI SHUKLA\""
   ]
  },
  {
   "cell_type": "code",
   "execution_count": 65,
   "metadata": {},
   "outputs": [
    {
     "data": {
      "text/plain": [
       "12"
      ]
     },
     "execution_count": 65,
     "metadata": {},
     "output_type": "execute_result"
    }
   ],
   "source": [
    "5+7"
   ]
  },
  {
   "cell_type": "code",
   "execution_count": 66,
   "metadata": {},
   "outputs": [
    {
     "name": "stdout",
     "output_type": "stream",
     "text": [
      "Shalini Kajal Rushil\n"
     ]
    }
   ],
   "source": [
    "print('Shalini','Kajal','Rushil')"
   ]
  },
  {
   "cell_type": "code",
   "execution_count": 67,
   "metadata": {},
   "outputs": [
    {
     "name": "stdout",
     "output_type": "stream",
     "text": [
      "1 2 3 4 5 60\n"
     ]
    }
   ],
   "source": [
    "print(1,2,3,4,5,60,)"
   ]
  },
  {
   "cell_type": "code",
   "execution_count": 68,
   "metadata": {},
   "outputs": [
    {
     "name": "stdout",
     "output_type": "stream",
     "text": [
      "1,2,3,4,5,6\n"
     ]
    }
   ],
   "source": [
    "print('1,2,3,4,5,6')"
   ]
  },
  {
   "cell_type": "code",
   "execution_count": 69,
   "metadata": {},
   "outputs": [
    {
     "name": "stdout",
     "output_type": "stream",
     "text": [
      "This is python data science\n",
      "We are going to code\n",
      "And learn the secrete of python\n"
     ]
    }
   ],
   "source": [
    "print('This is python data science')\n",
    "print('We are going to code')\n",
    "print('And learn the secrete of python')\n"
   ]
  },
  {
   "cell_type": "code",
   "execution_count": 70,
   "metadata": {},
   "outputs": [
    {
     "name": "stdout",
     "output_type": "stream",
     "text": [
      "This is python data science We are going to code And learn the secrete of python\n"
     ]
    }
   ],
   "source": [
    "print('This is python data science We are going to code And learn the secrete of python')"
   ]
  },
  {
   "cell_type": "code",
   "execution_count": 71,
   "metadata": {},
   "outputs": [
    {
     "name": "stdout",
     "output_type": "stream",
     "text": [
      "This is python data science\n",
      " We are going to code\n",
      " And learn the secrete of python\n"
     ]
    }
   ],
   "source": [
    "print('This is python data science\\n We are going to code\\n And learn the secrete of python')"
   ]
  },
  {
   "cell_type": "code",
   "execution_count": 72,
   "metadata": {},
   "outputs": [
    {
     "name": "stdout",
     "output_type": "stream",
     "text": [
      "This is python data science')\n",
      "We are going to code \n",
      "And learn the secrete of python\n"
     ]
    }
   ],
   "source": [
    "print('''This is python data science')\n",
    "We are going to code \n",
    "And learn the secrete of python''')\n"
   ]
  },
  {
   "cell_type": "code",
   "execution_count": 73,
   "metadata": {},
   "outputs": [
    {
     "name": "stdout",
     "output_type": "stream",
     "text": [
      "1/2/3/4/5/6\n"
     ]
    }
   ],
   "source": [
    "print(1,2,3,4,5,6,sep='/')"
   ]
  },
  {
   "cell_type": "code",
   "execution_count": 74,
   "metadata": {},
   "outputs": [
    {
     "name": "stdout",
     "output_type": "stream",
     "text": [
      "1$2$3$4$5$6\n"
     ]
    }
   ],
   "source": [
    "print(1,2,3,4,5,6,sep='$')"
   ]
  },
  {
   "cell_type": "code",
   "execution_count": 75,
   "metadata": {},
   "outputs": [
    {
     "name": "stdout",
     "output_type": "stream",
     "text": [
      "This\n",
      "is\n",
      "my\n",
      "code\n"
     ]
    }
   ],
   "source": [
    "print('This')\n",
    "print('is')\n",
    "print('my')\n",
    "print('code')"
   ]
  },
  {
   "cell_type": "code",
   "execution_count": 76,
   "metadata": {},
   "outputs": [
    {
     "name": "stdout",
     "output_type": "stream",
     "text": [
      "This\n",
      "is my\n",
      "code\n"
     ]
    }
   ],
   "source": [
    "print('This')\n",
    "print('is',end=' ') # space between commas in end.\n",
    "print('my')\n",
    "print('code')"
   ]
  },
  {
   "cell_type": "code",
   "execution_count": 77,
   "metadata": {},
   "outputs": [
    {
     "name": "stdout",
     "output_type": "stream",
     "text": [
      "This\n",
      "is@my\n",
      "code\n"
     ]
    }
   ],
   "source": [
    "print('This')\n",
    "print('is',end='@') # @ between commas in end.\n",
    "print('my')\n",
    "print('code')"
   ]
  },
  {
   "cell_type": "markdown",
   "metadata": {},
   "source": [
    "Creation of variable age=18 Name='Bob' Color='red' Color2='red' is sleeping=False"
   ]
  },
  {
   "cell_type": "code",
   "execution_count": 78,
   "metadata": {},
   "outputs": [],
   "source": [
    "\n",
    "age=18 \n",
    "Name='Bob' \n",
    "Color='red' \n",
    "Color2='red' \n",
    "is_sleeping=False"
   ]
  },
  {
   "cell_type": "code",
   "execution_count": 79,
   "metadata": {},
   "outputs": [],
   "source": [
    "Name='Nobita' "
   ]
  },
  {
   "cell_type": "code",
   "execution_count": 80,
   "metadata": {},
   "outputs": [],
   "source": [
    "age=25 "
   ]
  },
  {
   "cell_type": "markdown",
   "metadata": {},
   "source": [
    "Datatypes can be change by changing the value of variable\n"
   ]
  },
  {
   "cell_type": "code",
   "execution_count": 81,
   "metadata": {},
   "outputs": [],
   "source": [
    "\n",
    "color2=12"
   ]
  },
  {
   "cell_type": "code",
   "execution_count": 82,
   "metadata": {},
   "outputs": [],
   "source": [
    "x=12\n",
    "y=135454345634\n",
    "z=54698561556599999999999\n",
    "k=.155356335"
   ]
  },
  {
   "cell_type": "code",
   "execution_count": 83,
   "metadata": {},
   "outputs": [],
   "source": [
    "name=\"aish o1\""
   ]
  },
  {
   "cell_type": "code",
   "execution_count": 84,
   "metadata": {},
   "outputs": [],
   "source": [
    "a=[1,5,8,7]\n",
    "values=[1,22,'python']\n",
    "colors=['red','blue','green']"
   ]
  },
  {
   "cell_type": "code",
   "execution_count": 112,
   "metadata": {},
   "outputs": [
    {
     "name": "stdout",
     "output_type": "stream",
     "text": [
      "So according to you \n",
      "You are SHALINI SHUKLA\n",
      "and you live in LUCKNOW\n"
     ]
    }
   ],
   "source": [
    "name=input('What is your name?')\n",
    "city=input('Which city do you live in?')\n",
    "print('So according to you ')\n",
    "print('You are',name)\n",
    "print('and you live in',city)"
   ]
  },
  {
   "cell_type": "markdown",
   "metadata": {},
   "source": [
    "OPERATORS"
   ]
  },
  {
   "cell_type": "code",
   "execution_count": null,
   "metadata": {},
   "outputs": [
    {
     "name": "stdout",
     "output_type": "stream",
     "text": [
      "133\n",
      "67\n",
      "3300\n",
      "3.0303030303030303\n"
     ]
    }
   ],
   "source": [
    "# arithmetic operator\n",
    "a=100\n",
    "b=33\n",
    "\n",
    "print(a+b)# add\n",
    "print(a-b)# sub\n",
    "print(a*b)# mul\n",
    "print(a/b)# float div\n"
   ]
  },
  {
   "cell_type": "code",
   "execution_count": null,
   "metadata": {},
   "outputs": [
    {
     "name": "stdout",
     "output_type": "stream",
     "text": [
      "3\n",
      "1\n",
      "1000000000000000000000000000000000000000000000000000000000000000000\n"
     ]
    }
   ],
   "source": [
    "print(a//b)# int div\n",
    "print(a%b)# remainder\n",
    "print(a**b)# exponentiation"
   ]
  },
  {
   "cell_type": "code",
   "execution_count": null,
   "metadata": {},
   "outputs": [
    {
     "name": "stdout",
     "output_type": "stream",
     "text": [
      "3\n"
     ]
    }
   ],
   "source": [
    "print(23%5)# remainder"
   ]
  },
  {
   "cell_type": "code",
   "execution_count": 87,
   "metadata": {},
   "outputs": [
    {
     "data": {
      "text/plain": [
       "1000"
      ]
     },
     "execution_count": 87,
     "metadata": {},
     "output_type": "execute_result"
    }
   ],
   "source": [
    "10**3 #power or exponent"
   ]
  },
  {
   "cell_type": "code",
   "execution_count": 88,
   "metadata": {},
   "outputs": [],
   "source": [
    "# assignment operator\n",
    "a=10\n",
    "b=5\n",
    "c=3\n",
    "# alternate way to assign a value to a variable\n",
    "x,y,z=10,20,30\n",
    "\n",
    " "
   ]
  },
  {
   "cell_type": "code",
   "execution_count": 55,
   "metadata": {},
   "outputs": [],
   "source": [
    "a +=2 # update a with a+2\n",
    "a-=2 # update a with a-2\n",
    "a*=2 # update a with a*2\n",
    "a/=2 # update a with a/2\n",
    "a%=2 # update a with a%2\n",
    "a**=2 # update a with a**2\n",
    "a//=2 # update a with a//2"
   ]
  },
  {
   "cell_type": "code",
   "execution_count": 56,
   "metadata": {},
   "outputs": [
    {
     "name": "stdout",
     "output_type": "stream",
     "text": [
      "False\n",
      "False\n",
      "True\n",
      "True\n",
      "False\n",
      "True\n"
     ]
    }
   ],
   "source": [
    "# COMPARISON OPERATORS\n",
    "print(a>b)# greater then\n",
    "print(a>=b)# greater then or equal to\n",
    "print(a<b)# less than\n",
    "print(a<=b)# less than or equal to\n",
    "print(a==b)# equal to\n",
    "print(a!=b)# not equal to\n"
   ]
  },
  {
   "cell_type": "code",
   "execution_count": 57,
   "metadata": {},
   "outputs": [
    {
     "name": "stdout",
     "output_type": "stream",
     "text": [
      "False\n",
      "False\n",
      "False\n",
      "True\n",
      "True\n",
      "False\n",
      "True\n",
      "False\n"
     ]
    }
   ],
   "source": [
    "# logical operators (and,or,not)\n",
    "print(a>b and a>5)\n",
    "print(a<b and a>5)\n",
    "print(a>b or a>5)\n",
    "print(a<b or a>5)\n",
    "print(a>b or a<5)\n",
    "print(not a<b)\n",
    "print(not a>b)\n",
    "print(not a and not b and not c)"
   ]
  },
  {
   "cell_type": "code",
   "execution_count": 58,
   "metadata": {},
   "outputs": [
    {
     "name": "stdout",
     "output_type": "stream",
     "text": [
      "True\n",
      "True\n",
      "True\n",
      "True\n",
      "True\n",
      "False\n"
     ]
    }
   ],
   "source": [
    "# membership operators\n",
    "colors=['red','blue','green','yellow','orange']\n",
    "print('red' in colors)\n",
    "print('blue' in colors)\n",
    "print('green' in colors)\n",
    "print('yellow' in colors)\n",
    "print('orange' in colors)\n",
    "print('purple' in colors)"
   ]
  },
  {
   "cell_type": "code",
   "execution_count": 59,
   "metadata": {},
   "outputs": [
    {
     "name": "stdout",
     "output_type": "stream",
     "text": [
      "True\n",
      "False\n",
      "True\n"
     ]
    }
   ],
   "source": [
    "# string searching\n",
    "msg=\"Its the journey thats matters\"\n",
    "print('journey 'in msg)\n",
    "print('destination'in msg)\n",
    "print('you'not in msg)# absence or present"
   ]
  },
  {
   "cell_type": "code",
   "execution_count": 60,
   "metadata": {},
   "outputs": [],
   "source": [
    "#is operator checks whether two objects belongs to same memory location or not."
   ]
  },
  {
   "cell_type": "code",
   "execution_count": 96,
   "metadata": {},
   "outputs": [
    {
     "name": "stdout",
     "output_type": "stream",
     "text": [
      "area for a circle 452.16\n"
     ]
    }
   ],
   "source": [
    "#WAP to calculate area of circle.\n",
    "a=float(input('Enter the radius'))\n",
    "Formula=3.14*a**2\n",
    "print('area','for a circle',Formula)\n"
   ]
  },
  {
   "cell_type": "code",
   "execution_count": 98,
   "metadata": {},
   "outputs": [
    {
     "name": "stdout",
     "output_type": "stream",
     "text": [
      "Area of rectangle 48.0\n"
     ]
    }
   ],
   "source": [
    "#WAP to calculate area of rectangle. \n",
    "l=float(input('Enter the length'))\n",
    "b=float(input('Enter the breadth'))\n",
    "print('Area of rectangle',l*b)"
   ]
  },
  {
   "cell_type": "code",
   "execution_count": 99,
   "metadata": {},
   "outputs": [
    {
     "name": "stdout",
     "output_type": "stream",
     "text": [
      "Area of triangle 120.0\n"
     ]
    }
   ],
   "source": [
    "#Area of triangle\n",
    "b=float(input('Enter the base'))\n",
    "h=float(input('Enter the height'))\n",
    "print('Area of triangle',h*b)"
   ]
  },
  {
   "cell_type": "markdown",
   "metadata": {},
   "source": [
    "Introduction to modules."
   ]
  },
  {
   "cell_type": "code",
   "execution_count": 101,
   "metadata": {},
   "outputs": [
    {
     "name": "stdout",
     "output_type": "stream",
     "text": [
      "The required length of hypotenuse is-_ 16.970562748477143\n"
     ]
    }
   ],
   "source": [
    "#WAP to calculate hypotenuse using perpendicular and base\n",
    "import math\n",
    "p=float(input('Enter the peerpendicular'))\n",
    "b=float(input('Enter the base'))\n",
    "h=math.hypot(p,b)\n",
    "print('The required length of hypotenuse is-_',h)"
   ]
  },
  {
   "cell_type": "code",
   "execution_count": 107,
   "metadata": {},
   "outputs": [
    {
     "name": "stdout",
     "output_type": "stream",
     "text": [
      "Factorial of 6 is 720\n"
     ]
    }
   ],
   "source": [
    "#WAP to find factorial of a number.\n",
    "num=int(input('Enetr a number:'))\n",
    "fact=math.factorial(num)\n",
    "print('Factorial of',num, 'is',fact)\n"
   ]
  },
  {
   "cell_type": "code",
   "execution_count": 108,
   "metadata": {},
   "outputs": [
    {
     "name": "stdout",
     "output_type": "stream",
     "text": [
      "['__doc__', '__loader__', '__name__', '__package__', '__spec__', 'acos', 'acosh', 'asin', 'asinh', 'atan', 'atan2', 'atanh', 'ceil', 'comb', 'copysign', 'cos', 'cosh', 'degrees', 'dist', 'e', 'erf', 'erfc', 'exp', 'expm1', 'fabs', 'factorial', 'floor', 'fmod', 'frexp', 'fsum', 'gamma', 'gcd', 'hypot', 'inf', 'isclose', 'isfinite', 'isinf', 'isnan', 'isqrt', 'lcm', 'ldexp', 'lgamma', 'log', 'log10', 'log1p', 'log2', 'modf', 'nan', 'nextafter', 'perm', 'pi', 'pow', 'prod', 'radians', 'remainder', 'sin', 'sinh', 'sqrt', 'tan', 'tanh', 'tau', 'trunc', 'ulp']\n"
     ]
    }
   ],
   "source": [
    "print(dir(math))"
   ]
  },
  {
   "cell_type": "code",
   "execution_count": 110,
   "metadata": {},
   "outputs": [
    {
     "name": "stdout",
     "output_type": "stream",
     "text": [
      "Amount is 39321600.0\n",
      "compound interest is 4.878734130422583e+21\n"
     ]
    }
   ],
   "source": [
    "# compound interest\n",
    "p=float(input('Enter a principal ='))\n",
    "r=float(input('Enter rate ='))\n",
    "t=float(input('Enter time ='))\n",
    "n=float(input('Enter no. of times interest is compound='))\n",
    "A=p*(1+r/n)**(n*t)\n",
    "print('Amount is',A)\n",
    "CI=A-p\n",
    "print('compound interest is',ci)"
   ]
  }
 ],
 "metadata": {
  "kernelspec": {
   "display_name": "Python 3.9.12 ('base')",
   "language": "python",
   "name": "python3"
  },
  "language_info": {
   "codemirror_mode": {
    "name": "ipython",
    "version": 3
   },
   "file_extension": ".py",
   "mimetype": "text/x-python",
   "name": "python",
   "nbconvert_exporter": "python",
   "pygments_lexer": "ipython3",
   "version": "3.9.12"
  },
  "orig_nbformat": 4,
  "vscode": {
   "interpreter": {
    "hash": "400a42e877dffd63a2b2062fec838b4d7a945e3d35a74ea6618f4848047bb039"
   }
  }
 },
 "nbformat": 4,
 "nbformat_minor": 2
}
