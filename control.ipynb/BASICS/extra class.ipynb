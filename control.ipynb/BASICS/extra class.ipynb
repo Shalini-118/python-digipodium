{
 "cells": [
  {
   "cell_type": "code",
   "execution_count": 1,
   "metadata": {},
   "outputs": [
    {
     "name": "stdout",
     "output_type": "stream",
     "text": [
      "the avg is 14.2\n"
     ]
    }
   ],
   "source": [
    "a=int(input(\"enter the no.\"))\n",
    "b=int(input(\"eneter the no.\"))\n",
    "c=int(input(\"enter the no.\"))\n",
    "d=int(input(\"eneter the no.\"))\n",
    "e=int(input(\"enter the no.\"))\n",
    "add=(a+b+c+d+e)/5\n",
    "print(\"the avg is\",add)\n"
   ]
  },
  {
   "cell_type": "code",
   "execution_count": 4,
   "metadata": {},
   "outputs": [
    {
     "name": "stdout",
     "output_type": "stream",
     "text": [
      "the greater no. is b= 50\n"
     ]
    }
   ],
   "source": [
    "a=int(input(\"enter the no.\"))\n",
    "b=int(input(\"eneter the no.\"))\n",
    "if(a>b):\n",
    "    print(\"the greater no. is a=\",a)\n",
    "print(\"the greater no. is b=\",b)    "
   ]
  }
 ],
 "metadata": {
  "kernelspec": {
   "display_name": "Python 3.9.12 ('base')",
   "language": "python",
   "name": "python3"
  },
  "language_info": {
   "codemirror_mode": {
    "name": "ipython",
    "version": 3
   },
   "file_extension": ".py",
   "mimetype": "text/x-python",
   "name": "python",
   "nbconvert_exporter": "python",
   "pygments_lexer": "ipython3",
   "version": "3.9.12"
  },
  "orig_nbformat": 4,
  "vscode": {
   "interpreter": {
    "hash": "400a42e877dffd63a2b2062fec838b4d7a945e3d35a74ea6618f4848047bb039"
   }
  }
 },
 "nbformat": 4,
 "nbformat_minor": 2
}
