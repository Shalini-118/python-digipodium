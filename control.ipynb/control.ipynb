{
 "cells": [
  {
   "cell_type": "code",
   "execution_count": 8,
   "metadata": {},
   "outputs": [
    {
     "name": "stdout",
     "output_type": "stream",
     "text": [
      "the no. is even\n",
      "the end\n"
     ]
    }
   ],
   "source": [
    "x=1236\n",
    "if x%2==0:\n",
    "  print('the no. is even')\n",
    "  print('''the end''')\n"
   ]
  },
  {
   "cell_type": "markdown",
   "metadata": {},
   "source": [
    "a.is numeric() is a function"
   ]
  },
  {
   "cell_type": "code",
   "execution_count": 12,
   "metadata": {},
   "outputs": [
    {
     "name": "stdout",
     "output_type": "stream",
     "text": [
      "bad input\n"
     ]
    }
   ],
   "source": [
    "num=input(\"enter a number\")\n",
    "if num.isnumeric():\n",
    "  print(\"well done\") \n",
    "  num=int(num)   \n",
    "else:\n",
    "    print(\"bad input\")  \n"
   ]
  },
  {
   "cell_type": "code",
   "execution_count": 13,
   "metadata": {},
   "outputs": [
    {
     "name": "stdout",
     "output_type": "stream",
     "text": [
      "welcome to wwe\n"
     ]
    }
   ],
   "source": [
    "username=\"john carter\"\n",
    "email=\"john@gmail.com\"\n",
    "password=\"123\"\n",
    "if username=='john carter':\n",
    " if email=='john@gmail.com':\n",
    "    if password=='123':\n",
    "     print(\"welcome to wwe\") \n",
    "    else:\n",
    "        print(\"wrong password\") \n",
    " else:\n",
    "      print(\"wrong email\")   \n",
    "else:\n",
    "     print('wrong username')"
   ]
  },
  {
   "cell_type": "code",
   "execution_count": 17,
   "metadata": {},
   "outputs": [
    {
     "name": "stdout",
     "output_type": "stream",
     "text": [
      "wrong username\n"
     ]
    }
   ],
   "source": [
    "username=\"john carter\"\n",
    "email=\"john@gmail.com\"\n",
    "password=\"123\"\n",
    "if username!='johnn carter':\n",
    " print(\"wrong username\")\n",
    "elif password!='123':\n",
    "  print(\"wrong password\")  \n",
    "elif email!=\"john@gmail.com\":\n",
    "  print(\"wrong email\")      \n",
    "else:\n",
    "  print(\"welcome to wwe\")"
   ]
  },
  {
   "cell_type": "code",
   "execution_count": 8,
   "metadata": {},
   "outputs": [
    {
     "name": "stdout",
     "output_type": "stream",
     "text": [
      "F\n"
     ]
    }
   ],
   "source": [
    "num=input(\"enter a number.\")\n",
    "if num.isnumeric():\n",
    "    num=int(num)\n",
    "    if num>=90:\n",
    "     print(\"grade A\")\n",
    "    elif num>=80:\n",
    "     print(\"grade B\")\n",
    "    elif num>=70:\n",
    "      print(\"grade C\")  \n",
    "    elif num>=60:\n",
    "       print(\"grade D\")\n",
    "    else:\n",
    "        print(\"F\")       \n",
    "else:\n",
    "       print(\"invalid\") "
   ]
  },
  {
   "cell_type": "code",
   "execution_count": 2,
   "metadata": {},
   "outputs": [
    {
     "data": {
      "text/plain": [
       "9"
      ]
     },
     "execution_count": 2,
     "metadata": {},
     "output_type": "execute_result"
    }
   ],
   "source": [
    "word='Volkwagen'\n",
    "len(word)"
   ]
  },
  {
   "cell_type": "code",
   "execution_count": 3,
   "metadata": {},
   "outputs": [
    {
     "name": "stdout",
     "output_type": "stream",
     "text": [
      "P\n",
      "Y\n",
      "T\n",
      "H\n",
      "O\n",
      "N\n"
     ]
    }
   ],
   "source": [
    "x=\"PYTHON\"\n",
    "for i in x:\n",
    "    print(i)"
   ]
  },
  {
   "cell_type": "code",
   "execution_count": 9,
   "metadata": {},
   "outputs": [
    {
     "name": "stdout",
     "output_type": "stream",
     "text": [
      "i have apple\n",
      "i have banana\n",
      "i have lemon\n"
     ]
    }
   ],
   "source": [
    "fruits=['apple','banana','lemon']\n",
    "for item in fruits:\n",
    "    print(f'i have {item}')"
   ]
  },
  {
   "cell_type": "code",
   "execution_count": 10,
   "metadata": {},
   "outputs": [
    {
     "name": "stdout",
     "output_type": "stream",
     "text": [
      "you got the point 0\n",
      "you got the point 1\n",
      "you got the point 2\n",
      "you got the point 3\n",
      "you got the point 4\n",
      "you got the point 5\n"
     ]
    }
   ],
   "source": [
    "for i in range(6):\n",
    "    print('you got the point',i)"
   ]
  },
  {
   "cell_type": "code",
   "execution_count": 11,
   "metadata": {},
   "outputs": [
    {
     "name": "stdout",
     "output_type": "stream",
     "text": [
      "level 1\n",
      "level 4\n",
      "level 7\n"
     ]
    }
   ],
   "source": [
    "for num in range(1,10,3):\n",
    "    print('level',num)"
   ]
  },
  {
   "cell_type": "code",
   "execution_count": 12,
   "metadata": {},
   "outputs": [
    {
     "name": "stdout",
     "output_type": "stream",
     "text": [
      "sheep 2\n",
      "sheep 3\n",
      "sheep 4\n",
      "sheep 5\n",
      "sheep 6\n",
      "sheep 7\n",
      "sheep 8\n",
      "sheep 9\n",
      "sheep 10\n"
     ]
    }
   ],
   "source": [
    "for num in range(2,11):\n",
    "    print('sheep',num)"
   ]
  },
  {
   "cell_type": "code",
   "execution_count": null,
   "metadata": {},
   "outputs": [],
   "source": []
  }
 ],
 "metadata": {
  "kernelspec": {
   "display_name": "Python 3.9.12 ('base')",
   "language": "python",
   "name": "python3"
  },
  "language_info": {
   "codemirror_mode": {
    "name": "ipython",
    "version": 3
   },
   "file_extension": ".py",
   "mimetype": "text/x-python",
   "name": "python",
   "nbconvert_exporter": "python",
   "pygments_lexer": "ipython3",
   "version": "3.9.12"
  },
  "orig_nbformat": 4,
  "vscode": {
   "interpreter": {
    "hash": "400a42e877dffd63a2b2062fec838b4d7a945e3d35a74ea6618f4848047bb039"
   }
  }
 },
 "nbformat": 4,
 "nbformat_minor": 2
}
