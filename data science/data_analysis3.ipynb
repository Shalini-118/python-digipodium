{
 "cells": [
  {
   "cell_type": "code",
   "execution_count": 1,
   "metadata": {},
   "outputs": [],
   "source": [
    "import pandas as pd\n",
    "import numpy as np\n",
    "import matplotlib.pyplot as plt\n",
    "import os"
   ]
  },
  {
   "cell_type": "code",
   "execution_count": 5,
   "metadata": {},
   "outputs": [
    {
     "name": "stdout",
     "output_type": "stream",
     "text": [
      "<class 'pandas.core.frame.DataFrame'>\n",
      "Int64Index: 534 entries, 8 to 16\n",
      "Data columns (total 10 columns):\n",
      " #   Column      Non-Null Count  Dtype  \n",
      "---  ------      --------------  -----  \n",
      " 0   SOUTH       534 non-null    object \n",
      " 1   SEX         534 non-null    object \n",
      " 2   EXPERIENCE  534 non-null    int64  \n",
      " 3   UNION       534 non-null    object \n",
      " 4   WAGE        534 non-null    float64\n",
      " 5   AGE         534 non-null    int64  \n",
      " 6   RACE        534 non-null    object \n",
      " 7   OCCUPATION  534 non-null    object \n",
      " 8   SECTOR      534 non-null    object \n",
      " 9   MARR        534 non-null    object \n",
      "dtypes: float64(1), int64(2), object(7)\n",
      "memory usage: 31.3+ KB\n",
      "None\n"
     ]
    }
   ],
   "source": [
    "filepath='cps_85_wages.csv'\n",
    "df=pd.read_csv(filepath,index_col=0)\n",
    "print(df.info())\n"
   ]
  },
  {
   "cell_type": "code",
   "execution_count": 13,
   "metadata": {},
   "outputs": [
    {
     "data": {
      "text/plain": [
       "<bound method NDFrame.describe of           SOUTH     SEX  EXPERIENCE       UNION   WAGE  AGE      RACE  \\\n",
       "EDUCATION                                                               \n",
       "8            no  female          21  not_member   5.10   35  Hispanic   \n",
       "9            no  female          42  not_member   4.95   57     White   \n",
       "12           no    male           1  not_member   6.67   19     White   \n",
       "12           no    male           4  not_member   4.00   22     White   \n",
       "12           no    male          17  not_member   7.50   35     White   \n",
       "...         ...     ...         ...         ...    ...  ...       ...   \n",
       "18           no    male           5  not_member  11.36   29     White   \n",
       "12           no  female          33  not_member   6.10   51     Other   \n",
       "17           no  female          25      member  23.25   48     Other   \n",
       "12          yes    male          13      member  19.88   31     White   \n",
       "16           no    male          33  not_member  15.38   55     White   \n",
       "\n",
       "             OCCUPATION         SECTOR       MARR  \n",
       "EDUCATION                                          \n",
       "8                 Other  Manufacturing    Married  \n",
       "9                 Other  Manufacturing    Married  \n",
       "12                Other  Manufacturing  Unmarried  \n",
       "12                Other          Other  Unmarried  \n",
       "12                Other          Other    Married  \n",
       "...                 ...            ...        ...  \n",
       "18         Professional          Other  Unmarried  \n",
       "12         Professional          Other    Married  \n",
       "17         Professional          Other    Married  \n",
       "12         Professional          Other    Married  \n",
       "16         Professional  Manufacturing    Married  \n",
       "\n",
       "[534 rows x 10 columns]>"
      ]
     },
     "execution_count": 13,
     "metadata": {},
     "output_type": "execute_result"
    }
   ],
   "source": [
    "df.describe"
   ]
  },
  {
   "cell_type": "code",
   "execution_count": 14,
   "metadata": {},
   "outputs": [
    {
     "data": {
      "text/plain": [
       "<bound method NDFrame.head of           SOUTH     SEX  EXPERIENCE       UNION   WAGE  AGE      RACE  \\\n",
       "EDUCATION                                                               \n",
       "8            no  female          21  not_member   5.10   35  Hispanic   \n",
       "9            no  female          42  not_member   4.95   57     White   \n",
       "12           no    male           1  not_member   6.67   19     White   \n",
       "12           no    male           4  not_member   4.00   22     White   \n",
       "12           no    male          17  not_member   7.50   35     White   \n",
       "...         ...     ...         ...         ...    ...  ...       ...   \n",
       "18           no    male           5  not_member  11.36   29     White   \n",
       "12           no  female          33  not_member   6.10   51     Other   \n",
       "17           no  female          25      member  23.25   48     Other   \n",
       "12          yes    male          13      member  19.88   31     White   \n",
       "16           no    male          33  not_member  15.38   55     White   \n",
       "\n",
       "             OCCUPATION         SECTOR       MARR  \n",
       "EDUCATION                                          \n",
       "8                 Other  Manufacturing    Married  \n",
       "9                 Other  Manufacturing    Married  \n",
       "12                Other  Manufacturing  Unmarried  \n",
       "12                Other          Other  Unmarried  \n",
       "12                Other          Other    Married  \n",
       "...                 ...            ...        ...  \n",
       "18         Professional          Other  Unmarried  \n",
       "12         Professional          Other    Married  \n",
       "17         Professional          Other    Married  \n",
       "12         Professional          Other    Married  \n",
       "16         Professional  Manufacturing    Married  \n",
       "\n",
       "[534 rows x 10 columns]>"
      ]
     },
     "execution_count": 14,
     "metadata": {},
     "output_type": "execute_result"
    }
   ],
   "source": [
    "df.head"
   ]
  },
  {
   "cell_type": "code",
   "execution_count": 27,
   "metadata": {},
   "outputs": [
    {
     "data": {
      "text/plain": [
       "<AxesSubplot: xlabel='AGE', ylabel='EXPERIENCE'>"
      ]
     },
     "execution_count": 27,
     "metadata": {},
     "output_type": "execute_result"
    },
    {
     "data": {
      "image/png": "[encoded data removed]",
      "text/plain": [
       "<Figure size 720x504 with 2 Axes>"
      ]
     },
     "metadata": {
      "needs_background": "light"
     },
     "output_type": "display_data"
    }
   ],
   "source": [
    "df.plot(kind='scatter',x='AGE',y='EXPERIENCE',alpha=0.5,c='EXPERIENCE',cmap='viridis',figsize=(10,7), marker='s',s='WAGE',edgecolor='black')"
   ]
  }
 ],
 "metadata": {
  "kernelspec": {
   "display_name": "Python 3.9.12 ('base')",
   "language": "python",
   "name": "python3"
  },
  "language_info": {
   "codemirror_mode": {
    "name": "ipython",
    "version": 3
   },
   "file_extension": ".py",
   "mimetype": "text/x-python",
   "name": "python",
   "nbconvert_exporter": "python",
   "pygments_lexer": "ipython3",
   "version": "3.9.12"
  },
  "orig_nbformat": 4,
  "vscode": {
   "interpreter": {
    "hash": "400a42e877dffd63a2b2062fec838b4d7a945e3d35a74ea6618f4848047bb039"
   }
  }
 },
 "nbformat": 4,
 "nbformat_minor": 2
}
