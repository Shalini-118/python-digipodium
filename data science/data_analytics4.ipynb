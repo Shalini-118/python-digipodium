{
 "cells": [
  {
   "cell_type": "code",
   "execution_count": 21,
   "metadata": {},
   "outputs": [],
   "source": [
    "import pandas as pd\n",
    "import numpy as np\n",
    "import matplotlib.pyplot as plt"
   ]
  },
  {
   "cell_type": "markdown",
   "metadata": {},
   "source": [
    "# load the data"
   ]
  },
  {
   "cell_type": "code",
   "execution_count": 22,
   "metadata": {},
   "outputs": [
    {
     "data": {
      "text/html": [
       "<div>\n",
       "<style scoped>\n",
       "    .dataframe tbody tr th:only-of-type {\n",
       "        vertical-align: middle;\n",
       "    }\n",
       "\n",
       "    .dataframe tbody tr th {\n",
       "        vertical-align: top;\n",
       "    }\n",
       "\n",
       "    .dataframe thead th {\n",
       "        text-align: right;\n",
       "    }\n",
       "</style>\n",
       "<table border=\"1\" class=\"dataframe\">\n",
       "  <thead>\n",
       "    <tr style=\"text-align: right;\">\n",
       "      <th></th>\n",
       "      <th>Type</th>\n",
       "      <th>Coverage</th>\n",
       "      <th>OdName</th>\n",
       "      <th>AREA</th>\n",
       "      <th>AreaName</th>\n",
       "      <th>REG</th>\n",
       "      <th>RegName</th>\n",
       "      <th>DEV</th>\n",
       "      <th>DevName</th>\n",
       "      <th>1980</th>\n",
       "      <th>...</th>\n",
       "      <th>2004</th>\n",
       "      <th>2005</th>\n",
       "      <th>2006</th>\n",
       "      <th>2007</th>\n",
       "      <th>2008</th>\n",
       "      <th>2009</th>\n",
       "      <th>2010</th>\n",
       "      <th>2011</th>\n",
       "      <th>2012</th>\n",
       "      <th>2013</th>\n",
       "    </tr>\n",
       "  </thead>\n",
       "  <tbody>\n",
       "    <tr>\n",
       "      <th>0</th>\n",
       "      <td>Immigrants</td>\n",
       "      <td>Foreigners</td>\n",
       "      <td>Afghanistan</td>\n",
       "      <td>935</td>\n",
       "      <td>Asia</td>\n",
       "      <td>5501</td>\n",
       "      <td>Southern Asia</td>\n",
       "      <td>902</td>\n",
       "      <td>Developing regions</td>\n",
       "      <td>16</td>\n",
       "      <td>...</td>\n",
       "      <td>2978</td>\n",
       "      <td>3436</td>\n",
       "      <td>3009</td>\n",
       "      <td>2652</td>\n",
       "      <td>2111</td>\n",
       "      <td>1746</td>\n",
       "      <td>1758</td>\n",
       "      <td>2203</td>\n",
       "      <td>2635</td>\n",
       "      <td>2004</td>\n",
       "    </tr>\n",
       "    <tr>\n",
       "      <th>1</th>\n",
       "      <td>Immigrants</td>\n",
       "      <td>Foreigners</td>\n",
       "      <td>Albania</td>\n",
       "      <td>908</td>\n",
       "      <td>Europe</td>\n",
       "      <td>925</td>\n",
       "      <td>Southern Europe</td>\n",
       "      <td>901</td>\n",
       "      <td>Developed regions</td>\n",
       "      <td>1</td>\n",
       "      <td>...</td>\n",
       "      <td>1450</td>\n",
       "      <td>1223</td>\n",
       "      <td>856</td>\n",
       "      <td>702</td>\n",
       "      <td>560</td>\n",
       "      <td>716</td>\n",
       "      <td>561</td>\n",
       "      <td>539</td>\n",
       "      <td>620</td>\n",
       "      <td>603</td>\n",
       "    </tr>\n",
       "    <tr>\n",
       "      <th>2</th>\n",
       "      <td>Immigrants</td>\n",
       "      <td>Foreigners</td>\n",
       "      <td>Algeria</td>\n",
       "      <td>903</td>\n",
       "      <td>Africa</td>\n",
       "      <td>912</td>\n",
       "      <td>Northern Africa</td>\n",
       "      <td>902</td>\n",
       "      <td>Developing regions</td>\n",
       "      <td>80</td>\n",
       "      <td>...</td>\n",
       "      <td>3616</td>\n",
       "      <td>3626</td>\n",
       "      <td>4807</td>\n",
       "      <td>3623</td>\n",
       "      <td>4005</td>\n",
       "      <td>5393</td>\n",
       "      <td>4752</td>\n",
       "      <td>4325</td>\n",
       "      <td>3774</td>\n",
       "      <td>4331</td>\n",
       "    </tr>\n",
       "    <tr>\n",
       "      <th>3</th>\n",
       "      <td>Immigrants</td>\n",
       "      <td>Foreigners</td>\n",
       "      <td>American Samoa</td>\n",
       "      <td>909</td>\n",
       "      <td>Oceania</td>\n",
       "      <td>957</td>\n",
       "      <td>Polynesia</td>\n",
       "      <td>902</td>\n",
       "      <td>Developing regions</td>\n",
       "      <td>0</td>\n",
       "      <td>...</td>\n",
       "      <td>0</td>\n",
       "      <td>0</td>\n",
       "      <td>1</td>\n",
       "      <td>0</td>\n",
       "      <td>0</td>\n",
       "      <td>0</td>\n",
       "      <td>0</td>\n",
       "      <td>0</td>\n",
       "      <td>0</td>\n",
       "      <td>0</td>\n",
       "    </tr>\n",
       "    <tr>\n",
       "      <th>4</th>\n",
       "      <td>Immigrants</td>\n",
       "      <td>Foreigners</td>\n",
       "      <td>Andorra</td>\n",
       "      <td>908</td>\n",
       "      <td>Europe</td>\n",
       "      <td>925</td>\n",
       "      <td>Southern Europe</td>\n",
       "      <td>901</td>\n",
       "      <td>Developed regions</td>\n",
       "      <td>0</td>\n",
       "      <td>...</td>\n",
       "      <td>0</td>\n",
       "      <td>0</td>\n",
       "      <td>1</td>\n",
       "      <td>1</td>\n",
       "      <td>0</td>\n",
       "      <td>0</td>\n",
       "      <td>0</td>\n",
       "      <td>0</td>\n",
       "      <td>1</td>\n",
       "      <td>1</td>\n",
       "    </tr>\n",
       "  </tbody>\n",
       "</table>\n",
       "<p>5 rows × 43 columns</p>\n",
       "</div>"
      ],
      "text/plain": [
       "         Type    Coverage          OdName  AREA AreaName   REG  \\\n",
       "0  Immigrants  Foreigners     Afghanistan   935     Asia  5501   \n",
       "1  Immigrants  Foreigners         Albania   908   Europe   925   \n",
       "2  Immigrants  Foreigners         Algeria   903   Africa   912   \n",
       "3  Immigrants  Foreigners  American Samoa   909  Oceania   957   \n",
       "4  Immigrants  Foreigners         Andorra   908   Europe   925   \n",
       "\n",
       "           RegName  DEV             DevName  1980  ...  2004  2005  2006  \\\n",
       "0    Southern Asia  902  Developing regions    16  ...  2978  3436  3009   \n",
       "1  Southern Europe  901   Developed regions     1  ...  1450  1223   856   \n",
       "2  Northern Africa  902  Developing regions    80  ...  3616  3626  4807   \n",
       "3        Polynesia  902  Developing regions     0  ...     0     0     1   \n",
       "4  Southern Europe  901   Developed regions     0  ...     0     0     1   \n",
       "\n",
       "   2007  2008  2009  2010  2011  2012  2013  \n",
       "0  2652  2111  1746  1758  2203  2635  2004  \n",
       "1   702   560   716   561   539   620   603  \n",
       "2  3623  4005  5393  4752  4325  3774  4331  \n",
       "3     0     0     0     0     0     0     0  \n",
       "4     1     0     0     0     0     1     1  \n",
       "\n",
       "[5 rows x 43 columns]"
      ]
     },
     "execution_count": 22,
     "metadata": {},
     "output_type": "execute_result"
    }
   ],
   "source": [
    "df=pd.read_excel('Canada.xlsx', sheet_name='Canada by Citizenship',skiprows=20,skipfooter=2)\n",
    "df.head()"
   ]
  },
  {
   "cell_type": "markdown",
   "metadata": {},
   "source": [
    "# Preprocessing of data according to need"
   ]
  },
  {
   "cell_type": "code",
   "execution_count": 23,
   "metadata": {},
   "outputs": [
    {
     "name": "stdout",
     "output_type": "stream",
     "text": [
      "['Type', 'Coverage', 'OdName', 'AREA', 'AreaName', 'REG', 'RegName', 'DEV', 'DevName', 1980, 1981, 1982, 1983, 1984, 1985, 1986, 1987, 1988, 1989, 1990, 1991, 1992, 1993, 1994, 1995, 1996, 1997, 1998, 1999, 2000, 2001, 2002, 2003, 2004, 2005, 2006, 2007, 2008, 2009, 2010, 2011, 2012, 2013]\n"
     ]
    }
   ],
   "source": [
    "print(df.columns.tolist())"
   ]
  },
  {
   "cell_type": "code",
   "execution_count": 24,
   "metadata": {},
   "outputs": [],
   "source": [
    "df.rename({\n",
    "    'OdName':'country',\n",
    "    'AreaName':'continent',\n",
    "    'RegName':'region',\n",
    "    'DevName':'country_status'\n",
    "},axis=1,inplace=True)"
   ]
  },
  {
   "cell_type": "markdown",
   "metadata": {},
   "source": [
    "- check the count of values in a categorical cols and drop if count is 1"
   ]
  },
  {
   "cell_type": "code",
   "execution_count": 25,
   "metadata": {},
   "outputs": [
    {
     "data": {
      "text/plain": [
       "Immigrants    195\n",
       "Name: Type, dtype: int64"
      ]
     },
     "execution_count": 25,
     "metadata": {},
     "output_type": "execute_result"
    }
   ],
   "source": [
    "df['Type'].value_counts()# count the no. of each unique value in the columns"
   ]
  },
  {
   "cell_type": "markdown",
   "metadata": {},
   "source": [
    "- drops the cols which are not required "
   ]
  },
  {
   "cell_type": "code",
   "execution_count": 26,
   "metadata": {},
   "outputs": [],
   "source": [
    "cols_to_drop=['Type','Coverage','AREA','REG','DEV']\n",
    "df.drop(columns=cols_to_drop,inplace=True)# cols with no useful data are dropped "
   ]
  },
  {
   "cell_type": "markdown",
   "metadata": {},
   "source": [
    "- setting the indx into country name"
   ]
  },
  {
   "cell_type": "code",
   "execution_count": 27,
   "metadata": {},
   "outputs": [],
   "source": [
    "df.set_index('country',inplace=True)"
   ]
  },
  {
   "cell_type": "markdown",
   "metadata": {},
   "source": [
    "- adding the total cols which is the sum of all the years for a particular country"
   ]
  },
  {
   "cell_type": "code",
   "execution_count": 28,
   "metadata": {},
   "outputs": [
    {
     "data": {
      "text/html": [
       "<div>\n",
       "<style scoped>\n",
       "    .dataframe tbody tr th:only-of-type {\n",
       "        vertical-align: middle;\n",
       "    }\n",
       "\n",
       "    .dataframe tbody tr th {\n",
       "        vertical-align: top;\n",
       "    }\n",
       "\n",
       "    .dataframe thead th {\n",
       "        text-align: right;\n",
       "    }\n",
       "</style>\n",
       "<table border=\"1\" class=\"dataframe\">\n",
       "  <thead>\n",
       "    <tr style=\"text-align: right;\">\n",
       "      <th></th>\n",
       "      <th>continent</th>\n",
       "      <th>region</th>\n",
       "      <th>country_status</th>\n",
       "      <th>1980</th>\n",
       "      <th>1981</th>\n",
       "      <th>1982</th>\n",
       "      <th>1983</th>\n",
       "      <th>1984</th>\n",
       "      <th>1985</th>\n",
       "      <th>1986</th>\n",
       "      <th>...</th>\n",
       "      <th>2005</th>\n",
       "      <th>2006</th>\n",
       "      <th>2007</th>\n",
       "      <th>2008</th>\n",
       "      <th>2009</th>\n",
       "      <th>2010</th>\n",
       "      <th>2011</th>\n",
       "      <th>2012</th>\n",
       "      <th>2013</th>\n",
       "      <th>total</th>\n",
       "    </tr>\n",
       "    <tr>\n",
       "      <th>country</th>\n",
       "      <th></th>\n",
       "      <th></th>\n",
       "      <th></th>\n",
       "      <th></th>\n",
       "      <th></th>\n",
       "      <th></th>\n",
       "      <th></th>\n",
       "      <th></th>\n",
       "      <th></th>\n",
       "      <th></th>\n",
       "      <th></th>\n",
       "      <th></th>\n",
       "      <th></th>\n",
       "      <th></th>\n",
       "      <th></th>\n",
       "      <th></th>\n",
       "      <th></th>\n",
       "      <th></th>\n",
       "      <th></th>\n",
       "      <th></th>\n",
       "      <th></th>\n",
       "    </tr>\n",
       "  </thead>\n",
       "  <tbody>\n",
       "    <tr>\n",
       "      <th>Afghanistan</th>\n",
       "      <td>Asia</td>\n",
       "      <td>Southern Asia</td>\n",
       "      <td>Developing regions</td>\n",
       "      <td>16</td>\n",
       "      <td>39</td>\n",
       "      <td>39</td>\n",
       "      <td>47</td>\n",
       "      <td>71</td>\n",
       "      <td>340</td>\n",
       "      <td>496</td>\n",
       "      <td>...</td>\n",
       "      <td>3436</td>\n",
       "      <td>3009</td>\n",
       "      <td>2652</td>\n",
       "      <td>2111</td>\n",
       "      <td>1746</td>\n",
       "      <td>1758</td>\n",
       "      <td>2203</td>\n",
       "      <td>2635</td>\n",
       "      <td>2004</td>\n",
       "      <td>58639</td>\n",
       "    </tr>\n",
       "    <tr>\n",
       "      <th>Albania</th>\n",
       "      <td>Europe</td>\n",
       "      <td>Southern Europe</td>\n",
       "      <td>Developed regions</td>\n",
       "      <td>1</td>\n",
       "      <td>0</td>\n",
       "      <td>0</td>\n",
       "      <td>0</td>\n",
       "      <td>0</td>\n",
       "      <td>0</td>\n",
       "      <td>1</td>\n",
       "      <td>...</td>\n",
       "      <td>1223</td>\n",
       "      <td>856</td>\n",
       "      <td>702</td>\n",
       "      <td>560</td>\n",
       "      <td>716</td>\n",
       "      <td>561</td>\n",
       "      <td>539</td>\n",
       "      <td>620</td>\n",
       "      <td>603</td>\n",
       "      <td>15699</td>\n",
       "    </tr>\n",
       "    <tr>\n",
       "      <th>Algeria</th>\n",
       "      <td>Africa</td>\n",
       "      <td>Northern Africa</td>\n",
       "      <td>Developing regions</td>\n",
       "      <td>80</td>\n",
       "      <td>67</td>\n",
       "      <td>71</td>\n",
       "      <td>69</td>\n",
       "      <td>63</td>\n",
       "      <td>44</td>\n",
       "      <td>69</td>\n",
       "      <td>...</td>\n",
       "      <td>3626</td>\n",
       "      <td>4807</td>\n",
       "      <td>3623</td>\n",
       "      <td>4005</td>\n",
       "      <td>5393</td>\n",
       "      <td>4752</td>\n",
       "      <td>4325</td>\n",
       "      <td>3774</td>\n",
       "      <td>4331</td>\n",
       "      <td>69439</td>\n",
       "    </tr>\n",
       "  </tbody>\n",
       "</table>\n",
       "<p>3 rows × 38 columns</p>\n",
       "</div>"
      ],
      "text/plain": [
       "            continent           region      country_status  1980  1981  1982  \\\n",
       "country                                                                        \n",
       "Afghanistan      Asia    Southern Asia  Developing regions    16    39    39   \n",
       "Albania        Europe  Southern Europe   Developed regions     1     0     0   \n",
       "Algeria        Africa  Northern Africa  Developing regions    80    67    71   \n",
       "\n",
       "             1983  1984  1985  1986  ...  2005  2006  2007  2008  2009  2010  \\\n",
       "country                              ...                                       \n",
       "Afghanistan    47    71   340   496  ...  3436  3009  2652  2111  1746  1758   \n",
       "Albania         0     0     0     1  ...  1223   856   702   560   716   561   \n",
       "Algeria        69    63    44    69  ...  3626  4807  3623  4005  5393  4752   \n",
       "\n",
       "             2011  2012  2013  total  \n",
       "country                               \n",
       "Afghanistan  2203  2635  2004  58639  \n",
       "Albania       539   620   603  15699  \n",
       "Algeria      4325  3774  4331  69439  \n",
       "\n",
       "[3 rows x 38 columns]"
      ]
     },
     "execution_count": 28,
     "metadata": {},
     "output_type": "execute_result"
    }
   ],
   "source": [
    "years=list(range(1980,2014))\n",
    "df['total']=df[years].sum(axis=1)\n",
    "df.head(3)"
   ]
  },
  {
   "cell_type": "markdown",
   "metadata": {},
   "source": [
    "- making the country status to binary"
   ]
  },
  {
   "cell_type": "code",
   "execution_count": 29,
   "metadata": {},
   "outputs": [],
   "source": [
    "def binarize(val):\n",
    "    if val =='Devloping regions':\n",
    "        return 0\n",
    "    else:\n",
    "        return 1\n",
    "df['country_status']=df['country_status'].apply(binarize)            "
   ]
  },
  {
   "cell_type": "code",
   "execution_count": 30,
   "metadata": {},
   "outputs": [
    {
     "data": {
      "text/html": [
       "<div>\n",
       "<style scoped>\n",
       "    .dataframe tbody tr th:only-of-type {\n",
       "        vertical-align: middle;\n",
       "    }\n",
       "\n",
       "    .dataframe tbody tr th {\n",
       "        vertical-align: top;\n",
       "    }\n",
       "\n",
       "    .dataframe thead th {\n",
       "        text-align: right;\n",
       "    }\n",
       "</style>\n",
       "<table border=\"1\" class=\"dataframe\">\n",
       "  <thead>\n",
       "    <tr style=\"text-align: right;\">\n",
       "      <th></th>\n",
       "      <th>continent</th>\n",
       "      <th>region</th>\n",
       "      <th>country_status</th>\n",
       "      <th>1980</th>\n",
       "      <th>1981</th>\n",
       "      <th>1982</th>\n",
       "      <th>1983</th>\n",
       "      <th>1984</th>\n",
       "      <th>1985</th>\n",
       "      <th>1986</th>\n",
       "      <th>...</th>\n",
       "      <th>2005</th>\n",
       "      <th>2006</th>\n",
       "      <th>2007</th>\n",
       "      <th>2008</th>\n",
       "      <th>2009</th>\n",
       "      <th>2010</th>\n",
       "      <th>2011</th>\n",
       "      <th>2012</th>\n",
       "      <th>2013</th>\n",
       "      <th>total</th>\n",
       "    </tr>\n",
       "    <tr>\n",
       "      <th>country</th>\n",
       "      <th></th>\n",
       "      <th></th>\n",
       "      <th></th>\n",
       "      <th></th>\n",
       "      <th></th>\n",
       "      <th></th>\n",
       "      <th></th>\n",
       "      <th></th>\n",
       "      <th></th>\n",
       "      <th></th>\n",
       "      <th></th>\n",
       "      <th></th>\n",
       "      <th></th>\n",
       "      <th></th>\n",
       "      <th></th>\n",
       "      <th></th>\n",
       "      <th></th>\n",
       "      <th></th>\n",
       "      <th></th>\n",
       "      <th></th>\n",
       "      <th></th>\n",
       "    </tr>\n",
       "  </thead>\n",
       "  <tbody>\n",
       "    <tr>\n",
       "      <th>Afghanistan</th>\n",
       "      <td>Asia</td>\n",
       "      <td>Southern Asia</td>\n",
       "      <td>1</td>\n",
       "      <td>16</td>\n",
       "      <td>39</td>\n",
       "      <td>39</td>\n",
       "      <td>47</td>\n",
       "      <td>71</td>\n",
       "      <td>340</td>\n",
       "      <td>496</td>\n",
       "      <td>...</td>\n",
       "      <td>3436</td>\n",
       "      <td>3009</td>\n",
       "      <td>2652</td>\n",
       "      <td>2111</td>\n",
       "      <td>1746</td>\n",
       "      <td>1758</td>\n",
       "      <td>2203</td>\n",
       "      <td>2635</td>\n",
       "      <td>2004</td>\n",
       "      <td>58639</td>\n",
       "    </tr>\n",
       "    <tr>\n",
       "      <th>Albania</th>\n",
       "      <td>Europe</td>\n",
       "      <td>Southern Europe</td>\n",
       "      <td>1</td>\n",
       "      <td>1</td>\n",
       "      <td>0</td>\n",
       "      <td>0</td>\n",
       "      <td>0</td>\n",
       "      <td>0</td>\n",
       "      <td>0</td>\n",
       "      <td>1</td>\n",
       "      <td>...</td>\n",
       "      <td>1223</td>\n",
       "      <td>856</td>\n",
       "      <td>702</td>\n",
       "      <td>560</td>\n",
       "      <td>716</td>\n",
       "      <td>561</td>\n",
       "      <td>539</td>\n",
       "      <td>620</td>\n",
       "      <td>603</td>\n",
       "      <td>15699</td>\n",
       "    </tr>\n",
       "    <tr>\n",
       "      <th>Algeria</th>\n",
       "      <td>Africa</td>\n",
       "      <td>Northern Africa</td>\n",
       "      <td>1</td>\n",
       "      <td>80</td>\n",
       "      <td>67</td>\n",
       "      <td>71</td>\n",
       "      <td>69</td>\n",
       "      <td>63</td>\n",
       "      <td>44</td>\n",
       "      <td>69</td>\n",
       "      <td>...</td>\n",
       "      <td>3626</td>\n",
       "      <td>4807</td>\n",
       "      <td>3623</td>\n",
       "      <td>4005</td>\n",
       "      <td>5393</td>\n",
       "      <td>4752</td>\n",
       "      <td>4325</td>\n",
       "      <td>3774</td>\n",
       "      <td>4331</td>\n",
       "      <td>69439</td>\n",
       "    </tr>\n",
       "    <tr>\n",
       "      <th>American Samoa</th>\n",
       "      <td>Oceania</td>\n",
       "      <td>Polynesia</td>\n",
       "      <td>1</td>\n",
       "      <td>0</td>\n",
       "      <td>1</td>\n",
       "      <td>0</td>\n",
       "      <td>0</td>\n",
       "      <td>0</td>\n",
       "      <td>0</td>\n",
       "      <td>0</td>\n",
       "      <td>...</td>\n",
       "      <td>0</td>\n",
       "      <td>1</td>\n",
       "      <td>0</td>\n",
       "      <td>0</td>\n",
       "      <td>0</td>\n",
       "      <td>0</td>\n",
       "      <td>0</td>\n",
       "      <td>0</td>\n",
       "      <td>0</td>\n",
       "      <td>6</td>\n",
       "    </tr>\n",
       "    <tr>\n",
       "      <th>Andorra</th>\n",
       "      <td>Europe</td>\n",
       "      <td>Southern Europe</td>\n",
       "      <td>1</td>\n",
       "      <td>0</td>\n",
       "      <td>0</td>\n",
       "      <td>0</td>\n",
       "      <td>0</td>\n",
       "      <td>0</td>\n",
       "      <td>0</td>\n",
       "      <td>2</td>\n",
       "      <td>...</td>\n",
       "      <td>0</td>\n",
       "      <td>1</td>\n",
       "      <td>1</td>\n",
       "      <td>0</td>\n",
       "      <td>0</td>\n",
       "      <td>0</td>\n",
       "      <td>0</td>\n",
       "      <td>1</td>\n",
       "      <td>1</td>\n",
       "      <td>15</td>\n",
       "    </tr>\n",
       "  </tbody>\n",
       "</table>\n",
       "<p>5 rows × 38 columns</p>\n",
       "</div>"
      ],
      "text/plain": [
       "               continent           region  country_status  1980  1981  1982  \\\n",
       "country                                                                       \n",
       "Afghanistan         Asia    Southern Asia               1    16    39    39   \n",
       "Albania           Europe  Southern Europe               1     1     0     0   \n",
       "Algeria           Africa  Northern Africa               1    80    67    71   \n",
       "American Samoa   Oceania        Polynesia               1     0     1     0   \n",
       "Andorra           Europe  Southern Europe               1     0     0     0   \n",
       "\n",
       "                1983  1984  1985  1986  ...  2005  2006  2007  2008  2009  \\\n",
       "country                                 ...                                 \n",
       "Afghanistan       47    71   340   496  ...  3436  3009  2652  2111  1746   \n",
       "Albania            0     0     0     1  ...  1223   856   702   560   716   \n",
       "Algeria           69    63    44    69  ...  3626  4807  3623  4005  5393   \n",
       "American Samoa     0     0     0     0  ...     0     1     0     0     0   \n",
       "Andorra            0     0     0     2  ...     0     1     1     0     0   \n",
       "\n",
       "                2010  2011  2012  2013  total  \n",
       "country                                        \n",
       "Afghanistan     1758  2203  2635  2004  58639  \n",
       "Albania          561   539   620   603  15699  \n",
       "Algeria         4752  4325  3774  4331  69439  \n",
       "American Samoa     0     0     0     0      6  \n",
       "Andorra            0     0     1     1     15  \n",
       "\n",
       "[5 rows x 38 columns]"
      ]
     },
     "execution_count": 30,
     "metadata": {},
     "output_type": "execute_result"
    }
   ],
   "source": [
    "df.head()"
   ]
  },
  {
   "cell_type": "code",
   "execution_count": 31,
   "metadata": {},
   "outputs": [
    {
     "data": {
      "text/html": [
       "<div>\n",
       "<style scoped>\n",
       "    .dataframe tbody tr th:only-of-type {\n",
       "        vertical-align: middle;\n",
       "    }\n",
       "\n",
       "    .dataframe tbody tr th {\n",
       "        vertical-align: top;\n",
       "    }\n",
       "\n",
       "    .dataframe thead th {\n",
       "        text-align: right;\n",
       "    }\n",
       "</style>\n",
       "<table border=\"1\" class=\"dataframe\">\n",
       "  <thead>\n",
       "    <tr style=\"text-align: right;\">\n",
       "      <th></th>\n",
       "      <th>continent</th>\n",
       "      <th>region</th>\n",
       "      <th>country_status</th>\n",
       "      <th>1980</th>\n",
       "      <th>1981</th>\n",
       "      <th>1982</th>\n",
       "      <th>1983</th>\n",
       "      <th>1984</th>\n",
       "      <th>1985</th>\n",
       "      <th>1986</th>\n",
       "      <th>...</th>\n",
       "      <th>2005</th>\n",
       "      <th>2006</th>\n",
       "      <th>2007</th>\n",
       "      <th>2008</th>\n",
       "      <th>2009</th>\n",
       "      <th>2010</th>\n",
       "      <th>2011</th>\n",
       "      <th>2012</th>\n",
       "      <th>2013</th>\n",
       "      <th>total</th>\n",
       "    </tr>\n",
       "    <tr>\n",
       "      <th>country</th>\n",
       "      <th></th>\n",
       "      <th></th>\n",
       "      <th></th>\n",
       "      <th></th>\n",
       "      <th></th>\n",
       "      <th></th>\n",
       "      <th></th>\n",
       "      <th></th>\n",
       "      <th></th>\n",
       "      <th></th>\n",
       "      <th></th>\n",
       "      <th></th>\n",
       "      <th></th>\n",
       "      <th></th>\n",
       "      <th></th>\n",
       "      <th></th>\n",
       "      <th></th>\n",
       "      <th></th>\n",
       "      <th></th>\n",
       "      <th></th>\n",
       "      <th></th>\n",
       "    </tr>\n",
       "  </thead>\n",
       "  <tbody>\n",
       "    <tr>\n",
       "      <th>India</th>\n",
       "      <td>Asia</td>\n",
       "      <td>Southern Asia</td>\n",
       "      <td>1</td>\n",
       "      <td>8880</td>\n",
       "      <td>8670</td>\n",
       "      <td>8147</td>\n",
       "      <td>7338</td>\n",
       "      <td>5704</td>\n",
       "      <td>4211</td>\n",
       "      <td>7150</td>\n",
       "      <td>...</td>\n",
       "      <td>36210</td>\n",
       "      <td>33848</td>\n",
       "      <td>28742</td>\n",
       "      <td>28261</td>\n",
       "      <td>29456</td>\n",
       "      <td>34235</td>\n",
       "      <td>27509</td>\n",
       "      <td>30933</td>\n",
       "      <td>33087</td>\n",
       "      <td>691904</td>\n",
       "    </tr>\n",
       "    <tr>\n",
       "      <th>China</th>\n",
       "      <td>Asia</td>\n",
       "      <td>Eastern Asia</td>\n",
       "      <td>1</td>\n",
       "      <td>5123</td>\n",
       "      <td>6682</td>\n",
       "      <td>3308</td>\n",
       "      <td>1863</td>\n",
       "      <td>1527</td>\n",
       "      <td>1816</td>\n",
       "      <td>1960</td>\n",
       "      <td>...</td>\n",
       "      <td>42584</td>\n",
       "      <td>33518</td>\n",
       "      <td>27642</td>\n",
       "      <td>30037</td>\n",
       "      <td>29622</td>\n",
       "      <td>30391</td>\n",
       "      <td>28502</td>\n",
       "      <td>33024</td>\n",
       "      <td>34129</td>\n",
       "      <td>659962</td>\n",
       "    </tr>\n",
       "    <tr>\n",
       "      <th>United Kingdom of Great Britain and Northern Ireland</th>\n",
       "      <td>Europe</td>\n",
       "      <td>Northern Europe</td>\n",
       "      <td>1</td>\n",
       "      <td>22045</td>\n",
       "      <td>24796</td>\n",
       "      <td>20620</td>\n",
       "      <td>10015</td>\n",
       "      <td>10170</td>\n",
       "      <td>9564</td>\n",
       "      <td>9470</td>\n",
       "      <td>...</td>\n",
       "      <td>7258</td>\n",
       "      <td>7140</td>\n",
       "      <td>8216</td>\n",
       "      <td>8979</td>\n",
       "      <td>8876</td>\n",
       "      <td>8724</td>\n",
       "      <td>6204</td>\n",
       "      <td>6195</td>\n",
       "      <td>5827</td>\n",
       "      <td>551500</td>\n",
       "    </tr>\n",
       "    <tr>\n",
       "      <th>Philippines</th>\n",
       "      <td>Asia</td>\n",
       "      <td>South-Eastern Asia</td>\n",
       "      <td>1</td>\n",
       "      <td>6051</td>\n",
       "      <td>5921</td>\n",
       "      <td>5249</td>\n",
       "      <td>4562</td>\n",
       "      <td>3801</td>\n",
       "      <td>3150</td>\n",
       "      <td>4166</td>\n",
       "      <td>...</td>\n",
       "      <td>18139</td>\n",
       "      <td>18400</td>\n",
       "      <td>19837</td>\n",
       "      <td>24887</td>\n",
       "      <td>28573</td>\n",
       "      <td>38617</td>\n",
       "      <td>36765</td>\n",
       "      <td>34315</td>\n",
       "      <td>29544</td>\n",
       "      <td>511391</td>\n",
       "    </tr>\n",
       "    <tr>\n",
       "      <th>Pakistan</th>\n",
       "      <td>Asia</td>\n",
       "      <td>Southern Asia</td>\n",
       "      <td>1</td>\n",
       "      <td>978</td>\n",
       "      <td>972</td>\n",
       "      <td>1201</td>\n",
       "      <td>900</td>\n",
       "      <td>668</td>\n",
       "      <td>514</td>\n",
       "      <td>691</td>\n",
       "      <td>...</td>\n",
       "      <td>14314</td>\n",
       "      <td>13127</td>\n",
       "      <td>10124</td>\n",
       "      <td>8994</td>\n",
       "      <td>7217</td>\n",
       "      <td>6811</td>\n",
       "      <td>7468</td>\n",
       "      <td>11227</td>\n",
       "      <td>12603</td>\n",
       "      <td>241600</td>\n",
       "    </tr>\n",
       "  </tbody>\n",
       "</table>\n",
       "<p>5 rows × 38 columns</p>\n",
       "</div>"
      ],
      "text/plain": [
       "                                                   continent  \\\n",
       "country                                                        \n",
       "India                                                   Asia   \n",
       "China                                                   Asia   \n",
       "United Kingdom of Great Britain and Northern Ir...    Europe   \n",
       "Philippines                                             Asia   \n",
       "Pakistan                                                Asia   \n",
       "\n",
       "                                                                region  \\\n",
       "country                                                                  \n",
       "India                                                    Southern Asia   \n",
       "China                                                     Eastern Asia   \n",
       "United Kingdom of Great Britain and Northern Ir...     Northern Europe   \n",
       "Philippines                                         South-Eastern Asia   \n",
       "Pakistan                                                 Southern Asia   \n",
       "\n",
       "                                                    country_status   1980  \\\n",
       "country                                                                     \n",
       "India                                                            1   8880   \n",
       "China                                                            1   5123   \n",
       "United Kingdom of Great Britain and Northern Ir...               1  22045   \n",
       "Philippines                                                      1   6051   \n",
       "Pakistan                                                         1    978   \n",
       "\n",
       "                                                     1981   1982   1983  \\\n",
       "country                                                                   \n",
       "India                                                8670   8147   7338   \n",
       "China                                                6682   3308   1863   \n",
       "United Kingdom of Great Britain and Northern Ir...  24796  20620  10015   \n",
       "Philippines                                          5921   5249   4562   \n",
       "Pakistan                                              972   1201    900   \n",
       "\n",
       "                                                     1984  1985  1986  ...  \\\n",
       "country                                                                ...   \n",
       "India                                                5704  4211  7150  ...   \n",
       "China                                                1527  1816  1960  ...   \n",
       "United Kingdom of Great Britain and Northern Ir...  10170  9564  9470  ...   \n",
       "Philippines                                          3801  3150  4166  ...   \n",
       "Pakistan                                              668   514   691  ...   \n",
       "\n",
       "                                                     2005   2006   2007  \\\n",
       "country                                                                   \n",
       "India                                               36210  33848  28742   \n",
       "China                                               42584  33518  27642   \n",
       "United Kingdom of Great Britain and Northern Ir...   7258   7140   8216   \n",
       "Philippines                                         18139  18400  19837   \n",
       "Pakistan                                            14314  13127  10124   \n",
       "\n",
       "                                                     2008   2009   2010  \\\n",
       "country                                                                   \n",
       "India                                               28261  29456  34235   \n",
       "China                                               30037  29622  30391   \n",
       "United Kingdom of Great Britain and Northern Ir...   8979   8876   8724   \n",
       "Philippines                                         24887  28573  38617   \n",
       "Pakistan                                             8994   7217   6811   \n",
       "\n",
       "                                                     2011   2012   2013  \\\n",
       "country                                                                   \n",
       "India                                               27509  30933  33087   \n",
       "China                                               28502  33024  34129   \n",
       "United Kingdom of Great Britain and Northern Ir...   6204   6195   5827   \n",
       "Philippines                                         36765  34315  29544   \n",
       "Pakistan                                             7468  11227  12603   \n",
       "\n",
       "                                                     total  \n",
       "country                                                     \n",
       "India                                               691904  \n",
       "China                                               659962  \n",
       "United Kingdom of Great Britain and Northern Ir...  551500  \n",
       "Philippines                                         511391  \n",
       "Pakistan                                            241600  \n",
       "\n",
       "[5 rows x 38 columns]"
      ]
     },
     "execution_count": 31,
     "metadata": {},
     "output_type": "execute_result"
    }
   ],
   "source": [
    "df.sort_values(by='total',ascending=False,inplace=True)\n",
    "df.head()"
   ]
  },
  {
   "cell_type": "code",
   "execution_count": 32,
   "metadata": {},
   "outputs": [],
   "source": [
    "pd.set_option('display.max_rows',None)"
   ]
  },
  {
   "cell_type": "code",
   "execution_count": 33,
   "metadata": {},
   "outputs": [
    {
     "data": {
      "text/html": [
       "<div>\n",
       "<style scoped>\n",
       "    .dataframe tbody tr th:only-of-type {\n",
       "        vertical-align: middle;\n",
       "    }\n",
       "\n",
       "    .dataframe tbody tr th {\n",
       "        vertical-align: top;\n",
       "    }\n",
       "\n",
       "    .dataframe thead th {\n",
       "        text-align: right;\n",
       "    }\n",
       "</style>\n",
       "<table border=\"1\" class=\"dataframe\">\n",
       "  <thead>\n",
       "    <tr style=\"text-align: right;\">\n",
       "      <th></th>\n",
       "      <th>continent</th>\n",
       "      <th>region</th>\n",
       "      <th>country_status</th>\n",
       "      <th>1980</th>\n",
       "      <th>1981</th>\n",
       "      <th>1982</th>\n",
       "      <th>1983</th>\n",
       "      <th>1984</th>\n",
       "      <th>1985</th>\n",
       "      <th>1986</th>\n",
       "      <th>...</th>\n",
       "      <th>2005</th>\n",
       "      <th>2006</th>\n",
       "      <th>2007</th>\n",
       "      <th>2008</th>\n",
       "      <th>2009</th>\n",
       "      <th>2010</th>\n",
       "      <th>2011</th>\n",
       "      <th>2012</th>\n",
       "      <th>2013</th>\n",
       "      <th>total</th>\n",
       "    </tr>\n",
       "    <tr>\n",
       "      <th>country</th>\n",
       "      <th></th>\n",
       "      <th></th>\n",
       "      <th></th>\n",
       "      <th></th>\n",
       "      <th></th>\n",
       "      <th></th>\n",
       "      <th></th>\n",
       "      <th></th>\n",
       "      <th></th>\n",
       "      <th></th>\n",
       "      <th></th>\n",
       "      <th></th>\n",
       "      <th></th>\n",
       "      <th></th>\n",
       "      <th></th>\n",
       "      <th></th>\n",
       "      <th></th>\n",
       "      <th></th>\n",
       "      <th></th>\n",
       "      <th></th>\n",
       "      <th></th>\n",
       "    </tr>\n",
       "  </thead>\n",
       "  <tbody>\n",
       "    <tr>\n",
       "      <th>India</th>\n",
       "      <td>Asia</td>\n",
       "      <td>Southern Asia</td>\n",
       "      <td>1</td>\n",
       "      <td>8880</td>\n",
       "      <td>8670</td>\n",
       "      <td>8147</td>\n",
       "      <td>7338</td>\n",
       "      <td>5704</td>\n",
       "      <td>4211</td>\n",
       "      <td>7150</td>\n",
       "      <td>...</td>\n",
       "      <td>36210</td>\n",
       "      <td>33848</td>\n",
       "      <td>28742</td>\n",
       "      <td>28261</td>\n",
       "      <td>29456</td>\n",
       "      <td>34235</td>\n",
       "      <td>27509</td>\n",
       "      <td>30933</td>\n",
       "      <td>33087</td>\n",
       "      <td>691904</td>\n",
       "    </tr>\n",
       "    <tr>\n",
       "      <th>China</th>\n",
       "      <td>Asia</td>\n",
       "      <td>Eastern Asia</td>\n",
       "      <td>1</td>\n",
       "      <td>5123</td>\n",
       "      <td>6682</td>\n",
       "      <td>3308</td>\n",
       "      <td>1863</td>\n",
       "      <td>1527</td>\n",
       "      <td>1816</td>\n",
       "      <td>1960</td>\n",
       "      <td>...</td>\n",
       "      <td>42584</td>\n",
       "      <td>33518</td>\n",
       "      <td>27642</td>\n",
       "      <td>30037</td>\n",
       "      <td>29622</td>\n",
       "      <td>30391</td>\n",
       "      <td>28502</td>\n",
       "      <td>33024</td>\n",
       "      <td>34129</td>\n",
       "      <td>659962</td>\n",
       "    </tr>\n",
       "    <tr>\n",
       "      <th>United Kingdom of Great Britain and Northern Ireland</th>\n",
       "      <td>Europe</td>\n",
       "      <td>Northern Europe</td>\n",
       "      <td>1</td>\n",
       "      <td>22045</td>\n",
       "      <td>24796</td>\n",
       "      <td>20620</td>\n",
       "      <td>10015</td>\n",
       "      <td>10170</td>\n",
       "      <td>9564</td>\n",
       "      <td>9470</td>\n",
       "      <td>...</td>\n",
       "      <td>7258</td>\n",
       "      <td>7140</td>\n",
       "      <td>8216</td>\n",
       "      <td>8979</td>\n",
       "      <td>8876</td>\n",
       "      <td>8724</td>\n",
       "      <td>6204</td>\n",
       "      <td>6195</td>\n",
       "      <td>5827</td>\n",
       "      <td>551500</td>\n",
       "    </tr>\n",
       "  </tbody>\n",
       "</table>\n",
       "<p>3 rows × 38 columns</p>\n",
       "</div>"
      ],
      "text/plain": [
       "                                                   continent           region  \\\n",
       "country                                                                         \n",
       "India                                                   Asia    Southern Asia   \n",
       "China                                                   Asia     Eastern Asia   \n",
       "United Kingdom of Great Britain and Northern Ir...    Europe  Northern Europe   \n",
       "\n",
       "                                                    country_status   1980  \\\n",
       "country                                                                     \n",
       "India                                                            1   8880   \n",
       "China                                                            1   5123   \n",
       "United Kingdom of Great Britain and Northern Ir...               1  22045   \n",
       "\n",
       "                                                     1981   1982   1983  \\\n",
       "country                                                                   \n",
       "India                                                8670   8147   7338   \n",
       "China                                                6682   3308   1863   \n",
       "United Kingdom of Great Britain and Northern Ir...  24796  20620  10015   \n",
       "\n",
       "                                                     1984  1985  1986  ...  \\\n",
       "country                                                                ...   \n",
       "India                                                5704  4211  7150  ...   \n",
       "China                                                1527  1816  1960  ...   \n",
       "United Kingdom of Great Britain and Northern Ir...  10170  9564  9470  ...   \n",
       "\n",
       "                                                     2005   2006   2007  \\\n",
       "country                                                                   \n",
       "India                                               36210  33848  28742   \n",
       "China                                               42584  33518  27642   \n",
       "United Kingdom of Great Britain and Northern Ir...   7258   7140   8216   \n",
       "\n",
       "                                                     2008   2009   2010  \\\n",
       "country                                                                   \n",
       "India                                               28261  29456  34235   \n",
       "China                                               30037  29622  30391   \n",
       "United Kingdom of Great Britain and Northern Ir...   8979   8876   8724   \n",
       "\n",
       "                                                     2011   2012   2013  \\\n",
       "country                                                                   \n",
       "India                                               27509  30933  33087   \n",
       "China                                               28502  33024  34129   \n",
       "United Kingdom of Great Britain and Northern Ir...   6204   6195   5827   \n",
       "\n",
       "                                                     total  \n",
       "country                                                     \n",
       "India                                               691904  \n",
       "China                                               659962  \n",
       "United Kingdom of Great Britain and Northern Ir...  551500  \n",
       "\n",
       "[3 rows x 38 columns]"
      ]
     },
     "execution_count": 33,
     "metadata": {},
     "output_type": "execute_result"
    }
   ],
   "source": [
    "df.head(3)"
   ]
  },
  {
   "cell_type": "markdown",
   "metadata": {},
   "source": [
    "# change plotting theme"
   ]
  },
  {
   "cell_type": "code",
   "execution_count": 15,
   "metadata": {},
   "outputs": [
    {
     "name": "stdout",
     "output_type": "stream",
     "text": [
      "['Solarize_Light2', '_classic_test_patch', '_mpl-gallery', '_mpl-gallery-nogrid', 'bmh', 'classic', 'dark_background', 'fast', 'fivethirtyeight', 'ggplot', 'grayscale', 'seaborn-v0_8', 'seaborn-v0_8-bright', 'seaborn-v0_8-colorblind', 'seaborn-v0_8-dark', 'seaborn-v0_8-dark-palette', 'seaborn-v0_8-darkgrid', 'seaborn-v0_8-deep', 'seaborn-v0_8-muted', 'seaborn-v0_8-notebook', 'seaborn-v0_8-paper', 'seaborn-v0_8-pastel', 'seaborn-v0_8-poster', 'seaborn-v0_8-talk', 'seaborn-v0_8-ticks', 'seaborn-v0_8-white', 'seaborn-v0_8-whitegrid', 'tableau-colorblind10']\n"
     ]
    }
   ],
   "source": [
    "print(plt.style.available)\n",
    "plt.style.use('ggplot')#seaborn-v0_8-paper another type of graph which can be used"
   ]
  },
  {
   "cell_type": "code",
   "execution_count": 16,
   "metadata": {},
   "outputs": [
    {
     "data": {
      "image/png": "[encoded data removed]",
      "text/plain": [
       "<Figure size 1440x432 with 1 Axes>"
      ]
     },
     "metadata": {
      "needs_background": "light"
     },
     "output_type": "display_data"
    }
   ],
   "source": [
    "df.loc['Japan',years].plot(kind='line',figsize=(20,6))\n",
    "plt.show()"
   ]
  },
  {
   "cell_type": "markdown",
   "metadata": {},
   "source": [
    "# add pandas styling"
   ]
  },
  {
   "cell_type": "code",
   "execution_count": 17,
   "metadata": {},
   "outputs": [],
   "source": [
    "continent_df=df.groupby('continent')[years].sum()"
   ]
  },
  {
   "cell_type": "code",
   "execution_count": 18,
   "metadata": {},
   "outputs": [
    {
     "data": {
      "text/html": [
       "<style type=\"text/css\">\n",
       "#T_645ca_row0_col0, #T_645ca_row0_col1, #T_645ca_row0_col2, #T_645ca_row0_col3, #T_645ca_row0_col4, #T_645ca_row0_col5, #T_645ca_row0_col6, #T_645ca_row4_col8, #T_645ca_row4_col9, #T_645ca_row4_col10, #T_645ca_row4_col11, #T_645ca_row4_col12, #T_645ca_row4_col13, #T_645ca_row4_col14, #T_645ca_row4_col15, #T_645ca_row4_col16, #T_645ca_row4_col17, #T_645ca_row4_col18, #T_645ca_row4_col19, #T_645ca_row4_col20, #T_645ca_row4_col21, #T_645ca_row4_col22, #T_645ca_row4_col23, #T_645ca_row4_col24, #T_645ca_row4_col25, #T_645ca_row4_col26, #T_645ca_row4_col27, #T_645ca_row4_col28, #T_645ca_row4_col29, #T_645ca_row4_col30, #T_645ca_row4_col31, #T_645ca_row4_col32, #T_645ca_row4_col33, #T_645ca_row5_col0, #T_645ca_row5_col1, #T_645ca_row5_col2, #T_645ca_row5_col3, #T_645ca_row5_col4, #T_645ca_row5_col5, #T_645ca_row5_col6, #T_645ca_row5_col7, #T_645ca_row5_col8, #T_645ca_row5_col9, #T_645ca_row5_col10, #T_645ca_row5_col11, #T_645ca_row5_col12, #T_645ca_row5_col13, #T_645ca_row5_col14, #T_645ca_row5_col15, #T_645ca_row5_col16, #T_645ca_row5_col17, #T_645ca_row5_col18, #T_645ca_row5_col19, #T_645ca_row5_col20, #T_645ca_row5_col21, #T_645ca_row5_col22, #T_645ca_row5_col23, #T_645ca_row5_col24, #T_645ca_row5_col25, #T_645ca_row5_col26, #T_645ca_row5_col27, #T_645ca_row5_col28, #T_645ca_row5_col29, #T_645ca_row5_col30, #T_645ca_row5_col31, #T_645ca_row5_col32, #T_645ca_row5_col33 {\n",
       "  background-color: #f2f2f2;\n",
       "  color: #000000;\n",
       "}\n",
       "#T_645ca_row0_col7, #T_645ca_row0_col8, #T_645ca_row0_col9, #T_645ca_row0_col10, #T_645ca_row0_col11, #T_645ca_row0_col12, #T_645ca_row0_col13, #T_645ca_row0_col14, #T_645ca_row0_col15, #T_645ca_row0_col16, #T_645ca_row0_col17, #T_645ca_row0_col18, #T_645ca_row0_col19, #T_645ca_row0_col20, #T_645ca_row0_col21, #T_645ca_row0_col22, #T_645ca_row0_col23, #T_645ca_row0_col24, #T_645ca_row0_col25, #T_645ca_row0_col26, #T_645ca_row0_col27, #T_645ca_row0_col28, #T_645ca_row2_col25, #T_645ca_row2_col26, #T_645ca_row2_col30, #T_645ca_row2_col31, #T_645ca_row2_col32, #T_645ca_row2_col33, #T_645ca_row3_col15, #T_645ca_row3_col16, #T_645ca_row3_col17, #T_645ca_row3_col18, #T_645ca_row3_col19, #T_645ca_row3_col20, #T_645ca_row3_col21, #T_645ca_row3_col22, #T_645ca_row3_col23, #T_645ca_row3_col24, #T_645ca_row3_col25, #T_645ca_row3_col26, #T_645ca_row3_col27, #T_645ca_row3_col28, #T_645ca_row3_col29, #T_645ca_row3_col30, #T_645ca_row3_col31, #T_645ca_row3_col32, #T_645ca_row3_col33, #T_645ca_row4_col0, #T_645ca_row4_col1, #T_645ca_row4_col2, #T_645ca_row4_col4, #T_645ca_row4_col6, #T_645ca_row4_col7 {\n",
       "  background-color: #fddaec;\n",
       "  color: #000000;\n",
       "}\n",
       "#T_645ca_row0_col29, #T_645ca_row0_col30, #T_645ca_row0_col31, #T_645ca_row0_col32, #T_645ca_row0_col33, #T_645ca_row2_col19, #T_645ca_row2_col20, #T_645ca_row2_col21, #T_645ca_row2_col22, #T_645ca_row2_col23, #T_645ca_row2_col24, #T_645ca_row2_col27, #T_645ca_row2_col28, #T_645ca_row2_col29, #T_645ca_row3_col0, #T_645ca_row3_col1, #T_645ca_row3_col13, #T_645ca_row3_col14, #T_645ca_row4_col3, #T_645ca_row4_col5 {\n",
       "  background-color: #e5d8bd;\n",
       "  color: #000000;\n",
       "}\n",
       "#T_645ca_row1_col0, #T_645ca_row1_col1, #T_645ca_row1_col2, #T_645ca_row2_col12, #T_645ca_row2_col14, #T_645ca_row3_col6 {\n",
       "  background-color: #ccebc5;\n",
       "  color: #000000;\n",
       "}\n",
       "#T_645ca_row1_col3, #T_645ca_row1_col4, #T_645ca_row1_col5, #T_645ca_row1_col6, #T_645ca_row1_col7, #T_645ca_row1_col9, #T_645ca_row1_col10, #T_645ca_row1_col11, #T_645ca_row1_col12, #T_645ca_row1_col13, #T_645ca_row1_col14, #T_645ca_row1_col15, #T_645ca_row1_col16, #T_645ca_row1_col17, #T_645ca_row1_col18, #T_645ca_row1_col19, #T_645ca_row1_col20, #T_645ca_row1_col21, #T_645ca_row1_col22, #T_645ca_row1_col23, #T_645ca_row1_col24, #T_645ca_row1_col25, #T_645ca_row1_col26, #T_645ca_row1_col27, #T_645ca_row1_col28, #T_645ca_row1_col29, #T_645ca_row1_col30, #T_645ca_row1_col31, #T_645ca_row1_col32, #T_645ca_row1_col33, #T_645ca_row2_col0, #T_645ca_row2_col1, #T_645ca_row2_col2, #T_645ca_row2_col3, #T_645ca_row2_col7, #T_645ca_row2_col8, #T_645ca_row2_col9, #T_645ca_row2_col10 {\n",
       "  background-color: #fbb4ae;\n",
       "  color: #000000;\n",
       "}\n",
       "#T_645ca_row1_col8, #T_645ca_row2_col4, #T_645ca_row2_col5, #T_645ca_row2_col6 {\n",
       "  background-color: #b3cde3;\n",
       "  color: #000000;\n",
       "}\n",
       "#T_645ca_row2_col11, #T_645ca_row2_col13, #T_645ca_row2_col15, #T_645ca_row3_col3, #T_645ca_row3_col5, #T_645ca_row3_col7 {\n",
       "  background-color: #decbe4;\n",
       "  color: #000000;\n",
       "}\n",
       "#T_645ca_row2_col16, #T_645ca_row2_col17, #T_645ca_row3_col4 {\n",
       "  background-color: #fed9a6;\n",
       "  color: #000000;\n",
       "}\n",
       "#T_645ca_row2_col18, #T_645ca_row3_col2, #T_645ca_row3_col8, #T_645ca_row3_col9, #T_645ca_row3_col10, #T_645ca_row3_col11, #T_645ca_row3_col12 {\n",
       "  background-color: #ffffcc;\n",
       "  color: #000000;\n",
       "}\n",
       "</style>\n",
       "<table id=\"T_645ca\">\n",
       "  <thead>\n",
       "    <tr>\n",
       "      <th class=\"blank level0\" >&nbsp;</th>\n",
       "      <th id=\"T_645ca_level0_col0\" class=\"col_heading level0 col0\" >1980</th>\n",
       "      <th id=\"T_645ca_level0_col1\" class=\"col_heading level0 col1\" >1981</th>\n",
       "      <th id=\"T_645ca_level0_col2\" class=\"col_heading level0 col2\" >1982</th>\n",
       "      <th id=\"T_645ca_level0_col3\" class=\"col_heading level0 col3\" >1983</th>\n",
       "      <th id=\"T_645ca_level0_col4\" class=\"col_heading level0 col4\" >1984</th>\n",
       "      <th id=\"T_645ca_level0_col5\" class=\"col_heading level0 col5\" >1985</th>\n",
       "      <th id=\"T_645ca_level0_col6\" class=\"col_heading level0 col6\" >1986</th>\n",
       "      <th id=\"T_645ca_level0_col7\" class=\"col_heading level0 col7\" >1987</th>\n",
       "      <th id=\"T_645ca_level0_col8\" class=\"col_heading level0 col8\" >1988</th>\n",
       "      <th id=\"T_645ca_level0_col9\" class=\"col_heading level0 col9\" >1989</th>\n",
       "      <th id=\"T_645ca_level0_col10\" class=\"col_heading level0 col10\" >1990</th>\n",
       "      <th id=\"T_645ca_level0_col11\" class=\"col_heading level0 col11\" >1991</th>\n",
       "      <th id=\"T_645ca_level0_col12\" class=\"col_heading level0 col12\" >1992</th>\n",
       "      <th id=\"T_645ca_level0_col13\" class=\"col_heading level0 col13\" >1993</th>\n",
       "      <th id=\"T_645ca_level0_col14\" class=\"col_heading level0 col14\" >1994</th>\n",
       "      <th id=\"T_645ca_level0_col15\" class=\"col_heading level0 col15\" >1995</th>\n",
       "      <th id=\"T_645ca_level0_col16\" class=\"col_heading level0 col16\" >1996</th>\n",
       "      <th id=\"T_645ca_level0_col17\" class=\"col_heading level0 col17\" >1997</th>\n",
       "      <th id=\"T_645ca_level0_col18\" class=\"col_heading level0 col18\" >1998</th>\n",
       "      <th id=\"T_645ca_level0_col19\" class=\"col_heading level0 col19\" >1999</th>\n",
       "      <th id=\"T_645ca_level0_col20\" class=\"col_heading level0 col20\" >2000</th>\n",
       "      <th id=\"T_645ca_level0_col21\" class=\"col_heading level0 col21\" >2001</th>\n",
       "      <th id=\"T_645ca_level0_col22\" class=\"col_heading level0 col22\" >2002</th>\n",
       "      <th id=\"T_645ca_level0_col23\" class=\"col_heading level0 col23\" >2003</th>\n",
       "      <th id=\"T_645ca_level0_col24\" class=\"col_heading level0 col24\" >2004</th>\n",
       "      <th id=\"T_645ca_level0_col25\" class=\"col_heading level0 col25\" >2005</th>\n",
       "      <th id=\"T_645ca_level0_col26\" class=\"col_heading level0 col26\" >2006</th>\n",
       "      <th id=\"T_645ca_level0_col27\" class=\"col_heading level0 col27\" >2007</th>\n",
       "      <th id=\"T_645ca_level0_col28\" class=\"col_heading level0 col28\" >2008</th>\n",
       "      <th id=\"T_645ca_level0_col29\" class=\"col_heading level0 col29\" >2009</th>\n",
       "      <th id=\"T_645ca_level0_col30\" class=\"col_heading level0 col30\" >2010</th>\n",
       "      <th id=\"T_645ca_level0_col31\" class=\"col_heading level0 col31\" >2011</th>\n",
       "      <th id=\"T_645ca_level0_col32\" class=\"col_heading level0 col32\" >2012</th>\n",
       "      <th id=\"T_645ca_level0_col33\" class=\"col_heading level0 col33\" >2013</th>\n",
       "    </tr>\n",
       "    <tr>\n",
       "      <th class=\"index_name level0\" >continent</th>\n",
       "      <th class=\"blank col0\" >&nbsp;</th>\n",
       "      <th class=\"blank col1\" >&nbsp;</th>\n",
       "      <th class=\"blank col2\" >&nbsp;</th>\n",
       "      <th class=\"blank col3\" >&nbsp;</th>\n",
       "      <th class=\"blank col4\" >&nbsp;</th>\n",
       "      <th class=\"blank col5\" >&nbsp;</th>\n",
       "      <th class=\"blank col6\" >&nbsp;</th>\n",
       "      <th class=\"blank col7\" >&nbsp;</th>\n",
       "      <th class=\"blank col8\" >&nbsp;</th>\n",
       "      <th class=\"blank col9\" >&nbsp;</th>\n",
       "      <th class=\"blank col10\" >&nbsp;</th>\n",
       "      <th class=\"blank col11\" >&nbsp;</th>\n",
       "      <th class=\"blank col12\" >&nbsp;</th>\n",
       "      <th class=\"blank col13\" >&nbsp;</th>\n",
       "      <th class=\"blank col14\" >&nbsp;</th>\n",
       "      <th class=\"blank col15\" >&nbsp;</th>\n",
       "      <th class=\"blank col16\" >&nbsp;</th>\n",
       "      <th class=\"blank col17\" >&nbsp;</th>\n",
       "      <th class=\"blank col18\" >&nbsp;</th>\n",
       "      <th class=\"blank col19\" >&nbsp;</th>\n",
       "      <th class=\"blank col20\" >&nbsp;</th>\n",
       "      <th class=\"blank col21\" >&nbsp;</th>\n",
       "      <th class=\"blank col22\" >&nbsp;</th>\n",
       "      <th class=\"blank col23\" >&nbsp;</th>\n",
       "      <th class=\"blank col24\" >&nbsp;</th>\n",
       "      <th class=\"blank col25\" >&nbsp;</th>\n",
       "      <th class=\"blank col26\" >&nbsp;</th>\n",
       "      <th class=\"blank col27\" >&nbsp;</th>\n",
       "      <th class=\"blank col28\" >&nbsp;</th>\n",
       "      <th class=\"blank col29\" >&nbsp;</th>\n",
       "      <th class=\"blank col30\" >&nbsp;</th>\n",
       "      <th class=\"blank col31\" >&nbsp;</th>\n",
       "      <th class=\"blank col32\" >&nbsp;</th>\n",
       "      <th class=\"blank col33\" >&nbsp;</th>\n",
       "    </tr>\n",
       "  </thead>\n",
       "  <tbody>\n",
       "    <tr>\n",
       "      <th id=\"T_645ca_level0_row0\" class=\"row_heading level0 row0\" >Africa</th>\n",
       "      <td id=\"T_645ca_row0_col0\" class=\"data row0 col0\" >3951</td>\n",
       "      <td id=\"T_645ca_row0_col1\" class=\"data row0 col1\" >4363</td>\n",
       "      <td id=\"T_645ca_row0_col2\" class=\"data row0 col2\" >3819</td>\n",
       "      <td id=\"T_645ca_row0_col3\" class=\"data row0 col3\" >2671</td>\n",
       "      <td id=\"T_645ca_row0_col4\" class=\"data row0 col4\" >2639</td>\n",
       "      <td id=\"T_645ca_row0_col5\" class=\"data row0 col5\" >2650</td>\n",
       "      <td id=\"T_645ca_row0_col6\" class=\"data row0 col6\" >3782</td>\n",
       "      <td id=\"T_645ca_row0_col7\" class=\"data row0 col7\" >7494</td>\n",
       "      <td id=\"T_645ca_row0_col8\" class=\"data row0 col8\" >7552</td>\n",
       "      <td id=\"T_645ca_row0_col9\" class=\"data row0 col9\" >9894</td>\n",
       "      <td id=\"T_645ca_row0_col10\" class=\"data row0 col10\" >11012</td>\n",
       "      <td id=\"T_645ca_row0_col11\" class=\"data row0 col11\" >14228</td>\n",
       "      <td id=\"T_645ca_row0_col12\" class=\"data row0 col12\" >19242</td>\n",
       "      <td id=\"T_645ca_row0_col13\" class=\"data row0 col13\" >16531</td>\n",
       "      <td id=\"T_645ca_row0_col14\" class=\"data row0 col14\" >13072</td>\n",
       "      <td id=\"T_645ca_row0_col15\" class=\"data row0 col15\" >14806</td>\n",
       "      <td id=\"T_645ca_row0_col16\" class=\"data row0 col16\" >15700</td>\n",
       "      <td id=\"T_645ca_row0_col17\" class=\"data row0 col17\" >14471</td>\n",
       "      <td id=\"T_645ca_row0_col18\" class=\"data row0 col18\" >13791</td>\n",
       "      <td id=\"T_645ca_row0_col19\" class=\"data row0 col19\" >15996</td>\n",
       "      <td id=\"T_645ca_row0_col20\" class=\"data row0 col20\" >20346</td>\n",
       "      <td id=\"T_645ca_row0_col21\" class=\"data row0 col21\" >24292</td>\n",
       "      <td id=\"T_645ca_row0_col22\" class=\"data row0 col22\" >22710</td>\n",
       "      <td id=\"T_645ca_row0_col23\" class=\"data row0 col23\" >23366</td>\n",
       "      <td id=\"T_645ca_row0_col24\" class=\"data row0 col24\" >28192</td>\n",
       "      <td id=\"T_645ca_row0_col25\" class=\"data row0 col25\" >27523</td>\n",
       "      <td id=\"T_645ca_row0_col26\" class=\"data row0 col26\" >29188</td>\n",
       "      <td id=\"T_645ca_row0_col27\" class=\"data row0 col27\" >28284</td>\n",
       "      <td id=\"T_645ca_row0_col28\" class=\"data row0 col28\" >29890</td>\n",
       "      <td id=\"T_645ca_row0_col29\" class=\"data row0 col29\" >34534</td>\n",
       "      <td id=\"T_645ca_row0_col30\" class=\"data row0 col30\" >40892</td>\n",
       "      <td id=\"T_645ca_row0_col31\" class=\"data row0 col31\" >35441</td>\n",
       "      <td id=\"T_645ca_row0_col32\" class=\"data row0 col32\" >38083</td>\n",
       "      <td id=\"T_645ca_row0_col33\" class=\"data row0 col33\" >38543</td>\n",
       "    </tr>\n",
       "    <tr>\n",
       "      <th id=\"T_645ca_level0_row1\" class=\"row_heading level0 row1\" >Asia</th>\n",
       "      <td id=\"T_645ca_row1_col0\" class=\"data row1 col0\" >31025</td>\n",
       "      <td id=\"T_645ca_row1_col1\" class=\"data row1 col1\" >34314</td>\n",
       "      <td id=\"T_645ca_row1_col2\" class=\"data row1 col2\" >30214</td>\n",
       "      <td id=\"T_645ca_row1_col3\" class=\"data row1 col3\" >24696</td>\n",
       "      <td id=\"T_645ca_row1_col4\" class=\"data row1 col4\" >27274</td>\n",
       "      <td id=\"T_645ca_row1_col5\" class=\"data row1 col5\" >23850</td>\n",
       "      <td id=\"T_645ca_row1_col6\" class=\"data row1 col6\" >28739</td>\n",
       "      <td id=\"T_645ca_row1_col7\" class=\"data row1 col7\" >43203</td>\n",
       "      <td id=\"T_645ca_row1_col8\" class=\"data row1 col8\" >47454</td>\n",
       "      <td id=\"T_645ca_row1_col9\" class=\"data row1 col9\" >60256</td>\n",
       "      <td id=\"T_645ca_row1_col10\" class=\"data row1 col10\" >72829</td>\n",
       "      <td id=\"T_645ca_row1_col11\" class=\"data row1 col11\" >89964</td>\n",
       "      <td id=\"T_645ca_row1_col12\" class=\"data row1 col12\" >90752</td>\n",
       "      <td id=\"T_645ca_row1_col13\" class=\"data row1 col13\" >98737</td>\n",
       "      <td id=\"T_645ca_row1_col14\" class=\"data row1 col14\" >88852</td>\n",
       "      <td id=\"T_645ca_row1_col15\" class=\"data row1 col15\" >90424</td>\n",
       "      <td id=\"T_645ca_row1_col16\" class=\"data row1 col16\" >103030</td>\n",
       "      <td id=\"T_645ca_row1_col17\" class=\"data row1 col17\" >106383</td>\n",
       "      <td id=\"T_645ca_row1_col18\" class=\"data row1 col18\" >90929</td>\n",
       "      <td id=\"T_645ca_row1_col19\" class=\"data row1 col19\" >106844</td>\n",
       "      <td id=\"T_645ca_row1_col20\" class=\"data row1 col20\" >134544</td>\n",
       "      <td id=\"T_645ca_row1_col21\" class=\"data row1 col21\" >148083</td>\n",
       "      <td id=\"T_645ca_row1_col22\" class=\"data row1 col22\" >137653</td>\n",
       "      <td id=\"T_645ca_row1_col23\" class=\"data row1 col23\" >131769</td>\n",
       "      <td id=\"T_645ca_row1_col24\" class=\"data row1 col24\" >134850</td>\n",
       "      <td id=\"T_645ca_row1_col25\" class=\"data row1 col25\" >159253</td>\n",
       "      <td id=\"T_645ca_row1_col26\" class=\"data row1 col26\" >149054</td>\n",
       "      <td id=\"T_645ca_row1_col27\" class=\"data row1 col27\" >133459</td>\n",
       "      <td id=\"T_645ca_row1_col28\" class=\"data row1 col28\" >139894</td>\n",
       "      <td id=\"T_645ca_row1_col29\" class=\"data row1 col29\" >141434</td>\n",
       "      <td id=\"T_645ca_row1_col30\" class=\"data row1 col30\" >163845</td>\n",
       "      <td id=\"T_645ca_row1_col31\" class=\"data row1 col31\" >146894</td>\n",
       "      <td id=\"T_645ca_row1_col32\" class=\"data row1 col32\" >152218</td>\n",
       "      <td id=\"T_645ca_row1_col33\" class=\"data row1 col33\" >155075</td>\n",
       "    </tr>\n",
       "    <tr>\n",
       "      <th id=\"T_645ca_level0_row2\" class=\"row_heading level0 row2\" >Europe</th>\n",
       "      <td id=\"T_645ca_row2_col0\" class=\"data row2 col0\" >39760</td>\n",
       "      <td id=\"T_645ca_row2_col1\" class=\"data row2 col1\" >44802</td>\n",
       "      <td id=\"T_645ca_row2_col2\" class=\"data row2 col2\" >42720</td>\n",
       "      <td id=\"T_645ca_row2_col3\" class=\"data row2 col3\" >24638</td>\n",
       "      <td id=\"T_645ca_row2_col4\" class=\"data row2 col4\" >22287</td>\n",
       "      <td id=\"T_645ca_row2_col5\" class=\"data row2 col5\" >20844</td>\n",
       "      <td id=\"T_645ca_row2_col6\" class=\"data row2 col6\" >24370</td>\n",
       "      <td id=\"T_645ca_row2_col7\" class=\"data row2 col7\" >46698</td>\n",
       "      <td id=\"T_645ca_row2_col8\" class=\"data row2 col8\" >54726</td>\n",
       "      <td id=\"T_645ca_row2_col9\" class=\"data row2 col9\" >60893</td>\n",
       "      <td id=\"T_645ca_row2_col10\" class=\"data row2 col10\" >68301</td>\n",
       "      <td id=\"T_645ca_row2_col11\" class=\"data row2 col11\" >57938</td>\n",
       "      <td id=\"T_645ca_row2_col12\" class=\"data row2 col12\" >64123</td>\n",
       "      <td id=\"T_645ca_row2_col13\" class=\"data row2 col13\" >62937</td>\n",
       "      <td id=\"T_645ca_row2_col14\" class=\"data row2 col14\" >62531</td>\n",
       "      <td id=\"T_645ca_row2_col15\" class=\"data row2 col15\" >55764</td>\n",
       "      <td id=\"T_645ca_row2_col16\" class=\"data row2 col16\" >55642</td>\n",
       "      <td id=\"T_645ca_row2_col17\" class=\"data row2 col17\" >48841</td>\n",
       "      <td id=\"T_645ca_row2_col18\" class=\"data row2 col18\" >36719</td>\n",
       "      <td id=\"T_645ca_row2_col19\" class=\"data row2 col19\" >35639</td>\n",
       "      <td id=\"T_645ca_row2_col20\" class=\"data row2 col20\" >38215</td>\n",
       "      <td id=\"T_645ca_row2_col21\" class=\"data row2 col21\" >42779</td>\n",
       "      <td id=\"T_645ca_row2_col22\" class=\"data row2 col22\" >36798</td>\n",
       "      <td id=\"T_645ca_row2_col23\" class=\"data row2 col23\" >34556</td>\n",
       "      <td id=\"T_645ca_row2_col24\" class=\"data row2 col24\" >38082</td>\n",
       "      <td id=\"T_645ca_row2_col25\" class=\"data row2 col25\" >35955</td>\n",
       "      <td id=\"T_645ca_row2_col26\" class=\"data row2 col26\" >33053</td>\n",
       "      <td id=\"T_645ca_row2_col27\" class=\"data row2 col27\" >33495</td>\n",
       "      <td id=\"T_645ca_row2_col28\" class=\"data row2 col28\" >34692</td>\n",
       "      <td id=\"T_645ca_row2_col29\" class=\"data row2 col29\" >35078</td>\n",
       "      <td id=\"T_645ca_row2_col30\" class=\"data row2 col30\" >33425</td>\n",
       "      <td id=\"T_645ca_row2_col31\" class=\"data row2 col31\" >26778</td>\n",
       "      <td id=\"T_645ca_row2_col32\" class=\"data row2 col32\" >29177</td>\n",
       "      <td id=\"T_645ca_row2_col33\" class=\"data row2 col33\" >28691</td>\n",
       "    </tr>\n",
       "    <tr>\n",
       "      <th id=\"T_645ca_level0_row3\" class=\"row_heading level0 row3\" >Latin America and the Caribbean</th>\n",
       "      <td id=\"T_645ca_row3_col0\" class=\"data row3 col0\" >13081</td>\n",
       "      <td id=\"T_645ca_row3_col1\" class=\"data row3 col1\" >15215</td>\n",
       "      <td id=\"T_645ca_row3_col2\" class=\"data row3 col2\" >16769</td>\n",
       "      <td id=\"T_645ca_row3_col3\" class=\"data row3 col3\" >15427</td>\n",
       "      <td id=\"T_645ca_row3_col4\" class=\"data row3 col4\" >13678</td>\n",
       "      <td id=\"T_645ca_row3_col5\" class=\"data row3 col5\" >15171</td>\n",
       "      <td id=\"T_645ca_row3_col6\" class=\"data row3 col6\" >21179</td>\n",
       "      <td id=\"T_645ca_row3_col7\" class=\"data row3 col7\" >28471</td>\n",
       "      <td id=\"T_645ca_row3_col8\" class=\"data row3 col8\" >21924</td>\n",
       "      <td id=\"T_645ca_row3_col9\" class=\"data row3 col9\" >25060</td>\n",
       "      <td id=\"T_645ca_row3_col10\" class=\"data row3 col10\" >27942</td>\n",
       "      <td id=\"T_645ca_row3_col11\" class=\"data row3 col11\" >36827</td>\n",
       "      <td id=\"T_645ca_row3_col12\" class=\"data row3 col12\" >37853</td>\n",
       "      <td id=\"T_645ca_row3_col13\" class=\"data row3 col13\" >33840</td>\n",
       "      <td id=\"T_645ca_row3_col14\" class=\"data row3 col14\" >21341</td>\n",
       "      <td id=\"T_645ca_row3_col15\" class=\"data row3 col15\" >20262</td>\n",
       "      <td id=\"T_645ca_row3_col16\" class=\"data row3 col16\" >18645</td>\n",
       "      <td id=\"T_645ca_row3_col17\" class=\"data row3 col17\" >17174</td>\n",
       "      <td id=\"T_645ca_row3_col18\" class=\"data row3 col18\" >13830</td>\n",
       "      <td id=\"T_645ca_row3_col19\" class=\"data row3 col19\" >15088</td>\n",
       "      <td id=\"T_645ca_row3_col20\" class=\"data row3 col20\" >16898</td>\n",
       "      <td id=\"T_645ca_row3_col21\" class=\"data row3 col21\" >20067</td>\n",
       "      <td id=\"T_645ca_row3_col22\" class=\"data row3 col22\" >19317</td>\n",
       "      <td id=\"T_645ca_row3_col23\" class=\"data row3 col23\" >20263</td>\n",
       "      <td id=\"T_645ca_row3_col24\" class=\"data row3 col24\" >22181</td>\n",
       "      <td id=\"T_645ca_row3_col25\" class=\"data row3 col25\" >24747</td>\n",
       "      <td id=\"T_645ca_row3_col26\" class=\"data row3 col26\" >24676</td>\n",
       "      <td id=\"T_645ca_row3_col27\" class=\"data row3 col27\" >26011</td>\n",
       "      <td id=\"T_645ca_row3_col28\" class=\"data row3 col28\" >26547</td>\n",
       "      <td id=\"T_645ca_row3_col29\" class=\"data row3 col29\" >26867</td>\n",
       "      <td id=\"T_645ca_row3_col30\" class=\"data row3 col30\" >28818</td>\n",
       "      <td id=\"T_645ca_row3_col31\" class=\"data row3 col31\" >27856</td>\n",
       "      <td id=\"T_645ca_row3_col32\" class=\"data row3 col32\" >27173</td>\n",
       "      <td id=\"T_645ca_row3_col33\" class=\"data row3 col33\" >24950</td>\n",
       "    </tr>\n",
       "    <tr>\n",
       "      <th id=\"T_645ca_level0_row4\" class=\"row_heading level0 row4\" >Northern America</th>\n",
       "      <td id=\"T_645ca_row4_col0\" class=\"data row4 col0\" >9378</td>\n",
       "      <td id=\"T_645ca_row4_col1\" class=\"data row4 col1\" >10030</td>\n",
       "      <td id=\"T_645ca_row4_col2\" class=\"data row4 col2\" >9074</td>\n",
       "      <td id=\"T_645ca_row4_col3\" class=\"data row4 col3\" >7100</td>\n",
       "      <td id=\"T_645ca_row4_col4\" class=\"data row4 col4\" >6661</td>\n",
       "      <td id=\"T_645ca_row4_col5\" class=\"data row4 col5\" >6543</td>\n",
       "      <td id=\"T_645ca_row4_col6\" class=\"data row4 col6\" >7074</td>\n",
       "      <td id=\"T_645ca_row4_col7\" class=\"data row4 col7\" >7705</td>\n",
       "      <td id=\"T_645ca_row4_col8\" class=\"data row4 col8\" >6469</td>\n",
       "      <td id=\"T_645ca_row4_col9\" class=\"data row4 col9\" >6790</td>\n",
       "      <td id=\"T_645ca_row4_col10\" class=\"data row4 col10\" >5895</td>\n",
       "      <td id=\"T_645ca_row4_col11\" class=\"data row4 col11\" >6057</td>\n",
       "      <td id=\"T_645ca_row4_col12\" class=\"data row4 col12\" >6846</td>\n",
       "      <td id=\"T_645ca_row4_col13\" class=\"data row4 col13\" >7438</td>\n",
       "      <td id=\"T_645ca_row4_col14\" class=\"data row4 col14\" >5902</td>\n",
       "      <td id=\"T_645ca_row4_col15\" class=\"data row4 col15\" >4891</td>\n",
       "      <td id=\"T_645ca_row4_col16\" class=\"data row4 col16\" >5516</td>\n",
       "      <td id=\"T_645ca_row4_col17\" class=\"data row4 col17\" >4753</td>\n",
       "      <td id=\"T_645ca_row4_col18\" class=\"data row4 col18\" >4437</td>\n",
       "      <td id=\"T_645ca_row4_col19\" class=\"data row4 col19\" >5196</td>\n",
       "      <td id=\"T_645ca_row4_col20\" class=\"data row4 col20\" >5433</td>\n",
       "      <td id=\"T_645ca_row4_col21\" class=\"data row4 col21\" >5604</td>\n",
       "      <td id=\"T_645ca_row4_col22\" class=\"data row4 col22\" >4948</td>\n",
       "      <td id=\"T_645ca_row4_col23\" class=\"data row4 col23\" >5543</td>\n",
       "      <td id=\"T_645ca_row4_col24\" class=\"data row4 col24\" >6990</td>\n",
       "      <td id=\"T_645ca_row4_col25\" class=\"data row4 col25\" >8394</td>\n",
       "      <td id=\"T_645ca_row4_col26\" class=\"data row4 col26\" >9613</td>\n",
       "      <td id=\"T_645ca_row4_col27\" class=\"data row4 col27\" >9463</td>\n",
       "      <td id=\"T_645ca_row4_col28\" class=\"data row4 col28\" >10190</td>\n",
       "      <td id=\"T_645ca_row4_col29\" class=\"data row4 col29\" >8995</td>\n",
       "      <td id=\"T_645ca_row4_col30\" class=\"data row4 col30\" >8142</td>\n",
       "      <td id=\"T_645ca_row4_col31\" class=\"data row4 col31\" >7677</td>\n",
       "      <td id=\"T_645ca_row4_col32\" class=\"data row4 col32\" >7892</td>\n",
       "      <td id=\"T_645ca_row4_col33\" class=\"data row4 col33\" >8503</td>\n",
       "    </tr>\n",
       "    <tr>\n",
       "      <th id=\"T_645ca_level0_row5\" class=\"row_heading level0 row5\" >Oceania</th>\n",
       "      <td id=\"T_645ca_row5_col0\" class=\"data row5 col0\" >1942</td>\n",
       "      <td id=\"T_645ca_row5_col1\" class=\"data row5 col1\" >1839</td>\n",
       "      <td id=\"T_645ca_row5_col2\" class=\"data row5 col2\" >1675</td>\n",
       "      <td id=\"T_645ca_row5_col3\" class=\"data row5 col3\" >1018</td>\n",
       "      <td id=\"T_645ca_row5_col4\" class=\"data row5 col4\" >878</td>\n",
       "      <td id=\"T_645ca_row5_col5\" class=\"data row5 col5\" >920</td>\n",
       "      <td id=\"T_645ca_row5_col6\" class=\"data row5 col6\" >904</td>\n",
       "      <td id=\"T_645ca_row5_col7\" class=\"data row5 col7\" >1200</td>\n",
       "      <td id=\"T_645ca_row5_col8\" class=\"data row5 col8\" >1181</td>\n",
       "      <td id=\"T_645ca_row5_col9\" class=\"data row5 col9\" >1539</td>\n",
       "      <td id=\"T_645ca_row5_col10\" class=\"data row5 col10\" >2075</td>\n",
       "      <td id=\"T_645ca_row5_col11\" class=\"data row5 col11\" >2495</td>\n",
       "      <td id=\"T_645ca_row5_col12\" class=\"data row5 col12\" >2871</td>\n",
       "      <td id=\"T_645ca_row5_col13\" class=\"data row5 col13\" >2566</td>\n",
       "      <td id=\"T_645ca_row5_col14\" class=\"data row5 col14\" >1967</td>\n",
       "      <td id=\"T_645ca_row5_col15\" class=\"data row5 col15\" >1565</td>\n",
       "      <td id=\"T_645ca_row5_col16\" class=\"data row5 col16\" >1552</td>\n",
       "      <td id=\"T_645ca_row5_col17\" class=\"data row5 col17\" >1263</td>\n",
       "      <td id=\"T_645ca_row5_col18\" class=\"data row5 col18\" >1021</td>\n",
       "      <td id=\"T_645ca_row5_col19\" class=\"data row5 col19\" >1055</td>\n",
       "      <td id=\"T_645ca_row5_col20\" class=\"data row5 col20\" >1276</td>\n",
       "      <td id=\"T_645ca_row5_col21\" class=\"data row5 col21\" >1818</td>\n",
       "      <td id=\"T_645ca_row5_col22\" class=\"data row5 col22\" >1685</td>\n",
       "      <td id=\"T_645ca_row5_col23\" class=\"data row5 col23\" >1800</td>\n",
       "      <td id=\"T_645ca_row5_col24\" class=\"data row5 col24\" >1788</td>\n",
       "      <td id=\"T_645ca_row5_col25\" class=\"data row5 col25\" >1585</td>\n",
       "      <td id=\"T_645ca_row5_col26\" class=\"data row5 col26\" >1473</td>\n",
       "      <td id=\"T_645ca_row5_col27\" class=\"data row5 col27\" >1693</td>\n",
       "      <td id=\"T_645ca_row5_col28\" class=\"data row5 col28\" >1834</td>\n",
       "      <td id=\"T_645ca_row5_col29\" class=\"data row5 col29\" >1860</td>\n",
       "      <td id=\"T_645ca_row5_col30\" class=\"data row5 col30\" >1834</td>\n",
       "      <td id=\"T_645ca_row5_col31\" class=\"data row5 col31\" >1548</td>\n",
       "      <td id=\"T_645ca_row5_col32\" class=\"data row5 col32\" >1679</td>\n",
       "      <td id=\"T_645ca_row5_col33\" class=\"data row5 col33\" >1775</td>\n",
       "    </tr>\n",
       "  </tbody>\n",
       "</table>\n"
      ],
      "text/plain": [
       "<pandas.io.formats.style.Styler at 0x5d7ec58>"
      ]
     },
     "execution_count": 18,
     "metadata": {},
     "output_type": "execute_result"
    }
   ],
   "source": [
    "continent_df.style.background_gradient(cmap='Pastel1_r')#darkblue"
   ]
  },
  {
   "cell_type": "code",
   "execution_count": 19,
   "metadata": {},
   "outputs": [
    {
     "data": {
      "text/html": [
       "<style type=\"text/css\">\n",
       "#T_820e7_row0_col0 {\n",
       "  width: 10em;\n",
       "  background: linear-gradient(90deg, darkblue 9.9%, transparent 9.9%);\n",
       "}\n",
       "#T_820e7_row0_col1, #T_820e7_row0_col4 {\n",
       "  width: 10em;\n",
       "  background: linear-gradient(90deg, darkblue 9.7%, transparent 9.7%);\n",
       "}\n",
       "#T_820e7_row0_col2 {\n",
       "  width: 10em;\n",
       "  background: linear-gradient(90deg, darkblue 8.9%, transparent 8.9%);\n",
       "}\n",
       "#T_820e7_row0_col3 {\n",
       "  width: 10em;\n",
       "  background: linear-gradient(90deg, darkblue 10.8%, transparent 10.8%);\n",
       "}\n",
       "#T_820e7_row0_col5 {\n",
       "  width: 10em;\n",
       "  background: linear-gradient(90deg, darkblue 11.1%, transparent 11.1%);\n",
       "}\n",
       "#T_820e7_row0_col6 {\n",
       "  width: 10em;\n",
       "  background: linear-gradient(90deg, darkblue 13.2%, transparent 13.2%);\n",
       "}\n",
       "#T_820e7_row0_col7 {\n",
       "  width: 10em;\n",
       "  background: linear-gradient(90deg, darkblue 16.0%, transparent 16.0%);\n",
       "}\n",
       "#T_820e7_row0_col8 {\n",
       "  width: 10em;\n",
       "  background: linear-gradient(90deg, darkblue 13.8%, transparent 13.8%);\n",
       "}\n",
       "#T_820e7_row0_col9 {\n",
       "  width: 10em;\n",
       "  background: linear-gradient(90deg, darkblue 16.2%, transparent 16.2%);\n",
       "}\n",
       "#T_820e7_row0_col10, #T_820e7_row0_col20 {\n",
       "  width: 10em;\n",
       "  background: linear-gradient(90deg, darkblue 15.1%, transparent 15.1%);\n",
       "}\n",
       "#T_820e7_row0_col11 {\n",
       "  width: 10em;\n",
       "  background: linear-gradient(90deg, darkblue 15.8%, transparent 15.8%);\n",
       "}\n",
       "#T_820e7_row0_col12, #T_820e7_row0_col27, #T_820e7_row4_col2 {\n",
       "  width: 10em;\n",
       "  background: linear-gradient(90deg, darkblue 21.2%, transparent 21.2%);\n",
       "}\n",
       "#T_820e7_row0_col13 {\n",
       "  width: 10em;\n",
       "  background: linear-gradient(90deg, darkblue 16.7%, transparent 16.7%);\n",
       "}\n",
       "#T_820e7_row0_col14 {\n",
       "  width: 10em;\n",
       "  background: linear-gradient(90deg, darkblue 14.7%, transparent 14.7%);\n",
       "}\n",
       "#T_820e7_row0_col15, #T_820e7_row0_col21, #T_820e7_row3_col24 {\n",
       "  width: 10em;\n",
       "  background: linear-gradient(90deg, darkblue 16.4%, transparent 16.4%);\n",
       "}\n",
       "#T_820e7_row0_col16, #T_820e7_row0_col18, #T_820e7_row3_col18 {\n",
       "  width: 10em;\n",
       "  background: linear-gradient(90deg, darkblue 15.2%, transparent 15.2%);\n",
       "}\n",
       "#T_820e7_row0_col17, #T_820e7_row3_col21 {\n",
       "  width: 10em;\n",
       "  background: linear-gradient(90deg, darkblue 13.6%, transparent 13.6%);\n",
       "}\n",
       "#T_820e7_row0_col19 {\n",
       "  width: 10em;\n",
       "  background: linear-gradient(90deg, darkblue 15.0%, transparent 15.0%);\n",
       "}\n",
       "#T_820e7_row0_col22, #T_820e7_row4_col7 {\n",
       "  width: 10em;\n",
       "  background: linear-gradient(90deg, darkblue 16.5%, transparent 16.5%);\n",
       "}\n",
       "#T_820e7_row0_col23 {\n",
       "  width: 10em;\n",
       "  background: linear-gradient(90deg, darkblue 17.7%, transparent 17.7%);\n",
       "}\n",
       "#T_820e7_row0_col24 {\n",
       "  width: 10em;\n",
       "  background: linear-gradient(90deg, darkblue 20.9%, transparent 20.9%);\n",
       "}\n",
       "#T_820e7_row0_col25 {\n",
       "  width: 10em;\n",
       "  background: linear-gradient(90deg, darkblue 17.3%, transparent 17.3%);\n",
       "}\n",
       "#T_820e7_row0_col26 {\n",
       "  width: 10em;\n",
       "  background: linear-gradient(90deg, darkblue 19.6%, transparent 19.6%);\n",
       "}\n",
       "#T_820e7_row0_col28 {\n",
       "  width: 10em;\n",
       "  background: linear-gradient(90deg, darkblue 21.4%, transparent 21.4%);\n",
       "}\n",
       "#T_820e7_row0_col29, #T_820e7_row4_col4 {\n",
       "  width: 10em;\n",
       "  background: linear-gradient(90deg, darkblue 24.4%, transparent 24.4%);\n",
       "}\n",
       "#T_820e7_row0_col30, #T_820e7_row0_col32 {\n",
       "  width: 10em;\n",
       "  background: linear-gradient(90deg, darkblue 25.0%, transparent 25.0%);\n",
       "}\n",
       "#T_820e7_row0_col31 {\n",
       "  width: 10em;\n",
       "  background: linear-gradient(90deg, darkblue 24.1%, transparent 24.1%);\n",
       "}\n",
       "#T_820e7_row0_col33 {\n",
       "  width: 10em;\n",
       "  background: linear-gradient(90deg, darkblue 24.9%, transparent 24.9%);\n",
       "}\n",
       "#T_820e7_row1_col0 {\n",
       "  width: 10em;\n",
       "  background: linear-gradient(90deg, darkblue 78.0%, transparent 78.0%);\n",
       "}\n",
       "#T_820e7_row1_col1 {\n",
       "  width: 10em;\n",
       "  background: linear-gradient(90deg, darkblue 76.6%, transparent 76.6%);\n",
       "}\n",
       "#T_820e7_row1_col2, #T_820e7_row2_col12 {\n",
       "  width: 10em;\n",
       "  background: linear-gradient(90deg, darkblue 70.7%, transparent 70.7%);\n",
       "}\n",
       "#T_820e7_row1_col3, #T_820e7_row1_col4, #T_820e7_row1_col5, #T_820e7_row1_col6, #T_820e7_row1_col10, #T_820e7_row1_col11, #T_820e7_row1_col12, #T_820e7_row1_col13, #T_820e7_row1_col14, #T_820e7_row1_col15, #T_820e7_row1_col16, #T_820e7_row1_col17, #T_820e7_row1_col18, #T_820e7_row1_col19, #T_820e7_row1_col20, #T_820e7_row1_col21, #T_820e7_row1_col22, #T_820e7_row1_col23, #T_820e7_row1_col24, #T_820e7_row1_col25, #T_820e7_row1_col26, #T_820e7_row1_col27, #T_820e7_row1_col28, #T_820e7_row1_col29, #T_820e7_row1_col30, #T_820e7_row1_col31, #T_820e7_row1_col32, #T_820e7_row1_col33, #T_820e7_row2_col0, #T_820e7_row2_col1, #T_820e7_row2_col2, #T_820e7_row2_col7, #T_820e7_row2_col8, #T_820e7_row2_col9 {\n",
       "  width: 10em;\n",
       "  background: linear-gradient(90deg, darkblue 100.0%, transparent 100.0%);\n",
       "}\n",
       "#T_820e7_row1_col7 {\n",
       "  width: 10em;\n",
       "  background: linear-gradient(90deg, darkblue 92.5%, transparent 92.5%);\n",
       "}\n",
       "#T_820e7_row1_col8 {\n",
       "  width: 10em;\n",
       "  background: linear-gradient(90deg, darkblue 86.7%, transparent 86.7%);\n",
       "}\n",
       "#T_820e7_row1_col9 {\n",
       "  width: 10em;\n",
       "  background: linear-gradient(90deg, darkblue 99.0%, transparent 99.0%);\n",
       "}\n",
       "#T_820e7_row2_col3 {\n",
       "  width: 10em;\n",
       "  background: linear-gradient(90deg, darkblue 99.8%, transparent 99.8%);\n",
       "}\n",
       "#T_820e7_row2_col4 {\n",
       "  width: 10em;\n",
       "  background: linear-gradient(90deg, darkblue 81.7%, transparent 81.7%);\n",
       "}\n",
       "#T_820e7_row2_col5 {\n",
       "  width: 10em;\n",
       "  background: linear-gradient(90deg, darkblue 87.4%, transparent 87.4%);\n",
       "}\n",
       "#T_820e7_row2_col6 {\n",
       "  width: 10em;\n",
       "  background: linear-gradient(90deg, darkblue 84.8%, transparent 84.8%);\n",
       "}\n",
       "#T_820e7_row2_col10 {\n",
       "  width: 10em;\n",
       "  background: linear-gradient(90deg, darkblue 93.8%, transparent 93.8%);\n",
       "}\n",
       "#T_820e7_row2_col11 {\n",
       "  width: 10em;\n",
       "  background: linear-gradient(90deg, darkblue 64.4%, transparent 64.4%);\n",
       "}\n",
       "#T_820e7_row2_col13 {\n",
       "  width: 10em;\n",
       "  background: linear-gradient(90deg, darkblue 63.7%, transparent 63.7%);\n",
       "}\n",
       "#T_820e7_row2_col14 {\n",
       "  width: 10em;\n",
       "  background: linear-gradient(90deg, darkblue 70.4%, transparent 70.4%);\n",
       "}\n",
       "#T_820e7_row2_col15 {\n",
       "  width: 10em;\n",
       "  background: linear-gradient(90deg, darkblue 61.7%, transparent 61.7%);\n",
       "}\n",
       "#T_820e7_row2_col16 {\n",
       "  width: 10em;\n",
       "  background: linear-gradient(90deg, darkblue 54.0%, transparent 54.0%);\n",
       "}\n",
       "#T_820e7_row2_col17 {\n",
       "  width: 10em;\n",
       "  background: linear-gradient(90deg, darkblue 45.9%, transparent 45.9%);\n",
       "}\n",
       "#T_820e7_row2_col18 {\n",
       "  width: 10em;\n",
       "  background: linear-gradient(90deg, darkblue 40.4%, transparent 40.4%);\n",
       "}\n",
       "#T_820e7_row2_col19 {\n",
       "  width: 10em;\n",
       "  background: linear-gradient(90deg, darkblue 33.4%, transparent 33.4%);\n",
       "}\n",
       "#T_820e7_row2_col20 {\n",
       "  width: 10em;\n",
       "  background: linear-gradient(90deg, darkblue 28.4%, transparent 28.4%);\n",
       "}\n",
       "#T_820e7_row2_col21 {\n",
       "  width: 10em;\n",
       "  background: linear-gradient(90deg, darkblue 28.9%, transparent 28.9%);\n",
       "}\n",
       "#T_820e7_row2_col22 {\n",
       "  width: 10em;\n",
       "  background: linear-gradient(90deg, darkblue 26.7%, transparent 26.7%);\n",
       "}\n",
       "#T_820e7_row2_col23 {\n",
       "  width: 10em;\n",
       "  background: linear-gradient(90deg, darkblue 26.2%, transparent 26.2%);\n",
       "}\n",
       "#T_820e7_row2_col24 {\n",
       "  width: 10em;\n",
       "  background: linear-gradient(90deg, darkblue 28.2%, transparent 28.2%);\n",
       "}\n",
       "#T_820e7_row2_col25 {\n",
       "  width: 10em;\n",
       "  background: linear-gradient(90deg, darkblue 22.6%, transparent 22.6%);\n",
       "}\n",
       "#T_820e7_row2_col26 {\n",
       "  width: 10em;\n",
       "  background: linear-gradient(90deg, darkblue 22.2%, transparent 22.2%);\n",
       "}\n",
       "#T_820e7_row2_col27 {\n",
       "  width: 10em;\n",
       "  background: linear-gradient(90deg, darkblue 25.1%, transparent 25.1%);\n",
       "}\n",
       "#T_820e7_row2_col28, #T_820e7_row2_col29 {\n",
       "  width: 10em;\n",
       "  background: linear-gradient(90deg, darkblue 24.8%, transparent 24.8%);\n",
       "}\n",
       "#T_820e7_row2_col30 {\n",
       "  width: 10em;\n",
       "  background: linear-gradient(90deg, darkblue 20.4%, transparent 20.4%);\n",
       "}\n",
       "#T_820e7_row2_col31 {\n",
       "  width: 10em;\n",
       "  background: linear-gradient(90deg, darkblue 18.2%, transparent 18.2%);\n",
       "}\n",
       "#T_820e7_row2_col32 {\n",
       "  width: 10em;\n",
       "  background: linear-gradient(90deg, darkblue 19.2%, transparent 19.2%);\n",
       "}\n",
       "#T_820e7_row2_col33 {\n",
       "  width: 10em;\n",
       "  background: linear-gradient(90deg, darkblue 18.5%, transparent 18.5%);\n",
       "}\n",
       "#T_820e7_row3_col0 {\n",
       "  width: 10em;\n",
       "  background: linear-gradient(90deg, darkblue 32.9%, transparent 32.9%);\n",
       "}\n",
       "#T_820e7_row3_col1 {\n",
       "  width: 10em;\n",
       "  background: linear-gradient(90deg, darkblue 34.0%, transparent 34.0%);\n",
       "}\n",
       "#T_820e7_row3_col2 {\n",
       "  width: 10em;\n",
       "  background: linear-gradient(90deg, darkblue 39.3%, transparent 39.3%);\n",
       "}\n",
       "#T_820e7_row3_col3 {\n",
       "  width: 10em;\n",
       "  background: linear-gradient(90deg, darkblue 62.5%, transparent 62.5%);\n",
       "}\n",
       "#T_820e7_row3_col4 {\n",
       "  width: 10em;\n",
       "  background: linear-gradient(90deg, darkblue 50.2%, transparent 50.2%);\n",
       "}\n",
       "#T_820e7_row3_col5 {\n",
       "  width: 10em;\n",
       "  background: linear-gradient(90deg, darkblue 63.6%, transparent 63.6%);\n",
       "}\n",
       "#T_820e7_row3_col6 {\n",
       "  width: 10em;\n",
       "  background: linear-gradient(90deg, darkblue 73.7%, transparent 73.7%);\n",
       "}\n",
       "#T_820e7_row3_col7 {\n",
       "  width: 10em;\n",
       "  background: linear-gradient(90deg, darkblue 61.0%, transparent 61.0%);\n",
       "}\n",
       "#T_820e7_row3_col8 {\n",
       "  width: 10em;\n",
       "  background: linear-gradient(90deg, darkblue 40.1%, transparent 40.1%);\n",
       "}\n",
       "#T_820e7_row3_col9 {\n",
       "  width: 10em;\n",
       "  background: linear-gradient(90deg, darkblue 41.2%, transparent 41.2%);\n",
       "}\n",
       "#T_820e7_row3_col10 {\n",
       "  width: 10em;\n",
       "  background: linear-gradient(90deg, darkblue 38.4%, transparent 38.4%);\n",
       "}\n",
       "#T_820e7_row3_col11 {\n",
       "  width: 10em;\n",
       "  background: linear-gradient(90deg, darkblue 40.9%, transparent 40.9%);\n",
       "}\n",
       "#T_820e7_row3_col12 {\n",
       "  width: 10em;\n",
       "  background: linear-gradient(90deg, darkblue 41.7%, transparent 41.7%);\n",
       "}\n",
       "#T_820e7_row3_col13 {\n",
       "  width: 10em;\n",
       "  background: linear-gradient(90deg, darkblue 34.3%, transparent 34.3%);\n",
       "}\n",
       "#T_820e7_row3_col14 {\n",
       "  width: 10em;\n",
       "  background: linear-gradient(90deg, darkblue 24.0%, transparent 24.0%);\n",
       "}\n",
       "#T_820e7_row3_col15, #T_820e7_row4_col1 {\n",
       "  width: 10em;\n",
       "  background: linear-gradient(90deg, darkblue 22.4%, transparent 22.4%);\n",
       "}\n",
       "#T_820e7_row3_col16 {\n",
       "  width: 10em;\n",
       "  background: linear-gradient(90deg, darkblue 18.1%, transparent 18.1%);\n",
       "}\n",
       "#T_820e7_row3_col17, #T_820e7_row3_col33 {\n",
       "  width: 10em;\n",
       "  background: linear-gradient(90deg, darkblue 16.1%, transparent 16.1%);\n",
       "}\n",
       "#T_820e7_row3_col19 {\n",
       "  width: 10em;\n",
       "  background: linear-gradient(90deg, darkblue 14.1%, transparent 14.1%);\n",
       "}\n",
       "#T_820e7_row3_col20 {\n",
       "  width: 10em;\n",
       "  background: linear-gradient(90deg, darkblue 12.6%, transparent 12.6%);\n",
       "}\n",
       "#T_820e7_row3_col22 {\n",
       "  width: 10em;\n",
       "  background: linear-gradient(90deg, darkblue 14.0%, transparent 14.0%);\n",
       "}\n",
       "#T_820e7_row3_col23 {\n",
       "  width: 10em;\n",
       "  background: linear-gradient(90deg, darkblue 15.4%, transparent 15.4%);\n",
       "}\n",
       "#T_820e7_row3_col25 {\n",
       "  width: 10em;\n",
       "  background: linear-gradient(90deg, darkblue 15.5%, transparent 15.5%);\n",
       "}\n",
       "#T_820e7_row3_col26 {\n",
       "  width: 10em;\n",
       "  background: linear-gradient(90deg, darkblue 16.6%, transparent 16.6%);\n",
       "}\n",
       "#T_820e7_row3_col27 {\n",
       "  width: 10em;\n",
       "  background: linear-gradient(90deg, darkblue 19.5%, transparent 19.5%);\n",
       "}\n",
       "#T_820e7_row3_col28, #T_820e7_row3_col29, #T_820e7_row3_col31 {\n",
       "  width: 10em;\n",
       "  background: linear-gradient(90deg, darkblue 19.0%, transparent 19.0%);\n",
       "}\n",
       "#T_820e7_row3_col30 {\n",
       "  width: 10em;\n",
       "  background: linear-gradient(90deg, darkblue 17.6%, transparent 17.6%);\n",
       "}\n",
       "#T_820e7_row3_col32 {\n",
       "  width: 10em;\n",
       "  background: linear-gradient(90deg, darkblue 17.9%, transparent 17.9%);\n",
       "}\n",
       "#T_820e7_row4_col0 {\n",
       "  width: 10em;\n",
       "  background: linear-gradient(90deg, darkblue 23.6%, transparent 23.6%);\n",
       "}\n",
       "#T_820e7_row4_col3 {\n",
       "  width: 10em;\n",
       "  background: linear-gradient(90deg, darkblue 28.7%, transparent 28.7%);\n",
       "}\n",
       "#T_820e7_row4_col5 {\n",
       "  width: 10em;\n",
       "  background: linear-gradient(90deg, darkblue 27.4%, transparent 27.4%);\n",
       "}\n",
       "#T_820e7_row4_col6 {\n",
       "  width: 10em;\n",
       "  background: linear-gradient(90deg, darkblue 24.6%, transparent 24.6%);\n",
       "}\n",
       "#T_820e7_row4_col8 {\n",
       "  width: 10em;\n",
       "  background: linear-gradient(90deg, darkblue 11.8%, transparent 11.8%);\n",
       "}\n",
       "#T_820e7_row4_col9 {\n",
       "  width: 10em;\n",
       "  background: linear-gradient(90deg, darkblue 11.2%, transparent 11.2%);\n",
       "}\n",
       "#T_820e7_row4_col10 {\n",
       "  width: 10em;\n",
       "  background: linear-gradient(90deg, darkblue 8.1%, transparent 8.1%);\n",
       "}\n",
       "#T_820e7_row4_col11 {\n",
       "  width: 10em;\n",
       "  background: linear-gradient(90deg, darkblue 6.7%, transparent 6.7%);\n",
       "}\n",
       "#T_820e7_row4_col12, #T_820e7_row4_col13 {\n",
       "  width: 10em;\n",
       "  background: linear-gradient(90deg, darkblue 7.5%, transparent 7.5%);\n",
       "}\n",
       "#T_820e7_row4_col14 {\n",
       "  width: 10em;\n",
       "  background: linear-gradient(90deg, darkblue 6.6%, transparent 6.6%);\n",
       "}\n",
       "#T_820e7_row4_col15, #T_820e7_row4_col16 {\n",
       "  width: 10em;\n",
       "  background: linear-gradient(90deg, darkblue 5.4%, transparent 5.4%);\n",
       "}\n",
       "#T_820e7_row4_col17 {\n",
       "  width: 10em;\n",
       "  background: linear-gradient(90deg, darkblue 4.5%, transparent 4.5%);\n",
       "}\n",
       "#T_820e7_row4_col18, #T_820e7_row4_col19, #T_820e7_row5_col0 {\n",
       "  width: 10em;\n",
       "  background: linear-gradient(90deg, darkblue 4.9%, transparent 4.9%);\n",
       "}\n",
       "#T_820e7_row4_col20 {\n",
       "  width: 10em;\n",
       "  background: linear-gradient(90deg, darkblue 4.0%, transparent 4.0%);\n",
       "}\n",
       "#T_820e7_row4_col21 {\n",
       "  width: 10em;\n",
       "  background: linear-gradient(90deg, darkblue 3.8%, transparent 3.8%);\n",
       "}\n",
       "#T_820e7_row4_col22 {\n",
       "  width: 10em;\n",
       "  background: linear-gradient(90deg, darkblue 3.6%, transparent 3.6%);\n",
       "}\n",
       "#T_820e7_row4_col23 {\n",
       "  width: 10em;\n",
       "  background: linear-gradient(90deg, darkblue 4.2%, transparent 4.2%);\n",
       "}\n",
       "#T_820e7_row4_col24, #T_820e7_row4_col31, #T_820e7_row4_col32 {\n",
       "  width: 10em;\n",
       "  background: linear-gradient(90deg, darkblue 5.2%, transparent 5.2%);\n",
       "}\n",
       "#T_820e7_row4_col25 {\n",
       "  width: 10em;\n",
       "  background: linear-gradient(90deg, darkblue 5.3%, transparent 5.3%);\n",
       "}\n",
       "#T_820e7_row4_col26, #T_820e7_row4_col29 {\n",
       "  width: 10em;\n",
       "  background: linear-gradient(90deg, darkblue 6.4%, transparent 6.4%);\n",
       "}\n",
       "#T_820e7_row4_col27 {\n",
       "  width: 10em;\n",
       "  background: linear-gradient(90deg, darkblue 7.1%, transparent 7.1%);\n",
       "}\n",
       "#T_820e7_row4_col28 {\n",
       "  width: 10em;\n",
       "  background: linear-gradient(90deg, darkblue 7.3%, transparent 7.3%);\n",
       "}\n",
       "#T_820e7_row4_col30 {\n",
       "  width: 10em;\n",
       "  background: linear-gradient(90deg, darkblue 5.0%, transparent 5.0%);\n",
       "}\n",
       "#T_820e7_row4_col33 {\n",
       "  width: 10em;\n",
       "  background: linear-gradient(90deg, darkblue 5.5%, transparent 5.5%);\n",
       "}\n",
       "#T_820e7_row5_col1, #T_820e7_row5_col3 {\n",
       "  width: 10em;\n",
       "  background: linear-gradient(90deg, darkblue 4.1%, transparent 4.1%);\n",
       "}\n",
       "#T_820e7_row5_col2, #T_820e7_row5_col5 {\n",
       "  width: 10em;\n",
       "  background: linear-gradient(90deg, darkblue 3.9%, transparent 3.9%);\n",
       "}\n",
       "#T_820e7_row5_col4, #T_820e7_row5_col12 {\n",
       "  width: 10em;\n",
       "  background: linear-gradient(90deg, darkblue 3.2%, transparent 3.2%);\n",
       "}\n",
       "#T_820e7_row5_col6 {\n",
       "  width: 10em;\n",
       "  background: linear-gradient(90deg, darkblue 3.1%, transparent 3.1%);\n",
       "}\n",
       "#T_820e7_row5_col7, #T_820e7_row5_col13 {\n",
       "  width: 10em;\n",
       "  background: linear-gradient(90deg, darkblue 2.6%, transparent 2.6%);\n",
       "}\n",
       "#T_820e7_row5_col8, #T_820e7_row5_col14 {\n",
       "  width: 10em;\n",
       "  background: linear-gradient(90deg, darkblue 2.2%, transparent 2.2%);\n",
       "}\n",
       "#T_820e7_row5_col9 {\n",
       "  width: 10em;\n",
       "  background: linear-gradient(90deg, darkblue 2.5%, transparent 2.5%);\n",
       "}\n",
       "#T_820e7_row5_col10, #T_820e7_row5_col11 {\n",
       "  width: 10em;\n",
       "  background: linear-gradient(90deg, darkblue 2.8%, transparent 2.8%);\n",
       "}\n",
       "#T_820e7_row5_col15 {\n",
       "  width: 10em;\n",
       "  background: linear-gradient(90deg, darkblue 1.7%, transparent 1.7%);\n",
       "}\n",
       "#T_820e7_row5_col16 {\n",
       "  width: 10em;\n",
       "  background: linear-gradient(90deg, darkblue 1.5%, transparent 1.5%);\n",
       "}\n",
       "#T_820e7_row5_col17, #T_820e7_row5_col21, #T_820e7_row5_col22 {\n",
       "  width: 10em;\n",
       "  background: linear-gradient(90deg, darkblue 1.2%, transparent 1.2%);\n",
       "}\n",
       "#T_820e7_row5_col18, #T_820e7_row5_col30, #T_820e7_row5_col31, #T_820e7_row5_col32, #T_820e7_row5_col33 {\n",
       "  width: 10em;\n",
       "  background: linear-gradient(90deg, darkblue 1.1%, transparent 1.1%);\n",
       "}\n",
       "#T_820e7_row5_col19, #T_820e7_row5_col25, #T_820e7_row5_col26 {\n",
       "  width: 10em;\n",
       "  background: linear-gradient(90deg, darkblue 1.0%, transparent 1.0%);\n",
       "}\n",
       "#T_820e7_row5_col20 {\n",
       "  width: 10em;\n",
       "  background: linear-gradient(90deg, darkblue 0.9%, transparent 0.9%);\n",
       "}\n",
       "#T_820e7_row5_col23 {\n",
       "  width: 10em;\n",
       "  background: linear-gradient(90deg, darkblue 1.4%, transparent 1.4%);\n",
       "}\n",
       "#T_820e7_row5_col24, #T_820e7_row5_col27, #T_820e7_row5_col28, #T_820e7_row5_col29 {\n",
       "  width: 10em;\n",
       "  background: linear-gradient(90deg, darkblue 1.3%, transparent 1.3%);\n",
       "}\n",
       "</style>\n",
       "<table id=\"T_820e7\">\n",
       "  <thead>\n",
       "    <tr>\n",
       "      <th class=\"blank level0\" >&nbsp;</th>\n",
       "      <th id=\"T_820e7_level0_col0\" class=\"col_heading level0 col0\" >1980</th>\n",
       "      <th id=\"T_820e7_level0_col1\" class=\"col_heading level0 col1\" >1981</th>\n",
       "      <th id=\"T_820e7_level0_col2\" class=\"col_heading level0 col2\" >1982</th>\n",
       "      <th id=\"T_820e7_level0_col3\" class=\"col_heading level0 col3\" >1983</th>\n",
       "      <th id=\"T_820e7_level0_col4\" class=\"col_heading level0 col4\" >1984</th>\n",
       "      <th id=\"T_820e7_level0_col5\" class=\"col_heading level0 col5\" >1985</th>\n",
       "      <th id=\"T_820e7_level0_col6\" class=\"col_heading level0 col6\" >1986</th>\n",
       "      <th id=\"T_820e7_level0_col7\" class=\"col_heading level0 col7\" >1987</th>\n",
       "      <th id=\"T_820e7_level0_col8\" class=\"col_heading level0 col8\" >1988</th>\n",
       "      <th id=\"T_820e7_level0_col9\" class=\"col_heading level0 col9\" >1989</th>\n",
       "      <th id=\"T_820e7_level0_col10\" class=\"col_heading level0 col10\" >1990</th>\n",
       "      <th id=\"T_820e7_level0_col11\" class=\"col_heading level0 col11\" >1991</th>\n",
       "      <th id=\"T_820e7_level0_col12\" class=\"col_heading level0 col12\" >1992</th>\n",
       "      <th id=\"T_820e7_level0_col13\" class=\"col_heading level0 col13\" >1993</th>\n",
       "      <th id=\"T_820e7_level0_col14\" class=\"col_heading level0 col14\" >1994</th>\n",
       "      <th id=\"T_820e7_level0_col15\" class=\"col_heading level0 col15\" >1995</th>\n",
       "      <th id=\"T_820e7_level0_col16\" class=\"col_heading level0 col16\" >1996</th>\n",
       "      <th id=\"T_820e7_level0_col17\" class=\"col_heading level0 col17\" >1997</th>\n",
       "      <th id=\"T_820e7_level0_col18\" class=\"col_heading level0 col18\" >1998</th>\n",
       "      <th id=\"T_820e7_level0_col19\" class=\"col_heading level0 col19\" >1999</th>\n",
       "      <th id=\"T_820e7_level0_col20\" class=\"col_heading level0 col20\" >2000</th>\n",
       "      <th id=\"T_820e7_level0_col21\" class=\"col_heading level0 col21\" >2001</th>\n",
       "      <th id=\"T_820e7_level0_col22\" class=\"col_heading level0 col22\" >2002</th>\n",
       "      <th id=\"T_820e7_level0_col23\" class=\"col_heading level0 col23\" >2003</th>\n",
       "      <th id=\"T_820e7_level0_col24\" class=\"col_heading level0 col24\" >2004</th>\n",
       "      <th id=\"T_820e7_level0_col25\" class=\"col_heading level0 col25\" >2005</th>\n",
       "      <th id=\"T_820e7_level0_col26\" class=\"col_heading level0 col26\" >2006</th>\n",
       "      <th id=\"T_820e7_level0_col27\" class=\"col_heading level0 col27\" >2007</th>\n",
       "      <th id=\"T_820e7_level0_col28\" class=\"col_heading level0 col28\" >2008</th>\n",
       "      <th id=\"T_820e7_level0_col29\" class=\"col_heading level0 col29\" >2009</th>\n",
       "      <th id=\"T_820e7_level0_col30\" class=\"col_heading level0 col30\" >2010</th>\n",
       "      <th id=\"T_820e7_level0_col31\" class=\"col_heading level0 col31\" >2011</th>\n",
       "      <th id=\"T_820e7_level0_col32\" class=\"col_heading level0 col32\" >2012</th>\n",
       "      <th id=\"T_820e7_level0_col33\" class=\"col_heading level0 col33\" >2013</th>\n",
       "    </tr>\n",
       "    <tr>\n",
       "      <th class=\"index_name level0\" >continent</th>\n",
       "      <th class=\"blank col0\" >&nbsp;</th>\n",
       "      <th class=\"blank col1\" >&nbsp;</th>\n",
       "      <th class=\"blank col2\" >&nbsp;</th>\n",
       "      <th class=\"blank col3\" >&nbsp;</th>\n",
       "      <th class=\"blank col4\" >&nbsp;</th>\n",
       "      <th class=\"blank col5\" >&nbsp;</th>\n",
       "      <th class=\"blank col6\" >&nbsp;</th>\n",
       "      <th class=\"blank col7\" >&nbsp;</th>\n",
       "      <th class=\"blank col8\" >&nbsp;</th>\n",
       "      <th class=\"blank col9\" >&nbsp;</th>\n",
       "      <th class=\"blank col10\" >&nbsp;</th>\n",
       "      <th class=\"blank col11\" >&nbsp;</th>\n",
       "      <th class=\"blank col12\" >&nbsp;</th>\n",
       "      <th class=\"blank col13\" >&nbsp;</th>\n",
       "      <th class=\"blank col14\" >&nbsp;</th>\n",
       "      <th class=\"blank col15\" >&nbsp;</th>\n",
       "      <th class=\"blank col16\" >&nbsp;</th>\n",
       "      <th class=\"blank col17\" >&nbsp;</th>\n",
       "      <th class=\"blank col18\" >&nbsp;</th>\n",
       "      <th class=\"blank col19\" >&nbsp;</th>\n",
       "      <th class=\"blank col20\" >&nbsp;</th>\n",
       "      <th class=\"blank col21\" >&nbsp;</th>\n",
       "      <th class=\"blank col22\" >&nbsp;</th>\n",
       "      <th class=\"blank col23\" >&nbsp;</th>\n",
       "      <th class=\"blank col24\" >&nbsp;</th>\n",
       "      <th class=\"blank col25\" >&nbsp;</th>\n",
       "      <th class=\"blank col26\" >&nbsp;</th>\n",
       "      <th class=\"blank col27\" >&nbsp;</th>\n",
       "      <th class=\"blank col28\" >&nbsp;</th>\n",
       "      <th class=\"blank col29\" >&nbsp;</th>\n",
       "      <th class=\"blank col30\" >&nbsp;</th>\n",
       "      <th class=\"blank col31\" >&nbsp;</th>\n",
       "      <th class=\"blank col32\" >&nbsp;</th>\n",
       "      <th class=\"blank col33\" >&nbsp;</th>\n",
       "    </tr>\n",
       "  </thead>\n",
       "  <tbody>\n",
       "    <tr>\n",
       "      <th id=\"T_820e7_level0_row0\" class=\"row_heading level0 row0\" >Africa</th>\n",
       "      <td id=\"T_820e7_row0_col0\" class=\"data row0 col0\" >3951</td>\n",
       "      <td id=\"T_820e7_row0_col1\" class=\"data row0 col1\" >4363</td>\n",
       "      <td id=\"T_820e7_row0_col2\" class=\"data row0 col2\" >3819</td>\n",
       "      <td id=\"T_820e7_row0_col3\" class=\"data row0 col3\" >2671</td>\n",
       "      <td id=\"T_820e7_row0_col4\" class=\"data row0 col4\" >2639</td>\n",
       "      <td id=\"T_820e7_row0_col5\" class=\"data row0 col5\" >2650</td>\n",
       "      <td id=\"T_820e7_row0_col6\" class=\"data row0 col6\" >3782</td>\n",
       "      <td id=\"T_820e7_row0_col7\" class=\"data row0 col7\" >7494</td>\n",
       "      <td id=\"T_820e7_row0_col8\" class=\"data row0 col8\" >7552</td>\n",
       "      <td id=\"T_820e7_row0_col9\" class=\"data row0 col9\" >9894</td>\n",
       "      <td id=\"T_820e7_row0_col10\" class=\"data row0 col10\" >11012</td>\n",
       "      <td id=\"T_820e7_row0_col11\" class=\"data row0 col11\" >14228</td>\n",
       "      <td id=\"T_820e7_row0_col12\" class=\"data row0 col12\" >19242</td>\n",
       "      <td id=\"T_820e7_row0_col13\" class=\"data row0 col13\" >16531</td>\n",
       "      <td id=\"T_820e7_row0_col14\" class=\"data row0 col14\" >13072</td>\n",
       "      <td id=\"T_820e7_row0_col15\" class=\"data row0 col15\" >14806</td>\n",
       "      <td id=\"T_820e7_row0_col16\" class=\"data row0 col16\" >15700</td>\n",
       "      <td id=\"T_820e7_row0_col17\" class=\"data row0 col17\" >14471</td>\n",
       "      <td id=\"T_820e7_row0_col18\" class=\"data row0 col18\" >13791</td>\n",
       "      <td id=\"T_820e7_row0_col19\" class=\"data row0 col19\" >15996</td>\n",
       "      <td id=\"T_820e7_row0_col20\" class=\"data row0 col20\" >20346</td>\n",
       "      <td id=\"T_820e7_row0_col21\" class=\"data row0 col21\" >24292</td>\n",
       "      <td id=\"T_820e7_row0_col22\" class=\"data row0 col22\" >22710</td>\n",
       "      <td id=\"T_820e7_row0_col23\" class=\"data row0 col23\" >23366</td>\n",
       "      <td id=\"T_820e7_row0_col24\" class=\"data row0 col24\" >28192</td>\n",
       "      <td id=\"T_820e7_row0_col25\" class=\"data row0 col25\" >27523</td>\n",
       "      <td id=\"T_820e7_row0_col26\" class=\"data row0 col26\" >29188</td>\n",
       "      <td id=\"T_820e7_row0_col27\" class=\"data row0 col27\" >28284</td>\n",
       "      <td id=\"T_820e7_row0_col28\" class=\"data row0 col28\" >29890</td>\n",
       "      <td id=\"T_820e7_row0_col29\" class=\"data row0 col29\" >34534</td>\n",
       "      <td id=\"T_820e7_row0_col30\" class=\"data row0 col30\" >40892</td>\n",
       "      <td id=\"T_820e7_row0_col31\" class=\"data row0 col31\" >35441</td>\n",
       "      <td id=\"T_820e7_row0_col32\" class=\"data row0 col32\" >38083</td>\n",
       "      <td id=\"T_820e7_row0_col33\" class=\"data row0 col33\" >38543</td>\n",
       "    </tr>\n",
       "    <tr>\n",
       "      <th id=\"T_820e7_level0_row1\" class=\"row_heading level0 row1\" >Asia</th>\n",
       "      <td id=\"T_820e7_row1_col0\" class=\"data row1 col0\" >31025</td>\n",
       "      <td id=\"T_820e7_row1_col1\" class=\"data row1 col1\" >34314</td>\n",
       "      <td id=\"T_820e7_row1_col2\" class=\"data row1 col2\" >30214</td>\n",
       "      <td id=\"T_820e7_row1_col3\" class=\"data row1 col3\" >24696</td>\n",
       "      <td id=\"T_820e7_row1_col4\" class=\"data row1 col4\" >27274</td>\n",
       "      <td id=\"T_820e7_row1_col5\" class=\"data row1 col5\" >23850</td>\n",
       "      <td id=\"T_820e7_row1_col6\" class=\"data row1 col6\" >28739</td>\n",
       "      <td id=\"T_820e7_row1_col7\" class=\"data row1 col7\" >43203</td>\n",
       "      <td id=\"T_820e7_row1_col8\" class=\"data row1 col8\" >47454</td>\n",
       "      <td id=\"T_820e7_row1_col9\" class=\"data row1 col9\" >60256</td>\n",
       "      <td id=\"T_820e7_row1_col10\" class=\"data row1 col10\" >72829</td>\n",
       "      <td id=\"T_820e7_row1_col11\" class=\"data row1 col11\" >89964</td>\n",
       "      <td id=\"T_820e7_row1_col12\" class=\"data row1 col12\" >90752</td>\n",
       "      <td id=\"T_820e7_row1_col13\" class=\"data row1 col13\" >98737</td>\n",
       "      <td id=\"T_820e7_row1_col14\" class=\"data row1 col14\" >88852</td>\n",
       "      <td id=\"T_820e7_row1_col15\" class=\"data row1 col15\" >90424</td>\n",
       "      <td id=\"T_820e7_row1_col16\" class=\"data row1 col16\" >103030</td>\n",
       "      <td id=\"T_820e7_row1_col17\" class=\"data row1 col17\" >106383</td>\n",
       "      <td id=\"T_820e7_row1_col18\" class=\"data row1 col18\" >90929</td>\n",
       "      <td id=\"T_820e7_row1_col19\" class=\"data row1 col19\" >106844</td>\n",
       "      <td id=\"T_820e7_row1_col20\" class=\"data row1 col20\" >134544</td>\n",
       "      <td id=\"T_820e7_row1_col21\" class=\"data row1 col21\" >148083</td>\n",
       "      <td id=\"T_820e7_row1_col22\" class=\"data row1 col22\" >137653</td>\n",
       "      <td id=\"T_820e7_row1_col23\" class=\"data row1 col23\" >131769</td>\n",
       "      <td id=\"T_820e7_row1_col24\" class=\"data row1 col24\" >134850</td>\n",
       "      <td id=\"T_820e7_row1_col25\" class=\"data row1 col25\" >159253</td>\n",
       "      <td id=\"T_820e7_row1_col26\" class=\"data row1 col26\" >149054</td>\n",
       "      <td id=\"T_820e7_row1_col27\" class=\"data row1 col27\" >133459</td>\n",
       "      <td id=\"T_820e7_row1_col28\" class=\"data row1 col28\" >139894</td>\n",
       "      <td id=\"T_820e7_row1_col29\" class=\"data row1 col29\" >141434</td>\n",
       "      <td id=\"T_820e7_row1_col30\" class=\"data row1 col30\" >163845</td>\n",
       "      <td id=\"T_820e7_row1_col31\" class=\"data row1 col31\" >146894</td>\n",
       "      <td id=\"T_820e7_row1_col32\" class=\"data row1 col32\" >152218</td>\n",
       "      <td id=\"T_820e7_row1_col33\" class=\"data row1 col33\" >155075</td>\n",
       "    </tr>\n",
       "    <tr>\n",
       "      <th id=\"T_820e7_level0_row2\" class=\"row_heading level0 row2\" >Europe</th>\n",
       "      <td id=\"T_820e7_row2_col0\" class=\"data row2 col0\" >39760</td>\n",
       "      <td id=\"T_820e7_row2_col1\" class=\"data row2 col1\" >44802</td>\n",
       "      <td id=\"T_820e7_row2_col2\" class=\"data row2 col2\" >42720</td>\n",
       "      <td id=\"T_820e7_row2_col3\" class=\"data row2 col3\" >24638</td>\n",
       "      <td id=\"T_820e7_row2_col4\" class=\"data row2 col4\" >22287</td>\n",
       "      <td id=\"T_820e7_row2_col5\" class=\"data row2 col5\" >20844</td>\n",
       "      <td id=\"T_820e7_row2_col6\" class=\"data row2 col6\" >24370</td>\n",
       "      <td id=\"T_820e7_row2_col7\" class=\"data row2 col7\" >46698</td>\n",
       "      <td id=\"T_820e7_row2_col8\" class=\"data row2 col8\" >54726</td>\n",
       "      <td id=\"T_820e7_row2_col9\" class=\"data row2 col9\" >60893</td>\n",
       "      <td id=\"T_820e7_row2_col10\" class=\"data row2 col10\" >68301</td>\n",
       "      <td id=\"T_820e7_row2_col11\" class=\"data row2 col11\" >57938</td>\n",
       "      <td id=\"T_820e7_row2_col12\" class=\"data row2 col12\" >64123</td>\n",
       "      <td id=\"T_820e7_row2_col13\" class=\"data row2 col13\" >62937</td>\n",
       "      <td id=\"T_820e7_row2_col14\" class=\"data row2 col14\" >62531</td>\n",
       "      <td id=\"T_820e7_row2_col15\" class=\"data row2 col15\" >55764</td>\n",
       "      <td id=\"T_820e7_row2_col16\" class=\"data row2 col16\" >55642</td>\n",
       "      <td id=\"T_820e7_row2_col17\" class=\"data row2 col17\" >48841</td>\n",
       "      <td id=\"T_820e7_row2_col18\" class=\"data row2 col18\" >36719</td>\n",
       "      <td id=\"T_820e7_row2_col19\" class=\"data row2 col19\" >35639</td>\n",
       "      <td id=\"T_820e7_row2_col20\" class=\"data row2 col20\" >38215</td>\n",
       "      <td id=\"T_820e7_row2_col21\" class=\"data row2 col21\" >42779</td>\n",
       "      <td id=\"T_820e7_row2_col22\" class=\"data row2 col22\" >36798</td>\n",
       "      <td id=\"T_820e7_row2_col23\" class=\"data row2 col23\" >34556</td>\n",
       "      <td id=\"T_820e7_row2_col24\" class=\"data row2 col24\" >38082</td>\n",
       "      <td id=\"T_820e7_row2_col25\" class=\"data row2 col25\" >35955</td>\n",
       "      <td id=\"T_820e7_row2_col26\" class=\"data row2 col26\" >33053</td>\n",
       "      <td id=\"T_820e7_row2_col27\" class=\"data row2 col27\" >33495</td>\n",
       "      <td id=\"T_820e7_row2_col28\" class=\"data row2 col28\" >34692</td>\n",
       "      <td id=\"T_820e7_row2_col29\" class=\"data row2 col29\" >35078</td>\n",
       "      <td id=\"T_820e7_row2_col30\" class=\"data row2 col30\" >33425</td>\n",
       "      <td id=\"T_820e7_row2_col31\" class=\"data row2 col31\" >26778</td>\n",
       "      <td id=\"T_820e7_row2_col32\" class=\"data row2 col32\" >29177</td>\n",
       "      <td id=\"T_820e7_row2_col33\" class=\"data row2 col33\" >28691</td>\n",
       "    </tr>\n",
       "    <tr>\n",
       "      <th id=\"T_820e7_level0_row3\" class=\"row_heading level0 row3\" >Latin America and the Caribbean</th>\n",
       "      <td id=\"T_820e7_row3_col0\" class=\"data row3 col0\" >13081</td>\n",
       "      <td id=\"T_820e7_row3_col1\" class=\"data row3 col1\" >15215</td>\n",
       "      <td id=\"T_820e7_row3_col2\" class=\"data row3 col2\" >16769</td>\n",
       "      <td id=\"T_820e7_row3_col3\" class=\"data row3 col3\" >15427</td>\n",
       "      <td id=\"T_820e7_row3_col4\" class=\"data row3 col4\" >13678</td>\n",
       "      <td id=\"T_820e7_row3_col5\" class=\"data row3 col5\" >15171</td>\n",
       "      <td id=\"T_820e7_row3_col6\" class=\"data row3 col6\" >21179</td>\n",
       "      <td id=\"T_820e7_row3_col7\" class=\"data row3 col7\" >28471</td>\n",
       "      <td id=\"T_820e7_row3_col8\" class=\"data row3 col8\" >21924</td>\n",
       "      <td id=\"T_820e7_row3_col9\" class=\"data row3 col9\" >25060</td>\n",
       "      <td id=\"T_820e7_row3_col10\" class=\"data row3 col10\" >27942</td>\n",
       "      <td id=\"T_820e7_row3_col11\" class=\"data row3 col11\" >36827</td>\n",
       "      <td id=\"T_820e7_row3_col12\" class=\"data row3 col12\" >37853</td>\n",
       "      <td id=\"T_820e7_row3_col13\" class=\"data row3 col13\" >33840</td>\n",
       "      <td id=\"T_820e7_row3_col14\" class=\"data row3 col14\" >21341</td>\n",
       "      <td id=\"T_820e7_row3_col15\" class=\"data row3 col15\" >20262</td>\n",
       "      <td id=\"T_820e7_row3_col16\" class=\"data row3 col16\" >18645</td>\n",
       "      <td id=\"T_820e7_row3_col17\" class=\"data row3 col17\" >17174</td>\n",
       "      <td id=\"T_820e7_row3_col18\" class=\"data row3 col18\" >13830</td>\n",
       "      <td id=\"T_820e7_row3_col19\" class=\"data row3 col19\" >15088</td>\n",
       "      <td id=\"T_820e7_row3_col20\" class=\"data row3 col20\" >16898</td>\n",
       "      <td id=\"T_820e7_row3_col21\" class=\"data row3 col21\" >20067</td>\n",
       "      <td id=\"T_820e7_row3_col22\" class=\"data row3 col22\" >19317</td>\n",
       "      <td id=\"T_820e7_row3_col23\" class=\"data row3 col23\" >20263</td>\n",
       "      <td id=\"T_820e7_row3_col24\" class=\"data row3 col24\" >22181</td>\n",
       "      <td id=\"T_820e7_row3_col25\" class=\"data row3 col25\" >24747</td>\n",
       "      <td id=\"T_820e7_row3_col26\" class=\"data row3 col26\" >24676</td>\n",
       "      <td id=\"T_820e7_row3_col27\" class=\"data row3 col27\" >26011</td>\n",
       "      <td id=\"T_820e7_row3_col28\" class=\"data row3 col28\" >26547</td>\n",
       "      <td id=\"T_820e7_row3_col29\" class=\"data row3 col29\" >26867</td>\n",
       "      <td id=\"T_820e7_row3_col30\" class=\"data row3 col30\" >28818</td>\n",
       "      <td id=\"T_820e7_row3_col31\" class=\"data row3 col31\" >27856</td>\n",
       "      <td id=\"T_820e7_row3_col32\" class=\"data row3 col32\" >27173</td>\n",
       "      <td id=\"T_820e7_row3_col33\" class=\"data row3 col33\" >24950</td>\n",
       "    </tr>\n",
       "    <tr>\n",
       "      <th id=\"T_820e7_level0_row4\" class=\"row_heading level0 row4\" >Northern America</th>\n",
       "      <td id=\"T_820e7_row4_col0\" class=\"data row4 col0\" >9378</td>\n",
       "      <td id=\"T_820e7_row4_col1\" class=\"data row4 col1\" >10030</td>\n",
       "      <td id=\"T_820e7_row4_col2\" class=\"data row4 col2\" >9074</td>\n",
       "      <td id=\"T_820e7_row4_col3\" class=\"data row4 col3\" >7100</td>\n",
       "      <td id=\"T_820e7_row4_col4\" class=\"data row4 col4\" >6661</td>\n",
       "      <td id=\"T_820e7_row4_col5\" class=\"data row4 col5\" >6543</td>\n",
       "      <td id=\"T_820e7_row4_col6\" class=\"data row4 col6\" >7074</td>\n",
       "      <td id=\"T_820e7_row4_col7\" class=\"data row4 col7\" >7705</td>\n",
       "      <td id=\"T_820e7_row4_col8\" class=\"data row4 col8\" >6469</td>\n",
       "      <td id=\"T_820e7_row4_col9\" class=\"data row4 col9\" >6790</td>\n",
       "      <td id=\"T_820e7_row4_col10\" class=\"data row4 col10\" >5895</td>\n",
       "      <td id=\"T_820e7_row4_col11\" class=\"data row4 col11\" >6057</td>\n",
       "      <td id=\"T_820e7_row4_col12\" class=\"data row4 col12\" >6846</td>\n",
       "      <td id=\"T_820e7_row4_col13\" class=\"data row4 col13\" >7438</td>\n",
       "      <td id=\"T_820e7_row4_col14\" class=\"data row4 col14\" >5902</td>\n",
       "      <td id=\"T_820e7_row4_col15\" class=\"data row4 col15\" >4891</td>\n",
       "      <td id=\"T_820e7_row4_col16\" class=\"data row4 col16\" >5516</td>\n",
       "      <td id=\"T_820e7_row4_col17\" class=\"data row4 col17\" >4753</td>\n",
       "      <td id=\"T_820e7_row4_col18\" class=\"data row4 col18\" >4437</td>\n",
       "      <td id=\"T_820e7_row4_col19\" class=\"data row4 col19\" >5196</td>\n",
       "      <td id=\"T_820e7_row4_col20\" class=\"data row4 col20\" >5433</td>\n",
       "      <td id=\"T_820e7_row4_col21\" class=\"data row4 col21\" >5604</td>\n",
       "      <td id=\"T_820e7_row4_col22\" class=\"data row4 col22\" >4948</td>\n",
       "      <td id=\"T_820e7_row4_col23\" class=\"data row4 col23\" >5543</td>\n",
       "      <td id=\"T_820e7_row4_col24\" class=\"data row4 col24\" >6990</td>\n",
       "      <td id=\"T_820e7_row4_col25\" class=\"data row4 col25\" >8394</td>\n",
       "      <td id=\"T_820e7_row4_col26\" class=\"data row4 col26\" >9613</td>\n",
       "      <td id=\"T_820e7_row4_col27\" class=\"data row4 col27\" >9463</td>\n",
       "      <td id=\"T_820e7_row4_col28\" class=\"data row4 col28\" >10190</td>\n",
       "      <td id=\"T_820e7_row4_col29\" class=\"data row4 col29\" >8995</td>\n",
       "      <td id=\"T_820e7_row4_col30\" class=\"data row4 col30\" >8142</td>\n",
       "      <td id=\"T_820e7_row4_col31\" class=\"data row4 col31\" >7677</td>\n",
       "      <td id=\"T_820e7_row4_col32\" class=\"data row4 col32\" >7892</td>\n",
       "      <td id=\"T_820e7_row4_col33\" class=\"data row4 col33\" >8503</td>\n",
       "    </tr>\n",
       "    <tr>\n",
       "      <th id=\"T_820e7_level0_row5\" class=\"row_heading level0 row5\" >Oceania</th>\n",
       "      <td id=\"T_820e7_row5_col0\" class=\"data row5 col0\" >1942</td>\n",
       "      <td id=\"T_820e7_row5_col1\" class=\"data row5 col1\" >1839</td>\n",
       "      <td id=\"T_820e7_row5_col2\" class=\"data row5 col2\" >1675</td>\n",
       "      <td id=\"T_820e7_row5_col3\" class=\"data row5 col3\" >1018</td>\n",
       "      <td id=\"T_820e7_row5_col4\" class=\"data row5 col4\" >878</td>\n",
       "      <td id=\"T_820e7_row5_col5\" class=\"data row5 col5\" >920</td>\n",
       "      <td id=\"T_820e7_row5_col6\" class=\"data row5 col6\" >904</td>\n",
       "      <td id=\"T_820e7_row5_col7\" class=\"data row5 col7\" >1200</td>\n",
       "      <td id=\"T_820e7_row5_col8\" class=\"data row5 col8\" >1181</td>\n",
       "      <td id=\"T_820e7_row5_col9\" class=\"data row5 col9\" >1539</td>\n",
       "      <td id=\"T_820e7_row5_col10\" class=\"data row5 col10\" >2075</td>\n",
       "      <td id=\"T_820e7_row5_col11\" class=\"data row5 col11\" >2495</td>\n",
       "      <td id=\"T_820e7_row5_col12\" class=\"data row5 col12\" >2871</td>\n",
       "      <td id=\"T_820e7_row5_col13\" class=\"data row5 col13\" >2566</td>\n",
       "      <td id=\"T_820e7_row5_col14\" class=\"data row5 col14\" >1967</td>\n",
       "      <td id=\"T_820e7_row5_col15\" class=\"data row5 col15\" >1565</td>\n",
       "      <td id=\"T_820e7_row5_col16\" class=\"data row5 col16\" >1552</td>\n",
       "      <td id=\"T_820e7_row5_col17\" class=\"data row5 col17\" >1263</td>\n",
       "      <td id=\"T_820e7_row5_col18\" class=\"data row5 col18\" >1021</td>\n",
       "      <td id=\"T_820e7_row5_col19\" class=\"data row5 col19\" >1055</td>\n",
       "      <td id=\"T_820e7_row5_col20\" class=\"data row5 col20\" >1276</td>\n",
       "      <td id=\"T_820e7_row5_col21\" class=\"data row5 col21\" >1818</td>\n",
       "      <td id=\"T_820e7_row5_col22\" class=\"data row5 col22\" >1685</td>\n",
       "      <td id=\"T_820e7_row5_col23\" class=\"data row5 col23\" >1800</td>\n",
       "      <td id=\"T_820e7_row5_col24\" class=\"data row5 col24\" >1788</td>\n",
       "      <td id=\"T_820e7_row5_col25\" class=\"data row5 col25\" >1585</td>\n",
       "      <td id=\"T_820e7_row5_col26\" class=\"data row5 col26\" >1473</td>\n",
       "      <td id=\"T_820e7_row5_col27\" class=\"data row5 col27\" >1693</td>\n",
       "      <td id=\"T_820e7_row5_col28\" class=\"data row5 col28\" >1834</td>\n",
       "      <td id=\"T_820e7_row5_col29\" class=\"data row5 col29\" >1860</td>\n",
       "      <td id=\"T_820e7_row5_col30\" class=\"data row5 col30\" >1834</td>\n",
       "      <td id=\"T_820e7_row5_col31\" class=\"data row5 col31\" >1548</td>\n",
       "      <td id=\"T_820e7_row5_col32\" class=\"data row5 col32\" >1679</td>\n",
       "      <td id=\"T_820e7_row5_col33\" class=\"data row5 col33\" >1775</td>\n",
       "    </tr>\n",
       "  </tbody>\n",
       "</table>\n"
      ],
      "text/plain": [
       "<pandas.io.formats.style.Styler at 0x12f31610>"
      ]
     },
     "execution_count": 19,
     "metadata": {},
     "output_type": "execute_result"
    }
   ],
   "source": [
    "continent_df.style.bar(color='darkblue')"
   ]
  },
  {
   "cell_type": "code",
   "execution_count": 20,
   "metadata": {},
   "outputs": [
    {
     "data": {
      "text/html": [
       "<style type=\"text/css\">\n",
       "#T_0348f_row0_col0, #T_0348f_row0_col2, #T_0348f_row4_col10, #T_0348f_row4_col29 {\n",
       "  color: #6629fe;\n",
       "}\n",
       "#T_0348f_row0_col1, #T_0348f_row4_col27, #T_0348f_row4_col28 {\n",
       "  color: #622ffe;\n",
       "}\n",
       "#T_0348f_row0_col3, #T_0348f_row0_col4 {\n",
       "  color: #5e35fe;\n",
       "}\n",
       "#T_0348f_row0_col5 {\n",
       "  color: #5a3bfd;\n",
       "}\n",
       "#T_0348f_row0_col6 {\n",
       "  color: #4c50fc;\n",
       "}\n",
       "#T_0348f_row0_col7, #T_0348f_row0_col16 {\n",
       "  color: #396bf9;\n",
       "}\n",
       "#T_0348f_row0_col8, #T_0348f_row3_col20 {\n",
       "  color: #445cfb;\n",
       "}\n",
       "#T_0348f_row0_col9, #T_0348f_row0_col18, #T_0348f_row0_col19, #T_0348f_row0_col20, #T_0348f_row3_col18, #T_0348f_row3_col23, #T_0348f_row4_col7 {\n",
       "  color: #386df9;\n",
       "}\n",
       "#T_0348f_row0_col10, #T_0348f_row0_col14, #T_0348f_row0_col17 {\n",
       "  color: #4062fa;\n",
       "}\n",
       "#T_0348f_row0_col11 {\n",
       "  color: #3c68f9;\n",
       "}\n",
       "#T_0348f_row0_col12, #T_0348f_row3_col27 {\n",
       "  color: #218cf4;\n",
       "}\n",
       "#T_0348f_row0_col13, #T_0348f_row3_col25 {\n",
       "  color: #3670f8;\n",
       "}\n",
       "#T_0348f_row0_col15, #T_0348f_row3_col17, #T_0348f_row3_col33 {\n",
       "  color: #3473f8;\n",
       "}\n",
       "#T_0348f_row0_col21, #T_0348f_row0_col22, #T_0348f_row3_col24 {\n",
       "  color: #3176f8;\n",
       "}\n",
       "#T_0348f_row0_col23, #T_0348f_row0_col25, #T_0348f_row3_col30 {\n",
       "  color: #2c7ef7;\n",
       "}\n",
       "#T_0348f_row0_col24, #T_0348f_row4_col0 {\n",
       "  color: #1c93f3;\n",
       "}\n",
       "#T_0348f_row0_col26, #T_0348f_row4_col1 {\n",
       "  color: #208ef4;\n",
       "}\n",
       "#T_0348f_row0_col27 {\n",
       "  color: #1996f3;\n",
       "}\n",
       "#T_0348f_row0_col28 {\n",
       "  color: #1898f2;\n",
       "}\n",
       "#T_0348f_row0_col29, #T_0348f_row0_col31 {\n",
       "  color: #09a9ee;\n",
       "}\n",
       "#T_0348f_row0_col30, #T_0348f_row0_col32, #T_0348f_row0_col33, #T_0348f_row2_col27 {\n",
       "  color: #06aeed;\n",
       "}\n",
       "#T_0348f_row1_col0 {\n",
       "  color: #ffa95b;\n",
       "}\n",
       "#T_0348f_row1_col1 {\n",
       "  color: #ffb05f;\n",
       "}\n",
       "#T_0348f_row1_col2 {\n",
       "  color: #e2d176;\n",
       "}\n",
       "#T_0348f_row1_col3, #T_0348f_row1_col4, #T_0348f_row1_col5, #T_0348f_row1_col6, #T_0348f_row1_col10, #T_0348f_row1_col11, #T_0348f_row1_col12, #T_0348f_row1_col13, #T_0348f_row1_col14, #T_0348f_row1_col15, #T_0348f_row1_col16, #T_0348f_row1_col17, #T_0348f_row1_col18, #T_0348f_row1_col19, #T_0348f_row1_col20, #T_0348f_row1_col21, #T_0348f_row1_col22, #T_0348f_row1_col23, #T_0348f_row1_col24, #T_0348f_row1_col25, #T_0348f_row1_col26, #T_0348f_row1_col27, #T_0348f_row1_col28, #T_0348f_row1_col29, #T_0348f_row1_col30, #T_0348f_row1_col31, #T_0348f_row1_col32, #T_0348f_row1_col33, #T_0348f_row2_col0, #T_0348f_row2_col1, #T_0348f_row2_col2, #T_0348f_row2_col3, #T_0348f_row2_col7, #T_0348f_row2_col8, #T_0348f_row2_col9 {\n",
       "  color: #ff0000;\n",
       "}\n",
       "#T_0348f_row1_col7 {\n",
       "  color: #ff3b1e;\n",
       "}\n",
       "#T_0348f_row1_col8 {\n",
       "  color: #ff6835;\n",
       "}\n",
       "#T_0348f_row1_col9 {\n",
       "  color: #ff0603;\n",
       "}\n",
       "#T_0348f_row2_col4 {\n",
       "  color: #ff8e4a;\n",
       "}\n",
       "#T_0348f_row2_col5 {\n",
       "  color: #ff6533;\n",
       "}\n",
       "#T_0348f_row2_col6 {\n",
       "  color: #ff793e;\n",
       "}\n",
       "#T_0348f_row2_col10 {\n",
       "  color: #ff3219;\n",
       "}\n",
       "#T_0348f_row2_col11 {\n",
       "  color: #c4e88a;\n",
       "}\n",
       "#T_0348f_row2_col12, #T_0348f_row2_col14 {\n",
       "  color: #e4cf74;\n",
       "}\n",
       "#T_0348f_row2_col13 {\n",
       "  color: #c0eb8d;\n",
       "}\n",
       "#T_0348f_row2_col15 {\n",
       "  color: #b9ef92;\n",
       "}\n",
       "#T_0348f_row2_col16 {\n",
       "  color: #90feab;\n",
       "}\n",
       "#T_0348f_row2_col17 {\n",
       "  color: #66fcc2;\n",
       "}\n",
       "#T_0348f_row2_col18, #T_0348f_row3_col9, #T_0348f_row3_col12 {\n",
       "  color: #4af2cf;\n",
       "}\n",
       "#T_0348f_row2_col19, #T_0348f_row3_col13 {\n",
       "  color: #27dade;\n",
       "}\n",
       "#T_0348f_row2_col20 {\n",
       "  color: #0dc2e8;\n",
       "}\n",
       "#T_0348f_row2_col21 {\n",
       "  color: #0fc4e7;\n",
       "}\n",
       "#T_0348f_row2_col22 {\n",
       "  color: #04b9ea;\n",
       "}\n",
       "#T_0348f_row2_col23 {\n",
       "  color: #00b5eb;\n",
       "}\n",
       "#T_0348f_row2_col24 {\n",
       "  color: #0ac0e8;\n",
       "}\n",
       "#T_0348f_row2_col25 {\n",
       "  color: #11a0f1;\n",
       "}\n",
       "#T_0348f_row2_col26 {\n",
       "  color: #149df1;\n",
       "}\n",
       "#T_0348f_row2_col28, #T_0348f_row2_col29 {\n",
       "  color: #08acee;\n",
       "}\n",
       "#T_0348f_row2_col30 {\n",
       "  color: #1e91f3;\n",
       "}\n",
       "#T_0348f_row2_col31, #T_0348f_row2_col33 {\n",
       "  color: #2884f6;\n",
       "}\n",
       "#T_0348f_row2_col32, #T_0348f_row3_col31, #T_0348f_row4_col2 {\n",
       "  color: #2489f5;\n",
       "}\n",
       "#T_0348f_row3_col0 {\n",
       "  color: #17cbe4;\n",
       "}\n",
       "#T_0348f_row3_col1 {\n",
       "  color: #1fd3e1;\n",
       "}\n",
       "#T_0348f_row3_col2 {\n",
       "  color: #3dead5;\n",
       "}\n",
       "#T_0348f_row3_col3 {\n",
       "  color: #b6f193;\n",
       "}\n",
       "#T_0348f_row3_col4 {\n",
       "  color: #78ffb8;\n",
       "}\n",
       "#T_0348f_row3_col5 {\n",
       "  color: #beec8e;\n",
       "}\n",
       "#T_0348f_row3_col6 {\n",
       "  color: #f4c069;\n",
       "}\n",
       "#T_0348f_row3_col7 {\n",
       "  color: #b2f396;\n",
       "}\n",
       "#T_0348f_row3_col8 {\n",
       "  color: #46efd1;\n",
       "}\n",
       "#T_0348f_row3_col10 {\n",
       "  color: #3ae8d6;\n",
       "}\n",
       "#T_0348f_row3_col11 {\n",
       "  color: #48f1d0;\n",
       "}\n",
       "#T_0348f_row3_col14 {\n",
       "  color: #0ea5ef;\n",
       "}\n",
       "#T_0348f_row3_col15 {\n",
       "  color: #169bf2;\n",
       "}\n",
       "#T_0348f_row3_col16, #T_0348f_row3_col32 {\n",
       "  color: #2981f6;\n",
       "}\n",
       "#T_0348f_row3_col19, #T_0348f_row3_col22 {\n",
       "  color: #3e65fa;\n",
       "}\n",
       "#T_0348f_row3_col21 {\n",
       "  color: #425ffa;\n",
       "}\n",
       "#T_0348f_row3_col26 {\n",
       "  color: #3079f7;\n",
       "}\n",
       "#T_0348f_row3_col28, #T_0348f_row3_col29 {\n",
       "  color: #2686f5;\n",
       "}\n",
       "#T_0348f_row4_col3 {\n",
       "  color: #02b7eb;\n",
       "}\n",
       "#T_0348f_row4_col4, #T_0348f_row4_col6 {\n",
       "  color: #10a2f0;\n",
       "}\n",
       "#T_0348f_row4_col5 {\n",
       "  color: #04b0ed;\n",
       "}\n",
       "#T_0348f_row4_col8 {\n",
       "  color: #4e4dfc;\n",
       "}\n",
       "#T_0348f_row4_col9 {\n",
       "  color: #5444fd;\n",
       "}\n",
       "#T_0348f_row4_col11, #T_0348f_row4_col16, #T_0348f_row4_col19, #T_0348f_row4_col24, #T_0348f_row4_col31, #T_0348f_row4_col32 {\n",
       "  color: #6c1fff;\n",
       "}\n",
       "#T_0348f_row4_col12, #T_0348f_row4_col14, #T_0348f_row4_col25, #T_0348f_row4_col33 {\n",
       "  color: #6a22fe;\n",
       "}\n",
       "#T_0348f_row4_col13 {\n",
       "  color: #6826fe;\n",
       "}\n",
       "#T_0348f_row4_col15, #T_0348f_row4_col18, #T_0348f_row4_col30 {\n",
       "  color: #6e1cff;\n",
       "}\n",
       "#T_0348f_row4_col17 {\n",
       "  color: #7019ff;\n",
       "}\n",
       "#T_0348f_row4_col20, #T_0348f_row4_col23 {\n",
       "  color: #7216ff;\n",
       "}\n",
       "#T_0348f_row4_col21, #T_0348f_row4_col22 {\n",
       "  color: #7413ff;\n",
       "}\n",
       "#T_0348f_row4_col26 {\n",
       "  color: #642cfe;\n",
       "}\n",
       "#T_0348f_row5_col0, #T_0348f_row5_col1, #T_0348f_row5_col2, #T_0348f_row5_col3, #T_0348f_row5_col4, #T_0348f_row5_col5, #T_0348f_row5_col6, #T_0348f_row5_col7, #T_0348f_row5_col8, #T_0348f_row5_col9, #T_0348f_row5_col10, #T_0348f_row5_col11, #T_0348f_row5_col12, #T_0348f_row5_col13, #T_0348f_row5_col14, #T_0348f_row5_col15, #T_0348f_row5_col16, #T_0348f_row5_col17, #T_0348f_row5_col18, #T_0348f_row5_col19, #T_0348f_row5_col20, #T_0348f_row5_col21, #T_0348f_row5_col22, #T_0348f_row5_col23, #T_0348f_row5_col24, #T_0348f_row5_col25, #T_0348f_row5_col26, #T_0348f_row5_col27, #T_0348f_row5_col28, #T_0348f_row5_col29, #T_0348f_row5_col30, #T_0348f_row5_col31, #T_0348f_row5_col32, #T_0348f_row5_col33 {\n",
       "  color: #8000ff;\n",
       "}\n",
       "</style>\n",
       "<table id=\"T_0348f\">\n",
       "  <thead>\n",
       "    <tr>\n",
       "      <th class=\"blank level0\" >&nbsp;</th>\n",
       "      <th id=\"T_0348f_level0_col0\" class=\"col_heading level0 col0\" >1980</th>\n",
       "      <th id=\"T_0348f_level0_col1\" class=\"col_heading level0 col1\" >1981</th>\n",
       "      <th id=\"T_0348f_level0_col2\" class=\"col_heading level0 col2\" >1982</th>\n",
       "      <th id=\"T_0348f_level0_col3\" class=\"col_heading level0 col3\" >1983</th>\n",
       "      <th id=\"T_0348f_level0_col4\" class=\"col_heading level0 col4\" >1984</th>\n",
       "      <th id=\"T_0348f_level0_col5\" class=\"col_heading level0 col5\" >1985</th>\n",
       "      <th id=\"T_0348f_level0_col6\" class=\"col_heading level0 col6\" >1986</th>\n",
       "      <th id=\"T_0348f_level0_col7\" class=\"col_heading level0 col7\" >1987</th>\n",
       "      <th id=\"T_0348f_level0_col8\" class=\"col_heading level0 col8\" >1988</th>\n",
       "      <th id=\"T_0348f_level0_col9\" class=\"col_heading level0 col9\" >1989</th>\n",
       "      <th id=\"T_0348f_level0_col10\" class=\"col_heading level0 col10\" >1990</th>\n",
       "      <th id=\"T_0348f_level0_col11\" class=\"col_heading level0 col11\" >1991</th>\n",
       "      <th id=\"T_0348f_level0_col12\" class=\"col_heading level0 col12\" >1992</th>\n",
       "      <th id=\"T_0348f_level0_col13\" class=\"col_heading level0 col13\" >1993</th>\n",
       "      <th id=\"T_0348f_level0_col14\" class=\"col_heading level0 col14\" >1994</th>\n",
       "      <th id=\"T_0348f_level0_col15\" class=\"col_heading level0 col15\" >1995</th>\n",
       "      <th id=\"T_0348f_level0_col16\" class=\"col_heading level0 col16\" >1996</th>\n",
       "      <th id=\"T_0348f_level0_col17\" class=\"col_heading level0 col17\" >1997</th>\n",
       "      <th id=\"T_0348f_level0_col18\" class=\"col_heading level0 col18\" >1998</th>\n",
       "      <th id=\"T_0348f_level0_col19\" class=\"col_heading level0 col19\" >1999</th>\n",
       "      <th id=\"T_0348f_level0_col20\" class=\"col_heading level0 col20\" >2000</th>\n",
       "      <th id=\"T_0348f_level0_col21\" class=\"col_heading level0 col21\" >2001</th>\n",
       "      <th id=\"T_0348f_level0_col22\" class=\"col_heading level0 col22\" >2002</th>\n",
       "      <th id=\"T_0348f_level0_col23\" class=\"col_heading level0 col23\" >2003</th>\n",
       "      <th id=\"T_0348f_level0_col24\" class=\"col_heading level0 col24\" >2004</th>\n",
       "      <th id=\"T_0348f_level0_col25\" class=\"col_heading level0 col25\" >2005</th>\n",
       "      <th id=\"T_0348f_level0_col26\" class=\"col_heading level0 col26\" >2006</th>\n",
       "      <th id=\"T_0348f_level0_col27\" class=\"col_heading level0 col27\" >2007</th>\n",
       "      <th id=\"T_0348f_level0_col28\" class=\"col_heading level0 col28\" >2008</th>\n",
       "      <th id=\"T_0348f_level0_col29\" class=\"col_heading level0 col29\" >2009</th>\n",
       "      <th id=\"T_0348f_level0_col30\" class=\"col_heading level0 col30\" >2010</th>\n",
       "      <th id=\"T_0348f_level0_col31\" class=\"col_heading level0 col31\" >2011</th>\n",
       "      <th id=\"T_0348f_level0_col32\" class=\"col_heading level0 col32\" >2012</th>\n",
       "      <th id=\"T_0348f_level0_col33\" class=\"col_heading level0 col33\" >2013</th>\n",
       "    </tr>\n",
       "    <tr>\n",
       "      <th class=\"index_name level0\" >continent</th>\n",
       "      <th class=\"blank col0\" >&nbsp;</th>\n",
       "      <th class=\"blank col1\" >&nbsp;</th>\n",
       "      <th class=\"blank col2\" >&nbsp;</th>\n",
       "      <th class=\"blank col3\" >&nbsp;</th>\n",
       "      <th class=\"blank col4\" >&nbsp;</th>\n",
       "      <th class=\"blank col5\" >&nbsp;</th>\n",
       "      <th class=\"blank col6\" >&nbsp;</th>\n",
       "      <th class=\"blank col7\" >&nbsp;</th>\n",
       "      <th class=\"blank col8\" >&nbsp;</th>\n",
       "      <th class=\"blank col9\" >&nbsp;</th>\n",
       "      <th class=\"blank col10\" >&nbsp;</th>\n",
       "      <th class=\"blank col11\" >&nbsp;</th>\n",
       "      <th class=\"blank col12\" >&nbsp;</th>\n",
       "      <th class=\"blank col13\" >&nbsp;</th>\n",
       "      <th class=\"blank col14\" >&nbsp;</th>\n",
       "      <th class=\"blank col15\" >&nbsp;</th>\n",
       "      <th class=\"blank col16\" >&nbsp;</th>\n",
       "      <th class=\"blank col17\" >&nbsp;</th>\n",
       "      <th class=\"blank col18\" >&nbsp;</th>\n",
       "      <th class=\"blank col19\" >&nbsp;</th>\n",
       "      <th class=\"blank col20\" >&nbsp;</th>\n",
       "      <th class=\"blank col21\" >&nbsp;</th>\n",
       "      <th class=\"blank col22\" >&nbsp;</th>\n",
       "      <th class=\"blank col23\" >&nbsp;</th>\n",
       "      <th class=\"blank col24\" >&nbsp;</th>\n",
       "      <th class=\"blank col25\" >&nbsp;</th>\n",
       "      <th class=\"blank col26\" >&nbsp;</th>\n",
       "      <th class=\"blank col27\" >&nbsp;</th>\n",
       "      <th class=\"blank col28\" >&nbsp;</th>\n",
       "      <th class=\"blank col29\" >&nbsp;</th>\n",
       "      <th class=\"blank col30\" >&nbsp;</th>\n",
       "      <th class=\"blank col31\" >&nbsp;</th>\n",
       "      <th class=\"blank col32\" >&nbsp;</th>\n",
       "      <th class=\"blank col33\" >&nbsp;</th>\n",
       "    </tr>\n",
       "  </thead>\n",
       "  <tbody>\n",
       "    <tr>\n",
       "      <th id=\"T_0348f_level0_row0\" class=\"row_heading level0 row0\" >Africa</th>\n",
       "      <td id=\"T_0348f_row0_col0\" class=\"data row0 col0\" >3951</td>\n",
       "      <td id=\"T_0348f_row0_col1\" class=\"data row0 col1\" >4363</td>\n",
       "      <td id=\"T_0348f_row0_col2\" class=\"data row0 col2\" >3819</td>\n",
       "      <td id=\"T_0348f_row0_col3\" class=\"data row0 col3\" >2671</td>\n",
       "      <td id=\"T_0348f_row0_col4\" class=\"data row0 col4\" >2639</td>\n",
       "      <td id=\"T_0348f_row0_col5\" class=\"data row0 col5\" >2650</td>\n",
       "      <td id=\"T_0348f_row0_col6\" class=\"data row0 col6\" >3782</td>\n",
       "      <td id=\"T_0348f_row0_col7\" class=\"data row0 col7\" >7494</td>\n",
       "      <td id=\"T_0348f_row0_col8\" class=\"data row0 col8\" >7552</td>\n",
       "      <td id=\"T_0348f_row0_col9\" class=\"data row0 col9\" >9894</td>\n",
       "      <td id=\"T_0348f_row0_col10\" class=\"data row0 col10\" >11012</td>\n",
       "      <td id=\"T_0348f_row0_col11\" class=\"data row0 col11\" >14228</td>\n",
       "      <td id=\"T_0348f_row0_col12\" class=\"data row0 col12\" >19242</td>\n",
       "      <td id=\"T_0348f_row0_col13\" class=\"data row0 col13\" >16531</td>\n",
       "      <td id=\"T_0348f_row0_col14\" class=\"data row0 col14\" >13072</td>\n",
       "      <td id=\"T_0348f_row0_col15\" class=\"data row0 col15\" >14806</td>\n",
       "      <td id=\"T_0348f_row0_col16\" class=\"data row0 col16\" >15700</td>\n",
       "      <td id=\"T_0348f_row0_col17\" class=\"data row0 col17\" >14471</td>\n",
       "      <td id=\"T_0348f_row0_col18\" class=\"data row0 col18\" >13791</td>\n",
       "      <td id=\"T_0348f_row0_col19\" class=\"data row0 col19\" >15996</td>\n",
       "      <td id=\"T_0348f_row0_col20\" class=\"data row0 col20\" >20346</td>\n",
       "      <td id=\"T_0348f_row0_col21\" class=\"data row0 col21\" >24292</td>\n",
       "      <td id=\"T_0348f_row0_col22\" class=\"data row0 col22\" >22710</td>\n",
       "      <td id=\"T_0348f_row0_col23\" class=\"data row0 col23\" >23366</td>\n",
       "      <td id=\"T_0348f_row0_col24\" class=\"data row0 col24\" >28192</td>\n",
       "      <td id=\"T_0348f_row0_col25\" class=\"data row0 col25\" >27523</td>\n",
       "      <td id=\"T_0348f_row0_col26\" class=\"data row0 col26\" >29188</td>\n",
       "      <td id=\"T_0348f_row0_col27\" class=\"data row0 col27\" >28284</td>\n",
       "      <td id=\"T_0348f_row0_col28\" class=\"data row0 col28\" >29890</td>\n",
       "      <td id=\"T_0348f_row0_col29\" class=\"data row0 col29\" >34534</td>\n",
       "      <td id=\"T_0348f_row0_col30\" class=\"data row0 col30\" >40892</td>\n",
       "      <td id=\"T_0348f_row0_col31\" class=\"data row0 col31\" >35441</td>\n",
       "      <td id=\"T_0348f_row0_col32\" class=\"data row0 col32\" >38083</td>\n",
       "      <td id=\"T_0348f_row0_col33\" class=\"data row0 col33\" >38543</td>\n",
       "    </tr>\n",
       "    <tr>\n",
       "      <th id=\"T_0348f_level0_row1\" class=\"row_heading level0 row1\" >Asia</th>\n",
       "      <td id=\"T_0348f_row1_col0\" class=\"data row1 col0\" >31025</td>\n",
       "      <td id=\"T_0348f_row1_col1\" class=\"data row1 col1\" >34314</td>\n",
       "      <td id=\"T_0348f_row1_col2\" class=\"data row1 col2\" >30214</td>\n",
       "      <td id=\"T_0348f_row1_col3\" class=\"data row1 col3\" >24696</td>\n",
       "      <td id=\"T_0348f_row1_col4\" class=\"data row1 col4\" >27274</td>\n",
       "      <td id=\"T_0348f_row1_col5\" class=\"data row1 col5\" >23850</td>\n",
       "      <td id=\"T_0348f_row1_col6\" class=\"data row1 col6\" >28739</td>\n",
       "      <td id=\"T_0348f_row1_col7\" class=\"data row1 col7\" >43203</td>\n",
       "      <td id=\"T_0348f_row1_col8\" class=\"data row1 col8\" >47454</td>\n",
       "      <td id=\"T_0348f_row1_col9\" class=\"data row1 col9\" >60256</td>\n",
       "      <td id=\"T_0348f_row1_col10\" class=\"data row1 col10\" >72829</td>\n",
       "      <td id=\"T_0348f_row1_col11\" class=\"data row1 col11\" >89964</td>\n",
       "      <td id=\"T_0348f_row1_col12\" class=\"data row1 col12\" >90752</td>\n",
       "      <td id=\"T_0348f_row1_col13\" class=\"data row1 col13\" >98737</td>\n",
       "      <td id=\"T_0348f_row1_col14\" class=\"data row1 col14\" >88852</td>\n",
       "      <td id=\"T_0348f_row1_col15\" class=\"data row1 col15\" >90424</td>\n",
       "      <td id=\"T_0348f_row1_col16\" class=\"data row1 col16\" >103030</td>\n",
       "      <td id=\"T_0348f_row1_col17\" class=\"data row1 col17\" >106383</td>\n",
       "      <td id=\"T_0348f_row1_col18\" class=\"data row1 col18\" >90929</td>\n",
       "      <td id=\"T_0348f_row1_col19\" class=\"data row1 col19\" >106844</td>\n",
       "      <td id=\"T_0348f_row1_col20\" class=\"data row1 col20\" >134544</td>\n",
       "      <td id=\"T_0348f_row1_col21\" class=\"data row1 col21\" >148083</td>\n",
       "      <td id=\"T_0348f_row1_col22\" class=\"data row1 col22\" >137653</td>\n",
       "      <td id=\"T_0348f_row1_col23\" class=\"data row1 col23\" >131769</td>\n",
       "      <td id=\"T_0348f_row1_col24\" class=\"data row1 col24\" >134850</td>\n",
       "      <td id=\"T_0348f_row1_col25\" class=\"data row1 col25\" >159253</td>\n",
       "      <td id=\"T_0348f_row1_col26\" class=\"data row1 col26\" >149054</td>\n",
       "      <td id=\"T_0348f_row1_col27\" class=\"data row1 col27\" >133459</td>\n",
       "      <td id=\"T_0348f_row1_col28\" class=\"data row1 col28\" >139894</td>\n",
       "      <td id=\"T_0348f_row1_col29\" class=\"data row1 col29\" >141434</td>\n",
       "      <td id=\"T_0348f_row1_col30\" class=\"data row1 col30\" >163845</td>\n",
       "      <td id=\"T_0348f_row1_col31\" class=\"data row1 col31\" >146894</td>\n",
       "      <td id=\"T_0348f_row1_col32\" class=\"data row1 col32\" >152218</td>\n",
       "      <td id=\"T_0348f_row1_col33\" class=\"data row1 col33\" >155075</td>\n",
       "    </tr>\n",
       "    <tr>\n",
       "      <th id=\"T_0348f_level0_row2\" class=\"row_heading level0 row2\" >Europe</th>\n",
       "      <td id=\"T_0348f_row2_col0\" class=\"data row2 col0\" >39760</td>\n",
       "      <td id=\"T_0348f_row2_col1\" class=\"data row2 col1\" >44802</td>\n",
       "      <td id=\"T_0348f_row2_col2\" class=\"data row2 col2\" >42720</td>\n",
       "      <td id=\"T_0348f_row2_col3\" class=\"data row2 col3\" >24638</td>\n",
       "      <td id=\"T_0348f_row2_col4\" class=\"data row2 col4\" >22287</td>\n",
       "      <td id=\"T_0348f_row2_col5\" class=\"data row2 col5\" >20844</td>\n",
       "      <td id=\"T_0348f_row2_col6\" class=\"data row2 col6\" >24370</td>\n",
       "      <td id=\"T_0348f_row2_col7\" class=\"data row2 col7\" >46698</td>\n",
       "      <td id=\"T_0348f_row2_col8\" class=\"data row2 col8\" >54726</td>\n",
       "      <td id=\"T_0348f_row2_col9\" class=\"data row2 col9\" >60893</td>\n",
       "      <td id=\"T_0348f_row2_col10\" class=\"data row2 col10\" >68301</td>\n",
       "      <td id=\"T_0348f_row2_col11\" class=\"data row2 col11\" >57938</td>\n",
       "      <td id=\"T_0348f_row2_col12\" class=\"data row2 col12\" >64123</td>\n",
       "      <td id=\"T_0348f_row2_col13\" class=\"data row2 col13\" >62937</td>\n",
       "      <td id=\"T_0348f_row2_col14\" class=\"data row2 col14\" >62531</td>\n",
       "      <td id=\"T_0348f_row2_col15\" class=\"data row2 col15\" >55764</td>\n",
       "      <td id=\"T_0348f_row2_col16\" class=\"data row2 col16\" >55642</td>\n",
       "      <td id=\"T_0348f_row2_col17\" class=\"data row2 col17\" >48841</td>\n",
       "      <td id=\"T_0348f_row2_col18\" class=\"data row2 col18\" >36719</td>\n",
       "      <td id=\"T_0348f_row2_col19\" class=\"data row2 col19\" >35639</td>\n",
       "      <td id=\"T_0348f_row2_col20\" class=\"data row2 col20\" >38215</td>\n",
       "      <td id=\"T_0348f_row2_col21\" class=\"data row2 col21\" >42779</td>\n",
       "      <td id=\"T_0348f_row2_col22\" class=\"data row2 col22\" >36798</td>\n",
       "      <td id=\"T_0348f_row2_col23\" class=\"data row2 col23\" >34556</td>\n",
       "      <td id=\"T_0348f_row2_col24\" class=\"data row2 col24\" >38082</td>\n",
       "      <td id=\"T_0348f_row2_col25\" class=\"data row2 col25\" >35955</td>\n",
       "      <td id=\"T_0348f_row2_col26\" class=\"data row2 col26\" >33053</td>\n",
       "      <td id=\"T_0348f_row2_col27\" class=\"data row2 col27\" >33495</td>\n",
       "      <td id=\"T_0348f_row2_col28\" class=\"data row2 col28\" >34692</td>\n",
       "      <td id=\"T_0348f_row2_col29\" class=\"data row2 col29\" >35078</td>\n",
       "      <td id=\"T_0348f_row2_col30\" class=\"data row2 col30\" >33425</td>\n",
       "      <td id=\"T_0348f_row2_col31\" class=\"data row2 col31\" >26778</td>\n",
       "      <td id=\"T_0348f_row2_col32\" class=\"data row2 col32\" >29177</td>\n",
       "      <td id=\"T_0348f_row2_col33\" class=\"data row2 col33\" >28691</td>\n",
       "    </tr>\n",
       "    <tr>\n",
       "      <th id=\"T_0348f_level0_row3\" class=\"row_heading level0 row3\" >Latin America and the Caribbean</th>\n",
       "      <td id=\"T_0348f_row3_col0\" class=\"data row3 col0\" >13081</td>\n",
       "      <td id=\"T_0348f_row3_col1\" class=\"data row3 col1\" >15215</td>\n",
       "      <td id=\"T_0348f_row3_col2\" class=\"data row3 col2\" >16769</td>\n",
       "      <td id=\"T_0348f_row3_col3\" class=\"data row3 col3\" >15427</td>\n",
       "      <td id=\"T_0348f_row3_col4\" class=\"data row3 col4\" >13678</td>\n",
       "      <td id=\"T_0348f_row3_col5\" class=\"data row3 col5\" >15171</td>\n",
       "      <td id=\"T_0348f_row3_col6\" class=\"data row3 col6\" >21179</td>\n",
       "      <td id=\"T_0348f_row3_col7\" class=\"data row3 col7\" >28471</td>\n",
       "      <td id=\"T_0348f_row3_col8\" class=\"data row3 col8\" >21924</td>\n",
       "      <td id=\"T_0348f_row3_col9\" class=\"data row3 col9\" >25060</td>\n",
       "      <td id=\"T_0348f_row3_col10\" class=\"data row3 col10\" >27942</td>\n",
       "      <td id=\"T_0348f_row3_col11\" class=\"data row3 col11\" >36827</td>\n",
       "      <td id=\"T_0348f_row3_col12\" class=\"data row3 col12\" >37853</td>\n",
       "      <td id=\"T_0348f_row3_col13\" class=\"data row3 col13\" >33840</td>\n",
       "      <td id=\"T_0348f_row3_col14\" class=\"data row3 col14\" >21341</td>\n",
       "      <td id=\"T_0348f_row3_col15\" class=\"data row3 col15\" >20262</td>\n",
       "      <td id=\"T_0348f_row3_col16\" class=\"data row3 col16\" >18645</td>\n",
       "      <td id=\"T_0348f_row3_col17\" class=\"data row3 col17\" >17174</td>\n",
       "      <td id=\"T_0348f_row3_col18\" class=\"data row3 col18\" >13830</td>\n",
       "      <td id=\"T_0348f_row3_col19\" class=\"data row3 col19\" >15088</td>\n",
       "      <td id=\"T_0348f_row3_col20\" class=\"data row3 col20\" >16898</td>\n",
       "      <td id=\"T_0348f_row3_col21\" class=\"data row3 col21\" >20067</td>\n",
       "      <td id=\"T_0348f_row3_col22\" class=\"data row3 col22\" >19317</td>\n",
       "      <td id=\"T_0348f_row3_col23\" class=\"data row3 col23\" >20263</td>\n",
       "      <td id=\"T_0348f_row3_col24\" class=\"data row3 col24\" >22181</td>\n",
       "      <td id=\"T_0348f_row3_col25\" class=\"data row3 col25\" >24747</td>\n",
       "      <td id=\"T_0348f_row3_col26\" class=\"data row3 col26\" >24676</td>\n",
       "      <td id=\"T_0348f_row3_col27\" class=\"data row3 col27\" >26011</td>\n",
       "      <td id=\"T_0348f_row3_col28\" class=\"data row3 col28\" >26547</td>\n",
       "      <td id=\"T_0348f_row3_col29\" class=\"data row3 col29\" >26867</td>\n",
       "      <td id=\"T_0348f_row3_col30\" class=\"data row3 col30\" >28818</td>\n",
       "      <td id=\"T_0348f_row3_col31\" class=\"data row3 col31\" >27856</td>\n",
       "      <td id=\"T_0348f_row3_col32\" class=\"data row3 col32\" >27173</td>\n",
       "      <td id=\"T_0348f_row3_col33\" class=\"data row3 col33\" >24950</td>\n",
       "    </tr>\n",
       "    <tr>\n",
       "      <th id=\"T_0348f_level0_row4\" class=\"row_heading level0 row4\" >Northern America</th>\n",
       "      <td id=\"T_0348f_row4_col0\" class=\"data row4 col0\" >9378</td>\n",
       "      <td id=\"T_0348f_row4_col1\" class=\"data row4 col1\" >10030</td>\n",
       "      <td id=\"T_0348f_row4_col2\" class=\"data row4 col2\" >9074</td>\n",
       "      <td id=\"T_0348f_row4_col3\" class=\"data row4 col3\" >7100</td>\n",
       "      <td id=\"T_0348f_row4_col4\" class=\"data row4 col4\" >6661</td>\n",
       "      <td id=\"T_0348f_row4_col5\" class=\"data row4 col5\" >6543</td>\n",
       "      <td id=\"T_0348f_row4_col6\" class=\"data row4 col6\" >7074</td>\n",
       "      <td id=\"T_0348f_row4_col7\" class=\"data row4 col7\" >7705</td>\n",
       "      <td id=\"T_0348f_row4_col8\" class=\"data row4 col8\" >6469</td>\n",
       "      <td id=\"T_0348f_row4_col9\" class=\"data row4 col9\" >6790</td>\n",
       "      <td id=\"T_0348f_row4_col10\" class=\"data row4 col10\" >5895</td>\n",
       "      <td id=\"T_0348f_row4_col11\" class=\"data row4 col11\" >6057</td>\n",
       "      <td id=\"T_0348f_row4_col12\" class=\"data row4 col12\" >6846</td>\n",
       "      <td id=\"T_0348f_row4_col13\" class=\"data row4 col13\" >7438</td>\n",
       "      <td id=\"T_0348f_row4_col14\" class=\"data row4 col14\" >5902</td>\n",
       "      <td id=\"T_0348f_row4_col15\" class=\"data row4 col15\" >4891</td>\n",
       "      <td id=\"T_0348f_row4_col16\" class=\"data row4 col16\" >5516</td>\n",
       "      <td id=\"T_0348f_row4_col17\" class=\"data row4 col17\" >4753</td>\n",
       "      <td id=\"T_0348f_row4_col18\" class=\"data row4 col18\" >4437</td>\n",
       "      <td id=\"T_0348f_row4_col19\" class=\"data row4 col19\" >5196</td>\n",
       "      <td id=\"T_0348f_row4_col20\" class=\"data row4 col20\" >5433</td>\n",
       "      <td id=\"T_0348f_row4_col21\" class=\"data row4 col21\" >5604</td>\n",
       "      <td id=\"T_0348f_row4_col22\" class=\"data row4 col22\" >4948</td>\n",
       "      <td id=\"T_0348f_row4_col23\" class=\"data row4 col23\" >5543</td>\n",
       "      <td id=\"T_0348f_row4_col24\" class=\"data row4 col24\" >6990</td>\n",
       "      <td id=\"T_0348f_row4_col25\" class=\"data row4 col25\" >8394</td>\n",
       "      <td id=\"T_0348f_row4_col26\" class=\"data row4 col26\" >9613</td>\n",
       "      <td id=\"T_0348f_row4_col27\" class=\"data row4 col27\" >9463</td>\n",
       "      <td id=\"T_0348f_row4_col28\" class=\"data row4 col28\" >10190</td>\n",
       "      <td id=\"T_0348f_row4_col29\" class=\"data row4 col29\" >8995</td>\n",
       "      <td id=\"T_0348f_row4_col30\" class=\"data row4 col30\" >8142</td>\n",
       "      <td id=\"T_0348f_row4_col31\" class=\"data row4 col31\" >7677</td>\n",
       "      <td id=\"T_0348f_row4_col32\" class=\"data row4 col32\" >7892</td>\n",
       "      <td id=\"T_0348f_row4_col33\" class=\"data row4 col33\" >8503</td>\n",
       "    </tr>\n",
       "    <tr>\n",
       "      <th id=\"T_0348f_level0_row5\" class=\"row_heading level0 row5\" >Oceania</th>\n",
       "      <td id=\"T_0348f_row5_col0\" class=\"data row5 col0\" >1942</td>\n",
       "      <td id=\"T_0348f_row5_col1\" class=\"data row5 col1\" >1839</td>\n",
       "      <td id=\"T_0348f_row5_col2\" class=\"data row5 col2\" >1675</td>\n",
       "      <td id=\"T_0348f_row5_col3\" class=\"data row5 col3\" >1018</td>\n",
       "      <td id=\"T_0348f_row5_col4\" class=\"data row5 col4\" >878</td>\n",
       "      <td id=\"T_0348f_row5_col5\" class=\"data row5 col5\" >920</td>\n",
       "      <td id=\"T_0348f_row5_col6\" class=\"data row5 col6\" >904</td>\n",
       "      <td id=\"T_0348f_row5_col7\" class=\"data row5 col7\" >1200</td>\n",
       "      <td id=\"T_0348f_row5_col8\" class=\"data row5 col8\" >1181</td>\n",
       "      <td id=\"T_0348f_row5_col9\" class=\"data row5 col9\" >1539</td>\n",
       "      <td id=\"T_0348f_row5_col10\" class=\"data row5 col10\" >2075</td>\n",
       "      <td id=\"T_0348f_row5_col11\" class=\"data row5 col11\" >2495</td>\n",
       "      <td id=\"T_0348f_row5_col12\" class=\"data row5 col12\" >2871</td>\n",
       "      <td id=\"T_0348f_row5_col13\" class=\"data row5 col13\" >2566</td>\n",
       "      <td id=\"T_0348f_row5_col14\" class=\"data row5 col14\" >1967</td>\n",
       "      <td id=\"T_0348f_row5_col15\" class=\"data row5 col15\" >1565</td>\n",
       "      <td id=\"T_0348f_row5_col16\" class=\"data row5 col16\" >1552</td>\n",
       "      <td id=\"T_0348f_row5_col17\" class=\"data row5 col17\" >1263</td>\n",
       "      <td id=\"T_0348f_row5_col18\" class=\"data row5 col18\" >1021</td>\n",
       "      <td id=\"T_0348f_row5_col19\" class=\"data row5 col19\" >1055</td>\n",
       "      <td id=\"T_0348f_row5_col20\" class=\"data row5 col20\" >1276</td>\n",
       "      <td id=\"T_0348f_row5_col21\" class=\"data row5 col21\" >1818</td>\n",
       "      <td id=\"T_0348f_row5_col22\" class=\"data row5 col22\" >1685</td>\n",
       "      <td id=\"T_0348f_row5_col23\" class=\"data row5 col23\" >1800</td>\n",
       "      <td id=\"T_0348f_row5_col24\" class=\"data row5 col24\" >1788</td>\n",
       "      <td id=\"T_0348f_row5_col25\" class=\"data row5 col25\" >1585</td>\n",
       "      <td id=\"T_0348f_row5_col26\" class=\"data row5 col26\" >1473</td>\n",
       "      <td id=\"T_0348f_row5_col27\" class=\"data row5 col27\" >1693</td>\n",
       "      <td id=\"T_0348f_row5_col28\" class=\"data row5 col28\" >1834</td>\n",
       "      <td id=\"T_0348f_row5_col29\" class=\"data row5 col29\" >1860</td>\n",
       "      <td id=\"T_0348f_row5_col30\" class=\"data row5 col30\" >1834</td>\n",
       "      <td id=\"T_0348f_row5_col31\" class=\"data row5 col31\" >1548</td>\n",
       "      <td id=\"T_0348f_row5_col32\" class=\"data row5 col32\" >1679</td>\n",
       "      <td id=\"T_0348f_row5_col33\" class=\"data row5 col33\" >1775</td>\n",
       "    </tr>\n",
       "  </tbody>\n",
       "</table>\n"
      ],
      "text/plain": [
       "<pandas.io.formats.style.Styler at 0x11aad178>"
      ]
     },
     "execution_count": 20,
     "metadata": {},
     "output_type": "execute_result"
    }
   ],
   "source": [
    "continent_df.style.text_gradient(cmap='rainbow')"
   ]
  },
  {
   "cell_type": "markdown",
   "metadata": {},
   "source": [
    "\n",
    " - Visualization"
   ]
  },
  {
   "cell_type": "code",
   "execution_count": 35,
   "metadata": {},
   "outputs": [],
   "source": [
    "import matplotlib.pyplot as plt\n",
    "import seaborn as sns\n",
    "import plotly.express as px"
   ]
  },
  {
   "cell_type": "markdown",
   "metadata": {},
   "source": [
    "# basic graphs- matplotlib\n",
    "1. line plot\n",
    "2. var plot\n",
    "3. pie chart\n",
    "4. scatter plot\n",
    "5. histogram\n",
    "6. area\n",
    "7. box plot\n",
    "## advanced graphs- Seaborn\n",
    "1. catplot\n",
    "2. jointplot\n",
    "3. pairplot\n",
    "4. heatmap\n",
    "5. violinplot\n",
    "6. count plot\n",
    "### interactive graphs- plotly\n",
    "1. graphs similar to matplotlib but interactive"
   ]
  },
  {
   "cell_type": "code",
   "execution_count": 39,
   "metadata": {},
   "outputs": [
    {
     "name": "stdout",
     "output_type": "stream",
     "text": [
      "\u001b[1;31mSignature:\u001b[0m      \u001b[0mdf\u001b[0m\u001b[1;33m.\u001b[0m\u001b[0mplot\u001b[0m\u001b[1;33m(\u001b[0m\u001b[1;33m*\u001b[0m\u001b[0margs\u001b[0m\u001b[1;33m,\u001b[0m \u001b[1;33m**\u001b[0m\u001b[0mkwargs\u001b[0m\u001b[1;33m)\u001b[0m\u001b[1;33m\u001b[0m\u001b[1;33m\u001b[0m\u001b[0m\n",
      "\u001b[1;31mType:\u001b[0m           PlotAccessor\n",
      "\u001b[1;31mString form:\u001b[0m    <pandas.plotting._core.PlotAccessor object at 0x12F72850>\n",
      "\u001b[1;31mFile:\u001b[0m           c:\\users\\shalini shukla\\miniconda3\\lib\\site-packages\\pandas\\plotting\\_core.py\n",
      "\u001b[1;31mDocstring:\u001b[0m     \n",
      "Make plots of Series or DataFrame.\n",
      "\n",
      "Uses the backend specified by the\n",
      "option ``plotting.backend``. By default, matplotlib is used.\n",
      "\n",
      "Parameters\n",
      "----------\n",
      "data : Series or DataFrame\n",
      "    The object for which the method is called.\n",
      "x : label or position, default None\n",
      "    Only used if data is a DataFrame.\n",
      "y : label, position or list of label, positions, default None\n",
      "    Allows plotting of one column versus another. Only used if data is a\n",
      "    DataFrame.\n",
      "kind : str\n",
      "    The kind of plot to produce:\n",
      "\n",
      "    - 'line' : line plot (default)\n",
      "    - 'bar' : vertical bar plot\n",
      "    - 'barh' : horizontal bar plot\n",
      "    - 'hist' : histogram\n",
      "    - 'box' : boxplot\n",
      "    - 'kde' : Kernel Density Estimation plot\n",
      "    - 'density' : same as 'kde'\n",
      "    - 'area' : area plot\n",
      "    - 'pie' : pie plot\n",
      "    - 'scatter' : scatter plot (DataFrame only)\n",
      "    - 'hexbin' : hexbin plot (DataFrame only)\n",
      "ax : matplotlib axes object, default None\n",
      "    An axes of the current figure.\n",
      "subplots : bool, default False\n",
      "    Make separate subplots for each column.\n",
      "sharex : bool, default True if ax is None else False\n",
      "    In case ``subplots=True``, share x axis and set some x axis labels\n",
      "    to invisible; defaults to True if ax is None otherwise False if\n",
      "    an ax is passed in; Be aware, that passing in both an ax and\n",
      "    ``sharex=True`` will alter all x axis labels for all axis in a figure.\n",
      "sharey : bool, default False\n",
      "    In case ``subplots=True``, share y axis and set some y axis labels to invisible.\n",
      "layout : tuple, optional\n",
      "    (rows, columns) for the layout of subplots.\n",
      "figsize : a tuple (width, height) in inches\n",
      "    Size of a figure object.\n",
      "use_index : bool, default True\n",
      "    Use index as ticks for x axis.\n",
      "title : str or list\n",
      "    Title to use for the plot. If a string is passed, print the string\n",
      "    at the top of the figure. If a list is passed and `subplots` is\n",
      "    True, print each item in the list above the corresponding subplot.\n",
      "grid : bool, default None (matlab style default)\n",
      "    Axis grid lines.\n",
      "legend : bool or {'reverse'}\n",
      "    Place legend on axis subplots.\n",
      "style : list or dict\n",
      "    The matplotlib line style per column.\n",
      "logx : bool or 'sym', default False\n",
      "    Use log scaling or symlog scaling on x axis.\n",
      "    .. versionchanged:: 0.25.0\n",
      "\n",
      "logy : bool or 'sym' default False\n",
      "    Use log scaling or symlog scaling on y axis.\n",
      "    .. versionchanged:: 0.25.0\n",
      "\n",
      "loglog : bool or 'sym', default False\n",
      "    Use log scaling or symlog scaling on both x and y axes.\n",
      "    .. versionchanged:: 0.25.0\n",
      "\n",
      "xticks : sequence\n",
      "    Values to use for the xticks.\n",
      "yticks : sequence\n",
      "    Values to use for the yticks.\n",
      "xlim : 2-tuple/list\n",
      "    Set the x limits of the current axes.\n",
      "ylim : 2-tuple/list\n",
      "    Set the y limits of the current axes.\n",
      "xlabel : label, optional\n",
      "    Name to use for the xlabel on x-axis. Default uses index name as xlabel, or the\n",
      "    x-column name for planar plots.\n",
      "\n",
      "    .. versionadded:: 1.1.0\n",
      "\n",
      "    .. versionchanged:: 1.2.0\n",
      "\n",
      "       Now applicable to planar plots (`scatter`, `hexbin`).\n",
      "\n",
      "ylabel : label, optional\n",
      "    Name to use for the ylabel on y-axis. Default will show no ylabel, or the\n",
      "    y-column name for planar plots.\n",
      "\n",
      "    .. versionadded:: 1.1.0\n",
      "\n",
      "    .. versionchanged:: 1.2.0\n",
      "\n",
      "       Now applicable to planar plots (`scatter`, `hexbin`).\n",
      "\n",
      "rot : int, default None\n",
      "    Rotation for ticks (xticks for vertical, yticks for horizontal\n",
      "    plots).\n",
      "fontsize : int, default None\n",
      "    Font size for xticks and yticks.\n",
      "colormap : str or matplotlib colormap object, default None\n",
      "    Colormap to select colors from. If string, load colormap with that\n",
      "    name from matplotlib.\n",
      "colorbar : bool, optional\n",
      "    If True, plot colorbar (only relevant for 'scatter' and 'hexbin'\n",
      "    plots).\n",
      "position : float\n",
      "    Specify relative alignments for bar plot layout.\n",
      "    From 0 (left/bottom-end) to 1 (right/top-end). Default is 0.5\n",
      "    (center).\n",
      "table : bool, Series or DataFrame, default False\n",
      "    If True, draw a table using the data in the DataFrame and the data\n",
      "    will be transposed to meet matplotlib's default layout.\n",
      "    If a Series or DataFrame is passed, use passed data to draw a\n",
      "    table.\n",
      "yerr : DataFrame, Series, array-like, dict and str\n",
      "    See :ref:`Plotting with Error Bars <visualization.errorbars>` for\n",
      "    detail.\n",
      "xerr : DataFrame, Series, array-like, dict and str\n",
      "    Equivalent to yerr.\n",
      "stacked : bool, default False in line and bar plots, and True in area plot\n",
      "    If True, create stacked plot.\n",
      "sort_columns : bool, default False\n",
      "    Sort column names to determine plot ordering.\n",
      "secondary_y : bool or sequence, default False\n",
      "    Whether to plot on the secondary y-axis if a list/tuple, which\n",
      "    columns to plot on secondary y-axis.\n",
      "mark_right : bool, default True\n",
      "    When using a secondary_y axis, automatically mark the column\n",
      "    labels with \"(right)\" in the legend.\n",
      "include_bool : bool, default is False\n",
      "    If True, boolean values can be plotted.\n",
      "backend : str, default None\n",
      "    Backend to use instead of the backend specified in the option\n",
      "    ``plotting.backend``. For instance, 'matplotlib'. Alternatively, to\n",
      "    specify the ``plotting.backend`` for the whole session, set\n",
      "    ``pd.options.plotting.backend``.\n",
      "\n",
      "    .. versionadded:: 1.0.0\n",
      "\n",
      "**kwargs\n",
      "    Options to pass to matplotlib plotting method.\n",
      "\n",
      "Returns\n",
      "-------\n",
      ":class:`matplotlib.axes.Axes` or numpy.ndarray of them\n",
      "    If the backend is not the default matplotlib one, the return value\n",
      "    will be the object returned by the backend.\n",
      "\n",
      "Notes\n",
      "-----\n",
      "- See matplotlib documentation online for more on this subject\n",
      "- If `kind` = 'bar' or 'barh', you can specify relative alignments\n",
      "  for bar plot layout by `position` keyword.\n",
      "  From 0 (left/bottom-end) to 1 (right/top-end). Default is 0.5\n",
      "  (center)\n",
      "\u001b[1;31mCall docstring:\u001b[0m\n",
      "Make plots of Series or DataFrame.\n",
      "\n",
      "Uses the backend specified by the\n",
      "option ``plotting.backend``. By default, matplotlib is used.\n",
      "\n",
      "Parameters\n",
      "----------\n",
      "data : Series or DataFrame\n",
      "    The object for which the method is called.\n",
      "x : label or position, default None\n",
      "    Only used if data is a DataFrame.\n",
      "y : label, position or list of label, positions, default None\n",
      "    Allows plotting of one column versus another. Only used if data is a\n",
      "    DataFrame.\n",
      "kind : str\n",
      "    The kind of plot to produce:\n",
      "\n",
      "    - 'line' : line plot (default)\n",
      "    - 'bar' : vertical bar plot\n",
      "    - 'barh' : horizontal bar plot\n",
      "    - 'hist' : histogram\n",
      "    - 'box' : boxplot\n",
      "    - 'kde' : Kernel Density Estimation plot\n",
      "    - 'density' : same as 'kde'\n",
      "    - 'area' : area plot\n",
      "    - 'pie' : pie plot\n",
      "    - 'scatter' : scatter plot (DataFrame only)\n",
      "    - 'hexbin' : hexbin plot (DataFrame only)\n",
      "ax : matplotlib axes object, default None\n",
      "    An axes of the current figure.\n",
      "subplots : bool, default False\n",
      "    Make separate subplots for each column.\n",
      "sharex : bool, default True if ax is None else False\n",
      "    In case ``subplots=True``, share x axis and set some x axis labels\n",
      "    to invisible; defaults to True if ax is None otherwise False if\n",
      "    an ax is passed in; Be aware, that passing in both an ax and\n",
      "    ``sharex=True`` will alter all x axis labels for all axis in a figure.\n",
      "sharey : bool, default False\n",
      "    In case ``subplots=True``, share y axis and set some y axis labels to invisible.\n",
      "layout : tuple, optional\n",
      "    (rows, columns) for the layout of subplots.\n",
      "figsize : a tuple (width, height) in inches\n",
      "    Size of a figure object.\n",
      "use_index : bool, default True\n",
      "    Use index as ticks for x axis.\n",
      "title : str or list\n",
      "    Title to use for the plot. If a string is passed, print the string\n",
      "    at the top of the figure. If a list is passed and `subplots` is\n",
      "    True, print each item in the list above the corresponding subplot.\n",
      "grid : bool, default None (matlab style default)\n",
      "    Axis grid lines.\n",
      "legend : bool or {'reverse'}\n",
      "    Place legend on axis subplots.\n",
      "style : list or dict\n",
      "    The matplotlib line style per column.\n",
      "logx : bool or 'sym', default False\n",
      "    Use log scaling or symlog scaling on x axis.\n",
      "    .. versionchanged:: 0.25.0\n",
      "\n",
      "logy : bool or 'sym' default False\n",
      "    Use log scaling or symlog scaling on y axis.\n",
      "    .. versionchanged:: 0.25.0\n",
      "\n",
      "loglog : bool or 'sym', default False\n",
      "    Use log scaling or symlog scaling on both x and y axes.\n",
      "    .. versionchanged:: 0.25.0\n",
      "\n",
      "xticks : sequence\n",
      "    Values to use for the xticks.\n",
      "yticks : sequence\n",
      "    Values to use for the yticks.\n",
      "xlim : 2-tuple/list\n",
      "    Set the x limits of the current axes.\n",
      "ylim : 2-tuple/list\n",
      "    Set the y limits of the current axes.\n",
      "xlabel : label, optional\n",
      "    Name to use for the xlabel on x-axis. Default uses index name as xlabel, or the\n",
      "    x-column name for planar plots.\n",
      "\n",
      "    .. versionadded:: 1.1.0\n",
      "\n",
      "    .. versionchanged:: 1.2.0\n",
      "\n",
      "       Now applicable to planar plots (`scatter`, `hexbin`).\n",
      "\n",
      "ylabel : label, optional\n",
      "    Name to use for the ylabel on y-axis. Default will show no ylabel, or the\n",
      "    y-column name for planar plots.\n",
      "\n",
      "    .. versionadded:: 1.1.0\n",
      "\n",
      "    .. versionchanged:: 1.2.0\n",
      "\n",
      "       Now applicable to planar plots (`scatter`, `hexbin`).\n",
      "\n",
      "rot : int, default None\n",
      "    Rotation for ticks (xticks for vertical, yticks for horizontal\n",
      "    plots).\n",
      "fontsize : int, default None\n",
      "    Font size for xticks and yticks.\n",
      "colormap : str or matplotlib colormap object, default None\n",
      "    Colormap to select colors from. If string, load colormap with that\n",
      "    name from matplotlib.\n",
      "colorbar : bool, optional\n",
      "    If True, plot colorbar (only relevant for 'scatter' and 'hexbin'\n",
      "    plots).\n",
      "position : float\n",
      "    Specify relative alignments for bar plot layout.\n",
      "    From 0 (left/bottom-end) to 1 (right/top-end). Default is 0.5\n",
      "    (center).\n",
      "table : bool, Series or DataFrame, default False\n",
      "    If True, draw a table using the data in the DataFrame and the data\n",
      "    will be transposed to meet matplotlib's default layout.\n",
      "    If a Series or DataFrame is passed, use passed data to draw a\n",
      "    table.\n",
      "yerr : DataFrame, Series, array-like, dict and str\n",
      "    See :ref:`Plotting with Error Bars <visualization.errorbars>` for\n",
      "    detail.\n",
      "xerr : DataFrame, Series, array-like, dict and str\n",
      "    Equivalent to yerr.\n",
      "stacked : bool, default False in line and bar plots, and True in area plot\n",
      "    If True, create stacked plot.\n",
      "sort_columns : bool, default False\n",
      "    Sort column names to determine plot ordering.\n",
      "secondary_y : bool or sequence, default False\n",
      "    Whether to plot on the secondary y-axis if a list/tuple, which\n",
      "    columns to plot on secondary y-axis.\n",
      "mark_right : bool, default True\n",
      "    When using a secondary_y axis, automatically mark the column\n",
      "    labels with \"(right)\" in the legend.\n",
      "include_bool : bool, default is False\n",
      "    If True, boolean values can be plotted.\n",
      "backend : str, default None\n",
      "    Backend to use instead of the backend specified in the option\n",
      "    ``plotting.backend``. For instance, 'matplotlib'. Alternatively, to\n",
      "    specify the ``plotting.backend`` for the whole session, set\n",
      "    ``pd.options.plotting.backend``.\n",
      "\n",
      "    .. versionadded:: 1.0.0\n",
      "\n",
      "**kwargs\n",
      "    Options to pass to matplotlib plotting method.\n",
      "\n",
      "Returns\n",
      "-------\n",
      ":class:`matplotlib.axes.Axes` or numpy.ndarray of them\n",
      "    If the backend is not the default matplotlib one, the return value\n",
      "    will be the object returned by the backend.\n",
      "\n",
      "Notes\n",
      "-----\n",
      "- See matplotlib documentation online for more on this subject\n",
      "- If `kind` = 'bar' or 'barh', you can specify relative alignments\n",
      "  for bar plot layout by `position` keyword.\n",
      "  From 0 (left/bottom-end) to 1 (right/top-end). Default is 0.5\n",
      "  (center)\n"
     ]
    }
   ],
   "source": [
    "df.plot?"
   ]
  },
  {
   "cell_type": "code",
   "execution_count": 41,
   "metadata": {},
   "outputs": [
    {
     "data": {
      "text/plain": [
       "<AxesSubplot: >"
      ]
     },
     "execution_count": 41,
     "metadata": {},
     "output_type": "execute_result"
    },
    {
     "data": {
      "image/png": "[encoded data removed]",
      "text/plain": [
       "<Figure size 1440x432 with 1 Axes>"
      ]
     },
     "metadata": {
      "needs_background": "light"
     },
     "output_type": "display_data"
    }
   ],
   "source": [
    "df.loc['China',years].plot(kind='line',figsize=(20,6),linewidth=5,linestyle=':',color='orange')"
   ]
  },
  {
   "cell_type": "code",
   "execution_count": 43,
   "metadata": {},
   "outputs": [
    {
     "data": {
      "text/plain": [
       "Index(['India', 'China',\n",
       "       'United Kingdom of Great Britain and Northern Ireland', 'Philippines',\n",
       "       'Pakistan', 'United States of America', 'Iran (Islamic Republic of)',\n",
       "       'Sri Lanka', 'Republic of Korea', 'Poland',\n",
       "       ...\n",
       "       'Kiribati', 'Vanuatu', 'Sao Tome and Principe', 'Tuvalu',\n",
       "       'American Samoa', 'San Marino', 'New Caledonia', 'Marshall Islands',\n",
       "       'Western Sahara', 'Palau'],\n",
       "      dtype='object', name='country', length=195)"
      ]
     },
     "execution_count": 43,
     "metadata": {},
     "output_type": "execute_result"
    }
   ],
   "source": [
    "df.index"
   ]
  },
  {
   "cell_type": "code",
   "execution_count": 45,
   "metadata": {},
   "outputs": [
    {
     "data": {
      "text/plain": [
       "<AxesSubplot: >"
      ]
     },
     "execution_count": 45,
     "metadata": {},
     "output_type": "execute_result"
    },
    {
     "data": {
      "image/png": "[encoded data removed]",
      "text/plain": [
       "<Figure size 1440x432 with 1 Axes>"
      ]
     },
     "metadata": {
      "needs_background": "light"
     },
     "output_type": "display_data"
    }
   ],
   "source": [
    "country_list=['China','Japan','Philippines','Thailand','Sri Lanka']\n",
    "df.loc[country_list,years].T.plot(figsize=(20,6))"
   ]
  },
  {
   "cell_type": "code",
   "execution_count": 51,
   "metadata": {},
   "outputs": [
    {
     "data": {
      "text/plain": [
       "<AxesSubplot: >"
      ]
     },
     "execution_count": 51,
     "metadata": {},
     "output_type": "execute_result"
    },
    {
     "data": {
      "image/png": "[encoded data removed]",
      "text/plain": [
       "<Figure size 1440x432 with 1 Axes>"
      ]
     },
     "metadata": {
      "needs_background": "light"
     },
     "output_type": "display_data"
    }
   ],
   "source": [
    "df.loc[country_list,years].T.plot(kind='area',figsize=(20,6),stacked=False,alpha=.5)\n",
    "#country_list=['China','Japan','Philippines','Thailand','Sri Lanka']"
   ]
  },
  {
   "cell_type": "code",
   "execution_count": 56,
   "metadata": {},
   "outputs": [
    {
     "data": {
      "image/png": "[encoded data removed]",
      "text/plain": [
       "<Figure size 1440x720 with 6 Axes>"
      ]
     },
     "metadata": {
      "needs_background": "light"
     },
     "output_type": "display_data"
    }
   ],
   "source": [
    "_ = df.loc[country_list,years].T.plot(figsize=(20,10),subplots=True,layout=(3,2),sharex=False)"
   ]
  },
  {
   "cell_type": "code",
   "execution_count": 60,
   "metadata": {},
   "outputs": [
    {
     "data": {
      "image/png": "[encoded data removed]",
      "text/plain": [
       "<Figure size 1440x432 with 2 Axes>"
      ]
     },
     "metadata": {
      "needs_background": "light"
     },
     "output_type": "display_data"
    }
   ],
   "source": [
    "fig,ax=plt.subplots(figsize=(20,6),nrows=1,ncols=2,)\n",
    "df.loc['India',years].plot(ax=ax[0])\n",
    "df.loc['India',years].plot(ax=ax[1],kind='hist')\n",
    "ax[0].set_title(\"India's immigration to Canada\",fontsize=20)\n",
    "ax[1].set_title(\"India's frequency of immigration \",fontsize=20)\n",
    "plt.show()"
   ]
  },
  {
   "cell_type": "code",
   "execution_count": 61,
   "metadata": {},
   "outputs": [
    {
     "ename": "IndexError",
     "evalue": "too many indices for array: array is 1-dimensional, but 2 were indexed",
     "output_type": "error",
     "traceback": [
      "\u001b[1;31m---------------------------------------------------------------------------\u001b[0m",
      "\u001b[1;31mIndexError\u001b[0m                                Traceback (most recent call last)",
      "\u001b[1;32mc:\\Users\\Shalini Shukla\\Documents\\python digipodium\\data science\\data_analytics4.ipynb Cell 39\u001b[0m in \u001b[0;36m<cell line: 2>\u001b[1;34m()\u001b[0m\n\u001b[0;32m      <a href='vscode-notebook-cell:/c%3A/Users/Shalini%20Shukla/Documents/python%20digipodium/data%20science/data_analytics4.ipynb#ch0000039?line=0'>1</a>\u001b[0m fig,ax\u001b[39m=\u001b[39mplt\u001b[39m.\u001b[39msubplots(figsize\u001b[39m=\u001b[39m(\u001b[39m20\u001b[39m,\u001b[39m6\u001b[39m),nrows\u001b[39m=\u001b[39m\u001b[39m1\u001b[39m,ncols\u001b[39m=\u001b[39m\u001b[39m2\u001b[39m,)\n\u001b[1;32m----> <a href='vscode-notebook-cell:/c%3A/Users/Shalini%20Shukla/Documents/python%20digipodium/data%20science/data_analytics4.ipynb#ch0000039?line=1'>2</a>\u001b[0m df\u001b[39m.\u001b[39mloc[\u001b[39m'\u001b[39m\u001b[39mIndia\u001b[39m\u001b[39m'\u001b[39m,years]\u001b[39m.\u001b[39mplot(ax\u001b[39m=\u001b[39max[\u001b[39m0\u001b[39;49m,\u001b[39m0\u001b[39;49m])\n\u001b[0;32m      <a href='vscode-notebook-cell:/c%3A/Users/Shalini%20Shukla/Documents/python%20digipodium/data%20science/data_analytics4.ipynb#ch0000039?line=2'>3</a>\u001b[0m df\u001b[39m.\u001b[39mloc[\u001b[39m'\u001b[39m\u001b[39mIndia\u001b[39m\u001b[39m'\u001b[39m,years]\u001b[39m.\u001b[39mplot(ax\u001b[39m=\u001b[39max[\u001b[39m0\u001b[39m,\u001b[39m1\u001b[39m],kind\u001b[39m=\u001b[39m\u001b[39m'\u001b[39m\u001b[39mhist\u001b[39m\u001b[39m'\u001b[39m)\n\u001b[0;32m      <a href='vscode-notebook-cell:/c%3A/Users/Shalini%20Shukla/Documents/python%20digipodium/data%20science/data_analytics4.ipynb#ch0000039?line=3'>4</a>\u001b[0m df\u001b[39m.\u001b[39mloc[\u001b[39m'\u001b[39m\u001b[39mChina\u001b[39m\u001b[39m'\u001b[39m,years]\u001b[39m.\u001b[39mplot(ax\u001b[39m=\u001b[39max[\u001b[39m1\u001b[39m,\u001b[39m0\u001b[39m])\n",
      "\u001b[1;31mIndexError\u001b[0m: too many indices for array: array is 1-dimensional, but 2 were indexed"
     ]
    },
    {
     "data": {
      "image/png": "[encoded data removed]",
      "text/plain": [
       "<Figure size 1440x432 with 2 Axes>"
      ]
     },
     "metadata": {
      "needs_background": "light"
     },
     "output_type": "display_data"
    }
   ],
   "source": [
    "fig,ax=plt.subplots(figsize=(20,6),nrows=1,ncols=2,)\n",
    "df.loc['India',years].plot(ax=ax[0,0])\n",
    "df.loc['India',years].plot(ax=ax[0,1],kind='hist')\n",
    "df.loc['China',years].plot(ax=ax[1,0])\n",
    "df.loc['China',years].plot(ax=ax[1,1],kind='hist')\n",
    "ax[0,0].set_title(\"India's immigration to Canada\",fontsize=20)\n",
    "ax[0,1].set_title(\"India's frequency of immigration \",fontsize=20)\n",
    "ax[1,0].set_title(\"Canada's immigration to India\",fontsize=20)\n",
    "ax[1,1].set_title(\"Canada's frequency of immigration \",fontsize=20)\n",
    "plt.show()"
   ]
  },
  {
   "cell_type": "code",
   "execution_count": 62,
   "metadata": {},
   "outputs": [
    {
     "data": {
      "text/plain": [
       "<AxesSubplot: >"
      ]
     },
     "execution_count": 62,
     "metadata": {},
     "output_type": "execute_result"
    },
    {
     "data": {
      "image/png": "[encoded data removed]",
      "text/plain": [
       "<Figure size 1440x432 with 1 Axes>"
      ]
     },
     "metadata": {
      "needs_background": "light"
     },
     "output_type": "display_data"
    }
   ],
   "source": [
    "df.loc['Argentina',years].plot(kind='bar',figsize=(20,6),color='darkblue')"
   ]
  },
  {
   "cell_type": "code",
   "execution_count": 64,
   "metadata": {},
   "outputs": [
    {
     "data": {
      "text/plain": [
       "<AxesSubplot: >"
      ]
     },
     "execution_count": 64,
     "metadata": {},
     "output_type": "execute_result"
    },
    {
     "data": {
      "image/png": "[encoded data removed]",
      "text/plain": [
       "<Figure size 1440x432 with 1 Axes>"
      ]
     },
     "metadata": {
      "needs_background": "light"
     },
     "output_type": "display_data"
    }
   ],
   "source": [
    "df.loc[country_list,years].T.plot(kind='bar',figsize=(20,6),stacked=True)"
   ]
  },
  {
   "cell_type": "code",
   "execution_count": 66,
   "metadata": {},
   "outputs": [
    {
     "data": {
      "text/plain": [
       "<AxesSubplot: ylabel='total'>"
      ]
     },
     "execution_count": 66,
     "metadata": {},
     "output_type": "execute_result"
    },
    {
     "data": {
      "image/png": "[encoded data removed]",
      "text/plain": [
       "<Figure size 1440x432 with 1 Axes>"
      ]
     },
     "metadata": {},
     "output_type": "display_data"
    }
   ],
   "source": [
    "plt.figure(facecolor='white')\n",
    "continent_df['total']=continec=continent_df.sum(axis=1)\n",
    "continent_df['total'].plot(kind='pie',figsize=(20,6),autopct='%1.1f%%',radius=1.5)"
   ]
  },
  {
   "cell_type": "code",
   "execution_count": 70,
   "metadata": {},
   "outputs": [
    {
     "data": {
      "image/png": "[encoded data removed]",
      "text/plain": [
       "<Figure size 1440x432 with 1 Axes>"
      ]
     },
     "metadata": {},
     "output_type": "display_data"
    }
   ],
   "source": [
    "plt.figure(facecolor='white')\n",
    "continent_df['total']=continec=continent_df.sum(axis=1)\n",
    "continent_df['total'].plot(kind='pie',figsize=(20,6),autopct='%1.1f%%',\n",
    "        radius=1.5,fontsize=12,wedgeprops={'width':0.75})\n",
    "plt.ylabel('')        \n",
    "plt.savefig('continet_wise_immigration_pie_chart.png',dpi=300,bbox_inches='tight')"
   ]
  },
  {
   "cell_type": "code",
   "execution_count": 71,
   "metadata": {},
   "outputs": [
    {
     "data": {
      "text/plain": [
       "<AxesSubplot: >"
      ]
     },
     "execution_count": 71,
     "metadata": {},
     "output_type": "execute_result"
    },
    {
     "data": {
      "image/png": "[encoded data removed]",
      "text/plain": [
       "<Figure size 1440x720 with 1 Axes>"
      ]
     },
     "metadata": {
      "needs_background": "light"
     },
     "output_type": "display_data"
    }
   ],
   "source": [
    "df.loc[country_list,years].T.plot(kind='box',figsize=(20,10),logy=True)"
   ]
  },
  {
   "cell_type": "code",
   "execution_count": 72,
   "metadata": {},
   "outputs": [
    {
     "data": {
      "application/vnd.plotly.v1+json": {
       "config": {
        "plotlyServerURL": "https://plot.ly"
       },
       "data": [
        {
         "hovertemplate": "index=%{x}<br>y=%{y}<extra></extra>",
         "legendgroup": "",
         "line": {
          "color": "#636efa",
          "dash": "solid"
         },
         "marker": {
          "symbol": "circle"
         },
         "mode": "lines+markers",
         "name": "",
         "orientation": "v",
         "showlegend": false,
         "type": "scatter",
         "x": [
          1980,
          1981,
          1982,
          1983,
          1984,
          1985,
          1986,
          1987,
          1988,
          1989,
          1990,
          1991,
          1992,
          1993,
          1994,
          1995,
          1996,
          1997,
          1998,
          1999,
          2000,
          2001,
          2002,
          2003,
          2004,
          2005,
          2006,
          2007,
          2008,
          2009,
          2010,
          2011,
          2012,
          2013
         ],
         "xaxis": "x",
         "y": [
          8880,
          8670,
          8147,
          7338,
          5704,
          4211,
          7150,
          10189,
          11522,
          10343,
          12041,
          13734,
          13673,
          21496,
          18620,
          18489,
          23859,
          22268,
          17241,
          18974,
          28572,
          31223,
          31889,
          27155,
          28235,
          36210,
          33848,
          28742,
          28261,
          29456,
          34235,
          27509,
          30933,
          33087
         ],
         "yaxis": "y"
        }
       ],
       "layout": {
        "height": 300,
        "legend": {
         "tracegroupgap": 0
        },
        "margin": {
         "t": 60
        },
        "template": {
         "data": {
          "bar": [
           {
            "error_x": {
             "color": "#2a3f5f"
            },
            "error_y": {
             "color": "#2a3f5f"
            },
            "marker": {
             "line": {
              "color": "#E5ECF6",
              "width": 0.5
             },
             "pattern": {
              "fillmode": "overlay",
              "size": 10,
              "solidity": 0.2
             }
            },
            "type": "bar"
           }
          ],
          "barpolar": [
           {
            "marker": {
             "line": {
              "color": "#E5ECF6",
              "width": 0.5
             },
             "pattern": {
              "fillmode": "overlay",
              "size": 10,
              "solidity": 0.2
             }
            },
            "type": "barpolar"
           }
          ],
          "carpet": [
           {
            "aaxis": {
             "endlinecolor": "#2a3f5f",
             "gridcolor": "white",
             "linecolor": "white",
             "minorgridcolor": "white",
             "startlinecolor": "#2a3f5f"
            },
            "baxis": {
             "endlinecolor": "#2a3f5f",
             "gridcolor": "white",
             "linecolor": "white",
             "minorgridcolor": "white",
             "startlinecolor": "#2a3f5f"
            },
            "type": "carpet"
           }
          ],
          "choropleth": [
           {
            "colorbar": {
             "outlinewidth": 0,
             "ticks": ""
            },
            "type": "choropleth"
           }
          ],
          "contour": [
           {
            "colorbar": {
             "outlinewidth": 0,
             "ticks": ""
            },
            "colorscale": [
             [
              0,
              "#0d0887"
             ],
             [
              0.1111111111111111,
              "#46039f"
             ],
             [
              0.2222222222222222,
              "#7201a8"
             ],
             [
              0.3333333333333333,
              "#9c179e"
             ],
             [
              0.4444444444444444,
              "#bd3786"
             ],
             [
              0.5555555555555556,
              "#d8576b"
             ],
             [
              0.6666666666666666,
              "#ed7953"
             ],
             [
              0.7777777777777778,
              "#fb9f3a"
             ],
             [
              0.8888888888888888,
              "#fdca26"
             ],
             [
              1,
              "#f0f921"
             ]
            ],
            "type": "contour"
           }
          ],
          "contourcarpet": [
           {
            "colorbar": {
             "outlinewidth": 0,
             "ticks": ""
            },
            "type": "contourcarpet"
           }
          ],
          "heatmap": [
           {
            "colorbar": {
             "outlinewidth": 0,
             "ticks": ""
            },
            "colorscale": [
             [
              0,
              "#0d0887"
             ],
             [
              0.1111111111111111,
              "#46039f"
             ],
             [
              0.2222222222222222,
              "#7201a8"
             ],
             [
              0.3333333333333333,
              "#9c179e"
             ],
             [
              0.4444444444444444,
              "#bd3786"
             ],
             [
              0.5555555555555556,
              "#d8576b"
             ],
             [
              0.6666666666666666,
              "#ed7953"
             ],
             [
              0.7777777777777778,
              "#fb9f3a"
             ],
             [
              0.8888888888888888,
              "#fdca26"
             ],
             [
              1,
              "#f0f921"
             ]
            ],
            "type": "heatmap"
           }
          ],
          "heatmapgl": [
           {
            "colorbar": {
             "outlinewidth": 0,
             "ticks": ""
            },
            "colorscale": [
             [
              0,
              "#0d0887"
             ],
             [
              0.1111111111111111,
              "#46039f"
             ],
             [
              0.2222222222222222,
              "#7201a8"
             ],
             [
              0.3333333333333333,
              "#9c179e"
             ],
             [
              0.4444444444444444,
              "#bd3786"
             ],
             [
              0.5555555555555556,
              "#d8576b"
             ],
             [
              0.6666666666666666,
              "#ed7953"
             ],
             [
              0.7777777777777778,
              "#fb9f3a"
             ],
             [
              0.8888888888888888,
              "#fdca26"
             ],
             [
              1,
              "#f0f921"
             ]
            ],
            "type": "heatmapgl"
           }
          ],
          "histogram": [
           {
            "marker": {
             "pattern": {
              "fillmode": "overlay",
              "size": 10,
              "solidity": 0.2
             }
            },
            "type": "histogram"
           }
          ],
          "histogram2d": [
           {
            "colorbar": {
             "outlinewidth": 0,
             "ticks": ""
            },
            "colorscale": [
             [
              0,
              "#0d0887"
             ],
             [
              0.1111111111111111,
              "#46039f"
             ],
             [
              0.2222222222222222,
              "#7201a8"
             ],
             [
              0.3333333333333333,
              "#9c179e"
             ],
             [
              0.4444444444444444,
              "#bd3786"
             ],
             [
              0.5555555555555556,
              "#d8576b"
             ],
             [
              0.6666666666666666,
              "#ed7953"
             ],
             [
              0.7777777777777778,
              "#fb9f3a"
             ],
             [
              0.8888888888888888,
              "#fdca26"
             ],
             [
              1,
              "#f0f921"
             ]
            ],
            "type": "histogram2d"
           }
          ],
          "histogram2dcontour": [
           {
            "colorbar": {
             "outlinewidth": 0,
             "ticks": ""
            },
            "colorscale": [
             [
              0,
              "#0d0887"
             ],
             [
              0.1111111111111111,
              "#46039f"
             ],
             [
              0.2222222222222222,
              "#7201a8"
             ],
             [
              0.3333333333333333,
              "#9c179e"
             ],
             [
              0.4444444444444444,
              "#bd3786"
             ],
             [
              0.5555555555555556,
              "#d8576b"
             ],
             [
              0.6666666666666666,
              "#ed7953"
             ],
             [
              0.7777777777777778,
              "#fb9f3a"
             ],
             [
              0.8888888888888888,
              "#fdca26"
             ],
             [
              1,
              "#f0f921"
             ]
            ],
            "type": "histogram2dcontour"
           }
          ],
          "mesh3d": [
           {
            "colorbar": {
             "outlinewidth": 0,
             "ticks": ""
            },
            "type": "mesh3d"
           }
          ],
          "parcoords": [
           {
            "line": {
             "colorbar": {
              "outlinewidth": 0,
              "ticks": ""
             }
            },
            "type": "parcoords"
           }
          ],
          "pie": [
           {
            "automargin": true,
            "type": "pie"
           }
          ],
          "scatter": [
           {
            "fillpattern": {
             "fillmode": "overlay",
             "size": 10,
             "solidity": 0.2
            },
            "type": "scatter"
           }
          ],
          "scatter3d": [
           {
            "line": {
             "colorbar": {
              "outlinewidth": 0,
              "ticks": ""
             }
            },
            "marker": {
             "colorbar": {
              "outlinewidth": 0,
              "ticks": ""
             }
            },
            "type": "scatter3d"
           }
          ],
          "scattercarpet": [
           {
            "marker": {
             "colorbar": {
              "outlinewidth": 0,
              "ticks": ""
             }
            },
            "type": "scattercarpet"
           }
          ],
          "scattergeo": [
           {
            "marker": {
             "colorbar": {
              "outlinewidth": 0,
              "ticks": ""
             }
            },
            "type": "scattergeo"
           }
          ],
          "scattergl": [
           {
            "marker": {
             "colorbar": {
              "outlinewidth": 0,
              "ticks": ""
             }
            },
            "type": "scattergl"
           }
          ],
          "scattermapbox": [
           {
            "marker": {
             "colorbar": {
              "outlinewidth": 0,
              "ticks": ""
             }
            },
            "type": "scattermapbox"
           }
          ],
          "scatterpolar": [
           {
            "marker": {
             "colorbar": {
              "outlinewidth": 0,
              "ticks": ""
             }
            },
            "type": "scatterpolar"
           }
          ],
          "scatterpolargl": [
           {
            "marker": {
             "colorbar": {
              "outlinewidth": 0,
              "ticks": ""
             }
            },
            "type": "scatterpolargl"
           }
          ],
          "scatterternary": [
           {
            "marker": {
             "colorbar": {
              "outlinewidth": 0,
              "ticks": ""
             }
            },
            "type": "scatterternary"
           }
          ],
          "surface": [
           {
            "colorbar": {
             "outlinewidth": 0,
             "ticks": ""
            },
            "colorscale": [
             [
              0,
              "#0d0887"
             ],
             [
              0.1111111111111111,
              "#46039f"
             ],
             [
              0.2222222222222222,
              "#7201a8"
             ],
             [
              0.3333333333333333,
              "#9c179e"
             ],
             [
              0.4444444444444444,
              "#bd3786"
             ],
             [
              0.5555555555555556,
              "#d8576b"
             ],
             [
              0.6666666666666666,
              "#ed7953"
             ],
             [
              0.7777777777777778,
              "#fb9f3a"
             ],
             [
              0.8888888888888888,
              "#fdca26"
             ],
             [
              1,
              "#f0f921"
             ]
            ],
            "type": "surface"
           }
          ],
          "table": [
           {
            "cells": {
             "fill": {
              "color": "#EBF0F8"
             },
             "line": {
              "color": "white"
             }
            },
            "header": {
             "fill": {
              "color": "#C8D4E3"
             },
             "line": {
              "color": "white"
             }
            },
            "type": "table"
           }
          ]
         },
         "layout": {
          "annotationdefaults": {
           "arrowcolor": "#2a3f5f",
           "arrowhead": 0,
           "arrowwidth": 1
          },
          "autotypenumbers": "strict",
          "coloraxis": {
           "colorbar": {
            "outlinewidth": 0,
            "ticks": ""
           }
          },
          "colorscale": {
           "diverging": [
            [
             0,
             "#8e0152"
            ],
            [
             0.1,
             "#c51b7d"
            ],
            [
             0.2,
             "#de77ae"
            ],
            [
             0.3,
             "#f1b6da"
            ],
            [
             0.4,
             "#fde0ef"
            ],
            [
             0.5,
             "#f7f7f7"
            ],
            [
             0.6,
             "#e6f5d0"
            ],
            [
             0.7,
             "#b8e186"
            ],
            [
             0.8,
             "#7fbc41"
            ],
            [
             0.9,
             "#4d9221"
            ],
            [
             1,
             "#276419"
            ]
           ],
           "sequential": [
            [
             0,
             "#0d0887"
            ],
            [
             0.1111111111111111,
             "#46039f"
            ],
            [
             0.2222222222222222,
             "#7201a8"
            ],
            [
             0.3333333333333333,
             "#9c179e"
            ],
            [
             0.4444444444444444,
             "#bd3786"
            ],
            [
             0.5555555555555556,
             "#d8576b"
            ],
            [
             0.6666666666666666,
             "#ed7953"
            ],
            [
             0.7777777777777778,
             "#fb9f3a"
            ],
            [
             0.8888888888888888,
             "#fdca26"
            ],
            [
             1,
             "#f0f921"
            ]
           ],
           "sequentialminus": [
            [
             0,
             "#0d0887"
            ],
            [
             0.1111111111111111,
             "#46039f"
            ],
            [
             0.2222222222222222,
             "#7201a8"
            ],
            [
             0.3333333333333333,
             "#9c179e"
            ],
            [
             0.4444444444444444,
             "#bd3786"
            ],
            [
             0.5555555555555556,
             "#d8576b"
            ],
            [
             0.6666666666666666,
             "#ed7953"
            ],
            [
             0.7777777777777778,
             "#fb9f3a"
            ],
            [
             0.8888888888888888,
             "#fdca26"
            ],
            [
             1,
             "#f0f921"
            ]
           ]
          },
          "colorway": [
           "#636efa",
           "#EF553B",
           "#00cc96",
           "#ab63fa",
           "#FFA15A",
           "#19d3f3",
           "#FF6692",
           "#B6E880",
           "#FF97FF",
           "#FECB52"
          ],
          "font": {
           "color": "#2a3f5f"
          },
          "geo": {
           "bgcolor": "white",
           "lakecolor": "white",
           "landcolor": "#E5ECF6",
           "showlakes": true,
           "showland": true,
           "subunitcolor": "white"
          },
          "hoverlabel": {
           "align": "left"
          },
          "hovermode": "closest",
          "mapbox": {
           "style": "light"
          },
          "paper_bgcolor": "white",
          "plot_bgcolor": "#E5ECF6",
          "polar": {
           "angularaxis": {
            "gridcolor": "white",
            "linecolor": "white",
            "ticks": ""
           },
           "bgcolor": "#E5ECF6",
           "radialaxis": {
            "gridcolor": "white",
            "linecolor": "white",
            "ticks": ""
           }
          },
          "scene": {
           "xaxis": {
            "backgroundcolor": "#E5ECF6",
            "gridcolor": "white",
            "gridwidth": 2,
            "linecolor": "white",
            "showbackground": true,
            "ticks": "",
            "zerolinecolor": "white"
           },
           "yaxis": {
            "backgroundcolor": "#E5ECF6",
            "gridcolor": "white",
            "gridwidth": 2,
            "linecolor": "white",
            "showbackground": true,
            "ticks": "",
            "zerolinecolor": "white"
           },
           "zaxis": {
            "backgroundcolor": "#E5ECF6",
            "gridcolor": "white",
            "gridwidth": 2,
            "linecolor": "white",
            "showbackground": true,
            "ticks": "",
            "zerolinecolor": "white"
           }
          },
          "shapedefaults": {
           "line": {
            "color": "#2a3f5f"
           }
          },
          "ternary": {
           "aaxis": {
            "gridcolor": "white",
            "linecolor": "white",
            "ticks": ""
           },
           "baxis": {
            "gridcolor": "white",
            "linecolor": "white",
            "ticks": ""
           },
           "bgcolor": "#E5ECF6",
           "caxis": {
            "gridcolor": "white",
            "linecolor": "white",
            "ticks": ""
           }
          },
          "title": {
           "x": 0.05
          },
          "xaxis": {
           "automargin": true,
           "gridcolor": "white",
           "linecolor": "white",
           "ticks": "",
           "title": {
            "standoff": 15
           },
           "zerolinecolor": "white",
           "zerolinewidth": 2
          },
          "yaxis": {
           "automargin": true,
           "gridcolor": "white",
           "linecolor": "white",
           "ticks": "",
           "title": {
            "standoff": 15
           },
           "zerolinecolor": "white",
           "zerolinewidth": 2
          }
         }
        },
        "xaxis": {
         "anchor": "y",
         "domain": [
          0,
          1
         ],
         "title": {
          "text": "index"
         }
        },
        "yaxis": {
         "anchor": "x",
         "domain": [
          0,
          1
         ],
         "title": {
          "text": "y"
         }
        }
       }
      }
     },
     "metadata": {},
     "output_type": "display_data"
    }
   ],
   "source": [
    "years=list(range(1980,2014))\n",
    "india_data=df.loc['India',years]\n",
    "px.line(india_data,x=india_data.index,y=india_data.values,markers=True,height=300)\n"
   ]
  },
  {
   "cell_type": "code",
   "execution_count": 74,
   "metadata": {},
   "outputs": [],
   "source": [
    "countrydf=df.loc[country_list,years].T"
   ]
  },
  {
   "cell_type": "code",
   "execution_count": 75,
   "metadata": {},
   "outputs": [
    {
     "data": {
      "application/vnd.plotly.v1+json": {
       "config": {
        "plotlyServerURL": "https://plot.ly"
       },
       "data": [
        {
         "hovertemplate": "country=China<br>index=%{x}<br>value=%{y}<extra></extra>",
         "legendgroup": "China",
         "marker": {
          "color": "#636efa"
         },
         "name": "China",
         "orientation": "v",
         "showlegend": true,
         "type": "funnel",
         "x": [
          1980,
          1981,
          1982,
          1983,
          1984,
          1985,
          1986,
          1987,
          1988,
          1989,
          1990,
          1991,
          1992,
          1993,
          1994,
          1995,
          1996,
          1997,
          1998,
          1999,
          2000,
          2001,
          2002,
          2003,
          2004,
          2005,
          2006,
          2007,
          2008,
          2009,
          2010,
          2011,
          2012,
          2013
         ],
         "xaxis": "x",
         "y": [
          5123,
          6682,
          3308,
          1863,
          1527,
          1816,
          1960,
          2643,
          2758,
          4323,
          8076,
          14255,
          10846,
          9817,
          13128,
          14398,
          19415,
          20475,
          21049,
          30069,
          35529,
          36434,
          31961,
          36439,
          36619,
          42584,
          33518,
          27642,
          30037,
          29622,
          30391,
          28502,
          33024,
          34129
         ],
         "yaxis": "y"
        },
        {
         "hovertemplate": "country=Japan<br>index=%{x}<br>value=%{y}<extra></extra>",
         "legendgroup": "Japan",
         "marker": {
          "color": "#EF553B"
         },
         "name": "Japan",
         "orientation": "v",
         "showlegend": true,
         "type": "funnel",
         "x": [
          1980,
          1981,
          1982,
          1983,
          1984,
          1985,
          1986,
          1987,
          1988,
          1989,
          1990,
          1991,
          1992,
          1993,
          1994,
          1995,
          1996,
          1997,
          1998,
          1999,
          2000,
          2001,
          2002,
          2003,
          2004,
          2005,
          2006,
          2007,
          2008,
          2009,
          2010,
          2011,
          2012,
          2013
         ],
         "xaxis": "x",
         "y": [
          701,
          756,
          598,
          309,
          246,
          198,
          248,
          422,
          324,
          494,
          379,
          506,
          605,
          907,
          956,
          826,
          994,
          924,
          897,
          1083,
          1010,
          1092,
          806,
          817,
          973,
          1067,
          1212,
          1250,
          1284,
          1194,
          1168,
          1265,
          1214,
          982
         ],
         "yaxis": "y"
        },
        {
         "hovertemplate": "country=Philippines<br>index=%{x}<br>value=%{y}<extra></extra>",
         "legendgroup": "Philippines",
         "marker": {
          "color": "#00cc96"
         },
         "name": "Philippines",
         "orientation": "v",
         "showlegend": true,
         "type": "funnel",
         "x": [
          1980,
          1981,
          1982,
          1983,
          1984,
          1985,
          1986,
          1987,
          1988,
          1989,
          1990,
          1991,
          1992,
          1993,
          1994,
          1995,
          1996,
          1997,
          1998,
          1999,
          2000,
          2001,
          2002,
          2003,
          2004,
          2005,
          2006,
          2007,
          2008,
          2009,
          2010,
          2011,
          2012,
          2013
         ],
         "xaxis": "x",
         "y": [
          6051,
          5921,
          5249,
          4562,
          3801,
          3150,
          4166,
          7360,
          8639,
          11865,
          12509,
          12718,
          13670,
          20479,
          19532,
          15864,
          13692,
          11549,
          8735,
          9734,
          10763,
          13836,
          11707,
          12758,
          14004,
          18139,
          18400,
          19837,
          24887,
          28573,
          38617,
          36765,
          34315,
          29544
         ],
         "yaxis": "y"
        },
        {
         "hovertemplate": "country=Thailand<br>index=%{x}<br>value=%{y}<extra></extra>",
         "legendgroup": "Thailand",
         "marker": {
          "color": "#ab63fa"
         },
         "name": "Thailand",
         "orientation": "v",
         "showlegend": true,
         "type": "funnel",
         "x": [
          1980,
          1981,
          1982,
          1983,
          1984,
          1985,
          1986,
          1987,
          1988,
          1989,
          1990,
          1991,
          1992,
          1993,
          1994,
          1995,
          1996,
          1997,
          1998,
          1999,
          2000,
          2001,
          2002,
          2003,
          2004,
          2005,
          2006,
          2007,
          2008,
          2009,
          2010,
          2011,
          2012,
          2013
         ],
         "xaxis": "x",
         "y": [
          56,
          53,
          113,
          65,
          82,
          66,
          78,
          117,
          147,
          177,
          171,
          219,
          219,
          279,
          237,
          172,
          195,
          152,
          201,
          246,
          258,
          309,
          547,
          439,
          392,
          575,
          500,
          487,
          519,
          512,
          499,
          396,
          296,
          400
         ],
         "yaxis": "y"
        },
        {
         "hovertemplate": "country=Sri Lanka<br>index=%{x}<br>value=%{y}<extra></extra>",
         "legendgroup": "Sri Lanka",
         "marker": {
          "color": "#FFA15A"
         },
         "name": "Sri Lanka",
         "orientation": "v",
         "showlegend": true,
         "type": "funnel",
         "x": [
          1980,
          1981,
          1982,
          1983,
          1984,
          1985,
          1986,
          1987,
          1988,
          1989,
          1990,
          1991,
          1992,
          1993,
          1994,
          1995,
          1996,
          1997,
          1998,
          1999,
          2000,
          2001,
          2002,
          2003,
          2004,
          2005,
          2006,
          2007,
          2008,
          2009,
          2010,
          2011,
          2012,
          2013
         ],
         "xaxis": "x",
         "y": [
          185,
          371,
          290,
          197,
          1086,
          845,
          1838,
          4447,
          2779,
          2758,
          3525,
          7266,
          13102,
          9563,
          7150,
          9368,
          6484,
          5415,
          3566,
          4982,
          6081,
          5861,
          5279,
          4892,
          4495,
          4930,
          4714,
          4123,
          4756,
          4547,
          4422,
          3309,
          3338,
          2394
         ],
         "yaxis": "y"
        }
       ],
       "layout": {
        "legend": {
         "title": {
          "text": "country"
         },
         "tracegroupgap": 0
        },
        "margin": {
         "t": 60
        },
        "template": {
         "data": {
          "bar": [
           {
            "error_x": {
             "color": "#2a3f5f"
            },
            "error_y": {
             "color": "#2a3f5f"
            },
            "marker": {
             "line": {
              "color": "#E5ECF6",
              "width": 0.5
             },
             "pattern": {
              "fillmode": "overlay",
              "size": 10,
              "solidity": 0.2
             }
            },
            "type": "bar"
           }
          ],
          "barpolar": [
           {
            "marker": {
             "line": {
              "color": "#E5ECF6",
              "width": 0.5
             },
             "pattern": {
              "fillmode": "overlay",
              "size": 10,
              "solidity": 0.2
             }
            },
            "type": "barpolar"
           }
          ],
          "carpet": [
           {
            "aaxis": {
             "endlinecolor": "#2a3f5f",
             "gridcolor": "white",
             "linecolor": "white",
             "minorgridcolor": "white",
             "startlinecolor": "#2a3f5f"
            },
            "baxis": {
             "endlinecolor": "#2a3f5f",
             "gridcolor": "white",
             "linecolor": "white",
             "minorgridcolor": "white",
             "startlinecolor": "#2a3f5f"
            },
            "type": "carpet"
           }
          ],
          "choropleth": [
           {
            "colorbar": {
             "outlinewidth": 0,
             "ticks": ""
            },
            "type": "choropleth"
           }
          ],
          "contour": [
           {
            "colorbar": {
             "outlinewidth": 0,
             "ticks": ""
            },
            "colorscale": [
             [
              0,
              "#0d0887"
             ],
             [
              0.1111111111111111,
              "#46039f"
             ],
             [
              0.2222222222222222,
              "#7201a8"
             ],
             [
              0.3333333333333333,
              "#9c179e"
             ],
             [
              0.4444444444444444,
              "#bd3786"
             ],
             [
              0.5555555555555556,
              "#d8576b"
             ],
             [
              0.6666666666666666,
              "#ed7953"
             ],
             [
              0.7777777777777778,
              "#fb9f3a"
             ],
             [
              0.8888888888888888,
              "#fdca26"
             ],
             [
              1,
              "#f0f921"
             ]
            ],
            "type": "contour"
           }
          ],
          "contourcarpet": [
           {
            "colorbar": {
             "outlinewidth": 0,
             "ticks": ""
            },
            "type": "contourcarpet"
           }
          ],
          "heatmap": [
           {
            "colorbar": {
             "outlinewidth": 0,
             "ticks": ""
            },
            "colorscale": [
             [
              0,
              "#0d0887"
             ],
             [
              0.1111111111111111,
              "#46039f"
             ],
             [
              0.2222222222222222,
              "#7201a8"
             ],
             [
              0.3333333333333333,
              "#9c179e"
             ],
             [
              0.4444444444444444,
              "#bd3786"
             ],
             [
              0.5555555555555556,
              "#d8576b"
             ],
             [
              0.6666666666666666,
              "#ed7953"
             ],
             [
              0.7777777777777778,
              "#fb9f3a"
             ],
             [
              0.8888888888888888,
              "#fdca26"
             ],
             [
              1,
              "#f0f921"
             ]
            ],
            "type": "heatmap"
           }
          ],
          "heatmapgl": [
           {
            "colorbar": {
             "outlinewidth": 0,
             "ticks": ""
            },
            "colorscale": [
             [
              0,
              "#0d0887"
             ],
             [
              0.1111111111111111,
              "#46039f"
             ],
             [
              0.2222222222222222,
              "#7201a8"
             ],
             [
              0.3333333333333333,
              "#9c179e"
             ],
             [
              0.4444444444444444,
              "#bd3786"
             ],
             [
              0.5555555555555556,
              "#d8576b"
             ],
             [
              0.6666666666666666,
              "#ed7953"
             ],
             [
              0.7777777777777778,
              "#fb9f3a"
             ],
             [
              0.8888888888888888,
              "#fdca26"
             ],
             [
              1,
              "#f0f921"
             ]
            ],
            "type": "heatmapgl"
           }
          ],
          "histogram": [
           {
            "marker": {
             "pattern": {
              "fillmode": "overlay",
              "size": 10,
              "solidity": 0.2
             }
            },
            "type": "histogram"
           }
          ],
          "histogram2d": [
           {
            "colorbar": {
             "outlinewidth": 0,
             "ticks": ""
            },
            "colorscale": [
             [
              0,
              "#0d0887"
             ],
             [
              0.1111111111111111,
              "#46039f"
             ],
             [
              0.2222222222222222,
              "#7201a8"
             ],
             [
              0.3333333333333333,
              "#9c179e"
             ],
             [
              0.4444444444444444,
              "#bd3786"
             ],
             [
              0.5555555555555556,
              "#d8576b"
             ],
             [
              0.6666666666666666,
              "#ed7953"
             ],
             [
              0.7777777777777778,
              "#fb9f3a"
             ],
             [
              0.8888888888888888,
              "#fdca26"
             ],
             [
              1,
              "#f0f921"
             ]
            ],
            "type": "histogram2d"
           }
          ],
          "histogram2dcontour": [
           {
            "colorbar": {
             "outlinewidth": 0,
             "ticks": ""
            },
            "colorscale": [
             [
              0,
              "#0d0887"
             ],
             [
              0.1111111111111111,
              "#46039f"
             ],
             [
              0.2222222222222222,
              "#7201a8"
             ],
             [
              0.3333333333333333,
              "#9c179e"
             ],
             [
              0.4444444444444444,
              "#bd3786"
             ],
             [
              0.5555555555555556,
              "#d8576b"
             ],
             [
              0.6666666666666666,
              "#ed7953"
             ],
             [
              0.7777777777777778,
              "#fb9f3a"
             ],
             [
              0.8888888888888888,
              "#fdca26"
             ],
             [
              1,
              "#f0f921"
             ]
            ],
            "type": "histogram2dcontour"
           }
          ],
          "mesh3d": [
           {
            "colorbar": {
             "outlinewidth": 0,
             "ticks": ""
            },
            "type": "mesh3d"
           }
          ],
          "parcoords": [
           {
            "line": {
             "colorbar": {
              "outlinewidth": 0,
              "ticks": ""
             }
            },
            "type": "parcoords"
           }
          ],
          "pie": [
           {
            "automargin": true,
            "type": "pie"
           }
          ],
          "scatter": [
           {
            "fillpattern": {
             "fillmode": "overlay",
             "size": 10,
             "solidity": 0.2
            },
            "type": "scatter"
           }
          ],
          "scatter3d": [
           {
            "line": {
             "colorbar": {
              "outlinewidth": 0,
              "ticks": ""
             }
            },
            "marker": {
             "colorbar": {
              "outlinewidth": 0,
              "ticks": ""
             }
            },
            "type": "scatter3d"
           }
          ],
          "scattercarpet": [
           {
            "marker": {
             "colorbar": {
              "outlinewidth": 0,
              "ticks": ""
             }
            },
            "type": "scattercarpet"
           }
          ],
          "scattergeo": [
           {
            "marker": {
             "colorbar": {
              "outlinewidth": 0,
              "ticks": ""
             }
            },
            "type": "scattergeo"
           }
          ],
          "scattergl": [
           {
            "marker": {
             "colorbar": {
              "outlinewidth": 0,
              "ticks": ""
             }
            },
            "type": "scattergl"
           }
          ],
          "scattermapbox": [
           {
            "marker": {
             "colorbar": {
              "outlinewidth": 0,
              "ticks": ""
             }
            },
            "type": "scattermapbox"
           }
          ],
          "scatterpolar": [
           {
            "marker": {
             "colorbar": {
              "outlinewidth": 0,
              "ticks": ""
             }
            },
            "type": "scatterpolar"
           }
          ],
          "scatterpolargl": [
           {
            "marker": {
             "colorbar": {
              "outlinewidth": 0,
              "ticks": ""
             }
            },
            "type": "scatterpolargl"
           }
          ],
          "scatterternary": [
           {
            "marker": {
             "colorbar": {
              "outlinewidth": 0,
              "ticks": ""
             }
            },
            "type": "scatterternary"
           }
          ],
          "surface": [
           {
            "colorbar": {
             "outlinewidth": 0,
             "ticks": ""
            },
            "colorscale": [
             [
              0,
              "#0d0887"
             ],
             [
              0.1111111111111111,
              "#46039f"
             ],
             [
              0.2222222222222222,
              "#7201a8"
             ],
             [
              0.3333333333333333,
              "#9c179e"
             ],
             [
              0.4444444444444444,
              "#bd3786"
             ],
             [
              0.5555555555555556,
              "#d8576b"
             ],
             [
              0.6666666666666666,
              "#ed7953"
             ],
             [
              0.7777777777777778,
              "#fb9f3a"
             ],
             [
              0.8888888888888888,
              "#fdca26"
             ],
             [
              1,
              "#f0f921"
             ]
            ],
            "type": "surface"
           }
          ],
          "table": [
           {
            "cells": {
             "fill": {
              "color": "#EBF0F8"
             },
             "line": {
              "color": "white"
             }
            },
            "header": {
             "fill": {
              "color": "#C8D4E3"
             },
             "line": {
              "color": "white"
             }
            },
            "type": "table"
           }
          ]
         },
         "layout": {
          "annotationdefaults": {
           "arrowcolor": "#2a3f5f",
           "arrowhead": 0,
           "arrowwidth": 1
          },
          "autotypenumbers": "strict",
          "coloraxis": {
           "colorbar": {
            "outlinewidth": 0,
            "ticks": ""
           }
          },
          "colorscale": {
           "diverging": [
            [
             0,
             "#8e0152"
            ],
            [
             0.1,
             "#c51b7d"
            ],
            [
             0.2,
             "#de77ae"
            ],
            [
             0.3,
             "#f1b6da"
            ],
            [
             0.4,
             "#fde0ef"
            ],
            [
             0.5,
             "#f7f7f7"
            ],
            [
             0.6,
             "#e6f5d0"
            ],
            [
             0.7,
             "#b8e186"
            ],
            [
             0.8,
             "#7fbc41"
            ],
            [
             0.9,
             "#4d9221"
            ],
            [
             1,
             "#276419"
            ]
           ],
           "sequential": [
            [
             0,
             "#0d0887"
            ],
            [
             0.1111111111111111,
             "#46039f"
            ],
            [
             0.2222222222222222,
             "#7201a8"
            ],
            [
             0.3333333333333333,
             "#9c179e"
            ],
            [
             0.4444444444444444,
             "#bd3786"
            ],
            [
             0.5555555555555556,
             "#d8576b"
            ],
            [
             0.6666666666666666,
             "#ed7953"
            ],
            [
             0.7777777777777778,
             "#fb9f3a"
            ],
            [
             0.8888888888888888,
             "#fdca26"
            ],
            [
             1,
             "#f0f921"
            ]
           ],
           "sequentialminus": [
            [
             0,
             "#0d0887"
            ],
            [
             0.1111111111111111,
             "#46039f"
            ],
            [
             0.2222222222222222,
             "#7201a8"
            ],
            [
             0.3333333333333333,
             "#9c179e"
            ],
            [
             0.4444444444444444,
             "#bd3786"
            ],
            [
             0.5555555555555556,
             "#d8576b"
            ],
            [
             0.6666666666666666,
             "#ed7953"
            ],
            [
             0.7777777777777778,
             "#fb9f3a"
            ],
            [
             0.8888888888888888,
             "#fdca26"
            ],
            [
             1,
             "#f0f921"
            ]
           ]
          },
          "colorway": [
           "#636efa",
           "#EF553B",
           "#00cc96",
           "#ab63fa",
           "#FFA15A",
           "#19d3f3",
           "#FF6692",
           "#B6E880",
           "#FF97FF",
           "#FECB52"
          ],
          "font": {
           "color": "#2a3f5f"
          },
          "geo": {
           "bgcolor": "white",
           "lakecolor": "white",
           "landcolor": "#E5ECF6",
           "showlakes": true,
           "showland": true,
           "subunitcolor": "white"
          },
          "hoverlabel": {
           "align": "left"
          },
          "hovermode": "closest",
          "mapbox": {
           "style": "light"
          },
          "paper_bgcolor": "white",
          "plot_bgcolor": "#E5ECF6",
          "polar": {
           "angularaxis": {
            "gridcolor": "white",
            "linecolor": "white",
            "ticks": ""
           },
           "bgcolor": "#E5ECF6",
           "radialaxis": {
            "gridcolor": "white",
            "linecolor": "white",
            "ticks": ""
           }
          },
          "scene": {
           "xaxis": {
            "backgroundcolor": "#E5ECF6",
            "gridcolor": "white",
            "gridwidth": 2,
            "linecolor": "white",
            "showbackground": true,
            "ticks": "",
            "zerolinecolor": "white"
           },
           "yaxis": {
            "backgroundcolor": "#E5ECF6",
            "gridcolor": "white",
            "gridwidth": 2,
            "linecolor": "white",
            "showbackground": true,
            "ticks": "",
            "zerolinecolor": "white"
           },
           "zaxis": {
            "backgroundcolor": "#E5ECF6",
            "gridcolor": "white",
            "gridwidth": 2,
            "linecolor": "white",
            "showbackground": true,
            "ticks": "",
            "zerolinecolor": "white"
           }
          },
          "shapedefaults": {
           "line": {
            "color": "#2a3f5f"
           }
          },
          "ternary": {
           "aaxis": {
            "gridcolor": "white",
            "linecolor": "white",
            "ticks": ""
           },
           "baxis": {
            "gridcolor": "white",
            "linecolor": "white",
            "ticks": ""
           },
           "bgcolor": "#E5ECF6",
           "caxis": {
            "gridcolor": "white",
            "linecolor": "white",
            "ticks": ""
           }
          },
          "title": {
           "x": 0.05
          },
          "xaxis": {
           "automargin": true,
           "gridcolor": "white",
           "linecolor": "white",
           "ticks": "",
           "title": {
            "standoff": 15
           },
           "zerolinecolor": "white",
           "zerolinewidth": 2
          },
          "yaxis": {
           "automargin": true,
           "gridcolor": "white",
           "linecolor": "white",
           "ticks": "",
           "title": {
            "standoff": 15
           },
           "zerolinecolor": "white",
           "zerolinewidth": 2
          }
         }
        },
        "xaxis": {
         "anchor": "y",
         "domain": [
          0,
          1
         ],
         "title": {
          "text": "index"
         }
        },
        "yaxis": {
         "anchor": "x",
         "domain": [
          0,
          1
         ],
         "title": {
          "text": "value"
         }
        }
       }
      }
     },
     "metadata": {},
     "output_type": "display_data"
    }
   ],
   "source": [
    "px.funnel(countrydf,countrydf.index,countrydf.columns)"
   ]
  },
  {
   "cell_type": "markdown",
   "metadata": {},
   "source": [
    "- visualisation on map"
   ]
  },
  {
   "cell_type": "code",
   "execution_count": 81,
   "metadata": {},
   "outputs": [
    {
     "data": {
      "application/vnd.plotly.v1+json": {
       "config": {
        "plotlyServerURL": "https://plot.ly"
       },
       "data": [
        {
         "coloraxis": "coloraxis",
         "geo": "geo",
         "hovertemplate": "country=%{location}<br>total=%{z}<extra></extra>",
         "locationmode": "country names",
         "locations": [
          "India",
          "China",
          "United Kingdom of Great Britain and Northern Ireland",
          "Philippines",
          "Pakistan",
          "United States of America",
          "Iran (Islamic Republic of)",
          "Sri Lanka",
          "Republic of Korea",
          "Poland",
          "Lebanon",
          "France",
          "Jamaica",
          "Viet Nam",
          "Romania",
          "Haiti",
          "Guyana",
          "Portugal",
          "Egypt",
          "Morocco",
          "Colombia",
          "Iraq",
          "Algeria",
          "Israel",
          "Bangladesh",
          "Germany",
          "Russian Federation",
          "Mexico",
          "Afghanistan",
          "El Salvador",
          "Ukraine",
          "Trinidad and Tobago",
          "Somalia",
          "South Africa",
          "Nigeria",
          "Jordan",
          "Ethiopia",
          "Peru",
          "Turkey",
          "Syrian Arab Republic",
          "Brazil",
          "Japan",
          "Netherlands",
          "Ghana",
          "Democratic Republic of the Congo",
          "Malaysia",
          "Australia",
          "Bulgaria",
          "Italy",
          "Bosnia and Herzegovina",
          "Chile",
          "Venezuela (Bolivarian Republic of)",
          "Fiji",
          "Cuba",
          "Argentina",
          "Guatemala",
          "Sudan",
          "Tunisia",
          "Kenya",
          "Ireland",
          "Hungary",
          "Cameroon",
          "Albania",
          "Mauritius",
          "Switzerland",
          "Republic of Moldova",
          "Singapore",
          "Indonesia",
          "United Republic of Tanzania",
          "Greece",
          "Ecuador",
          "Nicaragua",
          "Dominican Republic",
          "Belgium",
          "Eritrea",
          "New Zealand",
          "Nepal",
          "Saint Vincent and the Grenadines",
          "China, Hong Kong Special Administrative Region",
          "Myanmar",
          "Thailand",
          "Grenada",
          "Zimbabwe",
          "Kazakhstan",
          "Côte d'Ivoire",
          "Burundi",
          "Croatia",
          "Belarus",
          "Honduras",
          "Senegal",
          "Barbados",
          "Rwanda",
          "Cambodia",
          "State of Palestine",
          "Slovakia",
          "Bhutan",
          "Sweden",
          "Spain",
          "Austria",
          "Libya",
          "Guinea",
          "Saint Lucia",
          "Uruguay",
          "The former Yugoslav Republic of Macedonia",
          "Costa Rica",
          "Czech Republic",
          "Denmark",
          "Togo",
          "Uganda",
          "Saudi Arabia",
          "Uzbekistan",
          "Sierra Leone",
          "Armenia",
          "Bolivia (Plurinational State of)",
          "Panama",
          "Yemen",
          "Benin",
          "Finland",
          "Liberia",
          "Azerbaijan",
          "Dominica",
          "Lithuania",
          "Kyrgyzstan",
          "Norway",
          "Latvia",
          "Madagascar",
          "Mali",
          "Angola",
          "Georgia",
          "Burkina Faso",
          "Kuwait",
          "Paraguay",
          "Serbia",
          "Congo",
          "Zambia",
          "Chad",
          "Djibouti",
          "Malta",
          "Seychelles",
          "Cyprus",
          "Lao People's Democratic Republic",
          "Belize",
          "Mauritania",
          "Antigua and Barbuda",
          "Niger",
          "Mongolia",
          "Gabon",
          "Estonia",
          "United Arab Emirates",
          "Bahamas",
          "Suriname",
          "Saint Kitts and Nevis",
          "Gambia",
          "Brunei Darussalam",
          "Iceland",
          "Central African Republic",
          "Slovenia",
          "Tajikistan",
          "Bahrain",
          "Botswana",
          "Democratic People's Republic of Korea",
          "Namibia",
          "Turkmenistan",
          "Malawi",
          "China, Macao Special Administrative Region",
          "Oman",
          "Luxembourg",
          "Cabo Verde",
          "Comoros",
          "Swaziland",
          "Mozambique",
          "Qatar",
          "Tonga",
          "Lesotho",
          "Montenegro",
          "Guinea-Bissau",
          "Samoa",
          "Papua New Guinea",
          "Equatorial Guinea",
          "Liechtenstein",
          "Maldives",
          "Monaco",
          "Canada",
          "Nauru",
          "Andorra",
          "Kiribati",
          "Vanuatu",
          "Sao Tome and Principe",
          "Tuvalu",
          "American Samoa",
          "San Marino",
          "New Caledonia",
          "Marshall Islands",
          "Western Sahara",
          "Palau"
         ],
         "name": "",
         "type": "choropleth",
         "z": [
          691904,
          659962,
          551500,
          511391,
          241600,
          241122,
          175923,
          148358,
          142581,
          139241,
          115359,
          109091,
          106431,
          97146,
          93585,
          84813,
          75785,
          74167,
          72745,
          72267,
          72088,
          69789,
          69439,
          66508,
          65568,
          63912,
          63344,
          58712,
          58639,
          54878,
          51410,
          50016,
          42109,
          40568,
          39732,
          35406,
          35136,
          32652,
          31781,
          31485,
          29659,
          27707,
          26884,
          26032,
          25582,
          24417,
          23829,
          23310,
          22624,
          21855,
          21359,
          21267,
          20609,
          20365,
          19596,
          19465,
          18506,
          17583,
          17228,
          16964,
          16822,
          16021,
          15699,
          15690,
          15678,
          15381,
          14579,
          13150,
          12496,
          12410,
          12233,
          12095,
          11193,
          10762,
          10450,
          10386,
          10222,
          9707,
          9327,
          9245,
          9174,
          9091,
          8598,
          8490,
          8291,
          8110,
          8001,
          7975,
          7770,
          7362,
          6923,
          6691,
          6538,
          6512,
          5963,
          5876,
          5866,
          5018,
          4985,
          4909,
          4891,
          4802,
          4715,
          4637,
          4489,
          4192,
          3901,
          3545,
          3450,
          3425,
          3368,
          3351,
          3310,
          3205,
          3161,
          2985,
          2852,
          2781,
          2759,
          2649,
          2470,
          2414,
          2353,
          2327,
          2326,
          2194,
          2188,
          2113,
          2068,
          2043,
          2025,
          1944,
          1939,
          1686,
          1677,
          1653,
          1646,
          1546,
          1266,
          1126,
          1089,
          1083,
          1016,
          981,
          952,
          952,
          952,
          935,
          836,
          808,
          739,
          653,
          603,
          600,
          570,
          550,
          523,
          503,
          475,
          396,
          388,
          320,
          310,
          294,
          284,
          224,
          215,
          201,
          194,
          188,
          160,
          157,
          142,
          107,
          105,
          83,
          78,
          64,
          61,
          40,
          30,
          29,
          20,
          18,
          15,
          15,
          11,
          10,
          8,
          6,
          5,
          5,
          2,
          2,
          1
         ]
        }
       ],
       "layout": {
        "coloraxis": {
         "colorbar": {
          "title": {
           "text": "total"
          }
         },
         "colorscale": [
          [
           0,
           "#0d0887"
          ],
          [
           0.1111111111111111,
           "#46039f"
          ],
          [
           0.2222222222222222,
           "#7201a8"
          ],
          [
           0.3333333333333333,
           "#9c179e"
          ],
          [
           0.4444444444444444,
           "#bd3786"
          ],
          [
           0.5555555555555556,
           "#d8576b"
          ],
          [
           0.6666666666666666,
           "#ed7953"
          ],
          [
           0.7777777777777778,
           "#fb9f3a"
          ],
          [
           0.8888888888888888,
           "#fdca26"
          ],
          [
           1,
           "#f0f921"
          ]
         ]
        },
        "geo": {
         "center": {},
         "domain": {
          "x": [
           0,
           1
          ],
          "y": [
           0,
           1
          ]
         }
        },
        "height": 600,
        "legend": {
         "tracegroupgap": 0
        },
        "margin": {
         "t": 60
        },
        "template": {
         "data": {
          "bar": [
           {
            "error_x": {
             "color": "#2a3f5f"
            },
            "error_y": {
             "color": "#2a3f5f"
            },
            "marker": {
             "line": {
              "color": "#E5ECF6",
              "width": 0.5
             },
             "pattern": {
              "fillmode": "overlay",
              "size": 10,
              "solidity": 0.2
             }
            },
            "type": "bar"
           }
          ],
          "barpolar": [
           {
            "marker": {
             "line": {
              "color": "#E5ECF6",
              "width": 0.5
             },
             "pattern": {
              "fillmode": "overlay",
              "size": 10,
              "solidity": 0.2
             }
            },
            "type": "barpolar"
           }
          ],
          "carpet": [
           {
            "aaxis": {
             "endlinecolor": "#2a3f5f",
             "gridcolor": "white",
             "linecolor": "white",
             "minorgridcolor": "white",
             "startlinecolor": "#2a3f5f"
            },
            "baxis": {
             "endlinecolor": "#2a3f5f",
             "gridcolor": "white",
             "linecolor": "white",
             "minorgridcolor": "white",
             "startlinecolor": "#2a3f5f"
            },
            "type": "carpet"
           }
          ],
          "choropleth": [
           {
            "colorbar": {
             "outlinewidth": 0,
             "ticks": ""
            },
            "type": "choropleth"
           }
          ],
          "contour": [
           {
            "colorbar": {
             "outlinewidth": 0,
             "ticks": ""
            },
            "colorscale": [
             [
              0,
              "#0d0887"
             ],
             [
              0.1111111111111111,
              "#46039f"
             ],
             [
              0.2222222222222222,
              "#7201a8"
             ],
             [
              0.3333333333333333,
              "#9c179e"
             ],
             [
              0.4444444444444444,
              "#bd3786"
             ],
             [
              0.5555555555555556,
              "#d8576b"
             ],
             [
              0.6666666666666666,
              "#ed7953"
             ],
             [
              0.7777777777777778,
              "#fb9f3a"
             ],
             [
              0.8888888888888888,
              "#fdca26"
             ],
             [
              1,
              "#f0f921"
             ]
            ],
            "type": "contour"
           }
          ],
          "contourcarpet": [
           {
            "colorbar": {
             "outlinewidth": 0,
             "ticks": ""
            },
            "type": "contourcarpet"
           }
          ],
          "heatmap": [
           {
            "colorbar": {
             "outlinewidth": 0,
             "ticks": ""
            },
            "colorscale": [
             [
              0,
              "#0d0887"
             ],
             [
              0.1111111111111111,
              "#46039f"
             ],
             [
              0.2222222222222222,
              "#7201a8"
             ],
             [
              0.3333333333333333,
              "#9c179e"
             ],
             [
              0.4444444444444444,
              "#bd3786"
             ],
             [
              0.5555555555555556,
              "#d8576b"
             ],
             [
              0.6666666666666666,
              "#ed7953"
             ],
             [
              0.7777777777777778,
              "#fb9f3a"
             ],
             [
              0.8888888888888888,
              "#fdca26"
             ],
             [
              1,
              "#f0f921"
             ]
            ],
            "type": "heatmap"
           }
          ],
          "heatmapgl": [
           {
            "colorbar": {
             "outlinewidth": 0,
             "ticks": ""
            },
            "colorscale": [
             [
              0,
              "#0d0887"
             ],
             [
              0.1111111111111111,
              "#46039f"
             ],
             [
              0.2222222222222222,
              "#7201a8"
             ],
             [
              0.3333333333333333,
              "#9c179e"
             ],
             [
              0.4444444444444444,
              "#bd3786"
             ],
             [
              0.5555555555555556,
              "#d8576b"
             ],
             [
              0.6666666666666666,
              "#ed7953"
             ],
             [
              0.7777777777777778,
              "#fb9f3a"
             ],
             [
              0.8888888888888888,
              "#fdca26"
             ],
             [
              1,
              "#f0f921"
             ]
            ],
            "type": "heatmapgl"
           }
          ],
          "histogram": [
           {
            "marker": {
             "pattern": {
              "fillmode": "overlay",
              "size": 10,
              "solidity": 0.2
             }
            },
            "type": "histogram"
           }
          ],
          "histogram2d": [
           {
            "colorbar": {
             "outlinewidth": 0,
             "ticks": ""
            },
            "colorscale": [
             [
              0,
              "#0d0887"
             ],
             [
              0.1111111111111111,
              "#46039f"
             ],
             [
              0.2222222222222222,
              "#7201a8"
             ],
             [
              0.3333333333333333,
              "#9c179e"
             ],
             [
              0.4444444444444444,
              "#bd3786"
             ],
             [
              0.5555555555555556,
              "#d8576b"
             ],
             [
              0.6666666666666666,
              "#ed7953"
             ],
             [
              0.7777777777777778,
              "#fb9f3a"
             ],
             [
              0.8888888888888888,
              "#fdca26"
             ],
             [
              1,
              "#f0f921"
             ]
            ],
            "type": "histogram2d"
           }
          ],
          "histogram2dcontour": [
           {
            "colorbar": {
             "outlinewidth": 0,
             "ticks": ""
            },
            "colorscale": [
             [
              0,
              "#0d0887"
             ],
             [
              0.1111111111111111,
              "#46039f"
             ],
             [
              0.2222222222222222,
              "#7201a8"
             ],
             [
              0.3333333333333333,
              "#9c179e"
             ],
             [
              0.4444444444444444,
              "#bd3786"
             ],
             [
              0.5555555555555556,
              "#d8576b"
             ],
             [
              0.6666666666666666,
              "#ed7953"
             ],
             [
              0.7777777777777778,
              "#fb9f3a"
             ],
             [
              0.8888888888888888,
              "#fdca26"
             ],
             [
              1,
              "#f0f921"
             ]
            ],
            "type": "histogram2dcontour"
           }
          ],
          "mesh3d": [
           {
            "colorbar": {
             "outlinewidth": 0,
             "ticks": ""
            },
            "type": "mesh3d"
           }
          ],
          "parcoords": [
           {
            "line": {
             "colorbar": {
              "outlinewidth": 0,
              "ticks": ""
             }
            },
            "type": "parcoords"
           }
          ],
          "pie": [
           {
            "automargin": true,
            "type": "pie"
           }
          ],
          "scatter": [
           {
            "fillpattern": {
             "fillmode": "overlay",
             "size": 10,
             "solidity": 0.2
            },
            "type": "scatter"
           }
          ],
          "scatter3d": [
           {
            "line": {
             "colorbar": {
              "outlinewidth": 0,
              "ticks": ""
             }
            },
            "marker": {
             "colorbar": {
              "outlinewidth": 0,
              "ticks": ""
             }
            },
            "type": "scatter3d"
           }
          ],
          "scattercarpet": [
           {
            "marker": {
             "colorbar": {
              "outlinewidth": 0,
              "ticks": ""
             }
            },
            "type": "scattercarpet"
           }
          ],
          "scattergeo": [
           {
            "marker": {
             "colorbar": {
              "outlinewidth": 0,
              "ticks": ""
             }
            },
            "type": "scattergeo"
           }
          ],
          "scattergl": [
           {
            "marker": {
             "colorbar": {
              "outlinewidth": 0,
              "ticks": ""
             }
            },
            "type": "scattergl"
           }
          ],
          "scattermapbox": [
           {
            "marker": {
             "colorbar": {
              "outlinewidth": 0,
              "ticks": ""
             }
            },
            "type": "scattermapbox"
           }
          ],
          "scatterpolar": [
           {
            "marker": {
             "colorbar": {
              "outlinewidth": 0,
              "ticks": ""
             }
            },
            "type": "scatterpolar"
           }
          ],
          "scatterpolargl": [
           {
            "marker": {
             "colorbar": {
              "outlinewidth": 0,
              "ticks": ""
             }
            },
            "type": "scatterpolargl"
           }
          ],
          "scatterternary": [
           {
            "marker": {
             "colorbar": {
              "outlinewidth": 0,
              "ticks": ""
             }
            },
            "type": "scatterternary"
           }
          ],
          "surface": [
           {
            "colorbar": {
             "outlinewidth": 0,
             "ticks": ""
            },
            "colorscale": [
             [
              0,
              "#0d0887"
             ],
             [
              0.1111111111111111,
              "#46039f"
             ],
             [
              0.2222222222222222,
              "#7201a8"
             ],
             [
              0.3333333333333333,
              "#9c179e"
             ],
             [
              0.4444444444444444,
              "#bd3786"
             ],
             [
              0.5555555555555556,
              "#d8576b"
             ],
             [
              0.6666666666666666,
              "#ed7953"
             ],
             [
              0.7777777777777778,
              "#fb9f3a"
             ],
             [
              0.8888888888888888,
              "#fdca26"
             ],
             [
              1,
              "#f0f921"
             ]
            ],
            "type": "surface"
           }
          ],
          "table": [
           {
            "cells": {
             "fill": {
              "color": "#EBF0F8"
             },
             "line": {
              "color": "white"
             }
            },
            "header": {
             "fill": {
              "color": "#C8D4E3"
             },
             "line": {
              "color": "white"
             }
            },
            "type": "table"
           }
          ]
         },
         "layout": {
          "annotationdefaults": {
           "arrowcolor": "#2a3f5f",
           "arrowhead": 0,
           "arrowwidth": 1
          },
          "autotypenumbers": "strict",
          "coloraxis": {
           "colorbar": {
            "outlinewidth": 0,
            "ticks": ""
           }
          },
          "colorscale": {
           "diverging": [
            [
             0,
             "#8e0152"
            ],
            [
             0.1,
             "#c51b7d"
            ],
            [
             0.2,
             "#de77ae"
            ],
            [
             0.3,
             "#f1b6da"
            ],
            [
             0.4,
             "#fde0ef"
            ],
            [
             0.5,
             "#f7f7f7"
            ],
            [
             0.6,
             "#e6f5d0"
            ],
            [
             0.7,
             "#b8e186"
            ],
            [
             0.8,
             "#7fbc41"
            ],
            [
             0.9,
             "#4d9221"
            ],
            [
             1,
             "#276419"
            ]
           ],
           "sequential": [
            [
             0,
             "#0d0887"
            ],
            [
             0.1111111111111111,
             "#46039f"
            ],
            [
             0.2222222222222222,
             "#7201a8"
            ],
            [
             0.3333333333333333,
             "#9c179e"
            ],
            [
             0.4444444444444444,
             "#bd3786"
            ],
            [
             0.5555555555555556,
             "#d8576b"
            ],
            [
             0.6666666666666666,
             "#ed7953"
            ],
            [
             0.7777777777777778,
             "#fb9f3a"
            ],
            [
             0.8888888888888888,
             "#fdca26"
            ],
            [
             1,
             "#f0f921"
            ]
           ],
           "sequentialminus": [
            [
             0,
             "#0d0887"
            ],
            [
             0.1111111111111111,
             "#46039f"
            ],
            [
             0.2222222222222222,
             "#7201a8"
            ],
            [
             0.3333333333333333,
             "#9c179e"
            ],
            [
             0.4444444444444444,
             "#bd3786"
            ],
            [
             0.5555555555555556,
             "#d8576b"
            ],
            [
             0.6666666666666666,
             "#ed7953"
            ],
            [
             0.7777777777777778,
             "#fb9f3a"
            ],
            [
             0.8888888888888888,
             "#fdca26"
            ],
            [
             1,
             "#f0f921"
            ]
           ]
          },
          "colorway": [
           "#636efa",
           "#EF553B",
           "#00cc96",
           "#ab63fa",
           "#FFA15A",
           "#19d3f3",
           "#FF6692",
           "#B6E880",
           "#FF97FF",
           "#FECB52"
          ],
          "font": {
           "color": "#2a3f5f"
          },
          "geo": {
           "bgcolor": "white",
           "lakecolor": "white",
           "landcolor": "#E5ECF6",
           "showlakes": true,
           "showland": true,
           "subunitcolor": "white"
          },
          "hoverlabel": {
           "align": "left"
          },
          "hovermode": "closest",
          "mapbox": {
           "style": "light"
          },
          "paper_bgcolor": "white",
          "plot_bgcolor": "#E5ECF6",
          "polar": {
           "angularaxis": {
            "gridcolor": "white",
            "linecolor": "white",
            "ticks": ""
           },
           "bgcolor": "#E5ECF6",
           "radialaxis": {
            "gridcolor": "white",
            "linecolor": "white",
            "ticks": ""
           }
          },
          "scene": {
           "xaxis": {
            "backgroundcolor": "#E5ECF6",
            "gridcolor": "white",
            "gridwidth": 2,
            "linecolor": "white",
            "showbackground": true,
            "ticks": "",
            "zerolinecolor": "white"
           },
           "yaxis": {
            "backgroundcolor": "#E5ECF6",
            "gridcolor": "white",
            "gridwidth": 2,
            "linecolor": "white",
            "showbackground": true,
            "ticks": "",
            "zerolinecolor": "white"
           },
           "zaxis": {
            "backgroundcolor": "#E5ECF6",
            "gridcolor": "white",
            "gridwidth": 2,
            "linecolor": "white",
            "showbackground": true,
            "ticks": "",
            "zerolinecolor": "white"
           }
          },
          "shapedefaults": {
           "line": {
            "color": "#2a3f5f"
           }
          },
          "ternary": {
           "aaxis": {
            "gridcolor": "white",
            "linecolor": "white",
            "ticks": ""
           },
           "baxis": {
            "gridcolor": "white",
            "linecolor": "white",
            "ticks": ""
           },
           "bgcolor": "#E5ECF6",
           "caxis": {
            "gridcolor": "white",
            "linecolor": "white",
            "ticks": ""
           }
          },
          "title": {
           "x": 0.05
          },
          "xaxis": {
           "automargin": true,
           "gridcolor": "white",
           "linecolor": "white",
           "ticks": "",
           "title": {
            "standoff": 15
           },
           "zerolinecolor": "white",
           "zerolinewidth": 2
          },
          "yaxis": {
           "automargin": true,
           "gridcolor": "white",
           "linecolor": "white",
           "ticks": "",
           "title": {
            "standoff": 15
           },
           "zerolinecolor": "white",
           "zerolinewidth": 2
          }
         }
        }
       }
      }
     },
     "metadata": {},
     "output_type": "display_data"
    }
   ],
   "source": [
    "px.choropleth(df,locations=df.index,locationmode='country names',color='total',height=600)"
   ]
  },
  {
   "cell_type": "code",
   "execution_count": 83,
   "metadata": {},
   "outputs": [],
   "source": [
    "import folium"
   ]
  },
  {
   "cell_type": "code",
   "execution_count": 84,
   "metadata": {},
   "outputs": [
    {
     "data": {
      "text/html": [
       "<div style=\"width:100%;\"><div style=\"position:relative;width:100%;height:0;padding-bottom:60%;\"><span style=\"color:#565656\">Make this Notebook Trusted to load map: File -> Trust Notebook</span><iframe srcdoc=\"&lt;!DOCTYPE html&gt;\n",
       "&lt;head&gt;    \n",
       "    &lt;meta http-equiv=&quot;content-type&quot; content=&quot;text/html; charset=UTF-8&quot; /&gt;\n",
       "    \n",
       "        &lt;script&gt;\n",
       "            L_NO_TOUCH = false;\n",
       "            L_DISABLE_3D = false;\n",
       "        &lt;/script&gt;\n",
       "    \n",
       "    &lt;style&gt;html, body {width: 100%;height: 100%;margin: 0;padding: 0;}&lt;/style&gt;\n",
       "    &lt;style&gt;#map {position:absolute;top:0;bottom:0;right:0;left:0;}&lt;/style&gt;\n",
       "    &lt;script src=&quot;https://cdn.jsdelivr.net/npm/leaflet@1.6.0/dist/leaflet.js&quot;&gt;&lt;/script&gt;\n",
       "    &lt;script src=&quot;https://code.jquery.com/jquery-1.12.4.min.js&quot;&gt;&lt;/script&gt;\n",
       "    &lt;script src=&quot;https://maxcdn.bootstrapcdn.com/bootstrap/3.2.0/js/bootstrap.min.js&quot;&gt;&lt;/script&gt;\n",
       "    &lt;script src=&quot;https://cdnjs.cloudflare.com/ajax/libs/Leaflet.awesome-markers/2.0.2/leaflet.awesome-markers.js&quot;&gt;&lt;/script&gt;\n",
       "    &lt;link rel=&quot;stylesheet&quot; href=&quot;https://cdn.jsdelivr.net/npm/leaflet@1.6.0/dist/leaflet.css&quot;/&gt;\n",
       "    &lt;link rel=&quot;stylesheet&quot; href=&quot;https://maxcdn.bootstrapcdn.com/bootstrap/3.2.0/css/bootstrap.min.css&quot;/&gt;\n",
       "    &lt;link rel=&quot;stylesheet&quot; href=&quot;https://maxcdn.bootstrapcdn.com/bootstrap/3.2.0/css/bootstrap-theme.min.css&quot;/&gt;\n",
       "    &lt;link rel=&quot;stylesheet&quot; href=&quot;https://maxcdn.bootstrapcdn.com/font-awesome/4.6.3/css/font-awesome.min.css&quot;/&gt;\n",
       "    &lt;link rel=&quot;stylesheet&quot; href=&quot;https://cdnjs.cloudflare.com/ajax/libs/Leaflet.awesome-markers/2.0.2/leaflet.awesome-markers.css&quot;/&gt;\n",
       "    &lt;link rel=&quot;stylesheet&quot; href=&quot;https://cdn.jsdelivr.net/gh/python-visualization/folium/folium/templates/leaflet.awesome.rotate.min.css&quot;/&gt;\n",
       "    \n",
       "            &lt;meta name=&quot;viewport&quot; content=&quot;width=device-width,\n",
       "                initial-scale=1.0, maximum-scale=1.0, user-scalable=no&quot; /&gt;\n",
       "            &lt;style&gt;\n",
       "                #map_7ceb1ae8e7735140df223adae181c935 {\n",
       "                    position: relative;\n",
       "                    width: 100.0%;\n",
       "                    height: 400.0px;\n",
       "                    left: 0.0%;\n",
       "                    top: 0.0%;\n",
       "                }\n",
       "            &lt;/style&gt;\n",
       "        \n",
       "&lt;/head&gt;\n",
       "&lt;body&gt;    \n",
       "    \n",
       "            &lt;div class=&quot;folium-map&quot; id=&quot;map_7ceb1ae8e7735140df223adae181c935&quot; &gt;&lt;/div&gt;\n",
       "        \n",
       "&lt;/body&gt;\n",
       "&lt;script&gt;    \n",
       "    \n",
       "            var map_7ceb1ae8e7735140df223adae181c935 = L.map(\n",
       "                &quot;map_7ceb1ae8e7735140df223adae181c935&quot;,\n",
       "                {\n",
       "                    center: [26.8467, 80.9462],\n",
       "                    crs: L.CRS.EPSG3857,\n",
       "                    zoom: 14,\n",
       "                    zoomControl: true,\n",
       "                    preferCanvas: false,\n",
       "                }\n",
       "            );\n",
       "\n",
       "            \n",
       "\n",
       "        \n",
       "    \n",
       "            var tile_layer_192d428286160231b7bc12c1ca42323c = L.tileLayer(\n",
       "                &quot;https://{s}.tile.openstreetmap.org/{z}/{x}/{y}.png&quot;,\n",
       "                {&quot;attribution&quot;: &quot;Data by \\u0026copy; \\u003ca href=\\&quot;http://openstreetmap.org\\&quot;\\u003eOpenStreetMap\\u003c/a\\u003e, under \\u003ca href=\\&quot;http://www.openstreetmap.org/copyright\\&quot;\\u003eODbL\\u003c/a\\u003e.&quot;, &quot;detectRetina&quot;: false, &quot;maxNativeZoom&quot;: 18, &quot;maxZoom&quot;: 18, &quot;minZoom&quot;: 0, &quot;noWrap&quot;: false, &quot;opacity&quot;: 1, &quot;subdomains&quot;: &quot;abc&quot;, &quot;tms&quot;: false}\n",
       "            ).addTo(map_7ceb1ae8e7735140df223adae181c935);\n",
       "        \n",
       "&lt;/script&gt;\" style=\"position:absolute;width:100%;height:100%;left:0;top:0;border:none !important;\" allowfullscreen webkitallowfullscreen mozallowfullscreen></iframe></div></div>"
      ],
      "text/plain": [
       "<folium.folium.Map at 0x1d394d48>"
      ]
     },
     "execution_count": 84,
     "metadata": {},
     "output_type": "execute_result"
    }
   ],
   "source": [
    "folium.Map(location=[26.8467,80.9462],zoom_start=14,height=400)"
   ]
  },
  {
   "cell_type": "code",
   "execution_count": 85,
   "metadata": {},
   "outputs": [
    {
     "data": {
      "text/html": [
       "<div style=\"width:100%;\"><div style=\"position:relative;width:100%;height:0;padding-bottom:60%;\"><span style=\"color:#565656\">Make this Notebook Trusted to load map: File -> Trust Notebook</span><iframe srcdoc=\"&lt;!DOCTYPE html&gt;\n",
       "&lt;head&gt;    \n",
       "    &lt;meta http-equiv=&quot;content-type&quot; content=&quot;text/html; charset=UTF-8&quot; /&gt;\n",
       "    \n",
       "        &lt;script&gt;\n",
       "            L_NO_TOUCH = false;\n",
       "            L_DISABLE_3D = false;\n",
       "        &lt;/script&gt;\n",
       "    \n",
       "    &lt;style&gt;html, body {width: 100%;height: 100%;margin: 0;padding: 0;}&lt;/style&gt;\n",
       "    &lt;style&gt;#map {position:absolute;top:0;bottom:0;right:0;left:0;}&lt;/style&gt;\n",
       "    &lt;script src=&quot;https://cdn.jsdelivr.net/npm/leaflet@1.6.0/dist/leaflet.js&quot;&gt;&lt;/script&gt;\n",
       "    &lt;script src=&quot;https://code.jquery.com/jquery-1.12.4.min.js&quot;&gt;&lt;/script&gt;\n",
       "    &lt;script src=&quot;https://maxcdn.bootstrapcdn.com/bootstrap/3.2.0/js/bootstrap.min.js&quot;&gt;&lt;/script&gt;\n",
       "    &lt;script src=&quot;https://cdnjs.cloudflare.com/ajax/libs/Leaflet.awesome-markers/2.0.2/leaflet.awesome-markers.js&quot;&gt;&lt;/script&gt;\n",
       "    &lt;link rel=&quot;stylesheet&quot; href=&quot;https://cdn.jsdelivr.net/npm/leaflet@1.6.0/dist/leaflet.css&quot;/&gt;\n",
       "    &lt;link rel=&quot;stylesheet&quot; href=&quot;https://maxcdn.bootstrapcdn.com/bootstrap/3.2.0/css/bootstrap.min.css&quot;/&gt;\n",
       "    &lt;link rel=&quot;stylesheet&quot; href=&quot;https://maxcdn.bootstrapcdn.com/bootstrap/3.2.0/css/bootstrap-theme.min.css&quot;/&gt;\n",
       "    &lt;link rel=&quot;stylesheet&quot; href=&quot;https://maxcdn.bootstrapcdn.com/font-awesome/4.6.3/css/font-awesome.min.css&quot;/&gt;\n",
       "    &lt;link rel=&quot;stylesheet&quot; href=&quot;https://cdnjs.cloudflare.com/ajax/libs/Leaflet.awesome-markers/2.0.2/leaflet.awesome-markers.css&quot;/&gt;\n",
       "    &lt;link rel=&quot;stylesheet&quot; href=&quot;https://cdn.jsdelivr.net/gh/python-visualization/folium/folium/templates/leaflet.awesome.rotate.min.css&quot;/&gt;\n",
       "    \n",
       "            &lt;meta name=&quot;viewport&quot; content=&quot;width=device-width,\n",
       "                initial-scale=1.0, maximum-scale=1.0, user-scalable=no&quot; /&gt;\n",
       "            &lt;style&gt;\n",
       "                #map_fbc996b832a82ef502bffde8e2afecf7 {\n",
       "                    position: relative;\n",
       "                    width: 100.0%;\n",
       "                    height: 400.0px;\n",
       "                    left: 0.0%;\n",
       "                    top: 0.0%;\n",
       "                }\n",
       "            &lt;/style&gt;\n",
       "        \n",
       "&lt;/head&gt;\n",
       "&lt;body&gt;    \n",
       "    \n",
       "            &lt;div class=&quot;folium-map&quot; id=&quot;map_fbc996b832a82ef502bffde8e2afecf7&quot; &gt;&lt;/div&gt;\n",
       "        \n",
       "&lt;/body&gt;\n",
       "&lt;script&gt;    \n",
       "    \n",
       "            var map_fbc996b832a82ef502bffde8e2afecf7 = L.map(\n",
       "                &quot;map_fbc996b832a82ef502bffde8e2afecf7&quot;,\n",
       "                {\n",
       "                    center: [26.8467, 80.9462],\n",
       "                    crs: L.CRS.EPSG3857,\n",
       "                    zoom: 14,\n",
       "                    zoomControl: true,\n",
       "                    preferCanvas: false,\n",
       "                }\n",
       "            );\n",
       "\n",
       "            \n",
       "\n",
       "        \n",
       "    \n",
       "            var tile_layer_ff305f0374dcb8a8671f89384d579316 = L.tileLayer(\n",
       "                &quot;https://{s}.tile.openstreetmap.org/{z}/{x}/{y}.png&quot;,\n",
       "                {&quot;attribution&quot;: &quot;Data by \\u0026copy; \\u003ca href=\\&quot;http://openstreetmap.org\\&quot;\\u003eOpenStreetMap\\u003c/a\\u003e, under \\u003ca href=\\&quot;http://www.openstreetmap.org/copyright\\&quot;\\u003eODbL\\u003c/a\\u003e.&quot;, &quot;detectRetina&quot;: false, &quot;maxNativeZoom&quot;: 18, &quot;maxZoom&quot;: 18, &quot;minZoom&quot;: 0, &quot;noWrap&quot;: false, &quot;opacity&quot;: 1, &quot;subdomains&quot;: &quot;abc&quot;, &quot;tms&quot;: false}\n",
       "            ).addTo(map_fbc996b832a82ef502bffde8e2afecf7);\n",
       "        \n",
       "    \n",
       "            var marker_848c18d77a5ad7d52be23ee055a01e37 = L.marker(\n",
       "                [26.8467, 80.9462],\n",
       "                {}\n",
       "            ).addTo(map_fbc996b832a82ef502bffde8e2afecf7);\n",
       "        \n",
       "    \n",
       "        var popup_165979c273e976af865b40541c388c57 = L.popup({&quot;maxWidth&quot;: &quot;100%&quot;});\n",
       "\n",
       "        \n",
       "            \n",
       "                var html_06ad87430f00010268932454b42a1cfd = $(`&lt;div id=&quot;html_06ad87430f00010268932454b42a1cfd&quot; style=&quot;width: 100.0%; height: 100.0%;&quot;&gt;Lucknow CENTER&lt;/div&gt;`)[0];\n",
       "                popup_165979c273e976af865b40541c388c57.setContent(html_06ad87430f00010268932454b42a1cfd);\n",
       "            \n",
       "        \n",
       "\n",
       "        marker_848c18d77a5ad7d52be23ee055a01e37.bindPopup(popup_165979c273e976af865b40541c388c57)\n",
       "        ;\n",
       "\n",
       "        \n",
       "    \n",
       "    \n",
       "            marker_848c18d77a5ad7d52be23ee055a01e37.bindTooltip(\n",
       "                `&lt;div&gt;\n",
       "                     click to see\n",
       "                 &lt;/div&gt;`,\n",
       "                {&quot;sticky&quot;: true}\n",
       "            );\n",
       "        \n",
       "&lt;/script&gt;\" style=\"position:absolute;width:100%;height:100%;left:0;top:0;border:none !important;\" allowfullscreen webkitallowfullscreen mozallowfullscreen></iframe></div></div>"
      ],
      "text/plain": [
       "<folium.folium.Map at 0x1d2fee80>"
      ]
     },
     "execution_count": 85,
     "metadata": {},
     "output_type": "execute_result"
    }
   ],
   "source": [
    "lko=folium.Map(location=[26.8467,80.9462],zoom_start=14,height=400)\n",
    "m1=folium.Marker([26.8467,80.9462],popup='Lucknow CENTER', tooltip='click to see')\n",
    "m1.add_to(lko)\n",
    "lko"
   ]
  }
 ],
 "metadata": {
  "kernelspec": {
   "display_name": "Python 3.9.12 ('base')",
   "language": "python",
   "name": "python3"
  },
  "language_info": {
   "codemirror_mode": {
    "name": "ipython",
    "version": 3
   },
   "file_extension": ".py",
   "mimetype": "text/x-python",
   "name": "python",
   "nbconvert_exporter": "python",
   "pygments_lexer": "ipython3",
   "version": "3.9.12"
  },
  "orig_nbformat": 4,
  "vscode": {
   "interpreter": {
    "hash": "400a42e877dffd63a2b2062fec838b4d7a945e3d35a74ea6618f4848047bb039"
   }
  }
 },
 "nbformat": 4,
 "nbformat_minor": 2
}
