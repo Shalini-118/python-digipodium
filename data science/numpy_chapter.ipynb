{
 "cells": [
  {
   "cell_type": "code",
   "execution_count": 3,
   "metadata": {},
   "outputs": [],
   "source": [
    "import numpy as np"
   ]
  },
  {
   "cell_type": "code",
   "execution_count": 4,
   "metadata": {},
   "outputs": [
    {
     "name": "stdout",
     "output_type": "stream",
     "text": [
      "[1 2 3 4 5]\n",
      "<class 'numpy.ndarray'>\n"
     ]
    }
   ],
   "source": [
    "#creation of numpy array\n",
    "x=np.array([1,2,3,4,5])\n",
    "print(x)\n",
    "print(type(x))\n"
   ]
  },
  {
   "cell_type": "code",
   "execution_count": 5,
   "metadata": {},
   "outputs": [
    {
     "name": "stdout",
     "output_type": "stream",
     "text": [
      "5\n",
      "(5,)\n",
      "1\n"
     ]
    }
   ],
   "source": [
    "#shape and size\n",
    "print(x.size)#total no. of element\n",
    "print(x.shape)#dimensions of data\n",
    "print(x.ndim)#num of dimensions"
   ]
  },
  {
   "cell_type": "code",
   "execution_count": 6,
   "metadata": {},
   "outputs": [
    {
     "name": "stdout",
     "output_type": "stream",
     "text": [
      "[[1 2 3]\n",
      " [4 5 6]]\n",
      "6\n",
      "(2, 3)\n",
      "2\n"
     ]
    }
   ],
   "source": [
    "x2d=np.array([[1,2,3],[4,5,6]])\n",
    "print(x2d)\n",
    "print(x2d.size)#total no. of element\n",
    "print(x2d.shape)#dimensions of data\n",
    "print(x2d.ndim)#num of dimensions"
   ]
  },
  {
   "cell_type": "code",
   "execution_count": 7,
   "metadata": {},
   "outputs": [
    {
     "name": "stdout",
     "output_type": "stream",
     "text": [
      "[[38 42 22 79 49]\n",
      " [ 3 21 80 80 80]\n",
      " [91 37 92 18 91]\n",
      " [52  2  1 99 66]\n",
      " [14 42 35 55 93]]\n"
     ]
    }
   ],
   "source": [
    "x25=np.random.randint(1,100,(5,5))\n",
    "print(x25)"
   ]
  },
  {
   "cell_type": "code",
   "execution_count": 8,
   "metadata": {},
   "outputs": [
    {
     "name": "stdout",
     "output_type": "stream",
     "text": [
      "----1 D matrix---\n",
      "[ 1  5  9 13 17 21 25 29 33 37 41 45 49 53 57 61 65 69 73 77 81 85 89 93\n",
      " 97]\n",
      "---1 D matrix reshaped to 2 D---\n",
      "25\n",
      "[[ 1  5  9 13 17]\n",
      " [21 25 29 33 37]\n",
      " [41 45 49 53 57]\n",
      " [61 65 69 73 77]\n",
      " [81 85 89 93 97]]\n"
     ]
    }
   ],
   "source": [
    "xseq1=np.arange(1,101,4)\n",
    "print(\"----1 D matrix---\")\n",
    "print(xseq1)\n",
    "print(\"---1 D matrix reshaped to 2 D---\")\n",
    "print(xseq1.size)\n",
    "\n",
    "print(xseq1.reshape(5,5))"
   ]
  },
  {
   "cell_type": "code",
   "execution_count": 9,
   "metadata": {},
   "outputs": [
    {
     "name": "stdout",
     "output_type": "stream",
     "text": [
      "50 elements\n",
      "----1 D matrix---\n",
      "[  1.           3.02040816   5.04081633   7.06122449   9.08163265\n",
      "  11.10204082  13.12244898  15.14285714  17.16326531  19.18367347\n",
      "  21.20408163  23.2244898   25.24489796  27.26530612  29.28571429\n",
      "  31.30612245  33.32653061  35.34693878  37.36734694  39.3877551\n",
      "  41.40816327  43.42857143  45.44897959  47.46938776  49.48979592\n",
      "  51.51020408  53.53061224  55.55102041  57.57142857  59.59183673\n",
      "  61.6122449   63.63265306  65.65306122  67.67346939  69.69387755\n",
      "  71.71428571  73.73469388  75.75510204  77.7755102   79.79591837\n",
      "  81.81632653  83.83673469  85.85714286  87.87755102  89.89795918\n",
      "  91.91836735  93.93877551  95.95918367  97.97959184 100.        ]\n",
      "---1 D matrix reshaped to 2 D---\n",
      "[[  1.           3.02040816   5.04081633   7.06122449   9.08163265]\n",
      " [ 11.10204082  13.12244898  15.14285714  17.16326531  19.18367347]\n",
      " [ 21.20408163  23.2244898   25.24489796  27.26530612  29.28571429]\n",
      " [ 31.30612245  33.32653061  35.34693878  37.36734694  39.3877551 ]\n",
      " [ 41.40816327  43.42857143  45.44897959  47.46938776  49.48979592]\n",
      " [ 51.51020408  53.53061224  55.55102041  57.57142857  59.59183673]\n",
      " [ 61.6122449   63.63265306  65.65306122  67.67346939  69.69387755]\n",
      " [ 71.71428571  73.73469388  75.75510204  77.7755102   79.79591837]\n",
      " [ 81.81632653  83.83673469  85.85714286  87.87755102  89.89795918]\n",
      " [ 91.91836735  93.93877551  95.95918367  97.97959184 100.        ]]\n",
      "---1 D matrix reshaped to 3 D---\n",
      "[[[  1.           3.02040816]\n",
      "  [  5.04081633   7.06122449]\n",
      "  [  9.08163265  11.10204082]\n",
      "  [ 13.12244898  15.14285714]\n",
      "  [ 17.16326531  19.18367347]]\n",
      "\n",
      " [[ 21.20408163  23.2244898 ]\n",
      "  [ 25.24489796  27.26530612]\n",
      "  [ 29.28571429  31.30612245]\n",
      "  [ 33.32653061  35.34693878]\n",
      "  [ 37.36734694  39.3877551 ]]\n",
      "\n",
      " [[ 41.40816327  43.42857143]\n",
      "  [ 45.44897959  47.46938776]\n",
      "  [ 49.48979592  51.51020408]\n",
      "  [ 53.53061224  55.55102041]\n",
      "  [ 57.57142857  59.59183673]]\n",
      "\n",
      " [[ 61.6122449   63.63265306]\n",
      "  [ 65.65306122  67.67346939]\n",
      "  [ 69.69387755  71.71428571]\n",
      "  [ 73.73469388  75.75510204]\n",
      "  [ 77.7755102   79.79591837]]\n",
      "\n",
      " [[ 81.81632653  83.83673469]\n",
      "  [ 85.85714286  87.87755102]\n",
      "  [ 89.89795918  91.91836735]\n",
      "  [ 93.93877551  95.95918367]\n",
      "  [ 97.97959184 100.        ]]]\n"
     ]
    }
   ],
   "source": [
    "xseq2=np.linspace(1,100,50)\n",
    "print(xseq2.size,\"elements\")\n",
    "print(\"----1 D matrix---\")\n",
    "print(xseq2)\n",
    "print(\"---1 D matrix reshaped to 2 D---\")\n",
    "print(xseq2.reshape(10,5))\n",
    "print(\"---1 D matrix reshaped to 3 D---\")\n",
    "\n",
    "print(xseq2.reshape(5,5,2))"
   ]
  },
  {
   "cell_type": "code",
   "execution_count": 10,
   "metadata": {},
   "outputs": [
    {
     "name": "stdout",
     "output_type": "stream",
     "text": [
      "[[  1.           3.02040816   5.04081633   7.06122449   9.08163265]\n",
      " [ 11.10204082  13.12244898  15.14285714  17.16326531  19.18367347]\n",
      " [ 21.20408163  23.2244898   25.24489796  27.26530612  29.28571429]\n",
      " [ 31.30612245  33.32653061  35.34693878  37.36734694  39.3877551 ]\n",
      " [ 41.40816327  43.42857143  45.44897959  47.46938776  49.48979592]\n",
      " [ 51.51020408  53.53061224  55.55102041  57.57142857  59.59183673]\n",
      " [ 61.6122449   63.63265306  65.65306122  67.67346939  69.69387755]\n",
      " [ 71.71428571  73.73469388  75.75510204  77.7755102   79.79591837]\n",
      " [ 81.81632653  83.83673469  85.85714286  87.87755102  89.89795918]\n",
      " [ 91.91836735  93.93877551  95.95918367  97.97959184 100.        ]]\n"
     ]
    }
   ],
   "source": [
    "xseq2d=xseq2.reshape(10,5)\n",
    "print(xseq2d)"
   ]
  },
  {
   "cell_type": "code",
   "execution_count": 11,
   "metadata": {},
   "outputs": [
    {
     "data": {
      "text/plain": [
       "array([[1, 1, 1, 1, 1],\n",
       "       [1, 1, 1, 1, 1],\n",
       "       [1, 1, 1, 1, 1],\n",
       "       [1, 1, 1, 1, 1],\n",
       "       [1, 1, 1, 1, 1]])"
      ]
     },
     "execution_count": 11,
     "metadata": {},
     "output_type": "execute_result"
    }
   ],
   "source": [
    "np.ones((5,5),dtype='int')"
   ]
  },
  {
   "cell_type": "markdown",
   "metadata": {},
   "source": [
    "* indexing and slicing\n",
    "* boolean filter\n",
    "* maths and stats\n",
    "* methods"
   ]
  },
  {
   "cell_type": "code",
   "execution_count": 12,
   "metadata": {},
   "outputs": [
    {
     "data": {
      "text/plain": [
       "array([[38, 42, 22, 79, 49],\n",
       "       [ 3, 21, 80, 80, 80],\n",
       "       [91, 37, 92, 18, 91],\n",
       "       [52,  2,  1, 99, 66],\n",
       "       [14, 42, 35, 55, 93]])"
      ]
     },
     "execution_count": 12,
     "metadata": {},
     "output_type": "execute_result"
    }
   ],
   "source": [
    "x25"
   ]
  },
  {
   "cell_type": "code",
   "execution_count": 13,
   "metadata": {},
   "outputs": [
    {
     "name": "stdout",
     "output_type": "stream",
     "text": [
      "[38 42 22 79 49]\n"
     ]
    }
   ],
   "source": [
    "# first row\n",
    "print(x25[0])"
   ]
  },
  {
   "cell_type": "code",
   "execution_count": 14,
   "metadata": {},
   "outputs": [
    {
     "name": "stdout",
     "output_type": "stream",
     "text": [
      "[14 42 35 55 93]\n"
     ]
    }
   ],
   "source": [
    "# last row\n",
    "print(x25[-1])"
   ]
  },
  {
   "cell_type": "code",
   "execution_count": 15,
   "metadata": {},
   "outputs": [
    {
     "name": "stdout",
     "output_type": "stream",
     "text": [
      "42\n"
     ]
    }
   ],
   "source": [
    "#single element\n",
    "print(x25[0,1])# same as print(x25[0][1])"
   ]
  },
  {
   "cell_type": "code",
   "execution_count": 16,
   "metadata": {},
   "outputs": [
    {
     "name": "stdout",
     "output_type": "stream",
     "text": [
      "[38  3 91 52 14]\n",
      "[42 21 37  2 42]\n",
      "[49 80 91 66 93]\n"
     ]
    }
   ],
   "source": [
    "# 1 column\n",
    "print(x25[:,0])\n",
    "# 2nd column\n",
    "print(x25[:,1])\n",
    "# last columns\n",
    "print(x25[:,-1])"
   ]
  },
  {
   "cell_type": "code",
   "execution_count": 17,
   "metadata": {},
   "outputs": [
    {
     "name": "stdout",
     "output_type": "stream",
     "text": [
      "[[38 42]\n",
      " [ 3 21]\n",
      " [91 37]\n",
      " [52  2]\n",
      " [14 42]]\n"
     ]
    }
   ],
   "source": [
    "# column 0 and 1 index\n",
    "print(x25[:,[0,1]])"
   ]
  },
  {
   "cell_type": "code",
   "execution_count": 18,
   "metadata": {},
   "outputs": [
    {
     "name": "stdout",
     "output_type": "stream",
     "text": [
      "[[38 42 22]\n",
      " [ 3 21 80]\n",
      " [91 37 92]\n",
      " [52  2  1]\n",
      " [14 42 35]]\n",
      "[[38 42 22]\n",
      " [ 3 21 80]\n",
      " [91 37 92]\n",
      " [52  2  1]\n",
      " [14 42 35]]\n"
     ]
    }
   ],
   "source": [
    "# column 0 and 1, 2 index\n",
    "print(x25[:,[0,1,2]])\n",
    "# same hings as above\n",
    "print(x25[:,:3])"
   ]
  },
  {
   "cell_type": "code",
   "execution_count": 19,
   "metadata": {},
   "outputs": [
    {
     "name": "stdout",
     "output_type": "stream",
     "text": [
      "3\n",
      "18\n",
      "2\n",
      "1\n",
      "14\n"
     ]
    }
   ],
   "source": [
    "#filtering data without numpy boolean filter(bad idea)\n",
    "for i in x25:\n",
    "    for j in i:\n",
    "        if j<=20:\n",
    "            print(j)"
   ]
  },
  {
   "cell_type": "code",
   "execution_count": 20,
   "metadata": {},
   "outputs": [
    {
     "data": {
      "text/plain": [
       "array([[False, False, False, False, False],\n",
       "       [ True, False, False, False, False],\n",
       "       [False, False, False,  True, False],\n",
       "       [False,  True,  True, False, False],\n",
       "       [ True, False, False, False, False]])"
      ]
     },
     "execution_count": 20,
     "metadata": {},
     "output_type": "execute_result"
    }
   ],
   "source": [
    "x25<=20#boolean filter"
   ]
  },
  {
   "cell_type": "code",
   "execution_count": 21,
   "metadata": {},
   "outputs": [
    {
     "data": {
      "text/plain": [
       "array([ 3, 18,  2,  1, 14])"
      ]
     },
     "execution_count": 21,
     "metadata": {},
     "output_type": "execute_result"
    }
   ],
   "source": [
    "x25[x25<=20]"
   ]
  },
  {
   "cell_type": "code",
   "execution_count": 22,
   "metadata": {},
   "outputs": [
    {
     "data": {
      "text/plain": [
       "array([79, 80, 80, 80, 91, 92, 91, 52, 99, 66, 55, 93])"
      ]
     },
     "execution_count": 22,
     "metadata": {},
     "output_type": "execute_result"
    }
   ],
   "source": [
    "x25[x25>50]"
   ]
  },
  {
   "cell_type": "code",
   "execution_count": 23,
   "metadata": {},
   "outputs": [
    {
     "data": {
      "text/plain": [
       "array([[ True,  True,  True, False,  True],\n",
       "       [False,  True, False, False, False],\n",
       "       [False,  True, False, False, False],\n",
       "       [ True, False, False, False,  True],\n",
       "       [False,  True,  True,  True, False]])"
      ]
     },
     "execution_count": 23,
     "metadata": {},
     "output_type": "execute_result"
    }
   ],
   "source": [
    "(x25>20) & (x25<70)"
   ]
  },
  {
   "cell_type": "code",
   "execution_count": 24,
   "metadata": {},
   "outputs": [
    {
     "data": {
      "text/plain": [
       "array([38, 42, 22, 49, 21, 37, 52, 66, 42, 35, 55])"
      ]
     },
     "execution_count": 24,
     "metadata": {},
     "output_type": "execute_result"
    }
   ],
   "source": [
    "x25[(x25>20) & (x25<70)]"
   ]
  },
  {
   "cell_type": "code",
   "execution_count": 25,
   "metadata": {},
   "outputs": [
    {
     "data": {
      "text/plain": [
       "array([38, 42, 22, 79, 49,  3, 21, 80, 80, 80, 91, 37, 92, 18, 91, 52,  2,\n",
       "        1, 99, 66, 14, 42, 35, 55, 93,  1,  2,  3,  4,  5])"
      ]
     },
     "execution_count": 25,
     "metadata": {},
     "output_type": "execute_result"
    }
   ],
   "source": [
    "np.append(x25,[1,2,3,4,5])# not as expected as damaging the shape og 5*5 order matrix"
   ]
  },
  {
   "cell_type": "code",
   "execution_count": 26,
   "metadata": {},
   "outputs": [
    {
     "data": {
      "text/plain": [
       "array([[38, 42, 22, 79, 49],\n",
       "       [ 3, 21, 80, 80, 80],\n",
       "       [91, 37, 92, 18, 91],\n",
       "       [52,  2,  1, 99, 66],\n",
       "       [14, 42, 35, 55, 93],\n",
       "       [ 1,  2,  3,  4,  5]])"
      ]
     },
     "execution_count": 26,
     "metadata": {},
     "output_type": "execute_result"
    }
   ],
   "source": [
    "np.append(x25,np.array([[1,2,3,4,5]]),axis=0)"
   ]
  },
  {
   "cell_type": "code",
   "execution_count": 27,
   "metadata": {},
   "outputs": [
    {
     "name": "stdout",
     "output_type": "stream",
     "text": [
      "[[27 17 40]\n",
      " [72 52 39]]\n",
      "(2, 3)\n"
     ]
    }
   ],
   "source": [
    "a=np.random.randint(5,80,(2,3))\n",
    "print(a)\n",
    "print(a.shape)"
   ]
  },
  {
   "cell_type": "code",
   "execution_count": 28,
   "metadata": {},
   "outputs": [
    {
     "name": "stdout",
     "output_type": "stream",
     "text": [
      "[[60 31]\n",
      " [75 70]\n",
      " [36 54]]\n",
      "(3, 2)\n"
     ]
    }
   ],
   "source": [
    "b=np.random.randint(5,80,(3,2))\n",
    "print(b)\n",
    "print(b.shape)"
   ]
  },
  {
   "cell_type": "code",
   "execution_count": 29,
   "metadata": {},
   "outputs": [
    {
     "data": {
      "text/plain": [
       "array([[27, 72],\n",
       "       [17, 52],\n",
       "       [40, 39]])"
      ]
     },
     "execution_count": 29,
     "metadata": {},
     "output_type": "execute_result"
    }
   ],
   "source": [
    "a.transpose()"
   ]
  },
  {
   "cell_type": "code",
   "execution_count": 30,
   "metadata": {},
   "outputs": [
    {
     "name": "stdout",
     "output_type": "stream",
     "text": [
      "[[27 17 40 60 75 36]\n",
      " [72 52 39 31 70 54]]\n"
     ]
    }
   ],
   "source": [
    "print(np.hstack((a,b.T)))"
   ]
  },
  {
   "cell_type": "code",
   "execution_count": 31,
   "metadata": {},
   "outputs": [
    {
     "name": "stdout",
     "output_type": "stream",
     "text": [
      "[[27 72 60 31]\n",
      " [17 52 75 70]\n",
      " [40 39 36 54]]\n"
     ]
    }
   ],
   "source": [
    "print(np.hstack((a.T,b)))"
   ]
  },
  {
   "cell_type": "code",
   "execution_count": 32,
   "metadata": {},
   "outputs": [
    {
     "name": "stdout",
     "output_type": "stream",
     "text": [
      "[[27 72]\n",
      " [17 52]\n",
      " [40 39]\n",
      " [60 31]\n",
      " [75 70]\n",
      " [36 54]]\n",
      "[[27 17 40]\n",
      " [72 52 39]\n",
      " [60 75 36]\n",
      " [31 70 54]]\n"
     ]
    }
   ],
   "source": [
    "print(np.vstack((a.T,b)))\n",
    "print(np.vstack((a,b.T)))"
   ]
  },
  {
   "cell_type": "code",
   "execution_count": 33,
   "metadata": {},
   "outputs": [
    {
     "name": "stdout",
     "output_type": "stream",
     "text": [
      "[[7 5 5]\n",
      " [7 5 9]\n",
      " [2 8 2]]\n",
      "\n",
      "[[2 2 1]\n",
      " [8 9 9]\n",
      " [2 1 5]]\n"
     ]
    }
   ],
   "source": [
    "x=np.random.randint(1,10,(3,3))\n",
    "y=np.random.randint(1,10,(3,3))\n",
    "print(x)\n",
    "print()\n",
    "print(y)\n",
    "\n",
    "\n"
   ]
  },
  {
   "cell_type": "code",
   "execution_count": 35,
   "metadata": {},
   "outputs": [
    {
     "name": "stdout",
     "output_type": "stream",
     "text": [
      "ADD\n",
      "[[ 9  7  6]\n",
      " [15 14 18]\n",
      " [ 4  9  7]]\n",
      "\n",
      "SUB\n",
      "[[ 5  3  4]\n",
      " [-1 -4  0]\n",
      " [ 0  7 -3]]\n",
      "\n",
      "DIV\n",
      "[[3.5        2.5        5.        ]\n",
      " [0.875      0.55555556 1.        ]\n",
      " [1.         8.         0.4       ]]\n",
      "\n",
      "MULT\n",
      "[[14 10  5]\n",
      " [56 45 81]\n",
      " [ 4  8 10]]\n",
      "\n",
      "\n",
      "[[1 1 0]\n",
      " [7 5 0]\n",
      " [0 0 2]]\n",
      "\n"
     ]
    }
   ],
   "source": [
    "print(\"ADD\")\n",
    "print(x+y)\n",
    "print()\n",
    "print(\"SUB\")\n",
    "print(x-y)\n",
    "print()\n",
    "print(\"DIV\")\n",
    "print(x/y)\n",
    "print()\n",
    "print(\"MULT\")\n",
    "print(x*y)\n",
    "print()\n",
    "print(\"\")\n",
    "print(x%y)\n",
    "print()"
   ]
  },
  {
   "cell_type": "code",
   "execution_count": 36,
   "metadata": {},
   "outputs": [
    {
     "data": {
      "text/plain": [
       "array([17, 21, 12])"
      ]
     },
     "execution_count": 36,
     "metadata": {},
     "output_type": "execute_result"
    }
   ],
   "source": [
    "x.sum(axis=1)"
   ]
  },
  {
   "cell_type": "code",
   "execution_count": 37,
   "metadata": {},
   "outputs": [
    {
     "name": "stdout",
     "output_type": "stream",
     "text": [
      "<built-in method mean of numpy.ndarray object at 0x0B205CE0>\n",
      "[5.33333333 6.         5.33333333]\n",
      "[5.66666667 7.         4.        ]\n"
     ]
    }
   ],
   "source": [
    "print(x.mean)#all\n",
    "print(x.mean(axis=0))# row\n",
    "print(x.mean(axis=1))#column"
   ]
  },
  {
   "cell_type": "code",
   "execution_count": 38,
   "metadata": {},
   "outputs": [
    {
     "name": "stdout",
     "output_type": "stream",
     "text": [
      "9\n",
      "2\n",
      "5\n",
      "6\n",
      "5\n"
     ]
    }
   ],
   "source": [
    "print(x.max())#max value\n",
    "print(x.min())#min value\n",
    "print(x.argmax())#index of max value\n",
    "print(x.argmin())#index of min value\n",
    "print(x.flatten()[4])#accessing the index value given by argmax()"
   ]
  },
  {
   "cell_type": "code",
   "execution_count": 39,
   "metadata": {},
   "outputs": [
    {
     "data": {
      "text/plain": [
       "5.0"
      ]
     },
     "execution_count": 39,
     "metadata": {},
     "output_type": "execute_result"
    }
   ],
   "source": [
    "np.median(x)#some functions are called using np, if not available through the variable"
   ]
  }
 ],
 "metadata": {
  "kernelspec": {
   "display_name": "Python 3.9.12 ('base')",
   "language": "python",
   "name": "python3"
  },
  "language_info": {
   "codemirror_mode": {
    "name": "ipython",
    "version": 3
   },
   "file_extension": ".py",
   "mimetype": "text/x-python",
   "name": "python",
   "nbconvert_exporter": "python",
   "pygments_lexer": "ipython3",
   "version": "3.9.12"
  },
  "orig_nbformat": 4,
  "vscode": {
   "interpreter": {
    "hash": "400a42e877dffd63a2b2062fec838b4d7a945e3d35a74ea6618f4848047bb039"
   }
  }
 },
 "nbformat": 4,
 "nbformat_minor": 2
}
