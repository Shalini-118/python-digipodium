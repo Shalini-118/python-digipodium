{
 "cells": [
  {
   "cell_type": "code",
   "execution_count": 3,
   "metadata": {},
   "outputs": [],
   "source": [
    "# defing list in python\n",
    "# list of numbers\n",
    "list1=[1,2,3,4,5]\n",
    "#list of strings\n",
    "list2=[\"nikhil\",\"aman\",\"dev\"]\n",
    "#mixed data\n",
    "list3=['ravi',1,2,3,\"B\",False,5.789]\n",
    "#nested list\n",
    "list4=[[1,2,3],[3,4,5],[2,1]]"
   ]
  },
  {
   "cell_type": "code",
   "execution_count": 8,
   "metadata": {},
   "outputs": [
    {
     "name": "stdout",
     "output_type": "stream",
     "text": [
      "list1= [1, 2, 'A', 3, 4, 'B', 5]\n",
      "list1[0]= 1\n",
      "list1[2]= A\n",
      "list1[-1]= 5\n",
      "list1[-3]= 4\n"
     ]
    }
   ],
   "source": [
    "#accessing list item\n",
    "list1=[1,2,'A',3,4,'B',5]\n",
    "print('list1=',list1)\n",
    "#first item\n",
    "print('list1[0]=',list1[0])\n",
    "#second item\n",
    "print('list1[2]=',list1[2])\n",
    "#third item\n",
    "print('list1[-1]=',list1[-1])\n",
    "#last item\n",
    "print('list1[-3]=',list1[-3])"
   ]
  },
  {
   "cell_type": "code",
   "execution_count": 9,
   "metadata": {},
   "outputs": [
    {
     "name": "stdout",
     "output_type": "stream",
     "text": [
      "[50, 40, 90, 80]\n"
     ]
    }
   ],
   "source": [
    "#getting a list slice\n",
    "l=[10,20,30,50,40,90,80,45,32]\n",
    "slice1=l[3:-2]\n",
    "print(slice1)"
   ]
  },
  {
   "cell_type": "code",
   "execution_count": 10,
   "metadata": {},
   "outputs": [],
   "source": [
    "books=['legion','legion:skin deep','steelheart','calamity','the final empire','the well of ascension','way of the kings']\n"
   ]
  },
  {
   "cell_type": "code",
   "execution_count": 11,
   "metadata": {},
   "outputs": [
    {
     "data": {
      "text/plain": [
       "['legion', 'legion:skin deep', 'steelheart']"
      ]
     },
     "execution_count": 11,
     "metadata": {},
     "output_type": "execute_result"
    }
   ],
   "source": [
    "books[:3]"
   ]
  },
  {
   "cell_type": "code",
   "execution_count": 12,
   "metadata": {},
   "outputs": [
    {
     "data": {
      "text/plain": [
       "['legion', 'legion:skin deep', 'steelheart', 'calamity']"
      ]
     },
     "execution_count": 12,
     "metadata": {},
     "output_type": "execute_result"
    }
   ],
   "source": [
    "books[:-3]"
   ]
  },
  {
   "cell_type": "code",
   "execution_count": 13,
   "metadata": {},
   "outputs": [
    {
     "data": {
      "text/plain": [
       "['calamity']"
      ]
     },
     "execution_count": 13,
     "metadata": {},
     "output_type": "execute_result"
    }
   ],
   "source": [
    "books[3:-3]# all except first 3 and last 3c"
   ]
  },
  {
   "cell_type": "code",
   "execution_count": 29,
   "metadata": {},
   "outputs": [
    {
     "data": {
      "text/plain": [
       "['apple', 'banana', 'cherry', 'guava']"
      ]
     },
     "execution_count": 29,
     "metadata": {},
     "output_type": "execute_result"
    }
   ],
   "source": [
    "#append function\n",
    "fruits=[]\n",
    "fruits.append(\"apple\")\n",
    "fruits.append(\"banana\")\n",
    "fruits.append(\"cherry\")\n",
    "fruits.append(\"guava\")\n",
    "fruits"
   ]
  },
  {
   "cell_type": "code",
   "execution_count": 22,
   "metadata": {},
   "outputs": [],
   "source": [
    "fruit=input(\"enter fruit name\")\n",
    "fruits.append(fruit)"
   ]
  },
  {
   "cell_type": "code",
   "execution_count": 19,
   "metadata": {},
   "outputs": [
    {
     "name": "stdout",
     "output_type": "stream",
     "text": [
      "['apple', 'orange', 'banana', 'cherry']\n"
     ]
    }
   ],
   "source": [
    "#insert function\n",
    "fruits=['apple','banana','cherry']\n",
    "fruits.insert(1,\"orange\")\n",
    "print(fruits)"
   ]
  },
  {
   "cell_type": "code",
   "execution_count": 23,
   "metadata": {},
   "outputs": [
    {
     "name": "stdout",
     "output_type": "stream",
     "text": [
      "['legion', 'legion:skin deep', 'steelheart', 'calamity', 'the final empire', 'the well of ascension', 'the hero of ages', 'way of the kings']\n"
     ]
    }
   ],
   "source": [
    "books.insert(6,'the hero of ages')\n",
    "print(books)"
   ]
  },
  {
   "cell_type": "code",
   "execution_count": 24,
   "metadata": {},
   "outputs": [
    {
     "name": "stdout",
     "output_type": "stream",
     "text": [
      "['legion', 'legion:skin deep', 'steelheart', 'calamity', 'the final empire', 'the well of ascension', 'the hero of ages', 'way of the kings', 'nightblood']\n"
     ]
    }
   ],
   "source": [
    "books.insert(100,'nightblood')\n",
    "print(books)"
   ]
  },
  {
   "cell_type": "code",
   "execution_count": 30,
   "metadata": {},
   "outputs": [
    {
     "data": {
      "text/plain": [
       "['apple', 'banana', 'cherry', 'guava', 'almond', 'cashew', 'walnut']"
      ]
     },
     "execution_count": 30,
     "metadata": {},
     "output_type": "execute_result"
    }
   ],
   "source": [
    "dry_fruits=['almond','cashew','walnut']\n",
    "fruits.extend(dry_fruits)\n",
    "fruits"
   ]
  },
  {
   "cell_type": "code",
   "execution_count": 32,
   "metadata": {},
   "outputs": [
    {
     "data": {
      "text/plain": [
       "['almond', 'apple', 'banana', 'cashew', 'cherry', 'guava', 'walnut']"
      ]
     },
     "execution_count": 32,
     "metadata": {},
     "output_type": "execute_result"
    }
   ],
   "source": [
    "fruits.sort()\n",
    "fruits"
   ]
  },
  {
   "cell_type": "code",
   "execution_count": 33,
   "metadata": {},
   "outputs": [
    {
     "data": {
      "text/plain": [
       "['walnut', 'guava', 'cherry', 'cashew', 'banana', 'apple', 'almond']"
      ]
     },
     "execution_count": 33,
     "metadata": {},
     "output_type": "execute_result"
    }
   ],
   "source": [
    "fruits.sort(reverse=True)\n",
    "fruits"
   ]
  },
  {
   "cell_type": "code",
   "execution_count": 43,
   "metadata": {},
   "outputs": [
    {
     "data": {
      "text/plain": [
       "[1, 1, 2, 2, 2, 3, 3, 3, 3, 3, 3, 31]"
      ]
     },
     "execution_count": 43,
     "metadata": {},
     "output_type": "execute_result"
    }
   ],
   "source": [
    "x=[1,2,2,3,3,3,3,3,3,31,1,2]\n",
    "x.sort()\n",
    "x"
   ]
  },
  {
   "cell_type": "code",
   "execution_count": 35,
   "metadata": {},
   "outputs": [
    {
     "name": "stdout",
     "output_type": "stream",
     "text": [
      "[1, 2, 2, 2, 3, 3, 3, 3, 3, 3, 31]\n",
      "[1, 2, 2, 2, 3, 3, 3, 3, 3, 3, 31]\n"
     ]
    }
   ],
   "source": [
    "if 1 in x:\n",
    "    x.remove(1)\n",
    "print(x)\n",
    "if 4 in x:\n",
    "    x.remove(4)\n",
    "print(x)        "
   ]
  },
  {
   "cell_type": "code",
   "execution_count": 50,
   "metadata": {},
   "outputs": [
    {
     "name": "stdout",
     "output_type": "stream",
     "text": [
      "not found\n"
     ]
    }
   ],
   "source": [
    "x.remove(3) if 3 in x else print('not found')"
   ]
  },
  {
   "cell_type": "code",
   "execution_count": 54,
   "metadata": {},
   "outputs": [
    {
     "data": {
      "text/plain": [
       "['nightblood',\n",
       " 'way of the kings',\n",
       " 'the hero of ages',\n",
       " 'the well of ascension',\n",
       " 'the final empire',\n",
       " 'calamity',\n",
       " 'steelheart',\n",
       " 'legion:skin deep',\n",
       " 'legion']"
      ]
     },
     "execution_count": 54,
     "metadata": {},
     "output_type": "execute_result"
    }
   ],
   "source": [
    "books[::-1]#reverse the list"
   ]
  },
  {
   "cell_type": "code",
   "execution_count": 55,
   "metadata": {},
   "outputs": [
    {
     "data": {
      "text/plain": [
       "4"
      ]
     },
     "execution_count": 55,
     "metadata": {},
     "output_type": "execute_result"
    }
   ],
   "source": [
    "#count function\n",
    "x=[1,2,3,4,5,6,1,1,1,6,45,5,2,2,2,2,5,5,78,8]\n",
    "x.count(1)"
   ]
  },
  {
   "cell_type": "code",
   "execution_count": 56,
   "metadata": {},
   "outputs": [
    {
     "data": {
      "text/plain": [
       "8"
      ]
     },
     "execution_count": 56,
     "metadata": {},
     "output_type": "execute_result"
    }
   ],
   "source": [
    "#index function\n",
    "books.index('nightblood')"
   ]
  },
  {
   "cell_type": "code",
   "execution_count": 57,
   "metadata": {},
   "outputs": [
    {
     "data": {
      "text/plain": [
       "9"
      ]
     },
     "execution_count": 57,
     "metadata": {},
     "output_type": "execute_result"
    }
   ],
   "source": [
    "len(books)"
   ]
  },
  {
   "cell_type": "code",
   "execution_count": 59,
   "metadata": {},
   "outputs": [
    {
     "data": {
      "text/plain": [
       "['calamity',\n",
       " 'the final empire',\n",
       " 'the well of ascension',\n",
       " 'the hero of ages',\n",
       " 'way of the kings',\n",
       " 'nightblood']"
      ]
     },
     "execution_count": 59,
     "metadata": {},
     "output_type": "execute_result"
    }
   ],
   "source": [
    "books[books.index('calamity'):]"
   ]
  },
  {
   "cell_type": "code",
   "execution_count": 63,
   "metadata": {},
   "outputs": [
    {
     "name": "stdout",
     "output_type": "stream",
     "text": [
      "['apple', 'banana', 'cherry']\n"
     ]
    }
   ],
   "source": [
    "#copy function\n",
    "fruits=['apple','banana','cherry']\n",
    "dup_fruits=fruits.copy()\n",
    "print(dup_fruits)"
   ]
  },
  {
   "cell_type": "code",
   "execution_count": 64,
   "metadata": {},
   "outputs": [
    {
     "data": {
      "text/plain": [
       "[]"
      ]
     },
     "execution_count": 64,
     "metadata": {},
     "output_type": "execute_result"
    }
   ],
   "source": [
    "#clear funtion\n",
    "fruits=['apple','banana','cherry']\n",
    "fruits.clear()\n",
    "fruits"
   ]
  },
  {
   "cell_type": "code",
   "execution_count": 68,
   "metadata": {},
   "outputs": [
    {
     "name": "stdout",
     "output_type": "stream",
     "text": [
      "banana\n"
     ]
    }
   ],
   "source": [
    "#pop function\n",
    "#by list.pop() method\n",
    "fruits=['cherry','guava','apple','banana']\n",
    "v=fruits.pop()\n",
    "print(v)\n",
    "\n"
   ]
  },
  {
   "cell_type": "code",
   "execution_count": 69,
   "metadata": {},
   "outputs": [
    {
     "name": "stdout",
     "output_type": "stream",
     "text": [
      "apple\n"
     ]
    }
   ],
   "source": [
    "#by list.pop(idx) method\n",
    "fruits=['cherry','guava','apple','banana']\n",
    "v=fruits.pop(2)\n",
    "print(v)"
   ]
  },
  {
   "cell_type": "markdown",
   "metadata": {},
   "source": [
    "wap to create a list of 5 values given by the user"
   ]
  },
  {
   "cell_type": "code",
   "execution_count": 70,
   "metadata": {},
   "outputs": [
    {
     "name": "stdout",
     "output_type": "stream",
     "text": [
      "['apple', 'mango', 'banana', 'orange', 'grapes']\n"
     ]
    }
   ],
   "source": [
    "ex=[]\n",
    "for i in range(5):\n",
    "    val=input(f'enter the {i+1}:')\n",
    "    ex.append(val)\n",
    "print(ex)    "
   ]
  },
  {
   "cell_type": "markdown",
   "metadata": {},
   "source": [
    "wap to display the sum of list"
   ]
  },
  {
   "cell_type": "code",
   "execution_count": 74,
   "metadata": {},
   "outputs": [
    {
     "name": "stdout",
     "output_type": "stream",
     "text": [
      "15\n"
     ]
    }
   ],
   "source": [
    "data=[1,2,3,4,5]\n",
    "total=0\n",
    "for i in data:\n",
    "    total+=i\n",
    "print(total)    "
   ]
  },
  {
   "cell_type": "markdown",
   "metadata": {},
   "source": [
    "wap to  find mean,median,max,min,std"
   ]
  },
  {
   "cell_type": "code",
   "execution_count": 3,
   "metadata": {},
   "outputs": [
    {
     "name": "stdout",
     "output_type": "stream",
     "text": [
      "6.111111111111111\n",
      "6\n",
      "2\n",
      "9\n",
      "6\n"
     ]
    }
   ],
   "source": [
    "from statistics import median\n",
    "x=[2,5,6,8,7,9,9,3,6]\n",
    "#mean\n",
    "mean=sum(x)/len(x)\n",
    "print(mean)\n",
    "\n",
    "#median\n",
    "print(median(x))\n",
    "\n",
    "#min\n",
    "print(min(x))\n",
    "\n",
    "#max\n",
    "print(max(x))\n",
    "\n",
    "\n",
    "\n",
    "#for median\n",
    "x.sort()\n",
    "if len(x)%2==0:\n",
    "    median=(x[len(x)//2]+x[len(x)//2-1])/2  #x[len(x)=n no. of elements in list\n",
    "else:\n",
    "    median=x[len(x)//2]\n",
    "print(median)    "
   ]
  },
  {
   "cell_type": "markdown",
   "metadata": {},
   "source": [
    "Addition of  two list elemnts and produce new list"
   ]
  },
  {
   "cell_type": "code",
   "execution_count": 7,
   "metadata": {},
   "outputs": [
    {
     "name": "stdout",
     "output_type": "stream",
     "text": [
      "[5, 7, 9]\n"
     ]
    }
   ],
   "source": [
    "x=[1,2,3]\n",
    "y=[4,5,6]\n",
    "z=[]#empty\n",
    "for i,j in zip(x,y):\n",
    "    z.append(i+j)\n",
    "print(z)    "
   ]
  },
  {
   "cell_type": "markdown",
   "metadata": {},
   "source": [
    "create a list where every element is a square of element from existing list "
   ]
  },
  {
   "cell_type": "code",
   "execution_count": 11,
   "metadata": {},
   "outputs": [
    {
     "name": "stdout",
     "output_type": "stream",
     "text": [
      "[4, 16, 64, 81]\n"
     ]
    }
   ],
   "source": [
    "a=[2,4,8,9]\n",
    "b=[]\n",
    "for i in a:\n",
    "    b.append(i**2)\n",
    "print(b)    "
   ]
  },
  {
   "cell_type": "markdown",
   "metadata": {},
   "source": [
    "create a list wher every odd element is a square of element from existing list"
   ]
  },
  {
   "cell_type": "code",
   "execution_count": 19,
   "metadata": {},
   "outputs": [
    {
     "name": "stdout",
     "output_type": "stream",
     "text": [
      "[2, 3, 4, 5, 6]\n",
      "[9, 25]\n"
     ]
    }
   ],
   "source": [
    "a=[2,3,4,5,6]\n",
    "b=[]\n",
    "for i in a:\n",
    " if i%2!=0:\n",
    "  b.append(i**2)\n",
    "print(a)  \n",
    "print(b)    \n"
   ]
  },
  {
   "cell_type": "markdown",
   "metadata": {},
   "source": [
    "# create a abbreviation list from an existing list of words"
   ]
  },
  {
   "cell_type": "code",
   "execution_count": 24,
   "metadata": {},
   "outputs": [
    {
     "name": "stdout",
     "output_type": "stream",
     "text": [
      "['United', 'State']\n",
      "['Project', 'Manager']\n",
      "['Software', 'Engineer']\n",
      "['Data', 'Analyst']\n",
      "['Senior', 'Software', 'Engineer']\n",
      "['Senior', 'Data', 'Analyst']\n",
      "['Data', 'Scientist']\n",
      "['Data', 'Engineer']\n",
      "['US', 'PM', 'SE', 'DA', 'SSE', 'SDA', 'DS', 'DE']\n"
     ]
    },
    {
     "ename": "",
     "evalue": "",
     "output_type": "error",
     "traceback": [
      "\u001b[1;31mCanceled future for execute_request message before replies were done"
     ]
    }
   ],
   "source": [
    "words=['United State','Project Manager','Software Engineer','Data Analyst','Senior Software Engineer','Senior Data Analyst','Data Scientist','Data Engineer']\n",
    "#abbrs=['US','PM,'SE','DA','SSE',SDA',DS','DE']\n",
    "abb=[]\n",
    "for names in words:\n",
    "    items=names.split()\n",
    "    print(items)\n",
    "    sp=''\n",
    "    for i in items:\n",
    "        sp+=i[0]\n",
    "    abb.append(sp)\n",
    "print(abb)        "
   ]
  },
  {
   "cell_type": "markdown",
   "metadata": {},
   "source": [
    "#take a list from user in one line of input and then remove all the non numeric values from the list and then display the cubes of the numbers from that list "
   ]
  },
  {
   "cell_type": "code",
   "execution_count": 1,
   "metadata": {},
   "outputs": [
    {
     "name": "stdout",
     "output_type": "stream",
     "text": [
      "m n b v 2 5 4\n",
      "[2, 5, 4]\n",
      "[8, 125, 64]\n"
     ]
    }
   ],
   "source": [
    "user=input('Enter anything')\n",
    "print(user)\n",
    "numeric_user=[]\n",
    "cubes=[]\n",
    "for value in user.split():\n",
    "    if value.isnumeric():\n",
    "        numeric_user.append(int(value))\n",
    "print(numeric_user)  \n",
    "\n",
    "for i in numeric_user:\n",
    "  cubes.append(i**3)\n",
    "print(cubes)    \n"
   ]
  },
  {
   "cell_type": "markdown",
   "metadata": {},
   "source": [
    "#list comprehension"
   ]
  },
  {
   "cell_type": "code",
   "execution_count": 2,
   "metadata": {},
   "outputs": [
    {
     "name": "stdout",
     "output_type": "stream",
     "text": [
      "[8, 125, 64]\n"
     ]
    }
   ],
   "source": [
    "cubes=[i**3 for i in numeric_user]\n",
    "print(cubes)"
   ]
  },
  {
   "cell_type": "markdown",
   "metadata": {},
   "source": [
    "# list comprehension\n",
    "is a way to create a list from existing list using one line of expression\n",
    "- Syntax\n",
    "\n",
    "\n",
    "newlist=[expression for item in oldlist]\n",
    "\n",
    "\n",
    " - with condition Syntax \n",
    "\n",
    "\n",
    "\n",
    "newlist=[expression for item in oldlist if condition]"
   ]
  },
  {
   "cell_type": "code",
   "execution_count": 32,
   "metadata": {},
   "outputs": [
    {
     "name": "stdout",
     "output_type": "stream",
     "text": [
      "The required conversion is 113.0\n"
     ]
    }
   ],
   "source": [
    "a=float(input(\"Enter a number.\"))\n",
    "\n",
    "Fah=a*(1.8)+32\n",
    "print('The required conversion is',Fah)\n"
   ]
  },
  {
   "cell_type": "code",
   "execution_count": null,
   "metadata": {},
   "outputs": [],
   "source": []
  }
 ],
 "metadata": {
  "kernelspec": {
   "display_name": "Python 3.9.12 ('base')",
   "language": "python",
   "name": "python3"
  },
  "language_info": {
   "codemirror_mode": {
    "name": "ipython",
    "version": 3
   },
   "file_extension": ".py",
   "mimetype": "text/x-python",
   "name": "python",
   "nbconvert_exporter": "python",
   "pygments_lexer": "ipython3",
   "version": "3.9.12"
  },
  "orig_nbformat": 4,
  "vscode": {
   "interpreter": {
    "hash": "400a42e877dffd63a2b2062fec838b4d7a945e3d35a74ea6618f4848047bb039"
   }
  }
 },
 "nbformat": 4,
 "nbformat_minor": 2
}
