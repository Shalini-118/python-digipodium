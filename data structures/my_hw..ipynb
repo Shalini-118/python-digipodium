{
 "cells": [
  {
   "cell_type": "markdown",
   "metadata": {},
   "source": [
    "- Create a string and print it.\n"
   ]
  },
  {
   "cell_type": "code",
   "execution_count": 1,
   "metadata": {},
   "outputs": [
    {
     "name": "stdout",
     "output_type": "stream",
     "text": [
      "This is my string\n"
     ]
    }
   ],
   "source": [
    "my_string=\"This is my string\"\n",
    "print(my_string)"
   ]
  },
  {
   "cell_type": "markdown",
   "metadata": {},
   "source": [
    "- Take a string input and print it's length."
   ]
  },
  {
   "cell_type": "code",
   "execution_count": 2,
   "metadata": {},
   "outputs": [
    {
     "name": "stdout",
     "output_type": "stream",
     "text": [
      "shalini shukla\n"
     ]
    },
    {
     "data": {
      "text/plain": [
       "14"
      ]
     },
     "execution_count": 2,
     "metadata": {},
     "output_type": "execute_result"
    }
   ],
   "source": [
    "str=input(\"Enter the string\")\n",
    "print(str)\n",
    "len(str)"
   ]
  },
  {
   "cell_type": "markdown",
   "metadata": {},
   "source": [
    "- Print the last word of the string Python is great using slices."
   ]
  },
  {
   "cell_type": "code",
   "execution_count": 39,
   "metadata": {},
   "outputs": [
    {
     "name": "stdout",
     "output_type": "stream",
     "text": [
      " great\n"
     ]
    }
   ],
   "source": [
    "s1=\"Python is great\"\n",
    "slice=s1[9:15]\n",
    "print(slice)\n"
   ]
  },
  {
   "cell_type": "markdown",
   "metadata": {},
   "source": [
    "- Print the each word in different line of string python is everywhere."
   ]
  },
  {
   "cell_type": "code",
   "execution_count": 2,
   "metadata": {},
   "outputs": [
    {
     "name": "stdout",
     "output_type": "stream",
     "text": [
      "Python\n",
      "is\n",
      "everywhere\n"
     ]
    }
   ],
   "source": [
    "str=\"Python is everywhere\"\n",
    "for words in str.split():\n",
    "    print(words)"
   ]
  },
  {
   "cell_type": "markdown",
   "metadata": {},
   "source": [
    "- Print the string Hello World! in reverse."
   ]
  },
  {
   "cell_type": "code",
   "execution_count": 11,
   "metadata": {},
   "outputs": [
    {
     "data": {
      "text/plain": [
       "'dlroW olleH'"
      ]
     },
     "execution_count": 11,
     "metadata": {},
     "output_type": "execute_result"
    }
   ],
   "source": [
    "str='Hello World'\n",
    "str[::-1]"
   ]
  },
  {
   "cell_type": "markdown",
   "metadata": {},
   "source": [
    "- Convert the string How are you? in uppercase."
   ]
  },
  {
   "cell_type": "code",
   "execution_count": 16,
   "metadata": {},
   "outputs": [
    {
     "name": "stdout",
     "output_type": "stream",
     "text": [
      "HOW ARE YOU?\n"
     ]
    }
   ],
   "source": [
    "str=\"How Are You?\"\n",
    "print(str.upper())"
   ]
  },
  {
   "cell_type": "markdown",
   "metadata": {},
   "source": [
    "- Convert the string How are you? in lowercase."
   ]
  },
  {
   "cell_type": "code",
   "execution_count": 15,
   "metadata": {},
   "outputs": [
    {
     "name": "stdout",
     "output_type": "stream",
     "text": [
      "how is it going?\n"
     ]
    }
   ],
   "source": [
    "str=\"How Is It Going?\"\n",
    "print(str.lower())"
   ]
  },
  {
   "cell_type": "markdown",
   "metadata": {},
   "source": [
    "- Join the following list by spaces( ) and print the result.\n",
    "words = ['Python', 'is', 'easy', 'to', 'learn']"
   ]
  },
  {
   "cell_type": "code",
   "execution_count": 26,
   "metadata": {},
   "outputs": [
    {
     "data": {
      "text/plain": [
       "'Python is easy to learn'"
      ]
     },
     "execution_count": 26,
     "metadata": {},
     "output_type": "execute_result"
    }
   ],
   "source": [
    "words = ['Python', 'is', 'easy', 'to', 'learn']\n",
    "' '.join(words)#new function join()"
   ]
  },
  {
   "cell_type": "markdown",
   "metadata": {},
   "source": [
    "- Print a multiline string using a single print"
   ]
  },
  {
   "cell_type": "code",
   "execution_count": 32,
   "metadata": {},
   "outputs": [
    {
     "name": "stdout",
     "output_type": "stream",
     "text": [
      "multiline string using single print\n"
     ]
    }
   ],
   "source": [
    "s1='multiline' \n",
    "s2='string' \n",
    "s3='using'\n",
    "s4='single'\n",
    "s5='print'\n",
    "result=s1+' '+s2+' '+s3+' '+s4+' '+s5\n",
    "print(result)"
   ]
  },
  {
   "cell_type": "markdown",
   "metadata": {},
   "source": [
    "- Print this string to move to newline '\\n' is used. (results should look exactly like the provided string)"
   ]
  },
  {
   "cell_type": "code",
   "execution_count": 40,
   "metadata": {},
   "outputs": [
    {
     "name": "stdout",
     "output_type": "stream",
     "text": [
      "\"to move to new line '\\n'  is used\"\n"
     ]
    }
   ],
   "source": [
    "st=\"to move to new line\" \n",
    "st2=\"'\\n'\"\n",
    "st3=\" is used\" \n",
    "output=st+' '+st2+' '+st3\n",
    "print(repr(output))# new function repr is being used here"
   ]
  },
  {
   "cell_type": "markdown",
   "metadata": {},
   "source": [
    "- Print a variable with some text using a single print function, output should look like following.\n",
    "the variable is 15"
   ]
  },
  {
   "cell_type": "code",
   "execution_count": 41,
   "metadata": {},
   "outputs": [
    {
     "name": "stdout",
     "output_type": "stream",
     "text": [
      "the variable is 15\n"
     ]
    }
   ],
   "source": [
    "var=\"the variable is 15\"\n",
    "print(var)"
   ]
  },
  {
   "cell_type": "markdown",
   "metadata": {},
   "source": [
    "- concatenate the following strings and print the result\n",
    "- s1 = 'python '\n",
    "- s2 = 'is '\n",
    "- s3 = 'great.'"
   ]
  },
  {
   "cell_type": "code",
   "execution_count": 42,
   "metadata": {},
   "outputs": [
    {
     "name": "stdout",
     "output_type": "stream",
     "text": [
      "python  is  great.\n"
     ]
    }
   ],
   "source": [
    "s1 = 'python '\n",
    "s2 = 'is '\n",
    "s3 = 'great.'\n",
    "msg=s1+' '+s2+' '+s3\n",
    "print(msg)"
   ]
  },
  {
   "cell_type": "markdown",
   "metadata": {},
   "source": [
    "- Print # 20 times without using a loop"
   ]
  },
  {
   "cell_type": "code",
   "execution_count": 50,
   "metadata": {},
   "outputs": [
    {
     "name": "stdout",
     "output_type": "stream",
     "text": [
      "####################\n"
     ]
    }
   ],
   "source": [
    "print('#'*20)"
   ]
  },
  {
   "cell_type": "markdown",
   "metadata": {},
   "source": [
    "- Print numbers from 1 to 9, each on a seperate line, followed by a dot, output should look like the following-\n",
    "1.\n",
    "2.\n",
    "3.\n"
   ]
  },
  {
   "cell_type": "code",
   "execution_count": 51,
   "metadata": {},
   "outputs": [
    {
     "name": "stdout",
     "output_type": "stream",
     "text": [
      "1  \n",
      "2  \n",
      "3  \n",
      "4  \n",
      "5  \n",
      "6  \n",
      "7  \n",
      "8  \n",
      "9  \n"
     ]
    }
   ],
   "source": [
    "for i in range(1,10):\n",
    "    print(i,' ')"
   ]
  },
  {
   "cell_type": "markdown",
   "metadata": {},
   "source": [
    "- Ask user to input a sentence and print each word on a different line."
   ]
  },
  {
   "cell_type": "code",
   "execution_count": 52,
   "metadata": {},
   "outputs": [
    {
     "name": "stdout",
     "output_type": "stream",
     "text": [
      "My\n",
      "name\n",
      "is\n",
      "Shalini\n",
      "Shukla\n"
     ]
    }
   ],
   "source": [
    "user=input(\"Enter a sentence.\")\n",
    "for words in user.split():\n",
    "    print(words)"
   ]
  },
  {
   "cell_type": "markdown",
   "metadata": {},
   "source": [
    "- Ask user to input a string and check if the string ends with '?'"
   ]
  },
  {
   "cell_type": "code",
   "execution_count": 2,
   "metadata": {},
   "outputs": [
    {
     "name": "stdout",
     "output_type": "stream",
     "text": [
      "No☹️\n"
     ]
    }
   ],
   "source": [
    "user=input(\"Enter a sentence\")\n",
    "if user.endswith('?'):#new function endswith.\n",
    "    print('Yes😊')\n",
    "else:\n",
    "    print('No☹️')    "
   ]
  },
  {
   "cell_type": "markdown",
   "metadata": {},
   "source": [
    "- Ask user to input a string and print how many times e appeared in the string"
   ]
  },
  {
   "cell_type": "code",
   "execution_count": 10,
   "metadata": {},
   "outputs": [
    {
     "name": "stdout",
     "output_type": "stream",
     "text": [
      "8\n"
     ]
    }
   ],
   "source": [
    "user=input(\"Enter a sentence\")\n",
    "v=\"e\"\n",
    "final=user.count(v)\n",
    "print(final)"
   ]
  },
  {
   "cell_type": "markdown",
   "metadata": {},
   "source": [
    "- Check if the user input is a number."
   ]
  },
  {
   "cell_type": "code",
   "execution_count": 17,
   "metadata": {},
   "outputs": [
    {
     "name": "stdout",
     "output_type": "stream",
     "text": [
      "True\n"
     ]
    }
   ],
   "source": [
    "user=input(\"Enter something\")\n",
    "print(user.isnumeric())\n",
    "  "
   ]
  },
  {
   "cell_type": "markdown",
   "metadata": {},
   "source": [
    "- Remove the extra spaces in beginning and in the end of the following string-\n",
    "text = '   this is not a good string           '"
   ]
  },
  {
   "cell_type": "code",
   "execution_count": 24,
   "metadata": {},
   "outputs": [
    {
     "name": "stdout",
     "output_type": "stream",
     "text": [
      "this is not a good string\n"
     ]
    }
   ],
   "source": [
    "a='   this is not a good string           '\n",
    "b=a.strip('  ')\n",
    "print(b)"
   ]
  },
  {
   "cell_type": "markdown",
   "metadata": {},
   "source": [
    "- Ask user to input string, print found if any of the character is upper case.\n",
    "* NEED TO CHECK AGAIN"
   ]
  },
  {
   "cell_type": "code",
   "execution_count": 53,
   "metadata": {},
   "outputs": [],
   "source": [
    "user=input(\"Enter anything\")\n",
    "if user.isupper()>=1:  \n",
    "    print('True')"
   ]
  },
  {
   "cell_type": "markdown",
   "metadata": {},
   "source": [
    "- Extract names from the following string and store them in a list.\n",
    "names = 'Joe, David, Mark, Tom, Chris, Robert'"
   ]
  },
  {
   "cell_type": "code",
   "execution_count": 11,
   "metadata": {},
   "outputs": [
    {
     "name": "stdout",
     "output_type": "stream",
     "text": [
      "['Joe, David, Mark, Tom, Chris, Robert']\n"
     ]
    }
   ],
   "source": [
    "names = 'Joe, David, Mark, Tom, Chris, Robert'\n",
    "b=[]\n",
    "b.append(names)\n",
    "print(b)    "
   ]
  },
  {
   "cell_type": "markdown",
   "metadata": {},
   "source": [
    "- In the following string, add aye in the end of every word and print the results.\n",
    "- text = 'this is some text'\n",
    "* NEED TO CHECK AGAIN"
   ]
  },
  {
   "cell_type": "code",
   "execution_count": 85,
   "metadata": {},
   "outputs": [
    {
     "name": "stdout",
     "output_type": "stream",
     "text": [
      "thisaye  isaye  someaye  text\n"
     ]
    }
   ],
   "source": [
    "text='this is some text' \n",
    "text.split('\\n')\n",
    "print(text.replace(' ','aye  '))"
   ]
  },
  {
   "cell_type": "markdown",
   "metadata": {},
   "source": [
    "- ask user to enter a string and check if the string contains fyi\n",
    "- NEED TO CHECK AGAIN"
   ]
  },
  {
   "cell_type": "code",
   "execution_count": 4,
   "metadata": {},
   "outputs": [
    {
     "name": "stdout",
     "output_type": "stream",
     "text": [
      "yes\n"
     ]
    }
   ],
   "source": [
    "user=input(\"Enter anything\")\n",
    "if user>='fyi':\n",
    "    print('yes')\n",
    "else:\n",
    "    print('no')"
   ]
  },
  {
   "cell_type": "markdown",
   "metadata": {},
   "source": [
    "- Remove all the special characters and numbers from the following string\n",
    "text = '%p34@y!*-*!t68h#&on404'"
   ]
  },
  {
   "cell_type": "code",
   "execution_count": 27,
   "metadata": {},
   "outputs": [
    {
     "name": "stdout",
     "output_type": "stream",
     "text": [
      "python\n"
     ]
    }
   ],
   "source": [
    "text = '%p34@y!*-*!t68h#&on404'\n",
    "string=''.join(c for c in text if c .isalpha())#new function join\n",
    "print(string)"
   ]
  },
  {
   "cell_type": "markdown",
   "metadata": {},
   "source": [
    "- calculate the average word length of the following paragraph.\n",
    "- this is a paragraph which is written just for the purpose of providing content to let the average word length be calculated"
   ]
  },
  {
   "cell_type": "code",
   "execution_count": 51,
   "metadata": {},
   "outputs": [
    {
     "name": "stdout",
     "output_type": "stream",
     "text": [
      "4\n",
      "2\n",
      "1\n",
      "9\n",
      "5\n",
      "2\n",
      "7\n",
      "4\n",
      "3\n",
      "3\n",
      "7\n",
      "2\n",
      "9\n",
      "7\n",
      "2\n",
      "3\n",
      "3\n",
      "7\n",
      "4\n",
      "6\n",
      "2\n",
      "10\n",
      "10.08849557522124\n"
     ]
    }
   ],
   "source": [
    "a=\"this is a paragraph which is written just for the purpose of providing content to let the average word length be calculated\"\n",
    "for i in a.split():\n",
    "    c=i.count(a)\n",
    "    #print(c)\n",
    "    print(len(i))\n",
    "b=len(i)\n",
    "print(b)\n",
    "#b=len(words)/a.index(i)\n",
    "#print(b)   \n"
   ]
  }
 ],
 "metadata": {
  "kernelspec": {
   "display_name": "Python 3.9.12 ('base')",
   "language": "python",
   "name": "python3"
  },
  "language_info": {
   "codemirror_mode": {
    "name": "ipython",
    "version": 3
   },
   "file_extension": ".py",
   "mimetype": "text/x-python",
   "name": "python",
   "nbconvert_exporter": "python",
   "pygments_lexer": "ipython3",
   "version": "3.9.12"
  },
  "orig_nbformat": 4,
  "vscode": {
   "interpreter": {
    "hash": "400a42e877dffd63a2b2062fec838b4d7a945e3d35a74ea6618f4848047bb039"
   }
  }
 },
 "nbformat": 4,
 "nbformat_minor": 2
}
