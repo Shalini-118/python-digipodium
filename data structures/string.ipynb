{
 "cells": [
  {
   "cell_type": "code",
   "execution_count": 1,
   "metadata": {},
   "outputs": [
    {
     "name": "stdout",
     "output_type": "stream",
     "text": [
      "hello\n",
      "hello\n",
      "hello\n",
      "hello\n",
      "o\n",
      "l\n",
      "l\n",
      "e\n",
      "e\n",
      "l\n"
     ]
    },
    {
     "ename": "IndexError",
     "evalue": "string index out of range",
     "output_type": "error",
     "traceback": [
      "\u001b[1;31m---------------------------------------------------------------------------\u001b[0m",
      "\u001b[1;31mIndexError\u001b[0m                                Traceback (most recent call last)",
      "\u001b[1;32mc:\\Users\\Shalini Shukla\\Documents\\python digipodium\\data structures\\string.ipynb Cell 1\u001b[0m in \u001b[0;36m<cell line: 21>\u001b[1;34m()\u001b[0m\n\u001b[0;32m     <a href='vscode-notebook-cell:/c%3A/Users/Shalini%20Shukla/Documents/python%20digipodium/data%20structures/string.ipynb#ch0000048?line=18'>19</a>\u001b[0m \u001b[39mprint\u001b[39m(my_string[\u001b[39m1\u001b[39m])\n\u001b[0;32m     <a href='vscode-notebook-cell:/c%3A/Users/Shalini%20Shukla/Documents/python%20digipodium/data%20structures/string.ipynb#ch0000048?line=19'>20</a>\u001b[0m \u001b[39mprint\u001b[39m(my_string[\u001b[39m-\u001b[39m\u001b[39m2\u001b[39m])\n\u001b[1;32m---> <a href='vscode-notebook-cell:/c%3A/Users/Shalini%20Shukla/Documents/python%20digipodium/data%20structures/string.ipynb#ch0000048?line=20'>21</a>\u001b[0m \u001b[39mprint\u001b[39m(my_string[\u001b[39m-\u001b[39;49m\u001b[39m10\u001b[39;49m])\n",
      "\u001b[1;31mIndexError\u001b[0m: string index out of range"
     ]
    }
   ],
   "source": [
    "# Defining strings in python\n",
    "# all of the following are equivalent\n",
    "my_string='hello'\n",
    "print(my_string)\n",
    "\n",
    "my_string=\"hello\"\n",
    "print(my_string)\n",
    "\n",
    "my_string='''hello'''\n",
    "print(my_string)\n",
    "\n",
    "#triple quotes string can extend multiole lines\n",
    "my_string=\"\"\"hello\"\"\"\n",
    "print(my_string)\n",
    "print(my_string[-1])\n",
    "print(my_string[-2])\n",
    "print(my_string[-3])\n",
    "print(my_string[-4])\n",
    "print(my_string[1])\n",
    "print(my_string[-2])\n",
    "print(my_string[-10])"
   ]
  },
  {
   "cell_type": "code",
   "execution_count": 1,
   "metadata": {},
   "outputs": [
    {
     "name": "stdout",
     "output_type": "stream",
     "text": [
      "str[0]= d\n",
      "str[1]= i\n",
      "str[2]= u\n",
      "str[3]= i\n",
      "str[4]= p\n",
      "pod\n",
      "digi\n",
      "dig\n",
      "digipod\n",
      "podium\n",
      "podium\n",
      "digipo\n",
      "A\n",
      "ऽ\n",
      "き\n"
     ]
    }
   ],
   "source": [
    "str='digipodium'\n",
    "print('str[0]=',str[0])\n",
    "print('str[1]=',str[1])\n",
    "print('str[2]=',str[-2])\n",
    "print('str[3]=',str[3])\n",
    "print('str[4]=',str[4])\n",
    "#getting a SLICE\n",
    "slice1= str[4:7] #starting from 4 indexing and stopping point is 7\n",
    "print(slice1)\n",
    "slice2=str[0:4]\n",
    "print(slice2)\n",
    "slice3=str[:3]\n",
    "print(slice3)\n",
    "slice4=str[:-3]\n",
    "print(slice4)\n",
    "slice5=str[4:len(str)]\n",
    "print(slice5)\n",
    "slice6=str[4:]\n",
    "print(slice6)\n",
    "slice7=str[:-4]\n",
    "print(slice7)\n",
    "\n",
    "#builtin function for string\n",
    "str=chr(65)\n",
    "print(str)\n",
    "str=chr(2365)\n",
    "print(str)\n",
    "str=chr(12365)\n",
    "print(str)\n"
   ]
  },
  {
   "cell_type": "code",
   "execution_count": 2,
   "metadata": {},
   "outputs": [
    {
     "name": "stdout",
     "output_type": "stream",
     "text": [
      "thisisamazing\n"
     ]
    }
   ],
   "source": [
    "w1='this'\n",
    "w2='is'\n",
    "w3='amazing'\n",
    "msg=w1+w2+w3\n",
    "print(msg)"
   ]
  },
  {
   "cell_type": "code",
   "execution_count": 3,
   "metadata": {},
   "outputs": [
    {
     "name": "stdout",
     "output_type": "stream",
     "text": [
      "this is amazing\n"
     ]
    }
   ],
   "source": [
    "#adding space manually\n",
    "msg=w1+' '+w2+' '+w3\n",
    "print(msg)"
   ]
  },
  {
   "cell_type": "code",
   "execution_count": 4,
   "metadata": {},
   "outputs": [
    {
     "name": "stdout",
     "output_type": "stream",
     "text": [
      "HiHiHi\n"
     ]
    }
   ],
   "source": [
    "word='Hi'\n",
    "print(word*3)"
   ]
  },
  {
   "cell_type": "markdown",
   "metadata": {},
   "source": [
    "DUPLICATION\n",
    "in python we can multiply string with int, which will give a sequence of duplicated string"
   ]
  },
  {
   "cell_type": "code",
   "execution_count": 5,
   "metadata": {},
   "outputs": [
    {
     "name": "stdout",
     "output_type": "stream",
     "text": [
      "-------------------------\n"
     ]
    }
   ],
   "source": [
    "print('-'*25)"
   ]
  },
  {
   "cell_type": "code",
   "execution_count": 9,
   "metadata": {},
   "outputs": [
    {
     "name": "stdout",
     "output_type": "stream",
     "text": [
      " * \n",
      " *  * \n",
      " *  *  * \n",
      " *  *  *  * \n",
      " *  *  *  *  * \n"
     ]
    }
   ],
   "source": [
    "for i in range(1,6):\n",
    "    print(i*' * ')#added space before and after asterick"
   ]
  },
  {
   "cell_type": "code",
   "execution_count": 13,
   "metadata": {},
   "outputs": [
    {
     "name": "stdout",
     "output_type": "stream",
     "text": [
      "●◡● ●◡● ●◡● ●◡● ●◡● ●◡● \n",
      "●◡● ●◡● ●◡● ●◡● ●◡● \n",
      "●◡● ●◡● ●◡● ●◡● \n",
      "●◡● ●◡● ●◡● \n",
      "●◡● ●◡● \n",
      "●◡● \n"
     ]
    }
   ],
   "source": [
    "for i in range(6,0,-1):\n",
    "    print(i*'●◡● ')"
   ]
  },
  {
   "cell_type": "code",
   "execution_count": 14,
   "metadata": {},
   "outputs": [],
   "source": [
    "name=\"shalini\"\n",
    "age=19\n",
    "item=['apple','mnago','litchi']"
   ]
  },
  {
   "cell_type": "markdown",
   "metadata": {},
   "source": [
    "#formatting functions"
   ]
  },
  {
   "cell_type": "code",
   "execution_count": 8,
   "metadata": {},
   "outputs": [],
   "source": [
    "msg='This is a msg from VERY imporTANT person'"
   ]
  },
  {
   "cell_type": "code",
   "execution_count": 9,
   "metadata": {},
   "outputs": [
    {
     "name": "stdout",
     "output_type": "stream",
     "text": [
      "THIS IS A MSG FROM VERY IMPORTANT PERSON\n",
      "this is a msg from very important person\n",
      "This Is A Msg From Very Important Person\n",
      "This is a msg from very important person\n",
      "this is a msg from very important person\n",
      "tHIS IS A MSG FROM very IMPORtant PERSON\n",
      "This is a msg from VERY imporTANT person\n"
     ]
    }
   ],
   "source": [
    "print(msg.upper())\n",
    "print(msg.lower())\n",
    "print(msg.title())\n",
    "print(msg.capitalize())\n",
    "print(msg.casefold())\n",
    "print(msg.swapcase())\n",
    "print(msg)"
   ]
  },
  {
   "cell_type": "code",
   "execution_count": 10,
   "metadata": {},
   "outputs": [
    {
     "data": {
      "text/plain": [
       "40"
      ]
     },
     "execution_count": 10,
     "metadata": {},
     "output_type": "execute_result"
    }
   ],
   "source": [
    "len(msg)"
   ]
  },
  {
   "cell_type": "code",
   "execution_count": 16,
   "metadata": {},
   "outputs": [
    {
     "name": "stdout",
     "output_type": "stream",
     "text": [
      "This is a msg from VERY imporTANT person\n"
     ]
    }
   ],
   "source": [
    "print(msg)"
   ]
  },
  {
   "cell_type": "code",
   "execution_count": 11,
   "metadata": {},
   "outputs": [
    {
     "name": "stdout",
     "output_type": "stream",
     "text": [
      "This is a msg from VERY imporTANT person                                        \n"
     ]
    }
   ],
   "source": [
    "print(msg.ljust(80))"
   ]
  },
  {
   "cell_type": "code",
   "execution_count": 12,
   "metadata": {},
   "outputs": [
    {
     "name": "stdout",
     "output_type": "stream",
     "text": [
      "                                        This is a msg from VERY imporTANT person\n"
     ]
    }
   ],
   "source": [
    "print(msg.rjust(80))"
   ]
  },
  {
   "cell_type": "code",
   "execution_count": 14,
   "metadata": {},
   "outputs": [
    {
     "name": "stdout",
     "output_type": "stream",
     "text": [
      "                    This is a msg from VERY imporTANT person                    \n"
     ]
    }
   ],
   "source": [
    "print(msg.center(80))"
   ]
  },
  {
   "cell_type": "code",
   "execution_count": 2,
   "metadata": {},
   "outputs": [],
   "source": [
    "long_msg='''\n",
    "visual studio code is a lightweight\n",
    "but poerful source code editor which\n",
    "runs on your desktop and is available\n",
    "for windows,macOs and linus.\n",
    "it comes with built-in support for javascript,\n",
    "TypeScript and node.js'''"
   ]
  },
  {
   "cell_type": "code",
   "execution_count": 3,
   "metadata": {},
   "outputs": [
    {
     "data": {
      "text/plain": [
       "'\\nvisual studio code is a lightweight\\nbut poerful source code editor which\\nruns on your desktop and is available\\nfor windows,macOs and linus.\\nit comes with built-in support for javascript,\\nTypeScript and node.js'"
      ]
     },
     "execution_count": 3,
     "metadata": {},
     "output_type": "execute_result"
    }
   ],
   "source": [
    "long_msg"
   ]
  },
  {
   "cell_type": "code",
   "execution_count": 4,
   "metadata": {},
   "outputs": [
    {
     "name": "stdout",
     "output_type": "stream",
     "text": [
      "                                                                                                                                  \n",
      "                                               visual studio code is a lightweight                                                \n",
      "                                               but poerful source code editor which                                               \n",
      "                                              runs on your desktop and is available                                               \n",
      "                                                   for windows,macOs and linus.                                                   \n",
      "                                          it comes with built-in support for javascript,                                          \n",
      "                                                      TypeScript and node.js                                                      \n"
     ]
    }
   ],
   "source": [
    "for line in long_msg.split('\\n'):\n",
    "    print(line.center(130))"
   ]
  },
  {
   "cell_type": "code",
   "execution_count": 7,
   "metadata": {},
   "outputs": [
    {
     "data": {
      "text/plain": [
       "['visual',\n",
       " 'studio',\n",
       " 'code',\n",
       " 'is',\n",
       " 'a',\n",
       " 'lightweight',\n",
       " 'but',\n",
       " 'poerful',\n",
       " 'source',\n",
       " 'code',\n",
       " 'editor',\n",
       " 'which',\n",
       " 'runs',\n",
       " 'on',\n",
       " 'your',\n",
       " 'desktop',\n",
       " 'and',\n",
       " 'is',\n",
       " 'available',\n",
       " 'for',\n",
       " 'windows,macOs',\n",
       " 'and',\n",
       " 'linus.',\n",
       " 'it',\n",
       " 'comes',\n",
       " 'with',\n",
       " 'built-in',\n",
       " 'support',\n",
       " 'for',\n",
       " 'javascript,',\n",
       " 'TypeScript',\n",
       " 'and',\n",
       " 'node.js']"
      ]
     },
     "execution_count": 7,
     "metadata": {},
     "output_type": "execute_result"
    }
   ],
   "source": [
    "long_msg.split()"
   ]
  },
  {
   "cell_type": "code",
   "execution_count": 30,
   "metadata": {},
   "outputs": [
    {
     "data": {
      "text/plain": [
       "['',\n",
       " 'visual studio code is a lightweight',\n",
       " 'but poerful source code editor which',\n",
       " 'runs on your desktop and is available',\n",
       " 'for windows,macOs and linus.',\n",
       " 'it comes with built-in support for javascript,',\n",
       " 'TypeScript and node.js']"
      ]
     },
     "execution_count": 30,
     "metadata": {},
     "output_type": "execute_result"
    }
   ],
   "source": [
    "long_msg.split('\\n')"
   ]
  },
  {
   "cell_type": "code",
   "execution_count": 31,
   "metadata": {},
   "outputs": [
    {
     "data": {
      "text/plain": [
       "['This', 'is', 'a', 'msg', 'from', 'VERY', 'imporTANT person']"
      ]
     },
     "execution_count": 31,
     "metadata": {},
     "output_type": "execute_result"
    }
   ],
   "source": [
    "msg.split(maxsplit=6)#residue is the 7th portion"
   ]
  },
  {
   "cell_type": "code",
   "execution_count": 33,
   "metadata": {},
   "outputs": [
    {
     "data": {
      "text/plain": [
       "['This is a msg from', 'VERY', 'imporTANT', 'person']"
      ]
     },
     "execution_count": 33,
     "metadata": {},
     "output_type": "execute_result"
    }
   ],
   "source": [
    "msg.rsplit(maxsplit=3)"
   ]
  },
  {
   "cell_type": "markdown",
   "metadata": {},
   "source": [
    "removing spaces from strip function"
   ]
  },
  {
   "cell_type": "code",
   "execution_count": 35,
   "metadata": {},
   "outputs": [
    {
     "name": "stdout",
     "output_type": "stream",
     "text": [
      "12   shalini   \n",
      "7 shalini\n"
     ]
    }
   ],
   "source": [
    "name=input(\"What is your name?\")\n",
    "print(len(name), name)\n",
    "name=name.strip()\n",
    "print(len(name),name)"
   ]
  },
  {
   "cell_type": "code",
   "execution_count": 36,
   "metadata": {},
   "outputs": [
    {
     "data": {
      "text/plain": [
       "'OLA'"
      ]
     },
     "execution_count": 36,
     "metadata": {},
     "output_type": "execute_result"
    }
   ],
   "source": [
    "data=\"00000000000OLA000000\"\n",
    "data.strip('0')"
   ]
  },
  {
   "cell_type": "code",
   "execution_count": 38,
   "metadata": {},
   "outputs": [
    {
     "data": {
      "text/plain": [
       "'this is ****not***good'"
      ]
     },
     "execution_count": 38,
     "metadata": {},
     "output_type": "execute_result"
    }
   ],
   "source": [
    "data='*****this is ****not***good***'\n",
    "data.strip('*')"
   ]
  },
  {
   "cell_type": "code",
   "execution_count": 39,
   "metadata": {},
   "outputs": [
    {
     "name": "stdout",
     "output_type": "stream",
     "text": [
      "this is ****not***good\n",
      "this is ****not***good***\n",
      "*****this is ****not***good\n"
     ]
    }
   ],
   "source": [
    "print(data.strip('*'))\n",
    "print(data.lstrip('*'))\n",
    "print(data.rstrip('*'))"
   ]
  },
  {
   "cell_type": "code",
   "execution_count": 40,
   "metadata": {},
   "outputs": [
    {
     "name": "stdout",
     "output_type": "stream",
     "text": [
      "\n",
      "visual studio code is a lightweight\n",
      "but poerful source code editor which\n",
      "runs on your desktop and is available\n",
      "for windows,macOs and linus.\n",
      "it comes with built-in support for javascript,\n",
      "TypeScript and node.js\n",
      "updated****************\n",
      "\n",
      "vosual studoo code os a loghtweoght\n",
      "but poerful source code edotor whoch\n",
      "runs on your desktop and os avaolable\n",
      "for wondows,macOs and lonus.\n",
      "ot comes woth buolt-on support for javascropt,\n",
      "TypeScropt and node.js\n"
     ]
    }
   ],
   "source": [
    "print(long_msg)\n",
    "print('updated****************')\n",
    "print(long_msg.replace('i','o'))"
   ]
  },
  {
   "cell_type": "code",
   "execution_count": 42,
   "metadata": {},
   "outputs": [
    {
     "data": {
      "text/plain": [
       "'this is notgood'"
      ]
     },
     "execution_count": 42,
     "metadata": {},
     "output_type": "execute_result"
    }
   ],
   "source": [
    "data.replace('*','')"
   ]
  },
  {
   "cell_type": "code",
   "execution_count": 43,
   "metadata": {},
   "outputs": [
    {
     "name": "stdout",
     "output_type": "stream",
     "text": [
      "this is notgood\n"
     ]
    }
   ],
   "source": [
    "data_clean=data.replace('*','')\n",
    "print(data_clean)"
   ]
  },
  {
   "cell_type": "code",
   "execution_count": 44,
   "metadata": {},
   "outputs": [
    {
     "name": "stdout",
     "output_type": "stream",
     "text": [
      "11\n"
     ]
    }
   ],
   "source": [
    "print(long_msg.count('a'))"
   ]
  },
  {
   "cell_type": "code",
   "execution_count": 2,
   "metadata": {},
   "outputs": [
    {
     "data": {
      "text/plain": [
       "-1"
      ]
     },
     "execution_count": 2,
     "metadata": {},
     "output_type": "execute_result"
    }
   ],
   "source": [
    "long_msg.find('this')"
   ]
  },
  {
   "cell_type": "code",
   "execution_count": 8,
   "metadata": {},
   "outputs": [
    {
     "data": {
      "text/plain": [
       "1"
      ]
     },
     "execution_count": 8,
     "metadata": {},
     "output_type": "execute_result"
    }
   ],
   "source": [
    "long_msg.find('visual')"
   ]
  },
  {
   "cell_type": "code",
   "execution_count": 9,
   "metadata": {},
   "outputs": [
    {
     "data": {
      "text/plain": [
       "124"
      ]
     },
     "execution_count": 9,
     "metadata": {},
     "output_type": "execute_result"
    }
   ],
   "source": [
    "long_msg.find('mac')"
   ]
  },
  {
   "cell_type": "code",
   "execution_count": 10,
   "metadata": {},
   "outputs": [
    {
     "name": "stdout",
     "output_type": "stream",
     "text": [
      "\n",
      "visual studio code is a lightweight\n",
      "but poerful source code editor which\n",
      "runs on your desktop and is available\n",
      "for windows,macOs and linus.\n",
      "it comes with built-in support for javascript,\n",
      "TypeScript and node.js\n"
     ]
    }
   ],
   "source": [
    "print(long_msg)"
   ]
  },
  {
   "cell_type": "code",
   "execution_count": 11,
   "metadata": {},
   "outputs": [
    {
     "data": {
      "text/plain": [
       "99"
      ]
     },
     "execution_count": 11,
     "metadata": {},
     "output_type": "execute_result"
    }
   ],
   "source": [
    "long_msg.rfind('is')"
   ]
  },
  {
   "cell_type": "markdown",
   "metadata": {},
   "source": [
    "#search all occurence of substr and display"
   ]
  },
  {
   "cell_type": "code",
   "execution_count": 12,
   "metadata": {},
   "outputs": [
    {
     "name": "stdout",
     "output_type": "stream",
     "text": [
      "2\n",
      "20\n",
      "99\n"
     ]
    }
   ],
   "source": [
    "q='is'\n",
    "start=0\n",
    "while True:\n",
    "    pos=long_msg.find(q,start)\n",
    "    start=pos+1\n",
    "    if pos==-1:\n",
    "        break\n",
    "    print(pos)"
   ]
  },
  {
   "cell_type": "code",
   "execution_count": 15,
   "metadata": {},
   "outputs": [
    {
     "name": "stdout",
     "output_type": "stream",
     "text": [
      "vowel a: 5\n",
      "vowel a: 23\n",
      "vowel a: 95\n",
      "vowel a: 102\n",
      "vowel a: 104\n",
      "vowel a: 107\n",
      "vowel a: 125\n",
      "vowel a: 130\n",
      "vowel a: 177\n",
      "vowel a: 179\n",
      "vowel a: 199\n",
      "vowel e: 18\n",
      "vowel e: 31\n",
      "vowel e: 43\n",
      "vowel e: 54\n",
      "vowel e: 59\n",
      "vowel e: 61\n",
      "vowel e: 88\n",
      "vowel e: 110\n",
      "vowel e: 147\n",
      "vowel e: 191\n",
      "vowel e: 206\n",
      "vowel i: 2\n",
      "vowel i: 12\n",
      "vowel i: 20\n",
      "vowel i: 26\n",
      "vowel i: 32\n",
      "vowel i: 63\n",
      "vowel i: 70\n",
      "vowel i: 99\n",
      "vowel i: 105\n",
      "vowel i: 117\n",
      "vowel i: 135\n",
      "vowel i: 141\n",
      "vowel i: 151\n",
      "vowel i: 157\n",
      "vowel i: 161\n",
      "vowel i: 183\n",
      "vowel i: 195\n",
      "vowel o: 13\n",
      "vowel o: 16\n",
      "vowel o: 42\n",
      "vowel o: 50\n",
      "vowel o: 57\n",
      "vowel o: 65\n",
      "vowel o: 79\n",
      "vowel o: 83\n",
      "vowel o: 92\n",
      "vowel o: 113\n",
      "vowel o: 120\n",
      "vowel o: 145\n",
      "vowel o: 168\n",
      "vowel o: 173\n",
      "vowel o: 204\n",
      "vowel u: 4\n",
      "vowel u: 10\n",
      "vowel u: 38\n",
      "vowel u: 46\n",
      "vowel u: 51\n",
      "vowel u: 75\n",
      "vowel u: 84\n",
      "vowel u: 137\n",
      "vowel u: 156\n",
      "vowel u: 165\n"
     ]
    }
   ],
   "source": [
    "for vowel in \"aeiou\":\n",
    "    start=0\n",
    "    while True:\n",
    "        pos=long_msg.find(vowel,start)\n",
    "        start=pos+1\n",
    "        if pos==-1:\n",
    "            break\n",
    "        print(f\"vowel {vowel}: {pos}\")"
   ]
  },
  {
   "cell_type": "code",
   "execution_count": 2,
   "metadata": {},
   "outputs": [
    {
     "name": "stdout",
     "output_type": "stream",
     "text": [
      "DYTDJ5S136456jk\n",
      "numeric False\n",
      "alphabet False\n",
      "alphanumeric True\n",
      "only spaces False\n",
      "only uppercase False\n",
      "only uppercase False\n",
      "capitalise False\n",
      "decimal False\n"
     ]
    }
   ],
   "source": [
    "msg=input(\"enter anything\")\n",
    "print(msg)\n",
    "print(\"numeric\",msg.isnumeric())\n",
    "print(\"alphabet\",msg.isalpha())\n",
    "print(\"alphanumeric\",msg.isalnum())\n",
    "print(\"only spaces\",msg.isspace())\n",
    "print(\"only uppercase\",msg.isupper())\n",
    "print(\"only uppercase\",msg.islower())\n",
    "print(\"capitalise\",msg.istitle())\n",
    "print(\"decimal\",msg.isdecimal())"
   ]
  },
  {
   "cell_type": "code",
   "execution_count": 39,
   "metadata": {},
   "outputs": [
    {
     "name": "stdout",
     "output_type": "stream",
     "text": [
      "['visual', ' studio', ' code']\n"
     ]
    }
   ],
   "source": [
    "print(long_msg)"
   ]
  },
  {
   "cell_type": "markdown",
   "metadata": {},
   "source": [
    "count the no. of vowels\n",
    "Remove no. of vowels\n"
   ]
  },
  {
   "cell_type": "code",
   "execution_count": 30,
   "metadata": {},
   "outputs": [
    {
     "name": "stdout",
     "output_type": "stream",
     "text": [
      "a:11\n",
      "e:11\n",
      "i:17\n",
      "o:15\n",
      "u:10\n"
     ]
    }
   ],
   "source": [
    "vowels=\"aeiou\"\n",
    "for v in vowels:\n",
    " c=long_msg.count(v)\n",
    " print(f'{v}:{c}')"
   ]
  },
  {
   "cell_type": "code",
   "execution_count": 31,
   "metadata": {},
   "outputs": [
    {
     "name": "stdout",
     "output_type": "stream",
     "text": [
      "\n",
      "vsl std cd s  lghtwght\n",
      "bt prfl src cd dtr whch\n",
      "rns n yr dsktp nd s vlbl\n",
      "fr wndws,mcs nd lns.\n",
      "t cms wth blt-n spprt fr jvscrpt,\n",
      "TypScrpt nd nd.js\n"
     ]
    }
   ],
   "source": [
    "msg=long_msg\n",
    "vowels=\"aeiouAAEIOU\"\n",
    "for v in vowels:\n",
    "    msg=msg.replace(v,'')\n",
    "print(msg)    "
   ]
  },
  {
   "cell_type": "code",
   "execution_count": 34,
   "metadata": {},
   "outputs": [
    {
     "name": "stdout",
     "output_type": "stream",
     "text": [
      "['visual', 'studio', 'code', 'is', 'a', 'lightweight', 'but', 'poerful', 'source', 'code', 'editor', 'which']\n"
     ]
    }
   ],
   "source": [
    "word_count=int(input(\"how many words?\"))\n",
    "words=long_msg.split()[:word_count]\n",
    "print(words)"
   ]
  },
  {
   "cell_type": "markdown",
   "metadata": {},
   "source": [
    "#Display the size of each word in the string & find the largest word"
   ]
  },
  {
   "cell_type": "code",
   "execution_count": 48,
   "metadata": {},
   "outputs": [
    {
     "name": "stdout",
     "output_type": "stream",
     "text": [
      "visual 6\n",
      "studio 6\n",
      "code 4\n",
      "is 2\n",
      "a 1\n",
      "lightweight 11\n",
      "but 3\n",
      "poerful 7\n",
      "source 6\n",
      "code 4\n",
      "editor 6\n",
      "which 5\n",
      "runs 4\n",
      "on 2\n",
      "your 4\n",
      "desktop 7\n",
      "and 3\n",
      "is 2\n",
      "available 9\n",
      "for 3\n",
      "windows,macOs 13\n",
      "and 3\n",
      "linus. 6\n",
      "it 2\n",
      "comes 5\n",
      "with 4\n",
      "built-in 8\n",
      "support 7\n",
      "for 3\n",
      "javascript, 11\n",
      "TypeScript 10\n",
      "and 3\n",
      "node.js 7\n",
      "Biggest word is windows,macOs with 13 character\n"
     ]
    }
   ],
   "source": [
    "m=0\n",
    "w=0\n",
    "for word in long_msg.split():\n",
    "    print(word,len(word))\n",
    "    if len(word)>m:\n",
    "        m=len(word)\n",
    "        w=word\n",
    "print(f'Biggest word is {w} with {m} character')        "
   ]
  }
 ],
 "metadata": {
  "kernelspec": {
   "display_name": "Python 3.9.12 ('base')",
   "language": "python",
   "name": "python3"
  },
  "language_info": {
   "codemirror_mode": {
    "name": "ipython",
    "version": 3
   },
   "file_extension": ".py",
   "mimetype": "text/x-python",
   "name": "python",
   "nbconvert_exporter": "python",
   "pygments_lexer": "ipython3",
   "version": "3.9.12"
  },
  "orig_nbformat": 4,
  "vscode": {
   "interpreter": {
    "hash": "400a42e877dffd63a2b2062fec838b4d7a945e3d35a74ea6618f4848047bb039"
   }
  }
 },
 "nbformat": 4,
 "nbformat_minor": 2
}
