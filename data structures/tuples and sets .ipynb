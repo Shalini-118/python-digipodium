{
 "cells": [
  {
   "cell_type": "markdown",
   "metadata": {},
   "source": [
    "- tuple"
   ]
  },
  {
   "cell_type": "code",
   "execution_count": 1,
   "metadata": {},
   "outputs": [
    {
     "name": "stdout",
     "output_type": "stream",
     "text": [
      "(1, 2, 3)\n",
      "<class 'tuple'>\n"
     ]
    }
   ],
   "source": [
    "a=(1,2,3)\n",
    "print(a)\n",
    "print(type(a))"
   ]
  },
  {
   "cell_type": "code",
   "execution_count": 3,
   "metadata": {},
   "outputs": [
    {
     "name": "stdout",
     "output_type": "stream",
     "text": [
      "(1, 3, 5, 7)\n",
      "<class 'tuple'>\n"
     ]
    }
   ],
   "source": [
    "b=1,3,5,7\n",
    "print(b)\n",
    "print(type(b))"
   ]
  },
  {
   "cell_type": "code",
   "execution_count": 4,
   "metadata": {},
   "outputs": [
    {
     "name": "stdout",
     "output_type": "stream",
     "text": [
      "1\n",
      "2\n",
      "3\n"
     ]
    }
   ],
   "source": [
    "for val in a:\n",
    "    print(val)"
   ]
  },
  {
   "cell_type": "code",
   "execution_count": 8,
   "metadata": {},
   "outputs": [
    {
     "name": "stdout",
     "output_type": "stream",
     "text": [
      "(1, 2, 3, 4, 5, 6)\n"
     ]
    }
   ],
   "source": [
    "print((1,2,3) + (4,5,6))"
   ]
  },
  {
   "cell_type": "code",
   "execution_count": 9,
   "metadata": {},
   "outputs": [
    {
     "name": "stdout",
     "output_type": "stream",
     "text": [
      "('repeat', 'repeat', 'repeat')\n"
     ]
    }
   ],
   "source": [
    "print((\"repeat\",)*3)"
   ]
  },
  {
   "cell_type": "code",
   "execution_count": 12,
   "metadata": {},
   "outputs": [
    {
     "name": "stdout",
     "output_type": "stream",
     "text": [
      "2\n",
      "3\n"
     ]
    }
   ],
   "source": [
    "tup=('a','p','p','l','e')\n",
    "print(tup.count('p'))\n",
    "print(tup.index('l'))"
   ]
  },
  {
   "cell_type": "code",
   "execution_count": 16,
   "metadata": {},
   "outputs": [
    {
     "name": "stdout",
     "output_type": "stream",
     "text": [
      "[1, 2, 3]\n"
     ]
    }
   ],
   "source": [
    "al=list(a)\n",
    "print(al)"
   ]
  },
  {
   "cell_type": "code",
   "execution_count": 17,
   "metadata": {},
   "outputs": [
    {
     "name": "stdout",
     "output_type": "stream",
     "text": [
      "[2, 3, 12, 312, 31, 32, 123]\n",
      "(2, 3, 12, 312, 31, 32, 123)\n"
     ]
    }
   ],
   "source": [
    "val=[2,3,12,312,31,32,123]\n",
    "print(val)\n",
    "valt=tuple(val)\n",
    "print(valt)"
   ]
  },
  {
   "cell_type": "markdown",
   "metadata": {},
   "source": [
    "- sets"
   ]
  },
  {
   "cell_type": "code",
   "execution_count": 18,
   "metadata": {},
   "outputs": [
    {
     "name": "stdout",
     "output_type": "stream",
     "text": [
      "{1, 2, 3, 4, 5, 6, 7, 8, 9, 10}\n",
      "<class 'set'>\n"
     ]
    }
   ],
   "source": [
    "s1={1,2,3,4,5,6,7,8,9,10,1,1,2,}\n",
    "print(s1)\n",
    "print(type(s1))"
   ]
  },
  {
   "cell_type": "code",
   "execution_count": 19,
   "metadata": {},
   "outputs": [
    {
     "name": "stdout",
     "output_type": "stream",
     "text": [
      "{1, 2, 3}\n"
     ]
    }
   ],
   "source": [
    "my_set=set([1,2,3,2,3])\n",
    "print(my_set)\n"
   ]
  },
  {
   "cell_type": "code",
   "execution_count": 22,
   "metadata": {},
   "outputs": [
    {
     "ename": "TypeError",
     "evalue": "unhashable type: 'list'",
     "output_type": "error",
     "traceback": [
      "\u001b[1;31m---------------------------------------------------------------------------\u001b[0m",
      "\u001b[1;31mTypeError\u001b[0m                                 Traceback (most recent call last)",
      "\u001b[1;32mc:\\Users\\Shalini Shukla\\Documents\\python digipodium\\data structures\\tuples and sets .ipynb Cell 13\u001b[0m in \u001b[0;36m<cell line: 1>\u001b[1;34m()\u001b[0m\n\u001b[1;32m----> <a href='vscode-notebook-cell:/c%3A/Users/Shalini%20Shukla/Documents/python%20digipodium/data%20structures/tuples%20and%20sets%20.ipynb#ch0000013?line=0'>1</a>\u001b[0m my_set\u001b[39m=\u001b[39m{\u001b[39m1\u001b[39m,\u001b[39m2\u001b[39m,[\u001b[39m3\u001b[39m,\u001b[39m4\u001b[39m]}\n",
      "\u001b[1;31mTypeError\u001b[0m: unhashable type: 'list'"
     ]
    }
   ],
   "source": [
    "my_set={1,2,[3,4]}"
   ]
  },
  {
   "cell_type": "code",
   "execution_count": 24,
   "metadata": {},
   "outputs": [
    {
     "name": "stdout",
     "output_type": "stream",
     "text": [
      "<class 'set'>\n"
     ]
    }
   ],
   "source": [
    "#empty set (set function() without any argument)\n",
    "a=set()\n",
    "print(type(a))"
   ]
  },
  {
   "cell_type": "code",
   "execution_count": 25,
   "metadata": {},
   "outputs": [
    {
     "name": "stdout",
     "output_type": "stream",
     "text": [
      "{1, 2, 3}\n",
      "{1, 2, 3, 4}\n",
      "{1, 2, 3, 4, 5, 6, 8}\n"
     ]
    }
   ],
   "source": [
    "my_set={1,3}\n",
    "my_set.add(2)\n",
    "print(my_set)\n",
    "my_set.update([2,3,4])\n",
    "print(my_set)\n",
    "my_set.update([4,5],[1,6,8])\n",
    "print(my_set)"
   ]
  },
  {
   "cell_type": "code",
   "execution_count": 32,
   "metadata": {},
   "outputs": [
    {
     "name": "stdout",
     "output_type": "stream",
     "text": [
      "{1, 2, 3, 4, 5, 6, 8}\n",
      "{1, 2, 3, 5, 6, 8}\n",
      "{1, 2, 3, 5, 8}\n",
      "{2, 3, 5, 8}\n",
      "set()\n"
     ]
    }
   ],
   "source": [
    "my_set={1, 2, 3, 4, 5, 6, 8}\n",
    "print(my_set)\n",
    "my_set.discard(4)\n",
    "print(my_set)\n",
    "my_set.remove(6)\n",
    "print(my_set)\n",
    "#pops a random item\n",
    "my_set.pop()\n",
    "print(my_set)\n",
    "my_set.clear()\n",
    "print(my_set)"
   ]
  },
  {
   "cell_type": "code",
   "execution_count": 34,
   "metadata": {},
   "outputs": [
    {
     "ename": "TypeError",
     "evalue": "set.pop() takes no arguments (1 given)",
     "output_type": "error",
     "traceback": [
      "\u001b[1;31m---------------------------------------------------------------------------\u001b[0m",
      "\u001b[1;31mTypeError\u001b[0m                                 Traceback (most recent call last)",
      "\u001b[1;32mc:\\Users\\Shalini Shukla\\Documents\\python digipodium\\data structures\\tuples and sets .ipynb Cell 17\u001b[0m in \u001b[0;36m<cell line: 1>\u001b[1;34m()\u001b[0m\n\u001b[1;32m----> <a href='vscode-notebook-cell:/c%3A/Users/Shalini%20Shukla/Documents/python%20digipodium/data%20structures/tuples%20and%20sets%20.ipynb#ch0000018?line=0'>1</a>\u001b[0m my_set\u001b[39m.\u001b[39;49mpop(my_set)\n\u001b[0;32m      <a href='vscode-notebook-cell:/c%3A/Users/Shalini%20Shukla/Documents/python%20digipodium/data%20structures/tuples%20and%20sets%20.ipynb#ch0000018?line=1'>2</a>\u001b[0m \u001b[39mprint\u001b[39m(my_set)\n",
      "\u001b[1;31mTypeError\u001b[0m: set.pop() takes no arguments (1 given)"
     ]
    }
   ],
   "source": [
    "my_set.pop()\n",
    "print(my_set)"
   ]
  },
  {
   "cell_type": "markdown",
   "metadata": {},
   "source": [
    "- UNION & INTERSECTION"
   ]
  },
  {
   "cell_type": "code",
   "execution_count": 35,
   "metadata": {},
   "outputs": [
    {
     "name": "stdout",
     "output_type": "stream",
     "text": [
      "{1, 2, 3, 4, 5, 6, 7, 8, 9}\n"
     ]
    }
   ],
   "source": [
    "A={1,2,3,4,5,6}\n",
    "B={4,5,6,7,8,9}\n",
    "print(A|B)"
   ]
  },
  {
   "cell_type": "code",
   "execution_count": 36,
   "metadata": {},
   "outputs": [
    {
     "data": {
      "text/plain": [
       "{1, 2, 3, 4, 5, 6, 7, 8, 9}"
      ]
     },
     "execution_count": 36,
     "metadata": {},
     "output_type": "execute_result"
    }
   ],
   "source": [
    "A.union(B)"
   ]
  },
  {
   "cell_type": "code",
   "execution_count": 37,
   "metadata": {},
   "outputs": [
    {
     "data": {
      "text/plain": [
       "{1, 2, 3, 4, 5, 6, 7, 8, 9}"
      ]
     },
     "execution_count": 37,
     "metadata": {},
     "output_type": "execute_result"
    }
   ],
   "source": [
    "B.union(A)"
   ]
  },
  {
   "cell_type": "code",
   "execution_count": 38,
   "metadata": {},
   "outputs": [
    {
     "name": "stdout",
     "output_type": "stream",
     "text": [
      "{4, 5, 6}\n"
     ]
    }
   ],
   "source": [
    "print(A&B)"
   ]
  },
  {
   "cell_type": "code",
   "execution_count": 39,
   "metadata": {},
   "outputs": [
    {
     "data": {
      "text/plain": [
       "{4, 5, 6}"
      ]
     },
     "execution_count": 39,
     "metadata": {},
     "output_type": "execute_result"
    }
   ],
   "source": [
    "A.intersection(B)"
   ]
  },
  {
   "cell_type": "markdown",
   "metadata": {},
   "source": [
    "- SET DIFFERENCE"
   ]
  },
  {
   "cell_type": "code",
   "execution_count": 43,
   "metadata": {},
   "outputs": [
    {
     "name": "stdout",
     "output_type": "stream",
     "text": [
      "{1, 2, 3}\n",
      "{8, 9, 7}\n"
     ]
    },
    {
     "data": {
      "text/plain": [
       "{7, 8, 9}"
      ]
     },
     "execution_count": 43,
     "metadata": {},
     "output_type": "execute_result"
    }
   ],
   "source": [
    "print(A-B)\n",
    "A.difference(B)\n",
    "print(B-A)\n",
    "B.difference(A)\n"
   ]
  },
  {
   "cell_type": "code",
   "execution_count": 44,
   "metadata": {},
   "outputs": [
    {
     "name": "stdout",
     "output_type": "stream",
     "text": [
      "{1, 2, 3, 7, 8, 9}\n"
     ]
    }
   ],
   "source": [
    "print(A^B)"
   ]
  },
  {
   "cell_type": "code",
   "execution_count": 45,
   "metadata": {},
   "outputs": [
    {
     "data": {
      "text/plain": [
       "{1, 2, 3, 7, 8, 9}"
      ]
     },
     "execution_count": 45,
     "metadata": {},
     "output_type": "execute_result"
    }
   ],
   "source": [
    "A.symmetric_difference(B)"
   ]
  },
  {
   "cell_type": "code",
   "execution_count": 47,
   "metadata": {},
   "outputs": [
    {
     "name": "stdout",
     "output_type": "stream",
     "text": [
      "{'straightener', 'cooler', 'mixer', 'charger', 'fan', 'Computer', 'laptop', 'iron', 'grinder', 'washing machine', 'ac', 'TV'}\n",
      "{'ac', 'grinder', 'mixer'}\n",
      "{'straightener', 'cooler', 'charger', 'fan', 'Computer', 'laptop', 'iron', 'washing machine', 'TV'}\n",
      "{'laptop', 'washing machine', 'fan', 'iron'}\n",
      "{'straightener', 'cooler', 'charger', 'Computer', 'TV'}\n"
     ]
    }
   ],
   "source": [
    "A={'fan','laptop','washing machine','iron','mixer','grinder','ac'}\n",
    "B={'cooler','TV','Computer','charger','straightener','mixer','grinder','ac'}\n",
    "print(A|B)\n",
    "print(A&B)\n",
    "print(A^B)\n",
    "print(A-B)\n",
    "print(B-A)"
   ]
  },
  {
   "cell_type": "markdown",
   "metadata": {},
   "source": [
    "* DICTIONARY"
   ]
  },
  {
   "cell_type": "code",
   "execution_count": 49,
   "metadata": {},
   "outputs": [
    {
     "name": "stdout",
     "output_type": "stream",
     "text": [
      "{'name': 'Jack', 'age': 26}\n"
     ]
    }
   ],
   "source": [
    "my_dict={'name':'Jack','age':26}\n",
    "print(my_dict)"
   ]
  },
  {
   "cell_type": "markdown",
   "metadata": {},
   "source": [
    "* accessing the value of dictionary"
   ]
  },
  {
   "cell_type": "code",
   "execution_count": 50,
   "metadata": {},
   "outputs": [
    {
     "name": "stdout",
     "output_type": "stream",
     "text": [
      "Jack\n"
     ]
    }
   ],
   "source": [
    "print(my_dict['name'])"
   ]
  },
  {
   "cell_type": "code",
   "execution_count": 51,
   "metadata": {},
   "outputs": [
    {
     "name": "stdout",
     "output_type": "stream",
     "text": [
      "26\n"
     ]
    }
   ],
   "source": [
    "print(my_dict['age'])"
   ]
  },
  {
   "cell_type": "code",
   "execution_count": 52,
   "metadata": {},
   "outputs": [
    {
     "ename": "KeyError",
     "evalue": "'address'",
     "output_type": "error",
     "traceback": [
      "\u001b[1;31m---------------------------------------------------------------------------\u001b[0m",
      "\u001b[1;31mKeyError\u001b[0m                                  Traceback (most recent call last)",
      "\u001b[1;32mc:\\Users\\Shalini Shukla\\Documents\\python digipodium\\data structures\\tuples and sets .ipynb Cell 34\u001b[0m in \u001b[0;36m<cell line: 1>\u001b[1;34m()\u001b[0m\n\u001b[1;32m----> <a href='vscode-notebook-cell:/c%3A/Users/Shalini%20Shukla/Documents/python%20digipodium/data%20structures/tuples%20and%20sets%20.ipynb#ch0000036?line=0'>1</a>\u001b[0m \u001b[39mprint\u001b[39m(my_dict[\u001b[39m'\u001b[39;49m\u001b[39maddress\u001b[39;49m\u001b[39m'\u001b[39;49m])\n",
      "\u001b[1;31mKeyError\u001b[0m: 'address'"
     ]
    }
   ],
   "source": [
    "print(my_dict['address'])"
   ]
  },
  {
   "cell_type": "code",
   "execution_count": 54,
   "metadata": {},
   "outputs": [
    {
     "name": "stdout",
     "output_type": "stream",
     "text": [
      "None\n"
     ]
    }
   ],
   "source": [
    "print(my_dict.get('address'))"
   ]
  },
  {
   "cell_type": "code",
   "execution_count": 55,
   "metadata": {},
   "outputs": [
    {
     "name": "stdout",
     "output_type": "stream",
     "text": [
      "{'name': 'Jack', 'age': 27}\n",
      "{'name': 'Jack', 'age': 27, 'address': 'Downtown'}\n"
     ]
    }
   ],
   "source": [
    "my_dict['age']=27\n",
    "print(my_dict)\n",
    "my_dict['address']='Downtown'\n",
    "print(my_dict)"
   ]
  },
  {
   "cell_type": "code",
   "execution_count": 56,
   "metadata": {},
   "outputs": [
    {
     "name": "stdout",
     "output_type": "stream",
     "text": [
      "16\n",
      "(5, 25)\n"
     ]
    }
   ],
   "source": [
    "squares={1:1,2:4,3:9,4:16,5:25}\n",
    "print(squares.pop(4))# poped out item will be shown\n",
    "print(squares.popitem())# last item will removed\n",
    "squares.clear()"
   ]
  },
  {
   "cell_type": "code",
   "execution_count": 58,
   "metadata": {},
   "outputs": [],
   "source": [
    "report={\n",
    "    'student 1':{\n",
    "        'name':'John',\n",
    "        'marks':{\n",
    "            'maths':80,\n",
    "            'science':90,\n",
    "            'history':70,\n",
    "            'english':69,\n",
    "            'EVS':86\n",
    "    \n",
    "        }\n",
    "    },\n",
    "    'student 2':{\n",
    "        'name':'Mary',\n",
    "        'marks':{\n",
    "            'maths':70,\n",
    "            'science':80,\n",
    "            'history':60,\n",
    "            'english':99,\n",
    "            'EVS':96\n",
    "         },     \n",
    "         \n",
    "    }      \n",
    "}"
   ]
  },
  {
   "cell_type": "code",
   "execution_count": 59,
   "metadata": {},
   "outputs": [
    {
     "data": {
      "text/plain": [
       "{'student 1': {'name': 'John',\n",
       "  'marks': {'maths': 80,\n",
       "   'science': 90,\n",
       "   'history': 70,\n",
       "   'english': 69,\n",
       "   'EVS': 86}},\n",
       " 'student 2': {'name': 'Mary',\n",
       "  'marks': {'maths': 70,\n",
       "   'science': 80,\n",
       "   'history': 60,\n",
       "   'english': 99,\n",
       "   'EVS': 96}}}"
      ]
     },
     "execution_count": 59,
     "metadata": {},
     "output_type": "execute_result"
    }
   ],
   "source": [
    "report"
   ]
  },
  {
   "cell_type": "code",
   "execution_count": 61,
   "metadata": {},
   "outputs": [
    {
     "name": "stdout",
     "output_type": "stream",
     "text": [
      "{'name': 'John', 'marks': {'maths': 80, 'science': 90, 'history': 70, 'english': 69, 'EVS': 86}}\n"
     ]
    }
   ],
   "source": [
    "print(report['student 1'])"
   ]
  },
  {
   "cell_type": "code",
   "execution_count": 63,
   "metadata": {},
   "outputs": [
    {
     "name": "stdout",
     "output_type": "stream",
     "text": [
      "John\n",
      "{'maths': 80, 'science': 90, 'history': 70, 'english': 69, 'EVS': 86}\n",
      "70\n"
     ]
    }
   ],
   "source": [
    "print(report['student 1']['name'])\n",
    "print(report['student 1']['marks'])\n",
    "print(report['student 1']['marks']['history'])"
   ]
  },
  {
   "cell_type": "code",
   "execution_count": 66,
   "metadata": {},
   "outputs": [
    {
     "name": "stdout",
     "output_type": "stream",
     "text": [
      "student 1\n",
      "student 2\n"
     ]
    }
   ],
   "source": [
    "#loop for dictionary\n",
    "for i in report:\n",
    "    print(i)"
   ]
  },
  {
   "cell_type": "code",
   "execution_count": 67,
   "metadata": {},
   "outputs": [
    {
     "name": "stdout",
     "output_type": "stream",
     "text": [
      "student 1 {'name': 'John', 'marks': {'maths': 80, 'science': 90, 'history': 70, 'english': 69, 'EVS': 86}}\n",
      "student 2 {'name': 'Mary', 'marks': {'maths': 70, 'science': 80, 'history': 60, 'english': 99, 'EVS': 96}}\n"
     ]
    }
   ],
   "source": [
    "for k,v in report.items():\n",
    "    print(k,v)"
   ]
  },
  {
   "cell_type": "code",
   "execution_count": 70,
   "metadata": {},
   "outputs": [
    {
     "name": "stdout",
     "output_type": "stream",
     "text": [
      "student: student 1\n",
      "John\n",
      "maths 80\n",
      "science 90\n",
      "history 70\n",
      "english 69\n",
      "EVS 86\n",
      "student: student 2\n",
      "Mary\n",
      "maths 70\n",
      "science 80\n",
      "history 60\n",
      "english 99\n",
      "EVS 96\n"
     ]
    }
   ],
   "source": [
    "for k,v in report.items():\n",
    "    print(\"student:\",k)\n",
    "    if isinstance(v,dict):\n",
    "        for k1,v1 in v.items():\n",
    "            if isinstance(v1,dict):\n",
    "                for sub,marks in v1.items():\n",
    "                    print(sub,marks)\n",
    "            else:\n",
    "                    print(v1)\n",
    "    else:\n",
    "        print(v)   "
   ]
  }
 ],
 "metadata": {
  "kernelspec": {
   "display_name": "Python 3.9.12 ('base')",
   "language": "python",
   "name": "python3"
  },
  "language_info": {
   "codemirror_mode": {
    "name": "ipython",
    "version": 3
   },
   "file_extension": ".py",
   "mimetype": "text/x-python",
   "name": "python",
   "nbconvert_exporter": "python",
   "pygments_lexer": "ipython3",
   "version": "3.9.12"
  },
  "orig_nbformat": 4,
  "vscode": {
   "interpreter": {
    "hash": "400a42e877dffd63a2b2062fec838b4d7a945e3d35a74ea6618f4848047bb039"
   }
  }
 },
 "nbformat": 4,
 "nbformat_minor": 2
}
